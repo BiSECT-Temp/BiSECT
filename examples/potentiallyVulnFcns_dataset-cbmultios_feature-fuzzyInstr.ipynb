{
 "cells": [
  {
   "cell_type": "markdown",
   "id": "perceived-wallet",
   "metadata": {},
   "source": [
    "# `Fuzzy_Instr` feature for identification of potentially vulnerability functions (using CB-Multios Binaries)"
   ]
  },
  {
   "cell_type": "markdown",
   "id": "distant-release",
   "metadata": {},
   "source": [
    "Uses output from Ghidra headless, BinExport, and BinDiff to identify functions in CB-Multios Binaries modified during the patch. \n",
    "\n",
    "1. Generate labels- Assume modified function was vulnerable in the original version, but is not vulnerable in the patched version\n",
    "\n",
    "2. Create models- Train supervised learning models using the `fuzzy_instr` for each function (`Doc2Vec` and `FastText`), use 80:20 split (train:test)\n",
    "\n",
    "3. Data imbalance- Use random oversampling and random undersampling to balance the dataset and observe impacts to models/predictions\n",
    "\n",
    "4. Assess- Assess the models using original data labels and Test set"
   ]
  },
  {
   "cell_type": "markdown",
   "id": "committed-standing",
   "metadata": {},
   "source": [
    "# Imports"
   ]
  },
  {
   "cell_type": "code",
   "execution_count": 9,
   "id": "rotary-assets",
   "metadata": {},
   "outputs": [],
   "source": [
    "#Misc\n",
    "import os\n",
    "from ast import literal_eval\n",
    "import re\n",
    "import smart_open\n",
    "import time\n",
    "from datetime import date\n",
    "\n",
    "# Analysis (Pandas & Numpy)\n",
    "import pandas as pd\n",
    "from pandas import DataFrame\n",
    "import numpy as np\n",
    "\n",
    "# Learning Models\n",
    "from gensim.models import Doc2Vec\n",
    "import gensim\n",
    "import fasttext\n",
    "\n",
    "# Plotting\n",
    "import matplotlib.pyplot as plt\n",
    "import seaborn as sns"
   ]
  },
  {
   "cell_type": "markdown",
   "id": "dedicated-samba",
   "metadata": {},
   "source": [
    "# Load Initial data"
   ]
  },
  {
   "cell_type": "code",
   "execution_count": 7,
   "id": "burning-energy",
   "metadata": {},
   "outputs": [
    {
     "name": "stdout",
     "output_type": "stream",
     "text": [
      "/Volumes/Research/VulnerabilityDatasets/Vulnerability_datasets/code/ghidra/ghidra_extractions-main\n"
     ]
    }
   ],
   "source": [
    "path = os.getcwd() \n",
    "print(path)"
   ]
  },
  {
   "cell_type": "markdown",
   "id": "editorial-dependence",
   "metadata": {},
   "source": [
    "## BinDiff Data"
   ]
  },
  {
   "cell_type": "markdown",
   "id": "patient-samba",
   "metadata": {},
   "source": [
    "Using a `.csv` generated during the Ghidra headless, and Auto BinExport/BinDiff steps described [here](https://github.com/Kayla0x41/ghidraheadless_binexport)"
   ]
  },
  {
   "cell_type": "code",
   "execution_count": 3,
   "id": "graphic-vertex",
   "metadata": {},
   "outputs": [],
   "source": [
    "bindiff_df = pd.read_csv(path+'/cb_bindiff_data/cbmultios_BinExports/resources/final_combined/final_combined.csv', index_col=[0])"
   ]
  },
  {
   "cell_type": "code",
   "execution_count": 4,
   "id": "indian-halifax",
   "metadata": {},
   "outputs": [
    {
     "data": {
      "text/html": [
       "<div>\n",
       "<style scoped>\n",
       "    .dataframe tbody tr th:only-of-type {\n",
       "        vertical-align: middle;\n",
       "    }\n",
       "\n",
       "    .dataframe tbody tr th {\n",
       "        vertical-align: top;\n",
       "    }\n",
       "\n",
       "    .dataframe thead th {\n",
       "        text-align: right;\n",
       "    }\n",
       "</style>\n",
       "<table border=\"1\" class=\"dataframe\">\n",
       "  <thead>\n",
       "    <tr style=\"text-align: right;\">\n",
       "      <th></th>\n",
       "      <th>id</th>\n",
       "      <th>address1</th>\n",
       "      <th>address2</th>\n",
       "      <th>similarity</th>\n",
       "      <th>confidence</th>\n",
       "      <th>flags</th>\n",
       "      <th>algorithm</th>\n",
       "      <th>evaluate</th>\n",
       "      <th>commentsported</th>\n",
       "      <th>basicblocks</th>\n",
       "      <th>edges</th>\n",
       "      <th>instructions</th>\n",
       "      <th>original_sample</th>\n",
       "      <th>patched_sample</th>\n",
       "      <th>orig_fun_name</th>\n",
       "      <th>patched_fun_name</th>\n",
       "    </tr>\n",
       "    <tr>\n",
       "      <th>index</th>\n",
       "      <th></th>\n",
       "      <th></th>\n",
       "      <th></th>\n",
       "      <th></th>\n",
       "      <th></th>\n",
       "      <th></th>\n",
       "      <th></th>\n",
       "      <th></th>\n",
       "      <th></th>\n",
       "      <th></th>\n",
       "      <th></th>\n",
       "      <th></th>\n",
       "      <th></th>\n",
       "      <th></th>\n",
       "      <th></th>\n",
       "      <th></th>\n",
       "    </tr>\n",
       "  </thead>\n",
       "  <tbody>\n",
       "    <tr>\n",
       "      <th>0</th>\n",
       "      <td>1</td>\n",
       "      <td>134520832</td>\n",
       "      <td>134520832</td>\n",
       "      <td>1.0</td>\n",
       "      <td>0.993307</td>\n",
       "      <td>0</td>\n",
       "      <td>1</td>\n",
       "      <td>0</td>\n",
       "      <td>0</td>\n",
       "      <td>3</td>\n",
       "      <td>3</td>\n",
       "      <td>12</td>\n",
       "      <td>Messaging_2</td>\n",
       "      <td>Messaging_2_patched</td>\n",
       "      <td>_init</td>\n",
       "      <td>_init</td>\n",
       "    </tr>\n",
       "    <tr>\n",
       "      <th>1</th>\n",
       "      <td>2</td>\n",
       "      <td>134520880</td>\n",
       "      <td>134520880</td>\n",
       "      <td>1.0</td>\n",
       "      <td>0.982014</td>\n",
       "      <td>0</td>\n",
       "      <td>1</td>\n",
       "      <td>0</td>\n",
       "      <td>0</td>\n",
       "      <td>1</td>\n",
       "      <td>1</td>\n",
       "      <td>2</td>\n",
       "      <td>Messaging_2</td>\n",
       "      <td>Messaging_2_patched</td>\n",
       "      <td>FUN_0804a030</td>\n",
       "      <td>FUN_0804a030</td>\n",
       "    </tr>\n",
       "    <tr>\n",
       "      <th>2</th>\n",
       "      <td>3</td>\n",
       "      <td>134520896</td>\n",
       "      <td>134520896</td>\n",
       "      <td>1.0</td>\n",
       "      <td>0.982014</td>\n",
       "      <td>0</td>\n",
       "      <td>1</td>\n",
       "      <td>0</td>\n",
       "      <td>0</td>\n",
       "      <td>1</td>\n",
       "      <td>0</td>\n",
       "      <td>1</td>\n",
       "      <td>Messaging_2</td>\n",
       "      <td>Messaging_2_patched</td>\n",
       "      <td>operator.new</td>\n",
       "      <td>operator.new</td>\n",
       "    </tr>\n",
       "    <tr>\n",
       "      <th>3</th>\n",
       "      <td>4</td>\n",
       "      <td>134520912</td>\n",
       "      <td>134520912</td>\n",
       "      <td>1.0</td>\n",
       "      <td>0.982014</td>\n",
       "      <td>0</td>\n",
       "      <td>1</td>\n",
       "      <td>0</td>\n",
       "      <td>0</td>\n",
       "      <td>1</td>\n",
       "      <td>0</td>\n",
       "      <td>1</td>\n",
       "      <td>Messaging_2</td>\n",
       "      <td>Messaging_2_patched</td>\n",
       "      <td>cgc_receive</td>\n",
       "      <td>cgc_receive</td>\n",
       "    </tr>\n",
       "    <tr>\n",
       "      <th>4</th>\n",
       "      <td>5</td>\n",
       "      <td>134520928</td>\n",
       "      <td>134520928</td>\n",
       "      <td>1.0</td>\n",
       "      <td>0.982014</td>\n",
       "      <td>0</td>\n",
       "      <td>1</td>\n",
       "      <td>0</td>\n",
       "      <td>0</td>\n",
       "      <td>1</td>\n",
       "      <td>0</td>\n",
       "      <td>1</td>\n",
       "      <td>Messaging_2</td>\n",
       "      <td>Messaging_2_patched</td>\n",
       "      <td>operator.new[]</td>\n",
       "      <td>operator.new[]</td>\n",
       "    </tr>\n",
       "  </tbody>\n",
       "</table>\n",
       "</div>"
      ],
      "text/plain": [
       "       id   address1   address2  similarity  confidence  flags  algorithm  \\\n",
       "index                                                                       \n",
       "0       1  134520832  134520832         1.0    0.993307      0          1   \n",
       "1       2  134520880  134520880         1.0    0.982014      0          1   \n",
       "2       3  134520896  134520896         1.0    0.982014      0          1   \n",
       "3       4  134520912  134520912         1.0    0.982014      0          1   \n",
       "4       5  134520928  134520928         1.0    0.982014      0          1   \n",
       "\n",
       "       evaluate  commentsported  basicblocks  edges  instructions  \\\n",
       "index                                                               \n",
       "0             0               0            3      3            12   \n",
       "1             0               0            1      1             2   \n",
       "2             0               0            1      0             1   \n",
       "3             0               0            1      0             1   \n",
       "4             0               0            1      0             1   \n",
       "\n",
       "      original_sample       patched_sample   orig_fun_name patched_fun_name  \n",
       "index                                                                        \n",
       "0         Messaging_2  Messaging_2_patched           _init            _init  \n",
       "1         Messaging_2  Messaging_2_patched    FUN_0804a030     FUN_0804a030  \n",
       "2         Messaging_2  Messaging_2_patched    operator.new     operator.new  \n",
       "3         Messaging_2  Messaging_2_patched     cgc_receive      cgc_receive  \n",
       "4         Messaging_2  Messaging_2_patched  operator.new[]   operator.new[]  "
      ]
     },
     "execution_count": 4,
     "metadata": {},
     "output_type": "execute_result"
    }
   ],
   "source": [
    "bindiff_df.head()"
   ]
  },
  {
   "cell_type": "code",
   "execution_count": 5,
   "id": "cooperative-surprise",
   "metadata": {},
   "outputs": [
    {
     "data": {
      "text/html": [
       "<div>\n",
       "<style scoped>\n",
       "    .dataframe tbody tr th:only-of-type {\n",
       "        vertical-align: middle;\n",
       "    }\n",
       "\n",
       "    .dataframe tbody tr th {\n",
       "        vertical-align: top;\n",
       "    }\n",
       "\n",
       "    .dataframe thead th {\n",
       "        text-align: right;\n",
       "    }\n",
       "</style>\n",
       "<table border=\"1\" class=\"dataframe\">\n",
       "  <thead>\n",
       "    <tr style=\"text-align: right;\">\n",
       "      <th></th>\n",
       "      <th>id</th>\n",
       "      <th>address1</th>\n",
       "      <th>address2</th>\n",
       "      <th>similarity</th>\n",
       "      <th>confidence</th>\n",
       "      <th>flags</th>\n",
       "      <th>algorithm</th>\n",
       "      <th>evaluate</th>\n",
       "      <th>commentsported</th>\n",
       "      <th>basicblocks</th>\n",
       "      <th>edges</th>\n",
       "      <th>instructions</th>\n",
       "      <th>original_sample</th>\n",
       "      <th>patched_sample</th>\n",
       "      <th>orig_fun_name</th>\n",
       "      <th>patched_fun_name</th>\n",
       "    </tr>\n",
       "    <tr>\n",
       "      <th>index</th>\n",
       "      <th></th>\n",
       "      <th></th>\n",
       "      <th></th>\n",
       "      <th></th>\n",
       "      <th></th>\n",
       "      <th></th>\n",
       "      <th></th>\n",
       "      <th></th>\n",
       "      <th></th>\n",
       "      <th></th>\n",
       "      <th></th>\n",
       "      <th></th>\n",
       "      <th></th>\n",
       "      <th></th>\n",
       "      <th></th>\n",
       "      <th></th>\n",
       "    </tr>\n",
       "  </thead>\n",
       "  <tbody>\n",
       "    <tr>\n",
       "      <th>83</th>\n",
       "      <td>84</td>\n",
       "      <td>134529744</td>\n",
       "      <td>134528656</td>\n",
       "      <td>0.180708</td>\n",
       "      <td>0.377541</td>\n",
       "      <td>19</td>\n",
       "      <td>15</td>\n",
       "      <td>0</td>\n",
       "      <td>0</td>\n",
       "      <td>1</td>\n",
       "      <td>0</td>\n",
       "      <td>16</td>\n",
       "      <td>greeter</td>\n",
       "      <td>greeter_patched</td>\n",
       "      <td>cgc_md5_sig</td>\n",
       "      <td>md5_hmac_sig</td>\n",
       "    </tr>\n",
       "  </tbody>\n",
       "</table>\n",
       "</div>"
      ],
      "text/plain": [
       "       id   address1   address2  similarity  confidence  flags  algorithm  \\\n",
       "index                                                                       \n",
       "83     84  134529744  134528656    0.180708    0.377541     19         15   \n",
       "\n",
       "       evaluate  commentsported  basicblocks  edges  instructions  \\\n",
       "index                                                               \n",
       "83            0               0            1      0            16   \n",
       "\n",
       "      original_sample   patched_sample orig_fun_name patched_fun_name  \n",
       "index                                                                  \n",
       "83            greeter  greeter_patched   cgc_md5_sig     md5_hmac_sig  "
      ]
     },
     "execution_count": 5,
     "metadata": {},
     "output_type": "execute_result"
    }
   ],
   "source": [
    "bindiff_df.query('orig_fun_name != patched_fun_name').query('similarity < 1.0')"
   ]
  },
  {
   "cell_type": "markdown",
   "id": "ancient-registration",
   "metadata": {},
   "source": [
    "There is a single example where the original and patched function names differ and their content is < 1.0 similar. We'll need to handle this as a special case. "
   ]
  },
  {
   "cell_type": "markdown",
   "id": "ignored-theater",
   "metadata": {},
   "source": [
    "## Ghidra Headless extractions"
   ]
  },
  {
   "cell_type": "markdown",
   "id": "intensive-company",
   "metadata": {},
   "source": [
    "Using a `.csv` generated during the Ghidra headless extraction described [here](https://github.com/Kayla0x41/ghidra_extractions)"
   ]
  },
  {
   "cell_type": "code",
   "execution_count": 6,
   "id": "correct-asbestos",
   "metadata": {},
   "outputs": [],
   "source": [
    "ghidra_df = pd.read_csv('cb_multios_ghidra_filelevel_istructions_22April21.csv', header=None)"
   ]
  },
  {
   "cell_type": "code",
   "execution_count": 7,
   "id": "hired-whole",
   "metadata": {},
   "outputs": [
    {
     "data": {
      "text/html": [
       "<div>\n",
       "<style scoped>\n",
       "    .dataframe tbody tr th:only-of-type {\n",
       "        vertical-align: middle;\n",
       "    }\n",
       "\n",
       "    .dataframe tbody tr th {\n",
       "        vertical-align: top;\n",
       "    }\n",
       "\n",
       "    .dataframe thead th {\n",
       "        text-align: right;\n",
       "    }\n",
       "</style>\n",
       "<table border=\"1\" class=\"dataframe\">\n",
       "  <thead>\n",
       "    <tr style=\"text-align: right;\">\n",
       "      <th></th>\n",
       "      <th>sample_name</th>\n",
       "      <th>fun_name</th>\n",
       "      <th>cc</th>\n",
       "      <th>fun_instr</th>\n",
       "    </tr>\n",
       "  </thead>\n",
       "  <tbody>\n",
       "    <tr>\n",
       "      <th>0</th>\n",
       "      <td>3D_Image_Toolkit</td>\n",
       "      <td>_init</td>\n",
       "      <td>2</td>\n",
       "      <td>[u'ENDBR32', u'PUSH EBX', u'SUB ESP,0x8', u'CA...</td>\n",
       "    </tr>\n",
       "    <tr>\n",
       "      <th>1</th>\n",
       "      <td>3D_Image_Toolkit</td>\n",
       "      <td>FUN_0804a030</td>\n",
       "      <td>0</td>\n",
       "      <td>[u'PUSH dword ptr [0x0805158c]', u'JMP dword p...</td>\n",
       "    </tr>\n",
       "    <tr>\n",
       "      <th>2</th>\n",
       "      <td>3D_Image_Toolkit</td>\n",
       "      <td>cgc_pow</td>\n",
       "      <td>1</td>\n",
       "      <td>[u'JMP dword ptr [0x08051594]']</td>\n",
       "    </tr>\n",
       "    <tr>\n",
       "      <th>3</th>\n",
       "      <td>3D_Image_Toolkit</td>\n",
       "      <td>cgc__terminate</td>\n",
       "      <td>1</td>\n",
       "      <td>[u'JMP dword ptr [0x08051598]']</td>\n",
       "    </tr>\n",
       "    <tr>\n",
       "      <th>4</th>\n",
       "      <td>3D_Image_Toolkit</td>\n",
       "      <td>cgc_transmit</td>\n",
       "      <td>1</td>\n",
       "      <td>[u'JMP dword ptr [0x0805159c]']</td>\n",
       "    </tr>\n",
       "    <tr>\n",
       "      <th>...</th>\n",
       "      <td>...</td>\n",
       "      <td>...</td>\n",
       "      <td>...</td>\n",
       "      <td>...</td>\n",
       "    </tr>\n",
       "    <tr>\n",
       "      <th>57066</th>\n",
       "      <td>yolodex_patched</td>\n",
       "      <td>main</td>\n",
       "      <td>0</td>\n",
       "      <td>[u'PUSH EBP', u'MOV EBP,ESP', u'SUB ESP,0x18',...</td>\n",
       "    </tr>\n",
       "    <tr>\n",
       "      <th>57067</th>\n",
       "      <td>yolodex_patched</td>\n",
       "      <td>__libc_csu_init</td>\n",
       "      <td>3</td>\n",
       "      <td>[u'ENDBR32', u'PUSH EBP', u'CALL 0x0804c065', ...</td>\n",
       "    </tr>\n",
       "    <tr>\n",
       "      <th>57068</th>\n",
       "      <td>yolodex_patched</td>\n",
       "      <td>__libc_csu_fini</td>\n",
       "      <td>1</td>\n",
       "      <td>[u'ENDBR32', u'RET']</td>\n",
       "    </tr>\n",
       "    <tr>\n",
       "      <th>57069</th>\n",
       "      <td>yolodex_patched</td>\n",
       "      <td>__x86.get_pc_thunk.bp</td>\n",
       "      <td>1</td>\n",
       "      <td>[u'MOV EBP,dword ptr [ESP]', u'RET']</td>\n",
       "    </tr>\n",
       "    <tr>\n",
       "      <th>57070</th>\n",
       "      <td>yolodex_patched</td>\n",
       "      <td>_fini</td>\n",
       "      <td>1</td>\n",
       "      <td>[u'ENDBR32', u'PUSH EBX', u'SUB ESP,0x8', u'CA...</td>\n",
       "    </tr>\n",
       "  </tbody>\n",
       "</table>\n",
       "<p>57071 rows × 4 columns</p>\n",
       "</div>"
      ],
      "text/plain": [
       "            sample_name               fun_name  cc  \\\n",
       "0      3D_Image_Toolkit                  _init   2   \n",
       "1      3D_Image_Toolkit           FUN_0804a030   0   \n",
       "2      3D_Image_Toolkit                cgc_pow   1   \n",
       "3      3D_Image_Toolkit         cgc__terminate   1   \n",
       "4      3D_Image_Toolkit           cgc_transmit   1   \n",
       "...                 ...                    ...  ..   \n",
       "57066   yolodex_patched                   main   0   \n",
       "57067   yolodex_patched        __libc_csu_init   3   \n",
       "57068   yolodex_patched        __libc_csu_fini   1   \n",
       "57069   yolodex_patched  __x86.get_pc_thunk.bp   1   \n",
       "57070   yolodex_patched                  _fini   1   \n",
       "\n",
       "                                               fun_instr  \n",
       "0      [u'ENDBR32', u'PUSH EBX', u'SUB ESP,0x8', u'CA...  \n",
       "1      [u'PUSH dword ptr [0x0805158c]', u'JMP dword p...  \n",
       "2                        [u'JMP dword ptr [0x08051594]']  \n",
       "3                        [u'JMP dword ptr [0x08051598]']  \n",
       "4                        [u'JMP dword ptr [0x0805159c]']  \n",
       "...                                                  ...  \n",
       "57066  [u'PUSH EBP', u'MOV EBP,ESP', u'SUB ESP,0x18',...  \n",
       "57067  [u'ENDBR32', u'PUSH EBP', u'CALL 0x0804c065', ...  \n",
       "57068                               [u'ENDBR32', u'RET']  \n",
       "57069               [u'MOV EBP,dword ptr [ESP]', u'RET']  \n",
       "57070  [u'ENDBR32', u'PUSH EBX', u'SUB ESP,0x8', u'CA...  \n",
       "\n",
       "[57071 rows x 4 columns]"
      ]
     },
     "execution_count": 7,
     "metadata": {},
     "output_type": "execute_result"
    }
   ],
   "source": [
    "ghidra_df.columns = ['sample_name', 'fun_name', 'cc', 'fun_instr']\n",
    "ghidra_df"
   ]
  },
  {
   "cell_type": "markdown",
   "id": "tribal-scratch",
   "metadata": {},
   "source": [
    "## Correlate DataFrames (using sample and function names)"
   ]
  },
  {
   "cell_type": "code",
   "execution_count": 8,
   "id": "scheduled-energy",
   "metadata": {},
   "outputs": [
    {
     "data": {
      "text/plain": [
       "Index(['id', 'address1', 'address2', 'similarity', 'confidence', 'flags',\n",
       "       'algorithm', 'evaluate', 'commentsported', 'basicblocks', 'edges',\n",
       "       'instructions', 'original_sample', 'patched_sample', 'orig_fun_name',\n",
       "       'patched_fun_name'],\n",
       "      dtype='object')"
      ]
     },
     "execution_count": 8,
     "metadata": {},
     "output_type": "execute_result"
    }
   ],
   "source": [
    "bindiff_df_cpy = bindiff_df.copy()\n",
    "bindiff_df_cpy.columns"
   ]
  },
  {
   "cell_type": "code",
   "execution_count": 9,
   "id": "coordinated-digit",
   "metadata": {},
   "outputs": [],
   "source": [
    "bindiff_df_cpy.columns = ['id', 'address1', 'address2', 'similarity', 'confidence', 'flags',\n",
    "       'algorithm', 'evaluate', 'commentsported', 'basicblocks', 'edges',\n",
    "       'instructions', 'sample_name', 'patched_sample', 'fun_name',\n",
    "       'patched_fun_name']"
   ]
  },
  {
   "cell_type": "code",
   "execution_count": 10,
   "id": "southwest-flesh",
   "metadata": {},
   "outputs": [],
   "source": [
    "merge_1 = pd.merge(ghidra_df, bindiff_df_cpy, on=['sample_name', 'fun_name'])"
   ]
  },
  {
   "cell_type": "code",
   "execution_count": 11,
   "id": "excessive-prairie",
   "metadata": {},
   "outputs": [],
   "source": [
    "merge_1.columns = ['orig_sample_name', 'orig_fun_name', 'cc', 'fun_instr', 'id', 'address1',\n",
    "       'address2', 'similarity', 'confidence', 'flags', 'algorithm',\n",
    "       'evaluate', 'commentsported', 'basicblocks', 'edges', 'instructions',\n",
    "       'sample_name', 'fun_name']"
   ]
  },
  {
   "cell_type": "code",
   "execution_count": 12,
   "id": "advanced-absorption",
   "metadata": {},
   "outputs": [],
   "source": [
    "merge_2 = pd.merge(ghidra_df, merge_1, on=['sample_name', 'fun_name'])"
   ]
  },
  {
   "cell_type": "code",
   "execution_count": 13,
   "id": "iraqi-coating",
   "metadata": {},
   "outputs": [],
   "source": [
    "merge_2.columns = ['patched_sample_name', 'patched_fun_name', 'orig_cc', 'orig_fun_instr', 'orig_sample_name',\n",
    "       'orig_fun_name', 'patched_cc', 'patched_fun_instr', 'id', 'address1', 'address2',\n",
    "       'similarity', 'confidence', 'flags', 'algorithm', 'evaluate',\n",
    "       'commentsported', 'basicblocks', 'edges', 'instructions']"
   ]
  },
  {
   "cell_type": "code",
   "execution_count": 14,
   "id": "iraqi-result",
   "metadata": {},
   "outputs": [],
   "source": [
    "merge_2['original_vulnerable'] = merge_2['similarity'].apply(lambda x: True if x < 1.0 else False)"
   ]
  },
  {
   "cell_type": "code",
   "execution_count": 15,
   "id": "paperback-scene",
   "metadata": {},
   "outputs": [
    {
     "data": {
      "text/plain": [
       "False    67977\n",
       "True       888\n",
       "Name: original_vulnerable, dtype: int64"
      ]
     },
     "execution_count": 15,
     "metadata": {},
     "output_type": "execute_result"
    }
   ],
   "source": [
    "merge_2.original_vulnerable.value_counts()"
   ]
  },
  {
   "cell_type": "code",
   "execution_count": 29,
   "id": "aquatic-variation",
   "metadata": {},
   "outputs": [],
   "source": [
    "original_samples = merge_2[['orig_sample_name', 'orig_fun_name', 'orig_fun_instr', 'original_vulnerable']]"
   ]
  },
  {
   "cell_type": "code",
   "execution_count": 30,
   "id": "lucky-video",
   "metadata": {},
   "outputs": [],
   "source": [
    "original_samples.columns = ['sample_name', 'fun_name', 'fun_instr', 'vulnerable']"
   ]
  },
  {
   "cell_type": "code",
   "execution_count": 31,
   "id": "composite-neighbor",
   "metadata": {},
   "outputs": [
    {
     "data": {
      "text/html": [
       "<div>\n",
       "<style scoped>\n",
       "    .dataframe tbody tr th:only-of-type {\n",
       "        vertical-align: middle;\n",
       "    }\n",
       "\n",
       "    .dataframe tbody tr th {\n",
       "        vertical-align: top;\n",
       "    }\n",
       "\n",
       "    .dataframe thead th {\n",
       "        text-align: right;\n",
       "    }\n",
       "</style>\n",
       "<table border=\"1\" class=\"dataframe\">\n",
       "  <thead>\n",
       "    <tr style=\"text-align: right;\">\n",
       "      <th></th>\n",
       "      <th>sample_name</th>\n",
       "      <th>fun_name</th>\n",
       "      <th>fun_instr</th>\n",
       "      <th>vulnerable</th>\n",
       "    </tr>\n",
       "  </thead>\n",
       "  <tbody>\n",
       "    <tr>\n",
       "      <th>0</th>\n",
       "      <td>3D_Image_Toolkit</td>\n",
       "      <td>FUN_0804a030</td>\n",
       "      <td>[u'PUSH dword ptr [0x0805158c]', u'JMP dword p...</td>\n",
       "      <td>False</td>\n",
       "    </tr>\n",
       "    <tr>\n",
       "      <th>1</th>\n",
       "      <td>3D_Image_Toolkit</td>\n",
       "      <td>cgc_pow</td>\n",
       "      <td>[u'JMP dword ptr [0x08051594]']</td>\n",
       "      <td>False</td>\n",
       "    </tr>\n",
       "    <tr>\n",
       "      <th>2</th>\n",
       "      <td>3D_Image_Toolkit</td>\n",
       "      <td>cgc_pow</td>\n",
       "      <td>[u'JMP dword ptr [0x08051594]']</td>\n",
       "      <td>False</td>\n",
       "    </tr>\n",
       "    <tr>\n",
       "      <th>3</th>\n",
       "      <td>3D_Image_Toolkit</td>\n",
       "      <td>cgc__terminate</td>\n",
       "      <td>[u'JMP dword ptr [0x08051598]']</td>\n",
       "      <td>False</td>\n",
       "    </tr>\n",
       "    <tr>\n",
       "      <th>4</th>\n",
       "      <td>3D_Image_Toolkit</td>\n",
       "      <td>cgc__terminate</td>\n",
       "      <td>[u'JMP dword ptr [0x08051598]']</td>\n",
       "      <td>False</td>\n",
       "    </tr>\n",
       "    <tr>\n",
       "      <th>...</th>\n",
       "      <td>...</td>\n",
       "      <td>...</td>\n",
       "      <td>...</td>\n",
       "      <td>...</td>\n",
       "    </tr>\n",
       "    <tr>\n",
       "      <th>68860</th>\n",
       "      <td>yolodex</td>\n",
       "      <td>main</td>\n",
       "      <td>[u'PUSH EBP', u'MOV EBP,ESP', u'SUB ESP,0x18',...</td>\n",
       "      <td>False</td>\n",
       "    </tr>\n",
       "    <tr>\n",
       "      <th>68861</th>\n",
       "      <td>yolodex</td>\n",
       "      <td>__libc_csu_init</td>\n",
       "      <td>[u'ENDBR32', u'PUSH EBP', u'CALL 0x0804c065', ...</td>\n",
       "      <td>False</td>\n",
       "    </tr>\n",
       "    <tr>\n",
       "      <th>68862</th>\n",
       "      <td>yolodex</td>\n",
       "      <td>__libc_csu_fini</td>\n",
       "      <td>[u'ENDBR32', u'RET']</td>\n",
       "      <td>False</td>\n",
       "    </tr>\n",
       "    <tr>\n",
       "      <th>68863</th>\n",
       "      <td>yolodex</td>\n",
       "      <td>__x86.get_pc_thunk.bp</td>\n",
       "      <td>[u'MOV EBP,dword ptr [ESP]', u'RET']</td>\n",
       "      <td>False</td>\n",
       "    </tr>\n",
       "    <tr>\n",
       "      <th>68864</th>\n",
       "      <td>yolodex</td>\n",
       "      <td>_fini</td>\n",
       "      <td>[u'ENDBR32', u'PUSH EBX', u'SUB ESP,0x8', u'CA...</td>\n",
       "      <td>False</td>\n",
       "    </tr>\n",
       "  </tbody>\n",
       "</table>\n",
       "<p>68865 rows × 4 columns</p>\n",
       "</div>"
      ],
      "text/plain": [
       "            sample_name               fun_name  \\\n",
       "0      3D_Image_Toolkit           FUN_0804a030   \n",
       "1      3D_Image_Toolkit                cgc_pow   \n",
       "2      3D_Image_Toolkit                cgc_pow   \n",
       "3      3D_Image_Toolkit         cgc__terminate   \n",
       "4      3D_Image_Toolkit         cgc__terminate   \n",
       "...                 ...                    ...   \n",
       "68860           yolodex                   main   \n",
       "68861           yolodex        __libc_csu_init   \n",
       "68862           yolodex        __libc_csu_fini   \n",
       "68863           yolodex  __x86.get_pc_thunk.bp   \n",
       "68864           yolodex                  _fini   \n",
       "\n",
       "                                               fun_instr  vulnerable  \n",
       "0      [u'PUSH dword ptr [0x0805158c]', u'JMP dword p...       False  \n",
       "1                        [u'JMP dword ptr [0x08051594]']       False  \n",
       "2                        [u'JMP dword ptr [0x08051594]']       False  \n",
       "3                        [u'JMP dword ptr [0x08051598]']       False  \n",
       "4                        [u'JMP dword ptr [0x08051598]']       False  \n",
       "...                                                  ...         ...  \n",
       "68860  [u'PUSH EBP', u'MOV EBP,ESP', u'SUB ESP,0x18',...       False  \n",
       "68861  [u'ENDBR32', u'PUSH EBP', u'CALL 0x0804c065', ...       False  \n",
       "68862                               [u'ENDBR32', u'RET']       False  \n",
       "68863               [u'MOV EBP,dword ptr [ESP]', u'RET']       False  \n",
       "68864  [u'ENDBR32', u'PUSH EBX', u'SUB ESP,0x8', u'CA...       False  \n",
       "\n",
       "[68865 rows x 4 columns]"
      ]
     },
     "execution_count": 31,
     "metadata": {},
     "output_type": "execute_result"
    }
   ],
   "source": [
    "original_samples"
   ]
  },
  {
   "cell_type": "code",
   "execution_count": 39,
   "id": "subject-presentation",
   "metadata": {},
   "outputs": [
    {
     "data": {
      "text/plain": [
       "False    67977\n",
       "True       888\n",
       "Name: vulnerable, dtype: int64"
      ]
     },
     "execution_count": 39,
     "metadata": {},
     "output_type": "execute_result"
    }
   ],
   "source": [
    "original_samples.vulnerable.value_counts()"
   ]
  },
  {
   "cell_type": "code",
   "execution_count": 32,
   "id": "incorporated-harbor",
   "metadata": {},
   "outputs": [],
   "source": [
    "patched_samples = merge_2[['patched_sample_name', 'patched_fun_name', 'patched_fun_instr', 'original_vulnerable']]"
   ]
  },
  {
   "cell_type": "code",
   "execution_count": 33,
   "id": "radical-window",
   "metadata": {},
   "outputs": [],
   "source": [
    "patched_samples.columns = ['sample_name', 'fun_name', 'fun_instr', 'vulnerable']"
   ]
  },
  {
   "cell_type": "code",
   "execution_count": 40,
   "id": "sporting-advocate",
   "metadata": {},
   "outputs": [
    {
     "name": "stderr",
     "output_type": "stream",
     "text": [
      "<ipython-input-40-c74e0c11e8b4>:1: SettingWithCopyWarning: \n",
      "A value is trying to be set on a copy of a slice from a DataFrame.\n",
      "Try using .loc[row_indexer,col_indexer] = value instead\n",
      "\n",
      "See the caveats in the documentation: https://pandas.pydata.org/pandas-docs/stable/user_guide/indexing.html#returning-a-view-versus-a-copy\n",
      "  patched_samples['vulnerable'] = False\n"
     ]
    }
   ],
   "source": [
    "patched_samples['vulnerable'] = False"
   ]
  },
  {
   "cell_type": "code",
   "execution_count": 41,
   "id": "copyrighted-rocket",
   "metadata": {},
   "outputs": [],
   "source": [
    "frames = [original_samples, patched_samples]"
   ]
  },
  {
   "cell_type": "code",
   "execution_count": 42,
   "id": "average-testament",
   "metadata": {},
   "outputs": [],
   "source": [
    "final = pd.concat(frames, ignore_index=True)"
   ]
  },
  {
   "cell_type": "code",
   "execution_count": 43,
   "id": "intensive-spray",
   "metadata": {},
   "outputs": [
    {
     "data": {
      "text/html": [
       "<div>\n",
       "<style scoped>\n",
       "    .dataframe tbody tr th:only-of-type {\n",
       "        vertical-align: middle;\n",
       "    }\n",
       "\n",
       "    .dataframe tbody tr th {\n",
       "        vertical-align: top;\n",
       "    }\n",
       "\n",
       "    .dataframe thead th {\n",
       "        text-align: right;\n",
       "    }\n",
       "</style>\n",
       "<table border=\"1\" class=\"dataframe\">\n",
       "  <thead>\n",
       "    <tr style=\"text-align: right;\">\n",
       "      <th></th>\n",
       "      <th>sample_name</th>\n",
       "      <th>fun_name</th>\n",
       "      <th>fun_instr</th>\n",
       "      <th>vulnerable</th>\n",
       "    </tr>\n",
       "  </thead>\n",
       "  <tbody>\n",
       "    <tr>\n",
       "      <th>0</th>\n",
       "      <td>3D_Image_Toolkit</td>\n",
       "      <td>FUN_0804a030</td>\n",
       "      <td>[u'PUSH dword ptr [0x0805158c]', u'JMP dword p...</td>\n",
       "      <td>False</td>\n",
       "    </tr>\n",
       "    <tr>\n",
       "      <th>1</th>\n",
       "      <td>3D_Image_Toolkit</td>\n",
       "      <td>cgc_pow</td>\n",
       "      <td>[u'JMP dword ptr [0x08051594]']</td>\n",
       "      <td>False</td>\n",
       "    </tr>\n",
       "    <tr>\n",
       "      <th>2</th>\n",
       "      <td>3D_Image_Toolkit</td>\n",
       "      <td>cgc_pow</td>\n",
       "      <td>[u'JMP dword ptr [0x08051594]']</td>\n",
       "      <td>False</td>\n",
       "    </tr>\n",
       "    <tr>\n",
       "      <th>3</th>\n",
       "      <td>3D_Image_Toolkit</td>\n",
       "      <td>cgc__terminate</td>\n",
       "      <td>[u'JMP dword ptr [0x08051598]']</td>\n",
       "      <td>False</td>\n",
       "    </tr>\n",
       "    <tr>\n",
       "      <th>4</th>\n",
       "      <td>3D_Image_Toolkit</td>\n",
       "      <td>cgc__terminate</td>\n",
       "      <td>[u'JMP dword ptr [0x08051598]']</td>\n",
       "      <td>False</td>\n",
       "    </tr>\n",
       "    <tr>\n",
       "      <th>...</th>\n",
       "      <td>...</td>\n",
       "      <td>...</td>\n",
       "      <td>...</td>\n",
       "      <td>...</td>\n",
       "    </tr>\n",
       "    <tr>\n",
       "      <th>137725</th>\n",
       "      <td>yolodex_patched</td>\n",
       "      <td>main</td>\n",
       "      <td>[u'PUSH EBP', u'MOV EBP,ESP', u'SUB ESP,0x18',...</td>\n",
       "      <td>False</td>\n",
       "    </tr>\n",
       "    <tr>\n",
       "      <th>137726</th>\n",
       "      <td>yolodex_patched</td>\n",
       "      <td>__libc_csu_init</td>\n",
       "      <td>[u'ENDBR32', u'PUSH EBP', u'CALL 0x0804c065', ...</td>\n",
       "      <td>False</td>\n",
       "    </tr>\n",
       "    <tr>\n",
       "      <th>137727</th>\n",
       "      <td>yolodex_patched</td>\n",
       "      <td>__libc_csu_fini</td>\n",
       "      <td>[u'ENDBR32', u'RET']</td>\n",
       "      <td>False</td>\n",
       "    </tr>\n",
       "    <tr>\n",
       "      <th>137728</th>\n",
       "      <td>yolodex_patched</td>\n",
       "      <td>__x86.get_pc_thunk.bp</td>\n",
       "      <td>[u'MOV EBP,dword ptr [ESP]', u'RET']</td>\n",
       "      <td>False</td>\n",
       "    </tr>\n",
       "    <tr>\n",
       "      <th>137729</th>\n",
       "      <td>yolodex_patched</td>\n",
       "      <td>_fini</td>\n",
       "      <td>[u'ENDBR32', u'PUSH EBX', u'SUB ESP,0x8', u'CA...</td>\n",
       "      <td>False</td>\n",
       "    </tr>\n",
       "  </tbody>\n",
       "</table>\n",
       "<p>137730 rows × 4 columns</p>\n",
       "</div>"
      ],
      "text/plain": [
       "             sample_name               fun_name  \\\n",
       "0       3D_Image_Toolkit           FUN_0804a030   \n",
       "1       3D_Image_Toolkit                cgc_pow   \n",
       "2       3D_Image_Toolkit                cgc_pow   \n",
       "3       3D_Image_Toolkit         cgc__terminate   \n",
       "4       3D_Image_Toolkit         cgc__terminate   \n",
       "...                  ...                    ...   \n",
       "137725   yolodex_patched                   main   \n",
       "137726   yolodex_patched        __libc_csu_init   \n",
       "137727   yolodex_patched        __libc_csu_fini   \n",
       "137728   yolodex_patched  __x86.get_pc_thunk.bp   \n",
       "137729   yolodex_patched                  _fini   \n",
       "\n",
       "                                                fun_instr  vulnerable  \n",
       "0       [u'PUSH dword ptr [0x0805158c]', u'JMP dword p...       False  \n",
       "1                         [u'JMP dword ptr [0x08051594]']       False  \n",
       "2                         [u'JMP dword ptr [0x08051594]']       False  \n",
       "3                         [u'JMP dword ptr [0x08051598]']       False  \n",
       "4                         [u'JMP dword ptr [0x08051598]']       False  \n",
       "...                                                   ...         ...  \n",
       "137725  [u'PUSH EBP', u'MOV EBP,ESP', u'SUB ESP,0x18',...       False  \n",
       "137726  [u'ENDBR32', u'PUSH EBP', u'CALL 0x0804c065', ...       False  \n",
       "137727                               [u'ENDBR32', u'RET']       False  \n",
       "137728               [u'MOV EBP,dword ptr [ESP]', u'RET']       False  \n",
       "137729  [u'ENDBR32', u'PUSH EBX', u'SUB ESP,0x8', u'CA...       False  \n",
       "\n",
       "[137730 rows x 4 columns]"
      ]
     },
     "execution_count": 43,
     "metadata": {},
     "output_type": "execute_result"
    }
   ],
   "source": [
    "final"
   ]
  },
  {
   "cell_type": "code",
   "execution_count": 44,
   "id": "biological-airfare",
   "metadata": {},
   "outputs": [
    {
     "data": {
      "text/plain": [
       "False    136842\n",
       "True        888\n",
       "Name: vulnerable, dtype: int64"
      ]
     },
     "execution_count": 44,
     "metadata": {},
     "output_type": "execute_result"
    }
   ],
   "source": [
    "final.vulnerable.value_counts()"
   ]
  },
  {
   "cell_type": "markdown",
   "id": "viral-statement",
   "metadata": {},
   "source": [
    "### Save final dfs to file for reference"
   ]
  },
  {
   "cell_type": "code",
   "execution_count": 45,
   "id": "obvious-caution",
   "metadata": {},
   "outputs": [
    {
     "name": "stdout",
     "output_type": "stream",
     "text": [
      "/Volumes/Research/VulnerabilityDatasets/Vulnerability_datasets/code/ghidra/ghidra_extractions-main\n"
     ]
    }
   ],
   "source": [
    "!pwd"
   ]
  },
  {
   "cell_type": "code",
   "execution_count": 46,
   "id": "increased-track",
   "metadata": {},
   "outputs": [],
   "source": [
    "!mkdir final_dfs_for_reference"
   ]
  },
  {
   "cell_type": "code",
   "execution_count": 48,
   "id": "early-danger",
   "metadata": {},
   "outputs": [],
   "source": [
    "# save final combined\n",
    "final.to_csv(path+'/final_dfs_for_reference/final_combined_frame_23Apr21.csv')"
   ]
  },
  {
   "cell_type": "code",
   "execution_count": 49,
   "id": "sticky-conviction",
   "metadata": {},
   "outputs": [],
   "source": [
    "# save merge_2\n",
    "merge_2.to_csv(path+'/final_dfs_for_reference/merge_2_ghidraPlusBinDiff_23Apr21.csv')"
   ]
  },
  {
   "cell_type": "markdown",
   "id": "private-peace",
   "metadata": {},
   "source": [
    "# Data Cleanup"
   ]
  },
  {
   "cell_type": "markdown",
   "id": "adjustable-fever",
   "metadata": {},
   "source": [
    "## Literal evaluation of function instructions"
   ]
  },
  {
   "cell_type": "code",
   "execution_count": 50,
   "id": "located-colorado",
   "metadata": {},
   "outputs": [],
   "source": [
    "final['fun_instr'] = final['fun_instr'].apply(literal_eval)"
   ]
  },
  {
   "cell_type": "markdown",
   "id": "respected-mexican",
   "metadata": {},
   "source": [
    "## convert `fun_instr` to X86 `fuzzy_instr`"
   ]
  },
  {
   "cell_type": "code",
   "execution_count": null,
   "id": "ranging-cargo",
   "metadata": {},
   "outputs": [],
   "source": [
    "final = path + '/final_dfs_for_reference/final_combined_frame_23Apr21.csv'"
   ]
  },
  {
   "cell_type": "code",
   "execution_count": 51,
   "id": "efficient-handling",
   "metadata": {},
   "outputs": [
    {
     "data": {
      "text/html": [
       "<div>\n",
       "<style scoped>\n",
       "    .dataframe tbody tr th:only-of-type {\n",
       "        vertical-align: middle;\n",
       "    }\n",
       "\n",
       "    .dataframe tbody tr th {\n",
       "        vertical-align: top;\n",
       "    }\n",
       "\n",
       "    .dataframe thead th {\n",
       "        text-align: right;\n",
       "    }\n",
       "</style>\n",
       "<table border=\"1\" class=\"dataframe\">\n",
       "  <thead>\n",
       "    <tr style=\"text-align: right;\">\n",
       "      <th></th>\n",
       "      <th>sample_name</th>\n",
       "      <th>fun_name</th>\n",
       "      <th>fun_instr</th>\n",
       "      <th>vulnerable</th>\n",
       "    </tr>\n",
       "  </thead>\n",
       "  <tbody>\n",
       "    <tr>\n",
       "      <th>0</th>\n",
       "      <td>3D_Image_Toolkit</td>\n",
       "      <td>FUN_0804a030</td>\n",
       "      <td>[PUSH dword ptr [0x0805158c], JMP dword ptr [0...</td>\n",
       "      <td>False</td>\n",
       "    </tr>\n",
       "    <tr>\n",
       "      <th>1</th>\n",
       "      <td>3D_Image_Toolkit</td>\n",
       "      <td>cgc_pow</td>\n",
       "      <td>[JMP dword ptr [0x08051594]]</td>\n",
       "      <td>False</td>\n",
       "    </tr>\n",
       "    <tr>\n",
       "      <th>2</th>\n",
       "      <td>3D_Image_Toolkit</td>\n",
       "      <td>cgc_pow</td>\n",
       "      <td>[JMP dword ptr [0x08051594]]</td>\n",
       "      <td>False</td>\n",
       "    </tr>\n",
       "    <tr>\n",
       "      <th>3</th>\n",
       "      <td>3D_Image_Toolkit</td>\n",
       "      <td>cgc__terminate</td>\n",
       "      <td>[JMP dword ptr [0x08051598]]</td>\n",
       "      <td>False</td>\n",
       "    </tr>\n",
       "    <tr>\n",
       "      <th>4</th>\n",
       "      <td>3D_Image_Toolkit</td>\n",
       "      <td>cgc__terminate</td>\n",
       "      <td>[JMP dword ptr [0x08051598]]</td>\n",
       "      <td>False</td>\n",
       "    </tr>\n",
       "    <tr>\n",
       "      <th>...</th>\n",
       "      <td>...</td>\n",
       "      <td>...</td>\n",
       "      <td>...</td>\n",
       "      <td>...</td>\n",
       "    </tr>\n",
       "    <tr>\n",
       "      <th>137725</th>\n",
       "      <td>yolodex_patched</td>\n",
       "      <td>main</td>\n",
       "      <td>[PUSH EBP, MOV EBP,ESP, SUB ESP,0x18, MOV EAX,...</td>\n",
       "      <td>False</td>\n",
       "    </tr>\n",
       "    <tr>\n",
       "      <th>137726</th>\n",
       "      <td>yolodex_patched</td>\n",
       "      <td>__libc_csu_init</td>\n",
       "      <td>[ENDBR32, PUSH EBP, CALL 0x0804c065, ADD EBP,0...</td>\n",
       "      <td>False</td>\n",
       "    </tr>\n",
       "    <tr>\n",
       "      <th>137727</th>\n",
       "      <td>yolodex_patched</td>\n",
       "      <td>__libc_csu_fini</td>\n",
       "      <td>[ENDBR32, RET]</td>\n",
       "      <td>False</td>\n",
       "    </tr>\n",
       "    <tr>\n",
       "      <th>137728</th>\n",
       "      <td>yolodex_patched</td>\n",
       "      <td>__x86.get_pc_thunk.bp</td>\n",
       "      <td>[MOV EBP,dword ptr [ESP], RET]</td>\n",
       "      <td>False</td>\n",
       "    </tr>\n",
       "    <tr>\n",
       "      <th>137729</th>\n",
       "      <td>yolodex_patched</td>\n",
       "      <td>_fini</td>\n",
       "      <td>[ENDBR32, PUSH EBX, SUB ESP,0x8, CALL 0x080491...</td>\n",
       "      <td>False</td>\n",
       "    </tr>\n",
       "  </tbody>\n",
       "</table>\n",
       "<p>137730 rows × 4 columns</p>\n",
       "</div>"
      ],
      "text/plain": [
       "             sample_name               fun_name  \\\n",
       "0       3D_Image_Toolkit           FUN_0804a030   \n",
       "1       3D_Image_Toolkit                cgc_pow   \n",
       "2       3D_Image_Toolkit                cgc_pow   \n",
       "3       3D_Image_Toolkit         cgc__terminate   \n",
       "4       3D_Image_Toolkit         cgc__terminate   \n",
       "...                  ...                    ...   \n",
       "137725   yolodex_patched                   main   \n",
       "137726   yolodex_patched        __libc_csu_init   \n",
       "137727   yolodex_patched        __libc_csu_fini   \n",
       "137728   yolodex_patched  __x86.get_pc_thunk.bp   \n",
       "137729   yolodex_patched                  _fini   \n",
       "\n",
       "                                                fun_instr  vulnerable  \n",
       "0       [PUSH dword ptr [0x0805158c], JMP dword ptr [0...       False  \n",
       "1                            [JMP dword ptr [0x08051594]]       False  \n",
       "2                            [JMP dword ptr [0x08051594]]       False  \n",
       "3                            [JMP dword ptr [0x08051598]]       False  \n",
       "4                            [JMP dword ptr [0x08051598]]       False  \n",
       "...                                                   ...         ...  \n",
       "137725  [PUSH EBP, MOV EBP,ESP, SUB ESP,0x18, MOV EAX,...       False  \n",
       "137726  [ENDBR32, PUSH EBP, CALL 0x0804c065, ADD EBP,0...       False  \n",
       "137727                                     [ENDBR32, RET]       False  \n",
       "137728                     [MOV EBP,dword ptr [ESP], RET]       False  \n",
       "137729  [ENDBR32, PUSH EBX, SUB ESP,0x8, CALL 0x080491...       False  \n",
       "\n",
       "[137730 rows x 4 columns]"
      ]
     },
     "execution_count": 51,
     "metadata": {},
     "output_type": "execute_result"
    }
   ],
   "source": [
    "final"
   ]
  },
  {
   "cell_type": "code",
   "execution_count": 54,
   "id": "sunrise-transformation",
   "metadata": {
    "tags": []
   },
   "outputs": [],
   "source": [
    "def clean_fuzzy(df): \n",
    "    df['fuzzy_instr'] = df['fun_instr'].apply(lambda x: \" \".join(x)) #convert to space separated string\n",
    "    df['fuzzy_instr'] = df['fuzzy_instr'].apply(lambda x: x.lower()) #make lower\n",
    "    df['fuzzy_instr'] = df['fuzzy_instr'].apply(lambda x: re.sub(',', ' ', x)) # replace commas with spaces\n",
    "    words = ['qword', 'dword', 'genreplacement', 'word', 'ptr', 'dptr', 'byte', '[', ']', '-', '.', 'ds: ', 'es: ', '+', '-', '*']\n",
    "    big_regex = re.compile('|'.join(map(re.escape, words)))\n",
    "    df['fuzzy_instr'] = df['fuzzy_instr'].apply(lambda x: big_regex.sub('', x))\n",
    "    df['fuzzy_instr'] = df['fuzzy_instr'].apply(lambda x: re.sub(r'0x[a-zA-Z0-9]{6,}', ' addr', x)) # replace hex addr with addr\n",
    "    df['fuzzy_instr'] = df['fuzzy_instr'].apply(lambda x: re.sub(r'0x[a-zA-Z0-9]{1,}', ' num', x)) # replace hex nums with num\n",
    "    df['fuzzy_instr'] = df['fuzzy_instr'].apply(lambda x: re.sub('[^a-zA-Z ]', ' ', x)) # replace non alphanumerics with space\n",
    "    df['fuzzy_instr'] = df['fuzzy_instr'].apply(lambda x: ' '.join(x.split())) # delete empty whitespace\n",
    "    return df"
   ]
  },
  {
   "cell_type": "code",
   "execution_count": 55,
   "id": "anticipated-documentation",
   "metadata": {},
   "outputs": [],
   "source": [
    "final = clean_fuzzy(final)"
   ]
  },
  {
   "cell_type": "code",
   "execution_count": null,
   "id": "geological-store",
   "metadata": {},
   "outputs": [],
   "source": [
    "final"
   ]
  },
  {
   "cell_type": "markdown",
   "id": "caroline-found",
   "metadata": {},
   "source": [
    "# Class Imbalance"
   ]
  },
  {
   "cell_type": "markdown",
   "id": "italian-greeting",
   "metadata": {},
   "source": [
    "Check the dataset for imbalance between vulnerable and non-vulnerable functions"
   ]
  },
  {
   "cell_type": "markdown",
   "id": "scheduled-malawi",
   "metadata": {},
   "source": [
    "## Original Dataset"
   ]
  },
  {
   "cell_type": "code",
   "execution_count": 58,
   "id": "professional-security",
   "metadata": {},
   "outputs": [
    {
     "data": {
      "text/plain": [
       "False    136842\n",
       "True        888\n",
       "Name: vulnerable, dtype: int64"
      ]
     },
     "execution_count": 58,
     "metadata": {},
     "output_type": "execute_result"
    }
   ],
   "source": [
    "final.vulnerable.value_counts()"
   ]
  },
  {
   "cell_type": "markdown",
   "id": "exterior-psychology",
   "metadata": {},
   "source": [
    "Rebalance using over and undersampling of the minority/majority sets"
   ]
  },
  {
   "cell_type": "markdown",
   "id": "continuing-chicken",
   "metadata": {},
   "source": [
    "## Balance using Random Oversampling of the minority set"
   ]
  },
  {
   "cell_type": "code",
   "execution_count": 59,
   "id": "dramatic-girlfriend",
   "metadata": {},
   "outputs": [],
   "source": [
    "# Class count\n",
    "count_class_0, count_class_1 = final.vulnerable.value_counts()\n",
    "\n",
    "# Divide by class\n",
    "df_class_0 = final[final['vulnerable'] == False]\n",
    "df_class_1 = final[final['vulnerable'] == True]"
   ]
  },
  {
   "cell_type": "code",
   "execution_count": 60,
   "id": "drawn-belle",
   "metadata": {},
   "outputs": [],
   "source": [
    "df_class_1_over = df_class_1.sample(count_class_0, replace=True)\n",
    "df_test_over = pd.concat([df_class_0, df_class_1_over], axis=0)"
   ]
  },
  {
   "cell_type": "code",
   "execution_count": 61,
   "id": "extensive-triumph",
   "metadata": {},
   "outputs": [
    {
     "data": {
      "text/plain": [
       "False    136842\n",
       "True     136842\n",
       "Name: vulnerable, dtype: int64"
      ]
     },
     "execution_count": 61,
     "metadata": {},
     "output_type": "execute_result"
    }
   ],
   "source": [
    "df_test_over.vulnerable.value_counts()"
   ]
  },
  {
   "cell_type": "markdown",
   "id": "domestic-absence",
   "metadata": {},
   "source": [
    "### Save to csv"
   ]
  },
  {
   "cell_type": "code",
   "execution_count": 69,
   "id": "secret-browse",
   "metadata": {},
   "outputs": [],
   "source": [
    "df_test_over.to_csv(path+'/final_dfs_for_reference/cb_multios_oversampled.csv')"
   ]
  },
  {
   "cell_type": "markdown",
   "id": "significant-ivory",
   "metadata": {},
   "source": [
    "## Balance using Random Undersampling of the majority set"
   ]
  },
  {
   "cell_type": "code",
   "execution_count": 62,
   "id": "photographic-consumer",
   "metadata": {},
   "outputs": [],
   "source": [
    "# Class count\n",
    "count_class_0, count_class_1 = final.vulnerable.value_counts()\n",
    "\n",
    "# Divide by class\n",
    "df_class_0 = final[final['vulnerable'] == False]\n",
    "df_class_1 = final[final['vulnerable'] == True]"
   ]
  },
  {
   "cell_type": "code",
   "execution_count": 63,
   "id": "every-projection",
   "metadata": {},
   "outputs": [],
   "source": [
    "df_class_0_under = df_class_0.sample(count_class_1)\n",
    "df_test_under = pd.concat([df_class_0_under, df_class_1], axis=0)"
   ]
  },
  {
   "cell_type": "code",
   "execution_count": 64,
   "id": "interesting-recall",
   "metadata": {},
   "outputs": [
    {
     "data": {
      "text/plain": [
       "False    888\n",
       "True     888\n",
       "Name: vulnerable, dtype: int64"
      ]
     },
     "execution_count": 64,
     "metadata": {},
     "output_type": "execute_result"
    }
   ],
   "source": [
    "df_test_under.vulnerable.value_counts()"
   ]
  },
  {
   "cell_type": "markdown",
   "id": "blond-sapphire",
   "metadata": {},
   "source": [
    "### Save to csv"
   ]
  },
  {
   "cell_type": "code",
   "execution_count": 70,
   "id": "warming-assault",
   "metadata": {},
   "outputs": [],
   "source": [
    "df_test_under.to_csv(path+'/final_dfs_for_reference/cb_multios_undersampled.csv')"
   ]
  },
  {
   "cell_type": "code",
   "execution_count": 7,
   "id": "catholic-museum",
   "metadata": {},
   "outputs": [],
   "source": [
    "final = pd.read_csv(path + '/final_dfs_for_reference/final_combined_frame_23Apr21.csv')"
   ]
  },
  {
   "cell_type": "code",
   "execution_count": 8,
   "id": "accessible-authority",
   "metadata": {},
   "outputs": [],
   "source": [
    "df_test_over = pd.read_csv(path + '/final_dfs_for_reference/cb_multios_oversampled.csv')"
   ]
  },
  {
   "cell_type": "code",
   "execution_count": 9,
   "id": "multiple-snowboard",
   "metadata": {},
   "outputs": [],
   "source": [
    "df_test_under = pd.read_csv(path + '/final_dfs_for_reference/cb_multios_undersampled.csv')"
   ]
  },
  {
   "cell_type": "markdown",
   "id": "following-hours",
   "metadata": {},
   "source": [
    "## Combine and plot for comparison"
   ]
  },
  {
   "cell_type": "code",
   "execution_count": 14,
   "id": "synthetic-parker",
   "metadata": {},
   "outputs": [
    {
     "name": "stderr",
     "output_type": "stream",
     "text": [
      "/Library/Frameworks/Python.framework/Versions/3.8/lib/python3.8/site-packages/seaborn/_decorators.py:36: FutureWarning: Pass the following variable as a keyword arg: x. From version 0.12, the only valid positional argument will be `data`, and passing other arguments without an explicit keyword will result in an error or misinterpretation.\n",
      "  warnings.warn(\n",
      "/Library/Frameworks/Python.framework/Versions/3.8/lib/python3.8/site-packages/seaborn/_decorators.py:36: FutureWarning: Pass the following variable as a keyword arg: x. From version 0.12, the only valid positional argument will be `data`, and passing other arguments without an explicit keyword will result in an error or misinterpretation.\n",
      "  warnings.warn(\n",
      "/Library/Frameworks/Python.framework/Versions/3.8/lib/python3.8/site-packages/seaborn/_decorators.py:36: FutureWarning: Pass the following variable as a keyword arg: x. From version 0.12, the only valid positional argument will be `data`, and passing other arguments without an explicit keyword will result in an error or misinterpretation.\n",
      "  warnings.warn(\n"
     ]
    },
    {
     "data": {
      "image/png": "[encoded data removed]",
      "text/plain": [
       "<Figure size 1440x576 with 3 Axes>"
      ]
     },
     "metadata": {},
     "output_type": "display_data"
    }
   ],
   "source": [
    "df = pd.DataFrame()\n",
    "\n",
    "over = df_test_over.vulnerable.to_list()\n",
    "under = df_test_under.vulnerable.to_list()\n",
    "original = final.vulnerable.to_list()\n",
    "\n",
    "palette = 'viridis_r'\n",
    "\n",
    "\n",
    "fig, ax = plt.subplots(1, 3, figsize=(20, 8), sharex = True)\n",
    "#ax.set(ylim=(0, 300000))\n",
    "sns.set(font_scale = 1.2, style='white')\n",
    "sns.despine()\n",
    "g1 = sns.countplot(original, ax=ax[0], palette=palette)\n",
    "g2 = sns.countplot(over, ax=ax[1], palette=palette)\n",
    "g3 = sns.countplot(under, ax=ax[2], palette=palette)\n",
    "\n",
    "g1.set_xlabel('Vulnerable', fontsize=20)\n",
    "g1.set_ylabel('Number of Samples', fontsize=20)\n",
    "\n",
    "g3.set(ylim=(0, 140000))\n",
    "g1.tick_params(labelsize=15)\n",
    "g2.tick_params(labelsize=15)\n",
    "g3.tick_params(labelsize=15)\n",
    "g2.set_ylabel('')\n",
    "g3.set_ylabel('')\n",
    "ax[1].spines[\"left\"].set_visible(False)\n",
    "ax[2].spines[\"left\"].set_visible(False)\n",
    "\n",
    "ax[1].axes.get_yaxis().set_visible(False)\n",
    "ax[2].axes.get_yaxis().set_visible(False)\n",
    "\n",
    "ax[0].set_title('Original', fontweight =\"bold\", fontsize=25)\n",
    "ax[1].set_title('Random Oversampling', fontweight =\"bold\", fontsize=25)\n",
    "ax[2].set_title('Random Undersampling', fontweight =\"bold\", fontsize=25)\n",
    "\n",
    "fig.savefig(\"/Volumes/Research/VulnerabilityDatasets/Vulnerability_datasets/code/ghidra/cb_multios_class_imbalance_comparison2.png\")"
   ]
  },
  {
   "cell_type": "markdown",
   "id": "subsequent-pattern",
   "metadata": {},
   "source": [
    "## Train test split for all tests"
   ]
  },
  {
   "cell_type": "code",
   "execution_count": 79,
   "id": "final-latex",
   "metadata": {},
   "outputs": [],
   "source": [
    "from sklearn.model_selection import train_test_split\n",
    "\n",
    "original_train, original_test = train_test_split(final, test_size=0.2)\n",
    "under_train, under_test = train_test_split(df_test_under, test_size=0.2)\n",
    "over_train, over_test = train_test_split(df_test_over, test_size=0.2)"
   ]
  },
  {
   "cell_type": "markdown",
   "id": "cosmetic-south",
   "metadata": {},
   "source": [
    "### Save train/test dfs to csv"
   ]
  },
  {
   "cell_type": "code",
   "execution_count": 81,
   "id": "brown-ready",
   "metadata": {},
   "outputs": [],
   "source": [
    "original_train.to_csv(path+'/final_dfs_for_reference/cbmultios_original_train_25April2021.csv')\n",
    "original_test.to_csv(path+'/final_dfs_for_reference/cbmultios_original_test_25April2021.csv')"
   ]
  },
  {
   "cell_type": "code",
   "execution_count": 82,
   "id": "least-choice",
   "metadata": {},
   "outputs": [],
   "source": [
    "under_train.to_csv(path+'/final_dfs_for_reference/cbmultios_under_train_25April2021.csv')\n",
    "under_test.to_csv(path+'/final_dfs_for_reference/cbmultios_under_test_25April2021.csv')"
   ]
  },
  {
   "cell_type": "code",
   "execution_count": 83,
   "id": "sustained-playback",
   "metadata": {},
   "outputs": [],
   "source": [
    "over_train.to_csv(path+'/final_dfs_for_reference/cbmultios_over_train_25April2021.csv')\n",
    "over_test.to_csv(path+'/final_dfs_for_reference/cbmultios_over_test_25April2021.csv')"
   ]
  },
  {
   "cell_type": "markdown",
   "id": "defined-taxation",
   "metadata": {},
   "source": [
    "### Save just `fuzzy_instr` column to .txt for processing"
   ]
  },
  {
   "cell_type": "code",
   "execution_count": 89,
   "id": "sitting-nylon",
   "metadata": {},
   "outputs": [
    {
     "data": {
      "text/plain": [
       "'/Volumes/Research/VulnerabilityDatasets/Vulnerability_datasets/code/ghidra/ghidra_extractions-main'"
      ]
     },
     "execution_count": 89,
     "metadata": {},
     "output_type": "execute_result"
    }
   ],
   "source": [
    "path"
   ]
  },
  {
   "cell_type": "code",
   "execution_count": 85,
   "id": "accessory-software",
   "metadata": {},
   "outputs": [],
   "source": [
    "original_train['fuzzy_instr'].to_csv(path+'/final_dfs_for_reference/cbmultios_original_train_25April2021.txt', header=None, index=None, sep=' ', mode='a')\n",
    "original_test['fuzzy_instr'].to_csv(path+'/final_dfs_for_reference/cbmultios_original_test_25April2021.txt', header=None, index=None, sep=' ', mode='a')"
   ]
  },
  {
   "cell_type": "markdown",
   "id": "federal-compact",
   "metadata": {},
   "source": [
    "use `sed` to remove quotes from files"
   ]
  },
  {
   "cell_type": "code",
   "execution_count": 90,
   "id": "disturbed-westminster",
   "metadata": {},
   "outputs": [],
   "source": [
    "!sed -i \"\" 's/\"//g' /Volumes/Research/VulnerabilityDatasets/Vulnerability_datasets/code/ghidra/ghidra_extractions-main/final_dfs_for_reference/cbmultios_original_train_25April2021.txt"
   ]
  },
  {
   "cell_type": "code",
   "execution_count": 91,
   "id": "alleged-trademark",
   "metadata": {},
   "outputs": [],
   "source": [
    "!sed -i \"\" 's/\"//g' /Volumes/Research/VulnerabilityDatasets/Vulnerability_datasets/code/ghidra/ghidra_extractions-main/final_dfs_for_reference/cbmultios_original_test_25April2021.txt"
   ]
  },
  {
   "cell_type": "code",
   "execution_count": 86,
   "id": "fifth-demonstration",
   "metadata": {},
   "outputs": [],
   "source": [
    "under_train['fuzzy_instr'].to_csv(path+'/final_dfs_for_reference/cbmultios_under_train_25April2021.txt', header=None, index=None, sep=' ', mode='a')\n",
    "under_test['fuzzy_instr'].to_csv(path+'/final_dfs_for_reference/cbmultios_under_test_25April2021.txt', header=None, index=None, sep=' ', mode='a')"
   ]
  },
  {
   "cell_type": "code",
   "execution_count": 92,
   "id": "norwegian-safety",
   "metadata": {},
   "outputs": [],
   "source": [
    "!sed -i \"\" 's/\"//g' /Volumes/Research/VulnerabilityDatasets/Vulnerability_datasets/code/ghidra/ghidra_extractions-main/final_dfs_for_reference/cbmultios_under_train_25April2021.txt"
   ]
  },
  {
   "cell_type": "code",
   "execution_count": 93,
   "id": "technical-going",
   "metadata": {},
   "outputs": [],
   "source": [
    "!sed -i \"\" 's/\"//g' /Volumes/Research/VulnerabilityDatasets/Vulnerability_datasets/code/ghidra/ghidra_extractions-main/final_dfs_for_reference/cbmultios_under_test_25April2021.txt"
   ]
  },
  {
   "cell_type": "code",
   "execution_count": 87,
   "id": "proved-crash",
   "metadata": {},
   "outputs": [],
   "source": [
    "over_train['fuzzy_instr'].to_csv(path+'/final_dfs_for_reference/cbmultios_over_train_25April2021.txt', header=None, index=None, sep=' ', mode='a')\n",
    "over_test['fuzzy_instr'].to_csv(path+'/final_dfs_for_reference/cbmultios_over_test_25April2021.txt', header=None, index=None, sep=' ', mode='a')"
   ]
  },
  {
   "cell_type": "code",
   "execution_count": 94,
   "id": "close-siemens",
   "metadata": {},
   "outputs": [],
   "source": [
    "!sed -i \"\" 's/\"//g' /Volumes/Research/VulnerabilityDatasets/Vulnerability_datasets/code/ghidra/ghidra_extractions-main/final_dfs_for_reference/cbmultios_over_train_25April2021.txt"
   ]
  },
  {
   "cell_type": "code",
   "execution_count": 95,
   "id": "buried-flight",
   "metadata": {},
   "outputs": [],
   "source": [
    "!sed -i \"\" 's/\"//g' /Volumes/Research/VulnerabilityDatasets/Vulnerability_datasets/code/ghidra/ghidra_extractions-main/final_dfs_for_reference/cbmultios_over_test_25April2021.txt"
   ]
  },
  {
   "cell_type": "markdown",
   "id": "czech-philip",
   "metadata": {},
   "source": [
    "# D2V"
   ]
  },
  {
   "cell_type": "code",
   "execution_count": 6,
   "id": "great-recall",
   "metadata": {},
   "outputs": [],
   "source": [
    "def read_corpus(fname, tokens_only=False):\n",
    "    with smart_open.open(fname, encoding=\"iso-8859-1\") as f:\n",
    "        for i, line in enumerate(f):\n",
    "            tokens = gensim.utils.simple_preprocess(line)\n",
    "            if tokens_only:\n",
    "                yield tokens\n",
    "            else:\n",
    "                # For training data, add tags\n",
    "                yield gensim.models.doc2vec.TaggedDocument(tokens, [i])"
   ]
  },
  {
   "cell_type": "markdown",
   "id": "wicked-documentary",
   "metadata": {},
   "source": [
    "## Using Original Dataset"
   ]
  },
  {
   "cell_type": "code",
   "execution_count": 97,
   "id": "outstanding-alaska",
   "metadata": {},
   "outputs": [],
   "source": [
    "original_train_txt = path+'/final_dfs_for_reference/cbmultios_original_train_25April2021.txt'"
   ]
  },
  {
   "cell_type": "code",
   "execution_count": 98,
   "id": "raising-qualification",
   "metadata": {},
   "outputs": [],
   "source": [
    "original_test_txt = path+'/final_dfs_for_reference/cbmultios_original_test_25April2021.txt'"
   ]
  },
  {
   "cell_type": "code",
   "execution_count": 99,
   "id": "solid-attention",
   "metadata": {},
   "outputs": [],
   "source": [
    "%%time\n",
    "train_corpus = list(read_corpus(original_train_txt))"
   ]
  },
  {
   "cell_type": "code",
   "execution_count": 100,
   "id": "complex-midwest",
   "metadata": {},
   "outputs": [
    {
     "name": "stdout",
     "output_type": "stream",
     "text": [
      "CPU times: user 5.8 s, sys: 199 ms, total: 6 s\n",
      "Wall time: 6.1 s\n"
     ]
    }
   ],
   "source": [
    "%%time\n",
    "test_corpus = list(read_corpus(original_test_txt, tokens_only=True))"
   ]
  },
  {
   "cell_type": "code",
   "execution_count": 102,
   "id": "polar-colorado",
   "metadata": {},
   "outputs": [
    {
     "data": {
      "text/plain": [
       "110184"
      ]
     },
     "execution_count": 102,
     "metadata": {},
     "output_type": "execute_result"
    }
   ],
   "source": [
    "len(train_corpus)"
   ]
  },
  {
   "cell_type": "code",
   "execution_count": 103,
   "id": "alpine-vertex",
   "metadata": {},
   "outputs": [
    {
     "data": {
      "text/plain": [
       "27546"
      ]
     },
     "execution_count": 103,
     "metadata": {},
     "output_type": "execute_result"
    }
   ],
   "source": [
    "len(test_corpus)"
   ]
  },
  {
   "cell_type": "markdown",
   "id": "approved-camera",
   "metadata": {},
   "source": [
    "### Create a D2V Model"
   ]
  },
  {
   "cell_type": "code",
   "execution_count": 104,
   "id": "knowing-horizon",
   "metadata": {},
   "outputs": [],
   "source": [
    "model = gensim.models.doc2vec.Doc2Vec(vector_size=100, min_count=2, epochs=40)"
   ]
  },
  {
   "cell_type": "code",
   "execution_count": 105,
   "id": "southwest-restoration",
   "metadata": {},
   "outputs": [
    {
     "name": "stdout",
     "output_type": "stream",
     "text": [
      "CPU times: user 25.9 s, sys: 545 ms, total: 26.4 s\n",
      "Wall time: 26.6 s\n"
     ]
    }
   ],
   "source": [
    "%%time\n",
    "model.build_vocab(train_corpus)"
   ]
  },
  {
   "cell_type": "code",
   "execution_count": 106,
   "id": "looking-church",
   "metadata": {},
   "outputs": [
    {
     "name": "stdout",
     "output_type": "stream",
     "text": [
      "CPU times: user 8min 16s, sys: 49.2 s, total: 9min 5s\n",
      "Wall time: 5min 53s\n"
     ]
    }
   ],
   "source": [
    "%%time\n",
    "model.train(train_corpus, total_examples=model.corpus_count, epochs=model.epochs)"
   ]
  },
  {
   "cell_type": "markdown",
   "id": "armed-jimmy",
   "metadata": {},
   "source": [
    "#### save model to disk"
   ]
  },
  {
   "cell_type": "code",
   "execution_count": 107,
   "id": "special-surgeon",
   "metadata": {},
   "outputs": [],
   "source": [
    "model.save(path+'doc2vecModel_original_26April21')"
   ]
  },
  {
   "cell_type": "markdown",
   "id": "insured-address",
   "metadata": {},
   "source": [
    "### Test The Model"
   ]
  },
  {
   "cell_type": "markdown",
   "id": "governing-distance",
   "metadata": {},
   "source": [
    "#### Use the test set set to test the model"
   ]
  },
  {
   "cell_type": "code",
   "execution_count": 108,
   "id": "crazy-brake",
   "metadata": {},
   "outputs": [],
   "source": [
    "milestones = [1000, 2000, 4000, 6000, 8000, 10000, 15000, 18000, 20000, 24000, 27546]"
   ]
  },
  {
   "cell_type": "code",
   "execution_count": 109,
   "id": "frank-divide",
   "metadata": {},
   "outputs": [],
   "source": [
    "def get_data(test_corpus):\n",
    "    comparison = list()\n",
    "    start_time = time.time()\n",
    "    for ind, doc_id in enumerate(test_corpus):\n",
    "        \n",
    "        # see if milestone reached\n",
    "        if ind in milestones:\n",
    "            print('milestone reached: ', ind)\n",
    "            print(f'Time taken : {(time.time() - start_time) / 60:.2f} mins')\n",
    "        \n",
    "        # do for all test corpus and infer a vector from the model\n",
    "        inferred_vector = model.infer_vector(test_corpus[ind])\n",
    "        sims = model.docvecs.most_similar([inferred_vector], topn=2)\n",
    "\n",
    "        # Compare and print the most/median/least similar documents from the train corpus\n",
    "        actual = original_test.iloc[ind]['vulnerable']\n",
    "        actual_fun_name = original_test.iloc[ind]['fun_name']\n",
    "        actual_instr = original_test.iloc[ind]['fuzzy_instr']\n",
    "\n",
    "        i = sims[0][0]\n",
    "        predicted = original_train.iloc[i]['vulnerable']\n",
    "        predicted_fun_name = original_train.iloc[i]['fun_name']\n",
    "        predicted_instr = original_train.iloc[i]['fuzzy_instr']\n",
    "        \n",
    "        i = sims[1][0]\n",
    "        predicted_2 = original_train.iloc[i]['vulnerable']\n",
    "        predicted_fun_name_2 = original_train.iloc[i]['fun_name']\n",
    "        predicted_instr_2 = original_train.iloc[i]['fuzzy_instr']\n",
    "        \n",
    "        comparison.append([actual_fun_name, \n",
    "                           actual, \n",
    "                           actual_instr, \n",
    "                           predicted_fun_name, \n",
    "                           predicted, \n",
    "                           predicted_instr, \n",
    "                           predicted_fun_name_2, \n",
    "                           predicted_2, \n",
    "                           predicted_instr_2])\n",
    "\n",
    "    print(f'Time taken : {(time.time() - start_time) / 60:.2f} mins')\n",
    "    return comparison"
   ]
  },
  {
   "cell_type": "code",
   "execution_count": 110,
   "id": "voluntary-benjamin",
   "metadata": {},
   "outputs": [
    {
     "name": "stdout",
     "output_type": "stream",
     "text": [
      "milestone reached:  1000\n",
      "Time taken : 0.13 mins\n",
      "milestone reached:  2000\n",
      "Time taken : 0.25 mins\n",
      "milestone reached:  4000\n",
      "Time taken : 0.67 mins\n",
      "milestone reached:  6000\n",
      "Time taken : 0.93 mins\n",
      "milestone reached:  8000\n",
      "Time taken : 1.18 mins\n",
      "milestone reached:  10000\n",
      "Time taken : 1.44 mins\n",
      "milestone reached:  15000\n",
      "Time taken : 2.04 mins\n",
      "milestone reached:  18000\n",
      "Time taken : 2.40 mins\n",
      "milestone reached:  20000\n",
      "Time taken : 2.64 mins\n",
      "milestone reached:  24000\n",
      "Time taken : 3.11 mins\n",
      "Time taken : 3.54 mins\n"
     ]
    }
   ],
   "source": [
    "comparison = get_data(test_corpus)"
   ]
  },
  {
   "cell_type": "code",
   "execution_count": 111,
   "id": "quiet-contrary",
   "metadata": {},
   "outputs": [],
   "source": [
    "comparison_df = pd.DataFrame(comparison, columns=['fun_name', 'actual', 'fuzzy_instr_act', 'closest_fun', 'prediction', 'fuzzy_instr_pred', '2nd_closest_fun', '2nd_prediction', '2nd_fuzzy_instr_pred'])"
   ]
  },
  {
   "cell_type": "code",
   "execution_count": 112,
   "id": "amateur-flavor",
   "metadata": {},
   "outputs": [
    {
     "data": {
      "text/html": [
       "<div>\n",
       "<style scoped>\n",
       "    .dataframe tbody tr th:only-of-type {\n",
       "        vertical-align: middle;\n",
       "    }\n",
       "\n",
       "    .dataframe tbody tr th {\n",
       "        vertical-align: top;\n",
       "    }\n",
       "\n",
       "    .dataframe thead th {\n",
       "        text-align: right;\n",
       "    }\n",
       "</style>\n",
       "<table border=\"1\" class=\"dataframe\">\n",
       "  <thead>\n",
       "    <tr style=\"text-align: right;\">\n",
       "      <th></th>\n",
       "      <th>fun_name</th>\n",
       "      <th>actual</th>\n",
       "      <th>fuzzy_instr_act</th>\n",
       "      <th>closest_fun</th>\n",
       "      <th>prediction</th>\n",
       "      <th>fuzzy_instr_pred</th>\n",
       "      <th>2nd_closest_fun</th>\n",
       "      <th>2nd_prediction</th>\n",
       "      <th>2nd_fuzzy_instr_pred</th>\n",
       "    </tr>\n",
       "  </thead>\n",
       "  <tbody>\n",
       "    <tr>\n",
       "      <th>0</th>\n",
       "      <td>__invoke</td>\n",
       "      <td>False</td>\n",
       "      <td>push ebx push edi push esi sub esp num mov esi...</td>\n",
       "      <td>__invoke</td>\n",
       "      <td>False</td>\n",
       "      <td>push ebx push edi push esi sub esp num mov esi...</td>\n",
       "      <td>__invoke</td>\n",
       "      <td>False</td>\n",
       "      <td>push ebx push edi push esi sub esp num mov esi...</td>\n",
       "    </tr>\n",
       "    <tr>\n",
       "      <th>1</th>\n",
       "      <td>cgc_memchr</td>\n",
       "      <td>False</td>\n",
       "      <td>push ebp mov ebp esp push esi sub esp num mov ...</td>\n",
       "      <td>cgc_memchr</td>\n",
       "      <td>False</td>\n",
       "      <td>push ebp mov ebp esp push esi sub esp num mov ...</td>\n",
       "      <td>cgc_memchr</td>\n",
       "      <td>False</td>\n",
       "      <td>push ebp mov ebp esp push esi sub esp num mov ...</td>\n",
       "    </tr>\n",
       "    <tr>\n",
       "      <th>2</th>\n",
       "      <td>__invoke</td>\n",
       "      <td>False</td>\n",
       "      <td>sub esp num mov eax esp num mov ecx esp num mo...</td>\n",
       "      <td>__invoke</td>\n",
       "      <td>False</td>\n",
       "      <td>sub esp num mov eax esp num mov ecx esp num mo...</td>\n",
       "      <td>__invoke</td>\n",
       "      <td>False</td>\n",
       "      <td>sub esp num mov eax esp num mov ecx esp num mo...</td>\n",
       "    </tr>\n",
       "    <tr>\n",
       "      <th>3</th>\n",
       "      <td>__i686.get_pc_thunk.bx</td>\n",
       "      <td>False</td>\n",
       "      <td>mov ebx esp ret</td>\n",
       "      <td>__x86.get_pc_thunk.bx</td>\n",
       "      <td>False</td>\n",
       "      <td>mov ebx esp ret</td>\n",
       "      <td>__i686.get_pc_thunk.bx</td>\n",
       "      <td>False</td>\n",
       "      <td>mov ebx esp ret</td>\n",
       "    </tr>\n",
       "    <tr>\n",
       "      <th>4</th>\n",
       "      <td>Token</td>\n",
       "      <td>False</td>\n",
       "      <td>mov eax esp num xor ecx ecx mov eax ecx mov ea...</td>\n",
       "      <td>Token</td>\n",
       "      <td>False</td>\n",
       "      <td>mov eax esp num xor ecx ecx mov eax ecx mov ea...</td>\n",
       "      <td>Token</td>\n",
       "      <td>False</td>\n",
       "      <td>mov eax esp num xor ecx ecx mov eax ecx mov ea...</td>\n",
       "    </tr>\n",
       "    <tr>\n",
       "      <th>...</th>\n",
       "      <td>...</td>\n",
       "      <td>...</td>\n",
       "      <td>...</td>\n",
       "      <td>...</td>\n",
       "      <td>...</td>\n",
       "      <td>...</td>\n",
       "      <td>...</td>\n",
       "      <td>...</td>\n",
       "      <td>...</td>\n",
       "    </tr>\n",
       "    <tr>\n",
       "      <th>27541</th>\n",
       "      <td>~ListCmd</td>\n",
       "      <td>False</td>\n",
       "      <td>push ebp mov ebp esp sub esp num mov eax ebp n...</td>\n",
       "      <td>DoubleListDeclare</td>\n",
       "      <td>False</td>\n",
       "      <td>push ebp mov ebp esp sub esp num mov eax ebp n...</td>\n",
       "      <td>~vector</td>\n",
       "      <td>False</td>\n",
       "      <td>push ebp mov ebp esp sub esp num mov eax ebp n...</td>\n",
       "    </tr>\n",
       "    <tr>\n",
       "      <th>27542</th>\n",
       "      <td>__invoke</td>\n",
       "      <td>False</td>\n",
       "      <td>push ebx push edi push esi sub esp num mov esi...</td>\n",
       "      <td>__invoke</td>\n",
       "      <td>False</td>\n",
       "      <td>push ebx push edi push esi sub esp num mov esi...</td>\n",
       "      <td>__invoke</td>\n",
       "      <td>False</td>\n",
       "      <td>push ebx push edi push esi sub esp num mov esi...</td>\n",
       "    </tr>\n",
       "    <tr>\n",
       "      <th>27543</th>\n",
       "      <td>_fini</td>\n",
       "      <td>False</td>\n",
       "      <td>endbr push ebx sub esp num call addr add ebx n...</td>\n",
       "      <td>_fini</td>\n",
       "      <td>False</td>\n",
       "      <td>endbr push ebx sub esp num call addr add ebx n...</td>\n",
       "      <td>_fini</td>\n",
       "      <td>False</td>\n",
       "      <td>endbr push ebx sub esp num call addr add ebx n...</td>\n",
       "    </tr>\n",
       "    <tr>\n",
       "      <th>27544</th>\n",
       "      <td>getLength</td>\n",
       "      <td>False</td>\n",
       "      <td>push ebp mov ebp esp and esp addr mov eax ebp ...</td>\n",
       "      <td>cgc_toupper</td>\n",
       "      <td>False</td>\n",
       "      <td>mov ecx esp num lea edx ecx num mov eax ecx an...</td>\n",
       "      <td>cgc_toupper</td>\n",
       "      <td>False</td>\n",
       "      <td>mov ecx esp num lea edx ecx num mov eax ecx an...</td>\n",
       "    </tr>\n",
       "    <tr>\n",
       "      <th>27545</th>\n",
       "      <td>resize</td>\n",
       "      <td>False</td>\n",
       "      <td>push ebp push ebx push edi push esi sub esp nu...</td>\n",
       "      <td>resize</td>\n",
       "      <td>False</td>\n",
       "      <td>push ebp push ebx push edi push esi sub esp nu...</td>\n",
       "      <td>resize</td>\n",
       "      <td>False</td>\n",
       "      <td>push ebp push ebx push edi push esi sub esp nu...</td>\n",
       "    </tr>\n",
       "  </tbody>\n",
       "</table>\n",
       "<p>27546 rows × 9 columns</p>\n",
       "</div>"
      ],
      "text/plain": [
       "                     fun_name  actual  \\\n",
       "0                    __invoke   False   \n",
       "1                  cgc_memchr   False   \n",
       "2                    __invoke   False   \n",
       "3      __i686.get_pc_thunk.bx   False   \n",
       "4                       Token   False   \n",
       "...                       ...     ...   \n",
       "27541                ~ListCmd   False   \n",
       "27542                __invoke   False   \n",
       "27543                   _fini   False   \n",
       "27544               getLength   False   \n",
       "27545                  resize   False   \n",
       "\n",
       "                                         fuzzy_instr_act  \\\n",
       "0      push ebx push edi push esi sub esp num mov esi...   \n",
       "1      push ebp mov ebp esp push esi sub esp num mov ...   \n",
       "2      sub esp num mov eax esp num mov ecx esp num mo...   \n",
       "3                                        mov ebx esp ret   \n",
       "4      mov eax esp num xor ecx ecx mov eax ecx mov ea...   \n",
       "...                                                  ...   \n",
       "27541  push ebp mov ebp esp sub esp num mov eax ebp n...   \n",
       "27542  push ebx push edi push esi sub esp num mov esi...   \n",
       "27543  endbr push ebx sub esp num call addr add ebx n...   \n",
       "27544  push ebp mov ebp esp and esp addr mov eax ebp ...   \n",
       "27545  push ebp push ebx push edi push esi sub esp nu...   \n",
       "\n",
       "                 closest_fun  prediction  \\\n",
       "0                   __invoke       False   \n",
       "1                 cgc_memchr       False   \n",
       "2                   __invoke       False   \n",
       "3      __x86.get_pc_thunk.bx       False   \n",
       "4                      Token       False   \n",
       "...                      ...         ...   \n",
       "27541      DoubleListDeclare       False   \n",
       "27542               __invoke       False   \n",
       "27543                  _fini       False   \n",
       "27544            cgc_toupper       False   \n",
       "27545                 resize       False   \n",
       "\n",
       "                                        fuzzy_instr_pred  \\\n",
       "0      push ebx push edi push esi sub esp num mov esi...   \n",
       "1      push ebp mov ebp esp push esi sub esp num mov ...   \n",
       "2      sub esp num mov eax esp num mov ecx esp num mo...   \n",
       "3                                        mov ebx esp ret   \n",
       "4      mov eax esp num xor ecx ecx mov eax ecx mov ea...   \n",
       "...                                                  ...   \n",
       "27541  push ebp mov ebp esp sub esp num mov eax ebp n...   \n",
       "27542  push ebx push edi push esi sub esp num mov esi...   \n",
       "27543  endbr push ebx sub esp num call addr add ebx n...   \n",
       "27544  mov ecx esp num lea edx ecx num mov eax ecx an...   \n",
       "27545  push ebp push ebx push edi push esi sub esp nu...   \n",
       "\n",
       "              2nd_closest_fun  2nd_prediction  \\\n",
       "0                    __invoke           False   \n",
       "1                  cgc_memchr           False   \n",
       "2                    __invoke           False   \n",
       "3      __i686.get_pc_thunk.bx           False   \n",
       "4                       Token           False   \n",
       "...                       ...             ...   \n",
       "27541                 ~vector           False   \n",
       "27542                __invoke           False   \n",
       "27543                   _fini           False   \n",
       "27544             cgc_toupper           False   \n",
       "27545                  resize           False   \n",
       "\n",
       "                                    2nd_fuzzy_instr_pred  \n",
       "0      push ebx push edi push esi sub esp num mov esi...  \n",
       "1      push ebp mov ebp esp push esi sub esp num mov ...  \n",
       "2      sub esp num mov eax esp num mov ecx esp num mo...  \n",
       "3                                        mov ebx esp ret  \n",
       "4      mov eax esp num xor ecx ecx mov eax ecx mov ea...  \n",
       "...                                                  ...  \n",
       "27541  push ebp mov ebp esp sub esp num mov eax ebp n...  \n",
       "27542  push ebx push edi push esi sub esp num mov esi...  \n",
       "27543  endbr push ebx sub esp num call addr add ebx n...  \n",
       "27544  mov ecx esp num lea edx ecx num mov eax ecx an...  \n",
       "27545  push ebp push ebx push edi push esi sub esp nu...  \n",
       "\n",
       "[27546 rows x 9 columns]"
      ]
     },
     "execution_count": 112,
     "metadata": {},
     "output_type": "execute_result"
    }
   ],
   "source": [
    "comparison_df"
   ]
  },
  {
   "cell_type": "code",
   "execution_count": 113,
   "id": "cardiac-amount",
   "metadata": {},
   "outputs": [
    {
     "data": {
      "text/plain": [
       "'/Volumes/Research/VulnerabilityDatasets/Vulnerability_datasets/code/ghidra/ghidra_extractions-main'"
      ]
     },
     "execution_count": 113,
     "metadata": {},
     "output_type": "execute_result"
    }
   ],
   "source": [
    "path"
   ]
  },
  {
   "cell_type": "code",
   "execution_count": 116,
   "id": "moral-parking",
   "metadata": {},
   "outputs": [],
   "source": [
    "comparison_df.to_csv(path+'/d2v_original/cbmultios_d2v_original_all.csv')"
   ]
  },
  {
   "cell_type": "markdown",
   "id": "starting-content",
   "metadata": {},
   "source": [
    "### Metrics"
   ]
  },
  {
   "cell_type": "code",
   "execution_count": 117,
   "id": "intellectual-sessions",
   "metadata": {},
   "outputs": [],
   "source": [
    "def metrics(df_confusion):\n",
    "    stats_list = list()\n",
    "\n",
    "    fn = df_confusion[0][1]\n",
    "    tp = df_confusion[1][1]\n",
    "    tn = df_confusion[0][0]\n",
    "    fp = df_confusion[1][0]\n",
    "    accuracy = (tp+tn)/(tp+fp+fn+tn)\n",
    "    precision = tp/(tp+fp)\n",
    "    recall = tp/(tp+fn)\n",
    "    fpr = fp / (fp+tn)\n",
    "    fnr = fn / (tp +fn)\n",
    "    f1 = (2*precision*recall)/(precision+recall)\n",
    "    stats_list.append([fn,tp,tn,fp,accuracy,precision,recall,fpr,fnr,f1])\n",
    "    return stats_list"
   ]
  },
  {
   "cell_type": "code",
   "execution_count": 125,
   "id": "unique-aircraft",
   "metadata": {},
   "outputs": [],
   "source": [
    "def get_results(df): \n",
    "    y_actu = pd.Series(df['actual'], name='Actual')\n",
    "    y_pred = pd.Series(df['2nd_prediction'], name='Predicted')\n",
    "    df_confusion = pd.crosstab(y_actu, y_pred)\n",
    "    metrics(df_confusion)\n",
    "    return df_confusion"
   ]
  },
  {
   "cell_type": "code",
   "execution_count": 119,
   "id": "previous-prescription",
   "metadata": {},
   "outputs": [],
   "source": [
    "def save_df(df, dir_name, model_info):\n",
    "    directory = path + dir_name + '/'\n",
    "    today = str(date.today())\n",
    "    full = directory+model_info+'_'+today+'.csv'\n",
    "    df.to_csv(full)"
   ]
  },
  {
   "cell_type": "code",
   "execution_count": 126,
   "id": "imported-timing",
   "metadata": {},
   "outputs": [],
   "source": [
    "def save_stats(df):\n",
    "    df_confusion = get_results(df)\n",
    "    print(df_confusion)\n",
    "    stats_list = metrics(df_confusion)\n",
    "    stats_df = pd.DataFrame(stats_list, columns=['fn','tp','tn','fp','accuracy','precision','recall','fpr','fnr','f1'])\n",
    "    save_df(stats_df, '/cbmultios_metrics', 'cbmultios_d2v_original_secondchoice_stats')\n",
    "    return stats_df"
   ]
  },
  {
   "cell_type": "code",
   "execution_count": 124,
   "id": "senior-address",
   "metadata": {},
   "outputs": [
    {
     "name": "stdout",
     "output_type": "stream",
     "text": [
      "Predicted  False  True \n",
      "Actual                 \n",
      "False      27322     58\n",
      "True         159      7\n"
     ]
    },
    {
     "data": {
      "text/html": [
       "<div>\n",
       "<style scoped>\n",
       "    .dataframe tbody tr th:only-of-type {\n",
       "        vertical-align: middle;\n",
       "    }\n",
       "\n",
       "    .dataframe tbody tr th {\n",
       "        vertical-align: top;\n",
       "    }\n",
       "\n",
       "    .dataframe thead th {\n",
       "        text-align: right;\n",
       "    }\n",
       "</style>\n",
       "<table border=\"1\" class=\"dataframe\">\n",
       "  <thead>\n",
       "    <tr style=\"text-align: right;\">\n",
       "      <th></th>\n",
       "      <th>fn</th>\n",
       "      <th>tp</th>\n",
       "      <th>tn</th>\n",
       "      <th>fp</th>\n",
       "      <th>accuracy</th>\n",
       "      <th>precision</th>\n",
       "      <th>recall</th>\n",
       "      <th>fpr</th>\n",
       "      <th>fnr</th>\n",
       "      <th>f1</th>\n",
       "    </tr>\n",
       "  </thead>\n",
       "  <tbody>\n",
       "    <tr>\n",
       "      <th>0</th>\n",
       "      <td>159</td>\n",
       "      <td>7</td>\n",
       "      <td>27322</td>\n",
       "      <td>58</td>\n",
       "      <td>0.992122</td>\n",
       "      <td>0.107692</td>\n",
       "      <td>0.042169</td>\n",
       "      <td>0.002118</td>\n",
       "      <td>0.957831</td>\n",
       "      <td>0.060606</td>\n",
       "    </tr>\n",
       "  </tbody>\n",
       "</table>\n",
       "</div>"
      ],
      "text/plain": [
       "    fn  tp     tn  fp  accuracy  precision    recall       fpr       fnr  \\\n",
       "0  159   7  27322  58  0.992122   0.107692  0.042169  0.002118  0.957831   \n",
       "\n",
       "         f1  \n",
       "0  0.060606  "
      ]
     },
     "execution_count": 124,
     "metadata": {},
     "output_type": "execute_result"
    }
   ],
   "source": [
    "first_prediction_df = save_stats(comparison_df)\n",
    "first_prediction_df"
   ]
  },
  {
   "cell_type": "code",
   "execution_count": 127,
   "id": "treated-insurance",
   "metadata": {},
   "outputs": [
    {
     "name": "stdout",
     "output_type": "stream",
     "text": [
      "Predicted  False  True \n",
      "Actual                 \n",
      "False      27315     65\n",
      "True         156     10\n"
     ]
    },
    {
     "data": {
      "text/html": [
       "<div>\n",
       "<style scoped>\n",
       "    .dataframe tbody tr th:only-of-type {\n",
       "        vertical-align: middle;\n",
       "    }\n",
       "\n",
       "    .dataframe tbody tr th {\n",
       "        vertical-align: top;\n",
       "    }\n",
       "\n",
       "    .dataframe thead th {\n",
       "        text-align: right;\n",
       "    }\n",
       "</style>\n",
       "<table border=\"1\" class=\"dataframe\">\n",
       "  <thead>\n",
       "    <tr style=\"text-align: right;\">\n",
       "      <th></th>\n",
       "      <th>fn</th>\n",
       "      <th>tp</th>\n",
       "      <th>tn</th>\n",
       "      <th>fp</th>\n",
       "      <th>accuracy</th>\n",
       "      <th>precision</th>\n",
       "      <th>recall</th>\n",
       "      <th>fpr</th>\n",
       "      <th>fnr</th>\n",
       "      <th>f1</th>\n",
       "    </tr>\n",
       "  </thead>\n",
       "  <tbody>\n",
       "    <tr>\n",
       "      <th>0</th>\n",
       "      <td>156</td>\n",
       "      <td>10</td>\n",
       "      <td>27315</td>\n",
       "      <td>65</td>\n",
       "      <td>0.991977</td>\n",
       "      <td>0.133333</td>\n",
       "      <td>0.060241</td>\n",
       "      <td>0.002374</td>\n",
       "      <td>0.939759</td>\n",
       "      <td>0.082988</td>\n",
       "    </tr>\n",
       "  </tbody>\n",
       "</table>\n",
       "</div>"
      ],
      "text/plain": [
       "    fn  tp     tn  fp  accuracy  precision    recall       fpr       fnr  \\\n",
       "0  156  10  27315  65  0.991977   0.133333  0.060241  0.002374  0.939759   \n",
       "\n",
       "         f1  \n",
       "0  0.082988  "
      ]
     },
     "execution_count": 127,
     "metadata": {},
     "output_type": "execute_result"
    }
   ],
   "source": [
    "second_prediction_df = save_stats(comparison_df)\n",
    "second_prediction_df"
   ]
  },
  {
   "cell_type": "markdown",
   "id": "restricted-wholesale",
   "metadata": {},
   "source": [
    "## Using Random Undersampled Dataset"
   ]
  },
  {
   "cell_type": "code",
   "execution_count": 128,
   "id": "headed-compilation",
   "metadata": {},
   "outputs": [],
   "source": [
    "under_train_txt = path+'/final_dfs_for_reference/cbmultios_under_train_25April2021.txt'"
   ]
  },
  {
   "cell_type": "code",
   "execution_count": 129,
   "id": "expressed-curtis",
   "metadata": {},
   "outputs": [],
   "source": [
    "under_test_txt = path+'/final_dfs_for_reference/cbmultios_under_test_25April2021.txt'"
   ]
  },
  {
   "cell_type": "code",
   "execution_count": 130,
   "id": "convenient-automation",
   "metadata": {},
   "outputs": [
    {
     "name": "stdout",
     "output_type": "stream",
     "text": [
      "CPU times: user 2.71 s, sys: 491 ms, total: 3.21 s\n",
      "Wall time: 3.49 s\n"
     ]
    }
   ],
   "source": [
    "%%time\n",
    "train_corpus = list(read_corpus(under_train_txt))"
   ]
  },
  {
   "cell_type": "code",
   "execution_count": 131,
   "id": "distributed-taiwan",
   "metadata": {},
   "outputs": [
    {
     "name": "stdout",
     "output_type": "stream",
     "text": [
      "CPU times: user 685 ms, sys: 156 ms, total: 841 ms\n",
      "Wall time: 968 ms\n"
     ]
    }
   ],
   "source": [
    "%%time\n",
    "test_corpus = list(read_corpus(under_test_txt, tokens_only=True))"
   ]
  },
  {
   "cell_type": "code",
   "execution_count": 132,
   "id": "apparent-maryland",
   "metadata": {},
   "outputs": [
    {
     "data": {
      "text/plain": [
       "1420"
      ]
     },
     "execution_count": 132,
     "metadata": {},
     "output_type": "execute_result"
    }
   ],
   "source": [
    "len(train_corpus)"
   ]
  },
  {
   "cell_type": "code",
   "execution_count": 133,
   "id": "integral-warner",
   "metadata": {},
   "outputs": [
    {
     "data": {
      "text/plain": [
       "356"
      ]
     },
     "execution_count": 133,
     "metadata": {},
     "output_type": "execute_result"
    }
   ],
   "source": [
    "len(test_corpus)"
   ]
  },
  {
   "cell_type": "markdown",
   "id": "english-silver",
   "metadata": {},
   "source": [
    "### Create a D2V Model"
   ]
  },
  {
   "cell_type": "code",
   "execution_count": 134,
   "id": "structural-company",
   "metadata": {},
   "outputs": [],
   "source": [
    "model = gensim.models.doc2vec.Doc2Vec(vector_size=100, min_count=2, epochs=40)"
   ]
  },
  {
   "cell_type": "code",
   "execution_count": 135,
   "id": "valid-municipality",
   "metadata": {},
   "outputs": [
    {
     "name": "stdout",
     "output_type": "stream",
     "text": [
      "CPU times: user 580 ms, sys: 9.79 ms, total: 590 ms\n",
      "Wall time: 592 ms\n"
     ]
    }
   ],
   "source": [
    "%%time\n",
    "model.build_vocab(train_corpus)"
   ]
  },
  {
   "cell_type": "code",
   "execution_count": 136,
   "id": "induced-target",
   "metadata": {},
   "outputs": [
    {
     "name": "stdout",
     "output_type": "stream",
     "text": [
      "CPU times: user 30.9 s, sys: 1.09 s, total: 32 s\n",
      "Wall time: 17.2 s\n"
     ]
    }
   ],
   "source": [
    "%%time\n",
    "model.train(train_corpus, total_examples=model.corpus_count, epochs=model.epochs)"
   ]
  },
  {
   "cell_type": "markdown",
   "id": "secure-avenue",
   "metadata": {},
   "source": [
    "#### save model to disk"
   ]
  },
  {
   "cell_type": "code",
   "execution_count": 137,
   "id": "another-reference",
   "metadata": {},
   "outputs": [],
   "source": [
    "model.save(path+'doc2vecModel_under_26April21')"
   ]
  },
  {
   "cell_type": "markdown",
   "id": "apart-concert",
   "metadata": {},
   "source": [
    "### Test The Model"
   ]
  },
  {
   "cell_type": "markdown",
   "id": "acceptable-extension",
   "metadata": {},
   "source": [
    "#### Use the test set set to test the model"
   ]
  },
  {
   "cell_type": "code",
   "execution_count": 141,
   "id": "altered-commercial",
   "metadata": {},
   "outputs": [
    {
     "data": {
      "text/plain": [
       "[36, 71, 107, 142, 178, 214, 249, 285, 320, 356]"
      ]
     },
     "execution_count": 141,
     "metadata": {},
     "output_type": "execute_result"
    }
   ],
   "source": [
    "milestones = [.1*len(test_corpus), .2*len(test_corpus), .3*len(test_corpus), .4*len(test_corpus), .5*len(test_corpus), .6*len(test_corpus), .7*len(test_corpus), \n",
    "             .8*len(test_corpus), .9*len(test_corpus), 1*len(test_corpus)]\n",
    "milestones = [round(x) for x in milestones]\n",
    "milestones"
   ]
  },
  {
   "cell_type": "code",
   "execution_count": 142,
   "id": "advanced-difficulty",
   "metadata": {},
   "outputs": [],
   "source": [
    "def get_data(test_corpus):\n",
    "    comparison = list()\n",
    "    start_time = time.time()\n",
    "    for ind, doc_id in enumerate(test_corpus):\n",
    "        \n",
    "        # see if milestone reached\n",
    "        if ind in milestones:\n",
    "            print('milestone reached: ', ind)\n",
    "            print(f'Time taken : {(time.time() - start_time) / 60:.2f} mins')\n",
    "        \n",
    "        # do for all test corpus and infer a vector from the model\n",
    "        inferred_vector = model.infer_vector(test_corpus[ind])\n",
    "        sims = model.docvecs.most_similar([inferred_vector], topn=2)\n",
    "\n",
    "        # Compare and print the most/median/least similar documents from the train corpus\n",
    "        actual = under_test.iloc[ind]['vulnerable']\n",
    "        actual_fun_name = under_test.iloc[ind]['fun_name']\n",
    "        actual_instr = under_test.iloc[ind]['fuzzy_instr']\n",
    "\n",
    "        i = sims[0][0]\n",
    "        predicted = under_train.iloc[i]['vulnerable']\n",
    "        predicted_fun_name = under_train.iloc[i]['fun_name']\n",
    "        predicted_instr = under_train.iloc[i]['fuzzy_instr']\n",
    "        \n",
    "        i = sims[1][0]\n",
    "        predicted_2 = under_train.iloc[i]['vulnerable']\n",
    "        predicted_fun_name_2 = under_train.iloc[i]['fun_name']\n",
    "        predicted_instr_2 = under_train.iloc[i]['fuzzy_instr']\n",
    "        \n",
    "        comparison.append([actual_fun_name, \n",
    "                           actual, \n",
    "                           actual_instr, \n",
    "                           predicted_fun_name, \n",
    "                           predicted, \n",
    "                           predicted_instr, \n",
    "                           predicted_fun_name_2, \n",
    "                           predicted_2, \n",
    "                           predicted_instr_2])\n",
    "\n",
    "    print(f'Time taken : {(time.time() - start_time) / 60:.2f} mins')\n",
    "    return comparison"
   ]
  },
  {
   "cell_type": "code",
   "execution_count": 143,
   "id": "analyzed-server",
   "metadata": {},
   "outputs": [
    {
     "name": "stdout",
     "output_type": "stream",
     "text": [
      "milestone reached:  36\n",
      "Time taken : 0.01 mins\n",
      "milestone reached:  71\n",
      "Time taken : 0.02 mins\n",
      "milestone reached:  107\n",
      "Time taken : 0.04 mins\n",
      "milestone reached:  142\n",
      "Time taken : 0.05 mins\n",
      "milestone reached:  178\n",
      "Time taken : 0.06 mins\n",
      "milestone reached:  214\n",
      "Time taken : 0.07 mins\n",
      "milestone reached:  249\n",
      "Time taken : 0.08 mins\n",
      "milestone reached:  285\n",
      "Time taken : 0.09 mins\n",
      "milestone reached:  320\n",
      "Time taken : 0.11 mins\n",
      "Time taken : 0.12 mins\n"
     ]
    }
   ],
   "source": [
    "comparison = get_data(test_corpus)"
   ]
  },
  {
   "cell_type": "code",
   "execution_count": 144,
   "id": "recovered-category",
   "metadata": {},
   "outputs": [],
   "source": [
    "comparison_df = pd.DataFrame(comparison, columns=['fun_name', 'actual', 'fuzzy_instr_act', 'closest_fun', 'prediction', 'fuzzy_instr_pred', '2nd_closest_fun', '2nd_prediction', '2nd_fuzzy_instr_pred'])"
   ]
  },
  {
   "cell_type": "code",
   "execution_count": 145,
   "id": "heavy-curve",
   "metadata": {},
   "outputs": [
    {
     "data": {
      "text/html": [
       "<div>\n",
       "<style scoped>\n",
       "    .dataframe tbody tr th:only-of-type {\n",
       "        vertical-align: middle;\n",
       "    }\n",
       "\n",
       "    .dataframe tbody tr th {\n",
       "        vertical-align: top;\n",
       "    }\n",
       "\n",
       "    .dataframe thead th {\n",
       "        text-align: right;\n",
       "    }\n",
       "</style>\n",
       "<table border=\"1\" class=\"dataframe\">\n",
       "  <thead>\n",
       "    <tr style=\"text-align: right;\">\n",
       "      <th></th>\n",
       "      <th>fun_name</th>\n",
       "      <th>actual</th>\n",
       "      <th>fuzzy_instr_act</th>\n",
       "      <th>closest_fun</th>\n",
       "      <th>prediction</th>\n",
       "      <th>fuzzy_instr_pred</th>\n",
       "      <th>2nd_closest_fun</th>\n",
       "      <th>2nd_prediction</th>\n",
       "      <th>2nd_fuzzy_instr_pred</th>\n",
       "    </tr>\n",
       "  </thead>\n",
       "  <tbody>\n",
       "    <tr>\n",
       "      <th>0</th>\n",
       "      <td>__invoke</td>\n",
       "      <td>False</td>\n",
       "      <td>push ebx push edi push esi sub esp num mov ebx...</td>\n",
       "      <td>__invoke</td>\n",
       "      <td>False</td>\n",
       "      <td>push ebx push edi push esi sub esp num mov ebx...</td>\n",
       "      <td>__invoke</td>\n",
       "      <td>False</td>\n",
       "      <td>push ebx push edi push esi sub esp num mov ebx...</td>\n",
       "    </tr>\n",
       "    <tr>\n",
       "      <th>1</th>\n",
       "      <td>FUN_0804a030</td>\n",
       "      <td>False</td>\n",
       "      <td>push addr jmp addr</td>\n",
       "      <td>DoubleLink</td>\n",
       "      <td>False</td>\n",
       "      <td>push ebp mov ebp esp mov eax ebp num mov ecx e...</td>\n",
       "      <td>cgc_alloc_txn_head</td>\n",
       "      <td>False</td>\n",
       "      <td>push ebp mov ebp esp sub esp num mov esp num c...</td>\n",
       "    </tr>\n",
       "    <tr>\n",
       "      <th>2</th>\n",
       "      <td>cgc_isupper</td>\n",
       "      <td>False</td>\n",
       "      <td>push ebp mov ebp esp push eax mov eax ebp num ...</td>\n",
       "      <td>cgc_isalpha</td>\n",
       "      <td>False</td>\n",
       "      <td>push ebp mov ebp esp push eax mov eax ebp num ...</td>\n",
       "      <td>cgc_isprint</td>\n",
       "      <td>False</td>\n",
       "      <td>push ebp mov ebp esp push eax mov eax ebp num ...</td>\n",
       "    </tr>\n",
       "    <tr>\n",
       "      <th>3</th>\n",
       "      <td>Name</td>\n",
       "      <td>True</td>\n",
       "      <td>push ebp mov ebp esp push esi sub esp num mov ...</td>\n",
       "      <td>ListFileNext</td>\n",
       "      <td>False</td>\n",
       "      <td>push ebp mov ebp esp push esi sub esp num mov ...</td>\n",
       "      <td>cgc_list_remove_node</td>\n",
       "      <td>False</td>\n",
       "      <td>push ebp mov ebp esp push esi sub esp num mov ...</td>\n",
       "    </tr>\n",
       "    <tr>\n",
       "      <th>4</th>\n",
       "      <td>cgc_addAirport</td>\n",
       "      <td>True</td>\n",
       "      <td>push ebp mov ebp esp push esi sub esp num mov ...</td>\n",
       "      <td>cgc_rmdir</td>\n",
       "      <td>False</td>\n",
       "      <td>push ebp mov ebp esp sub esp num mov eax ebp n...</td>\n",
       "      <td>cgc_merge_employee_records</td>\n",
       "      <td>True</td>\n",
       "      <td>push ebp mov ebp esp push edi push esi sub esp...</td>\n",
       "    </tr>\n",
       "    <tr>\n",
       "      <th>...</th>\n",
       "      <td>...</td>\n",
       "      <td>...</td>\n",
       "      <td>...</td>\n",
       "      <td>...</td>\n",
       "      <td>...</td>\n",
       "      <td>...</td>\n",
       "      <td>...</td>\n",
       "      <td>...</td>\n",
       "      <td>...</td>\n",
       "    </tr>\n",
       "    <tr>\n",
       "      <th>351</th>\n",
       "      <td>__invoke</td>\n",
       "      <td>False</td>\n",
       "      <td>push edi push esi sub esp num mov eax esp num ...</td>\n",
       "      <td>__invoke</td>\n",
       "      <td>False</td>\n",
       "      <td>push edi push esi sub esp num mov eax esp num ...</td>\n",
       "      <td>__invoke</td>\n",
       "      <td>False</td>\n",
       "      <td>push edi push esi sub esp num mov eax esp num ...</td>\n",
       "    </tr>\n",
       "    <tr>\n",
       "      <th>352</th>\n",
       "      <td>cgc_strncasecmp</td>\n",
       "      <td>False</td>\n",
       "      <td>push ebp mov ebp esp push edi push esi sub esp...</td>\n",
       "      <td>cgc_L2_RxFrame</td>\n",
       "      <td>True</td>\n",
       "      <td>push ebp mov ebp esp push edi push esi sub esp...</td>\n",
       "      <td>cgc_L2_RxFrame</td>\n",
       "      <td>True</td>\n",
       "      <td>push ebp mov ebp esp push edi push esi sub esp...</td>\n",
       "    </tr>\n",
       "    <tr>\n",
       "      <th>353</th>\n",
       "      <td>cgc_process_hypernutritionmarae</td>\n",
       "      <td>True</td>\n",
       "      <td>push ebp mov ebp esp push esi sub esp num mov ...</td>\n",
       "      <td>cgc_process_Slovenerecure</td>\n",
       "      <td>True</td>\n",
       "      <td>push ebp mov ebp esp push esi sub esp num mov ...</td>\n",
       "      <td>cgc_process_nowhitoffscape</td>\n",
       "      <td>True</td>\n",
       "      <td>push ebp mov ebp esp push esi sub esp num mov ...</td>\n",
       "    </tr>\n",
       "    <tr>\n",
       "      <th>354</th>\n",
       "      <td>runMetadata</td>\n",
       "      <td>True</td>\n",
       "      <td>push ebp push ebx push edi push esi sub esp nu...</td>\n",
       "      <td>cgc_tolower</td>\n",
       "      <td>False</td>\n",
       "      <td>push ebp mov ebp esp sub esp num mov eax ebp n...</td>\n",
       "      <td>put</td>\n",
       "      <td>False</td>\n",
       "      <td>push ebp mov ebp esp sub esp num mov al ebp nu...</td>\n",
       "    </tr>\n",
       "    <tr>\n",
       "      <th>355</th>\n",
       "      <td>registerOps</td>\n",
       "      <td>False</td>\n",
       "      <td>push edi push esi sub esp num mov eax esp num ...</td>\n",
       "      <td>__invoke</td>\n",
       "      <td>False</td>\n",
       "      <td>push edi push esi push eax mov esi esp num mov...</td>\n",
       "      <td>Recv</td>\n",
       "      <td>False</td>\n",
       "      <td>push edi push esi sub esp num mov edi esp num ...</td>\n",
       "    </tr>\n",
       "  </tbody>\n",
       "</table>\n",
       "<p>356 rows × 9 columns</p>\n",
       "</div>"
      ],
      "text/plain": [
       "                            fun_name  actual  \\\n",
       "0                           __invoke   False   \n",
       "1                       FUN_0804a030   False   \n",
       "2                        cgc_isupper   False   \n",
       "3                               Name    True   \n",
       "4                     cgc_addAirport    True   \n",
       "..                               ...     ...   \n",
       "351                         __invoke   False   \n",
       "352                  cgc_strncasecmp   False   \n",
       "353  cgc_process_hypernutritionmarae    True   \n",
       "354                      runMetadata    True   \n",
       "355                      registerOps   False   \n",
       "\n",
       "                                       fuzzy_instr_act  \\\n",
       "0    push ebx push edi push esi sub esp num mov ebx...   \n",
       "1                                   push addr jmp addr   \n",
       "2    push ebp mov ebp esp push eax mov eax ebp num ...   \n",
       "3    push ebp mov ebp esp push esi sub esp num mov ...   \n",
       "4    push ebp mov ebp esp push esi sub esp num mov ...   \n",
       "..                                                 ...   \n",
       "351  push edi push esi sub esp num mov eax esp num ...   \n",
       "352  push ebp mov ebp esp push edi push esi sub esp...   \n",
       "353  push ebp mov ebp esp push esi sub esp num mov ...   \n",
       "354  push ebp push ebx push edi push esi sub esp nu...   \n",
       "355  push edi push esi sub esp num mov eax esp num ...   \n",
       "\n",
       "                   closest_fun  prediction  \\\n",
       "0                     __invoke       False   \n",
       "1                   DoubleLink       False   \n",
       "2                  cgc_isalpha       False   \n",
       "3                 ListFileNext       False   \n",
       "4                    cgc_rmdir       False   \n",
       "..                         ...         ...   \n",
       "351                   __invoke       False   \n",
       "352             cgc_L2_RxFrame        True   \n",
       "353  cgc_process_Slovenerecure        True   \n",
       "354                cgc_tolower       False   \n",
       "355                   __invoke       False   \n",
       "\n",
       "                                      fuzzy_instr_pred  \\\n",
       "0    push ebx push edi push esi sub esp num mov ebx...   \n",
       "1    push ebp mov ebp esp mov eax ebp num mov ecx e...   \n",
       "2    push ebp mov ebp esp push eax mov eax ebp num ...   \n",
       "3    push ebp mov ebp esp push esi sub esp num mov ...   \n",
       "4    push ebp mov ebp esp sub esp num mov eax ebp n...   \n",
       "..                                                 ...   \n",
       "351  push edi push esi sub esp num mov eax esp num ...   \n",
       "352  push ebp mov ebp esp push edi push esi sub esp...   \n",
       "353  push ebp mov ebp esp push esi sub esp num mov ...   \n",
       "354  push ebp mov ebp esp sub esp num mov eax ebp n...   \n",
       "355  push edi push esi push eax mov esi esp num mov...   \n",
       "\n",
       "                2nd_closest_fun  2nd_prediction  \\\n",
       "0                      __invoke           False   \n",
       "1            cgc_alloc_txn_head           False   \n",
       "2                   cgc_isprint           False   \n",
       "3          cgc_list_remove_node           False   \n",
       "4    cgc_merge_employee_records            True   \n",
       "..                          ...             ...   \n",
       "351                    __invoke           False   \n",
       "352              cgc_L2_RxFrame            True   \n",
       "353  cgc_process_nowhitoffscape            True   \n",
       "354                         put           False   \n",
       "355                        Recv           False   \n",
       "\n",
       "                                  2nd_fuzzy_instr_pred  \n",
       "0    push ebx push edi push esi sub esp num mov ebx...  \n",
       "1    push ebp mov ebp esp sub esp num mov esp num c...  \n",
       "2    push ebp mov ebp esp push eax mov eax ebp num ...  \n",
       "3    push ebp mov ebp esp push esi sub esp num mov ...  \n",
       "4    push ebp mov ebp esp push edi push esi sub esp...  \n",
       "..                                                 ...  \n",
       "351  push edi push esi sub esp num mov eax esp num ...  \n",
       "352  push ebp mov ebp esp push edi push esi sub esp...  \n",
       "353  push ebp mov ebp esp push esi sub esp num mov ...  \n",
       "354  push ebp mov ebp esp sub esp num mov al ebp nu...  \n",
       "355  push edi push esi sub esp num mov edi esp num ...  \n",
       "\n",
       "[356 rows x 9 columns]"
      ]
     },
     "execution_count": 145,
     "metadata": {},
     "output_type": "execute_result"
    }
   ],
   "source": [
    "comparison_df"
   ]
  },
  {
   "cell_type": "code",
   "execution_count": 146,
   "id": "dirty-liberal",
   "metadata": {},
   "outputs": [
    {
     "data": {
      "text/plain": [
       "'/Volumes/Research/VulnerabilityDatasets/Vulnerability_datasets/code/ghidra/ghidra_extractions-main'"
      ]
     },
     "execution_count": 146,
     "metadata": {},
     "output_type": "execute_result"
    }
   ],
   "source": [
    "path"
   ]
  },
  {
   "cell_type": "code",
   "execution_count": 147,
   "id": "premier-footage",
   "metadata": {},
   "outputs": [],
   "source": [
    "comparison_df.to_csv(path+'/d2v_cbmultios_finaltest_df/cbmultios_d2v_under_all.csv')"
   ]
  },
  {
   "cell_type": "markdown",
   "id": "clear-obligation",
   "metadata": {},
   "source": [
    "### Metrics"
   ]
  },
  {
   "cell_type": "code",
   "execution_count": 148,
   "id": "crucial-assurance",
   "metadata": {},
   "outputs": [],
   "source": [
    "def metrics(df_confusion):\n",
    "    stats_list = list()\n",
    "\n",
    "    fn = df_confusion[0][1]\n",
    "    tp = df_confusion[1][1]\n",
    "    tn = df_confusion[0][0]\n",
    "    fp = df_confusion[1][0]\n",
    "    accuracy = (tp+tn)/(tp+fp+fn+tn)\n",
    "    precision = tp/(tp+fp)\n",
    "    recall = tp/(tp+fn)\n",
    "    fpr = fp / (fp+tn)\n",
    "    fnr = fn / (tp +fn)\n",
    "    f1 = (2*precision*recall)/(precision+recall)\n",
    "    stats_list.append([fn,tp,tn,fp,accuracy,precision,recall,fpr,fnr,f1])\n",
    "    return stats_list"
   ]
  },
  {
   "cell_type": "code",
   "execution_count": 154,
   "id": "peripheral-screening",
   "metadata": {},
   "outputs": [],
   "source": [
    "def get_results(df): \n",
    "    y_actu = pd.Series(df['actual'], name='Actual')\n",
    "    y_pred = pd.Series(df['2nd_prediction'], name='Predicted')\n",
    "    df_confusion = pd.crosstab(y_actu, y_pred)\n",
    "    metrics(df_confusion)\n",
    "    return df_confusion"
   ]
  },
  {
   "cell_type": "code",
   "execution_count": 150,
   "id": "perfect-beijing",
   "metadata": {},
   "outputs": [],
   "source": [
    "def save_df(df, dir_name, model_info):\n",
    "    directory = path + dir_name + '/'\n",
    "    today = str(date.today())\n",
    "    full = directory+model_info+'_'+today+'.csv'\n",
    "    df.to_csv(full)"
   ]
  },
  {
   "cell_type": "code",
   "execution_count": 153,
   "id": "mineral-pulse",
   "metadata": {},
   "outputs": [],
   "source": [
    "def save_stats(df):\n",
    "    df_confusion = get_results(df)\n",
    "    print(df_confusion)\n",
    "    stats_list = metrics(df_confusion)\n",
    "    stats_df = pd.DataFrame(stats_list, columns=['fn','tp','tn','fp','accuracy','precision','recall','fpr','fnr','f1'])\n",
    "    save_df(stats_df, '/cbmultios_metrics', 'cbmultios_d2v_under_secondchoice_stats')\n",
    "    return stats_df"
   ]
  },
  {
   "cell_type": "code",
   "execution_count": 152,
   "id": "gorgeous-winning",
   "metadata": {},
   "outputs": [
    {
     "name": "stdout",
     "output_type": "stream",
     "text": [
      "Predicted  False  True \n",
      "Actual                 \n",
      "False        145     23\n",
      "True          41    147\n"
     ]
    },
    {
     "data": {
      "text/html": [
       "<div>\n",
       "<style scoped>\n",
       "    .dataframe tbody tr th:only-of-type {\n",
       "        vertical-align: middle;\n",
       "    }\n",
       "\n",
       "    .dataframe tbody tr th {\n",
       "        vertical-align: top;\n",
       "    }\n",
       "\n",
       "    .dataframe thead th {\n",
       "        text-align: right;\n",
       "    }\n",
       "</style>\n",
       "<table border=\"1\" class=\"dataframe\">\n",
       "  <thead>\n",
       "    <tr style=\"text-align: right;\">\n",
       "      <th></th>\n",
       "      <th>fn</th>\n",
       "      <th>tp</th>\n",
       "      <th>tn</th>\n",
       "      <th>fp</th>\n",
       "      <th>accuracy</th>\n",
       "      <th>precision</th>\n",
       "      <th>recall</th>\n",
       "      <th>fpr</th>\n",
       "      <th>fnr</th>\n",
       "      <th>f1</th>\n",
       "    </tr>\n",
       "  </thead>\n",
       "  <tbody>\n",
       "    <tr>\n",
       "      <th>0</th>\n",
       "      <td>41</td>\n",
       "      <td>147</td>\n",
       "      <td>145</td>\n",
       "      <td>23</td>\n",
       "      <td>0.820225</td>\n",
       "      <td>0.864706</td>\n",
       "      <td>0.781915</td>\n",
       "      <td>0.136905</td>\n",
       "      <td>0.218085</td>\n",
       "      <td>0.821229</td>\n",
       "    </tr>\n",
       "  </tbody>\n",
       "</table>\n",
       "</div>"
      ],
      "text/plain": [
       "   fn   tp   tn  fp  accuracy  precision    recall       fpr       fnr  \\\n",
       "0  41  147  145  23  0.820225   0.864706  0.781915  0.136905  0.218085   \n",
       "\n",
       "         f1  \n",
       "0  0.821229  "
      ]
     },
     "execution_count": 152,
     "metadata": {},
     "output_type": "execute_result"
    }
   ],
   "source": [
    "first_prediction_df = save_stats(comparison_df)\n",
    "first_prediction_df"
   ]
  },
  {
   "cell_type": "code",
   "execution_count": 155,
   "id": "sharp-potato",
   "metadata": {},
   "outputs": [
    {
     "name": "stdout",
     "output_type": "stream",
     "text": [
      "Predicted  False  True \n",
      "Actual                 \n",
      "False        138     30\n",
      "True          49    139\n"
     ]
    },
    {
     "data": {
      "text/html": [
       "<div>\n",
       "<style scoped>\n",
       "    .dataframe tbody tr th:only-of-type {\n",
       "        vertical-align: middle;\n",
       "    }\n",
       "\n",
       "    .dataframe tbody tr th {\n",
       "        vertical-align: top;\n",
       "    }\n",
       "\n",
       "    .dataframe thead th {\n",
       "        text-align: right;\n",
       "    }\n",
       "</style>\n",
       "<table border=\"1\" class=\"dataframe\">\n",
       "  <thead>\n",
       "    <tr style=\"text-align: right;\">\n",
       "      <th></th>\n",
       "      <th>fn</th>\n",
       "      <th>tp</th>\n",
       "      <th>tn</th>\n",
       "      <th>fp</th>\n",
       "      <th>accuracy</th>\n",
       "      <th>precision</th>\n",
       "      <th>recall</th>\n",
       "      <th>fpr</th>\n",
       "      <th>fnr</th>\n",
       "      <th>f1</th>\n",
       "    </tr>\n",
       "  </thead>\n",
       "  <tbody>\n",
       "    <tr>\n",
       "      <th>0</th>\n",
       "      <td>49</td>\n",
       "      <td>139</td>\n",
       "      <td>138</td>\n",
       "      <td>30</td>\n",
       "      <td>0.77809</td>\n",
       "      <td>0.822485</td>\n",
       "      <td>0.739362</td>\n",
       "      <td>0.178571</td>\n",
       "      <td>0.260638</td>\n",
       "      <td>0.778711</td>\n",
       "    </tr>\n",
       "  </tbody>\n",
       "</table>\n",
       "</div>"
      ],
      "text/plain": [
       "   fn   tp   tn  fp  accuracy  precision    recall       fpr       fnr  \\\n",
       "0  49  139  138  30   0.77809   0.822485  0.739362  0.178571  0.260638   \n",
       "\n",
       "         f1  \n",
       "0  0.778711  "
      ]
     },
     "execution_count": 155,
     "metadata": {},
     "output_type": "execute_result"
    }
   ],
   "source": [
    "second_prediction_df = save_stats(comparison_df)\n",
    "second_prediction_df"
   ]
  },
  {
   "cell_type": "markdown",
   "id": "appreciated-egyptian",
   "metadata": {},
   "source": [
    "## Using Random Oversampled Dataset"
   ]
  },
  {
   "cell_type": "code",
   "execution_count": 3,
   "id": "multiple-polyester",
   "metadata": {},
   "outputs": [],
   "source": [
    "over_train_txt = path+'/final_dfs_for_reference/cbmultios_over_train_25April2021.txt'"
   ]
  },
  {
   "cell_type": "code",
   "execution_count": 4,
   "id": "final-holly",
   "metadata": {},
   "outputs": [],
   "source": [
    "over_test_txt = path+'/final_dfs_for_reference/cbmultios_over_test_25April2021.txt'"
   ]
  },
  {
   "cell_type": "code",
   "execution_count": 7,
   "id": "motivated-remains",
   "metadata": {},
   "outputs": [
    {
     "name": "stdout",
     "output_type": "stream",
     "text": [
      "CPU times: user 5min 44s, sys: 1min 22s, total: 7min 7s\n",
      "Wall time: 7min 17s\n"
     ]
    }
   ],
   "source": [
    "%%time\n",
    "train_corpus = list(read_corpus(over_train_txt))"
   ]
  },
  {
   "cell_type": "code",
   "execution_count": 8,
   "id": "miniature-novel",
   "metadata": {},
   "outputs": [
    {
     "name": "stdout",
     "output_type": "stream",
     "text": [
      "CPU times: user 1min 22s, sys: 2.64 s, total: 1min 25s\n",
      "Wall time: 1min 26s\n"
     ]
    }
   ],
   "source": [
    "%%time\n",
    "test_corpus = list(read_corpus(over_test_txt, tokens_only=True))"
   ]
  },
  {
   "cell_type": "code",
   "execution_count": 9,
   "id": "legitimate-suspect",
   "metadata": {},
   "outputs": [
    {
     "data": {
      "text/plain": [
       "218947"
      ]
     },
     "execution_count": 9,
     "metadata": {},
     "output_type": "execute_result"
    }
   ],
   "source": [
    "len(train_corpus)"
   ]
  },
  {
   "cell_type": "code",
   "execution_count": 10,
   "id": "legal-progressive",
   "metadata": {},
   "outputs": [
    {
     "data": {
      "text/plain": [
       "54737"
      ]
     },
     "execution_count": 10,
     "metadata": {},
     "output_type": "execute_result"
    }
   ],
   "source": [
    "len(test_corpus)"
   ]
  },
  {
   "cell_type": "markdown",
   "id": "minute-spotlight",
   "metadata": {},
   "source": [
    "### Create a D2V Model"
   ]
  },
  {
   "cell_type": "code",
   "execution_count": 11,
   "id": "multiple-biography",
   "metadata": {},
   "outputs": [],
   "source": [
    "model = gensim.models.doc2vec.Doc2Vec(vector_size=100, min_count=2, epochs=40)"
   ]
  },
  {
   "cell_type": "code",
   "execution_count": 12,
   "id": "impossible-scroll",
   "metadata": {},
   "outputs": [
    {
     "name": "stdout",
     "output_type": "stream",
     "text": [
      "CPU times: user 1min 28s, sys: 21.1 s, total: 1min 49s\n",
      "Wall time: 2min 7s\n"
     ]
    }
   ],
   "source": [
    "%%time\n",
    "model.build_vocab(train_corpus)"
   ]
  },
  {
   "cell_type": "code",
   "execution_count": 13,
   "id": "distinguished-starter",
   "metadata": {},
   "outputs": [
    {
     "name": "stdout",
     "output_type": "stream",
     "text": [
      "CPU times: user 1h 23min 30s, sys: 19min 33s, total: 1h 43min 3s\n",
      "Wall time: 1h 5min 52s\n"
     ]
    }
   ],
   "source": [
    "%%time\n",
    "model.train(train_corpus, total_examples=model.corpus_count, epochs=model.epochs)"
   ]
  },
  {
   "cell_type": "markdown",
   "id": "contrary-purple",
   "metadata": {},
   "source": [
    "#### save model to disk"
   ]
  },
  {
   "cell_type": "code",
   "execution_count": 14,
   "id": "geological-collective",
   "metadata": {},
   "outputs": [],
   "source": [
    "model.save(path+'doc2vecModel_over_26April21')"
   ]
  },
  {
   "cell_type": "markdown",
   "id": "liberal-samba",
   "metadata": {},
   "source": [
    "### Test The Model"
   ]
  },
  {
   "cell_type": "code",
   "execution_count": 19,
   "id": "warming-graduate",
   "metadata": {},
   "outputs": [],
   "source": [
    "over_train = pd.read_csv(path+'/final_dfs_for_reference/cbmultios_over_train_25April2021.csv', index_col=[0])"
   ]
  },
  {
   "cell_type": "code",
   "execution_count": 20,
   "id": "infrared-pencil",
   "metadata": {},
   "outputs": [],
   "source": [
    "over_test = pd.read_csv(path+'/final_dfs_for_reference/cbmultios_over_test_25April2021.csv', index_col=[0])"
   ]
  },
  {
   "cell_type": "code",
   "execution_count": 28,
   "id": "capable-perfume",
   "metadata": {},
   "outputs": [],
   "source": [
    "over_train = over_train.reset_index(drop=True)"
   ]
  },
  {
   "cell_type": "code",
   "execution_count": 26,
   "id": "normal-yesterday",
   "metadata": {},
   "outputs": [],
   "source": [
    "over_test = over_test.reset_index(drop=True)"
   ]
  },
  {
   "cell_type": "markdown",
   "id": "several-mills",
   "metadata": {},
   "source": [
    "#### Use the test set set to test the model"
   ]
  },
  {
   "cell_type": "code",
   "execution_count": 15,
   "id": "driving-tobacco",
   "metadata": {},
   "outputs": [
    {
     "data": {
      "text/plain": [
       "[5474, 10947, 16421, 21895, 27368, 32842, 38316, 43790, 49263, 54737]"
      ]
     },
     "execution_count": 15,
     "metadata": {},
     "output_type": "execute_result"
    }
   ],
   "source": [
    "milestones = [.1*len(test_corpus), .2*len(test_corpus), .3*len(test_corpus), .4*len(test_corpus), .5*len(test_corpus), .6*len(test_corpus), .7*len(test_corpus), \n",
    "             .8*len(test_corpus), .9*len(test_corpus), 1*len(test_corpus)]\n",
    "milestones = [round(x) for x in milestones]\n",
    "milestones"
   ]
  },
  {
   "cell_type": "code",
   "execution_count": 29,
   "id": "interim-change",
   "metadata": {},
   "outputs": [],
   "source": [
    "def get_data(test_corpus):\n",
    "    comparison = list()\n",
    "    start_time = time.time()\n",
    "    for ind, doc_id in enumerate(test_corpus):\n",
    "        \n",
    "        # see if milestone reached\n",
    "        if ind in milestones:\n",
    "            print('milestone reached: ', ind)\n",
    "            print(f'Time taken : {(time.time() - start_time) / 60:.2f} mins')\n",
    "        \n",
    "        # do for all test corpus and infer a vector from the model\n",
    "        inferred_vector = model.infer_vector(test_corpus[ind])\n",
    "        sims = model.docvecs.most_similar([inferred_vector], topn=2)\n",
    "\n",
    "        # Compare and print the most/median/least similar documents from the train corpus\n",
    "        actual = over_test.iloc[ind]['vulnerable']\n",
    "        actual_fun_name = over_test.iloc[ind]['fun_name']\n",
    "        actual_instr = over_test.iloc[ind]['fuzzy_instr']\n",
    "\n",
    "        i = sims[0][0]\n",
    "        predicted = over_train.iloc[i]['vulnerable']\n",
    "        predicted_fun_name = over_train.iloc[i]['fun_name']\n",
    "        predicted_instr = over_train.iloc[i]['fuzzy_instr']\n",
    "        \n",
    "        i = sims[1][0]\n",
    "        predicted_2 = over_train.iloc[i]['vulnerable']\n",
    "        predicted_fun_name_2 = over_train.iloc[i]['fun_name']\n",
    "        predicted_instr_2 = over_train.iloc[i]['fuzzy_instr']\n",
    "        \n",
    "        comparison.append([actual_fun_name, \n",
    "                           actual, \n",
    "                           actual_instr, \n",
    "                           predicted_fun_name, \n",
    "                           predicted, \n",
    "                           predicted_instr, \n",
    "                           predicted_fun_name_2, \n",
    "                           predicted_2, \n",
    "                           predicted_instr_2])\n",
    "\n",
    "    print(f'Time taken : {(time.time() - start_time) / 60:.2f} mins')\n",
    "    return comparison"
   ]
  },
  {
   "cell_type": "code",
   "execution_count": 30,
   "id": "disciplinary-tolerance",
   "metadata": {},
   "outputs": [
    {
     "name": "stdout",
     "output_type": "stream",
     "text": [
      "milestone reached:  5474\n",
      "Time taken : 2.08 mins\n",
      "milestone reached:  10947\n",
      "Time taken : 4.13 mins\n",
      "milestone reached:  16421\n",
      "Time taken : 6.22 mins\n",
      "milestone reached:  21895\n",
      "Time taken : 8.32 mins\n",
      "milestone reached:  27368\n",
      "Time taken : 10.43 mins\n",
      "milestone reached:  32842\n",
      "Time taken : 12.54 mins\n",
      "milestone reached:  38316\n",
      "Time taken : 19.71 mins\n",
      "milestone reached:  43790\n",
      "Time taken : 21.78 mins\n",
      "milestone reached:  49263\n",
      "Time taken : 23.87 mins\n",
      "Time taken : 26.01 mins\n"
     ]
    }
   ],
   "source": [
    "comparison = get_data(test_corpus)"
   ]
  },
  {
   "cell_type": "code",
   "execution_count": 31,
   "id": "cleared-mouth",
   "metadata": {},
   "outputs": [],
   "source": [
    "comparison_df = pd.DataFrame(comparison, columns=['fun_name', 'actual', 'fuzzy_instr_act', 'closest_fun', 'prediction', 'fuzzy_instr_pred', '2nd_closest_fun', '2nd_prediction', '2nd_fuzzy_instr_pred'])"
   ]
  },
  {
   "cell_type": "code",
   "execution_count": 32,
   "id": "pretty-person",
   "metadata": {},
   "outputs": [
    {
     "data": {
      "text/html": [
       "<div>\n",
       "<style scoped>\n",
       "    .dataframe tbody tr th:only-of-type {\n",
       "        vertical-align: middle;\n",
       "    }\n",
       "\n",
       "    .dataframe tbody tr th {\n",
       "        vertical-align: top;\n",
       "    }\n",
       "\n",
       "    .dataframe thead th {\n",
       "        text-align: right;\n",
       "    }\n",
       "</style>\n",
       "<table border=\"1\" class=\"dataframe\">\n",
       "  <thead>\n",
       "    <tr style=\"text-align: right;\">\n",
       "      <th></th>\n",
       "      <th>fun_name</th>\n",
       "      <th>actual</th>\n",
       "      <th>fuzzy_instr_act</th>\n",
       "      <th>closest_fun</th>\n",
       "      <th>prediction</th>\n",
       "      <th>fuzzy_instr_pred</th>\n",
       "      <th>2nd_closest_fun</th>\n",
       "      <th>2nd_prediction</th>\n",
       "      <th>2nd_fuzzy_instr_pred</th>\n",
       "    </tr>\n",
       "  </thead>\n",
       "  <tbody>\n",
       "    <tr>\n",
       "      <th>0</th>\n",
       "      <td>cgc_seed_prng_array</td>\n",
       "      <td>False</td>\n",
       "      <td>push ebp mov ebp esp sub esp num mov eax ebp n...</td>\n",
       "      <td>__invoke</td>\n",
       "      <td>False</td>\n",
       "      <td>push edi push esi sub esp num mov eax esp num ...</td>\n",
       "      <td>cgc_seed_prng_array</td>\n",
       "      <td>False</td>\n",
       "      <td>push ebp mov ebp esp sub esp num mov eax ebp n...</td>\n",
       "    </tr>\n",
       "    <tr>\n",
       "      <th>1</th>\n",
       "      <td>cgc_process_monodromiclyretail</td>\n",
       "      <td>True</td>\n",
       "      <td>push ebp mov ebp esp push esi sub esp num mov ...</td>\n",
       "      <td>cgc_process_crouchingpurebred</td>\n",
       "      <td>True</td>\n",
       "      <td>push ebp mov ebp esp push esi sub esp num mov ...</td>\n",
       "      <td>cgc_process_hanginglypoethood</td>\n",
       "      <td>True</td>\n",
       "      <td>push ebp mov ebp esp push esi sub esp num mov ...</td>\n",
       "    </tr>\n",
       "    <tr>\n",
       "      <th>2</th>\n",
       "      <td>cgc_insert_stock</td>\n",
       "      <td>True</td>\n",
       "      <td>push ebp mov ebp esp push esi sub esp num mov ...</td>\n",
       "      <td>operator\"\"_T</td>\n",
       "      <td>False</td>\n",
       "      <td>push esi mov eax esp num mov ecx esp num mov e...</td>\n",
       "      <td>Recv</td>\n",
       "      <td>False</td>\n",
       "      <td>push edi push esi sub esp num mov edi esp num ...</td>\n",
       "    </tr>\n",
       "    <tr>\n",
       "      <th>3</th>\n",
       "      <td>push_back</td>\n",
       "      <td>False</td>\n",
       "      <td>push ebp mov ebp esp push edi push esi sub esp...</td>\n",
       "      <td>cgc_memmove</td>\n",
       "      <td>False</td>\n",
       "      <td>push ebp mov ebp esp push esi sub esp num mov ...</td>\n",
       "      <td>length</td>\n",
       "      <td>False</td>\n",
       "      <td>push ebp mov ebp esp push eax mov eax ebp num ...</td>\n",
       "    </tr>\n",
       "    <tr>\n",
       "      <th>4</th>\n",
       "      <td>cgc_remove</td>\n",
       "      <td>True</td>\n",
       "      <td>push ebp mov ebp esp mov eax ebp num mov ecx e...</td>\n",
       "      <td>__invoke</td>\n",
       "      <td>False</td>\n",
       "      <td>mov eax esp num mov eax num mov eax num num mo...</td>\n",
       "      <td>__invoke</td>\n",
       "      <td>False</td>\n",
       "      <td>mov eax esp num mov eax num mov eax num num mo...</td>\n",
       "    </tr>\n",
       "    <tr>\n",
       "      <th>...</th>\n",
       "      <td>...</td>\n",
       "      <td>...</td>\n",
       "      <td>...</td>\n",
       "      <td>...</td>\n",
       "      <td>...</td>\n",
       "      <td>...</td>\n",
       "      <td>...</td>\n",
       "      <td>...</td>\n",
       "      <td>...</td>\n",
       "    </tr>\n",
       "    <tr>\n",
       "      <th>54732</th>\n",
       "      <td>cgc_memmove</td>\n",
       "      <td>False</td>\n",
       "      <td>push ebp mov ebp esp push esi sub esp num mov ...</td>\n",
       "      <td>cgc_memmove</td>\n",
       "      <td>False</td>\n",
       "      <td>push ebp mov ebp esp push esi sub esp num mov ...</td>\n",
       "      <td>cgc_memmove</td>\n",
       "      <td>False</td>\n",
       "      <td>push ebp mov ebp esp push esi sub esp num mov ...</td>\n",
       "    </tr>\n",
       "    <tr>\n",
       "      <th>54733</th>\n",
       "      <td>cgc_hash_seed</td>\n",
       "      <td>False</td>\n",
       "      <td>push ebp mov ebp esp sub esp num mov eax ebp n...</td>\n",
       "      <td>register_tm_clones</td>\n",
       "      <td>False</td>\n",
       "      <td>mov eax addr sub eax addr mov edx eax shr eax ...</td>\n",
       "      <td>cgc_strlen</td>\n",
       "      <td>False</td>\n",
       "      <td>push ebp mov ebp esp push eax mov eax ebp num ...</td>\n",
       "    </tr>\n",
       "    <tr>\n",
       "      <th>54734</th>\n",
       "      <td>cgc_delete_message</td>\n",
       "      <td>True</td>\n",
       "      <td>push ebp mov ebp esp sub esp num mov eax ebp n...</td>\n",
       "      <td>readnum</td>\n",
       "      <td>True</td>\n",
       "      <td>push ebp mov ebp esp sub esp num mov eax ebp n...</td>\n",
       "      <td>cgc_strlen</td>\n",
       "      <td>False</td>\n",
       "      <td>push ebp mov ebp esp sub esp num mov eax ebp n...</td>\n",
       "    </tr>\n",
       "    <tr>\n",
       "      <th>54735</th>\n",
       "      <td>Usage</td>\n",
       "      <td>False</td>\n",
       "      <td>push ebp mov ebp esp push eax mov eax ebp num ...</td>\n",
       "      <td>GetType</td>\n",
       "      <td>False</td>\n",
       "      <td>push ebp mov ebp esp push eax mov eax ebp num ...</td>\n",
       "      <td>GetType</td>\n",
       "      <td>False</td>\n",
       "      <td>push ebp mov ebp esp push eax mov eax ebp num ...</td>\n",
       "    </tr>\n",
       "    <tr>\n",
       "      <th>54736</th>\n",
       "      <td>cgc_tolower</td>\n",
       "      <td>False</td>\n",
       "      <td>mov eax esp num cmp eax num ja addr lea ecx ea...</td>\n",
       "      <td>cgc_tolower</td>\n",
       "      <td>False</td>\n",
       "      <td>mov eax esp num cmp eax num ja addr lea ecx ea...</td>\n",
       "      <td>cgc_islower</td>\n",
       "      <td>False</td>\n",
       "      <td>mov ecx esp num xor eax eax cmp ecx num ja add...</td>\n",
       "    </tr>\n",
       "  </tbody>\n",
       "</table>\n",
       "<p>54737 rows × 9 columns</p>\n",
       "</div>"
      ],
      "text/plain": [
       "                             fun_name  actual  \\\n",
       "0                 cgc_seed_prng_array   False   \n",
       "1      cgc_process_monodromiclyretail    True   \n",
       "2                    cgc_insert_stock    True   \n",
       "3                           push_back   False   \n",
       "4                          cgc_remove    True   \n",
       "...                               ...     ...   \n",
       "54732                     cgc_memmove   False   \n",
       "54733                   cgc_hash_seed   False   \n",
       "54734              cgc_delete_message    True   \n",
       "54735                           Usage   False   \n",
       "54736                     cgc_tolower   False   \n",
       "\n",
       "                                         fuzzy_instr_act  \\\n",
       "0      push ebp mov ebp esp sub esp num mov eax ebp n...   \n",
       "1      push ebp mov ebp esp push esi sub esp num mov ...   \n",
       "2      push ebp mov ebp esp push esi sub esp num mov ...   \n",
       "3      push ebp mov ebp esp push edi push esi sub esp...   \n",
       "4      push ebp mov ebp esp mov eax ebp num mov ecx e...   \n",
       "...                                                  ...   \n",
       "54732  push ebp mov ebp esp push esi sub esp num mov ...   \n",
       "54733  push ebp mov ebp esp sub esp num mov eax ebp n...   \n",
       "54734  push ebp mov ebp esp sub esp num mov eax ebp n...   \n",
       "54735  push ebp mov ebp esp push eax mov eax ebp num ...   \n",
       "54736  mov eax esp num cmp eax num ja addr lea ecx ea...   \n",
       "\n",
       "                         closest_fun  prediction  \\\n",
       "0                           __invoke       False   \n",
       "1      cgc_process_crouchingpurebred        True   \n",
       "2                       operator\"\"_T       False   \n",
       "3                        cgc_memmove       False   \n",
       "4                           __invoke       False   \n",
       "...                              ...         ...   \n",
       "54732                    cgc_memmove       False   \n",
       "54733             register_tm_clones       False   \n",
       "54734                        readnum        True   \n",
       "54735                        GetType       False   \n",
       "54736                    cgc_tolower       False   \n",
       "\n",
       "                                        fuzzy_instr_pred  \\\n",
       "0      push edi push esi sub esp num mov eax esp num ...   \n",
       "1      push ebp mov ebp esp push esi sub esp num mov ...   \n",
       "2      push esi mov eax esp num mov ecx esp num mov e...   \n",
       "3      push ebp mov ebp esp push esi sub esp num mov ...   \n",
       "4      mov eax esp num mov eax num mov eax num num mo...   \n",
       "...                                                  ...   \n",
       "54732  push ebp mov ebp esp push esi sub esp num mov ...   \n",
       "54733  mov eax addr sub eax addr mov edx eax shr eax ...   \n",
       "54734  push ebp mov ebp esp sub esp num mov eax ebp n...   \n",
       "54735  push ebp mov ebp esp push eax mov eax ebp num ...   \n",
       "54736  mov eax esp num cmp eax num ja addr lea ecx ea...   \n",
       "\n",
       "                     2nd_closest_fun  2nd_prediction  \\\n",
       "0                cgc_seed_prng_array           False   \n",
       "1      cgc_process_hanginglypoethood            True   \n",
       "2                               Recv           False   \n",
       "3                             length           False   \n",
       "4                           __invoke           False   \n",
       "...                              ...             ...   \n",
       "54732                    cgc_memmove           False   \n",
       "54733                     cgc_strlen           False   \n",
       "54734                     cgc_strlen           False   \n",
       "54735                        GetType           False   \n",
       "54736                    cgc_islower           False   \n",
       "\n",
       "                                    2nd_fuzzy_instr_pred  \n",
       "0      push ebp mov ebp esp sub esp num mov eax ebp n...  \n",
       "1      push ebp mov ebp esp push esi sub esp num mov ...  \n",
       "2      push edi push esi sub esp num mov edi esp num ...  \n",
       "3      push ebp mov ebp esp push eax mov eax ebp num ...  \n",
       "4      mov eax esp num mov eax num mov eax num num mo...  \n",
       "...                                                  ...  \n",
       "54732  push ebp mov ebp esp push esi sub esp num mov ...  \n",
       "54733  push ebp mov ebp esp push eax mov eax ebp num ...  \n",
       "54734  push ebp mov ebp esp sub esp num mov eax ebp n...  \n",
       "54735  push ebp mov ebp esp push eax mov eax ebp num ...  \n",
       "54736  mov ecx esp num xor eax eax cmp ecx num ja add...  \n",
       "\n",
       "[54737 rows x 9 columns]"
      ]
     },
     "execution_count": 32,
     "metadata": {},
     "output_type": "execute_result"
    }
   ],
   "source": [
    "comparison_df"
   ]
  },
  {
   "cell_type": "code",
   "execution_count": null,
   "id": "hearing-little",
   "metadata": {},
   "outputs": [],
   "source": [
    "path"
   ]
  },
  {
   "cell_type": "code",
   "execution_count": 33,
   "id": "mediterranean-twelve",
   "metadata": {},
   "outputs": [],
   "source": [
    "comparison_df.to_csv(path+'/d2v_cbmultios_finaltest_df/cbmultios_d2v_over_all.csv')"
   ]
  },
  {
   "cell_type": "markdown",
   "id": "narrow-procedure",
   "metadata": {},
   "source": [
    "### Metrics"
   ]
  },
  {
   "cell_type": "code",
   "execution_count": 34,
   "id": "impressive-values",
   "metadata": {},
   "outputs": [],
   "source": [
    "def metrics(df_confusion):\n",
    "    stats_list = list()\n",
    "\n",
    "    fn = df_confusion[0][1]\n",
    "    tp = df_confusion[1][1]\n",
    "    tn = df_confusion[0][0]\n",
    "    fp = df_confusion[1][0]\n",
    "    accuracy = (tp+tn)/(tp+fp+fn+tn)\n",
    "    precision = tp/(tp+fp)\n",
    "    recall = tp/(tp+fn)\n",
    "    fpr = fp / (fp+tn)\n",
    "    fnr = fn / (tp +fn)\n",
    "    f1 = (2*precision*recall)/(precision+recall)\n",
    "    stats_list.append([fn,tp,tn,fp,accuracy,precision,recall,fpr,fnr,f1])\n",
    "    return stats_list"
   ]
  },
  {
   "cell_type": "code",
   "execution_count": 55,
   "id": "sorted-dryer",
   "metadata": {},
   "outputs": [],
   "source": [
    "def get_results(df): \n",
    "    y_actu = pd.Series(df['actual'], name='Actual')\n",
    "    y_pred = pd.Series(df['2nd_prediction'], name='Predicted')\n",
    "    df_confusion = pd.crosstab(y_actu, y_pred)\n",
    "    metrics(df_confusion)\n",
    "    return df_confusion"
   ]
  },
  {
   "cell_type": "code",
   "execution_count": 36,
   "id": "known-replication",
   "metadata": {},
   "outputs": [],
   "source": [
    "def save_df(df, dir_name, model_info):\n",
    "    directory = path + dir_name + '/'\n",
    "    today = str(date.today())\n",
    "    full = directory+model_info+'_'+today+'.csv'\n",
    "    df.to_csv(full)"
   ]
  },
  {
   "cell_type": "code",
   "execution_count": 54,
   "id": "acknowledged-tissue",
   "metadata": {},
   "outputs": [],
   "source": [
    "def save_stats(df):\n",
    "    df_confusion = get_results(df)\n",
    "    print(df_confusion)\n",
    "    stats_list = metrics(df_confusion)\n",
    "    stats_df = pd.DataFrame(stats_list, columns=['fn','tp','tn','fp','accuracy','precision','recall','fpr','fnr','f1'])\n",
    "    save_df(stats_df, '/cbmultios_metrics', 'cbmultios_d2v_over_secondchoice_stats')\n",
    "    return stats_df"
   ]
  },
  {
   "cell_type": "code",
   "execution_count": 53,
   "id": "purple-massachusetts",
   "metadata": {},
   "outputs": [
    {
     "name": "stdout",
     "output_type": "stream",
     "text": [
      "Predicted  False  True \n",
      "Actual                 \n",
      "False      23935   3581\n",
      "True        9163  18058\n"
     ]
    },
    {
     "data": {
      "text/html": [
       "<div>\n",
       "<style scoped>\n",
       "    .dataframe tbody tr th:only-of-type {\n",
       "        vertical-align: middle;\n",
       "    }\n",
       "\n",
       "    .dataframe tbody tr th {\n",
       "        vertical-align: top;\n",
       "    }\n",
       "\n",
       "    .dataframe thead th {\n",
       "        text-align: right;\n",
       "    }\n",
       "</style>\n",
       "<table border=\"1\" class=\"dataframe\">\n",
       "  <thead>\n",
       "    <tr style=\"text-align: right;\">\n",
       "      <th></th>\n",
       "      <th>fn</th>\n",
       "      <th>tp</th>\n",
       "      <th>tn</th>\n",
       "      <th>fp</th>\n",
       "      <th>accuracy</th>\n",
       "      <th>precision</th>\n",
       "      <th>recall</th>\n",
       "      <th>fpr</th>\n",
       "      <th>fnr</th>\n",
       "      <th>f1</th>\n",
       "    </tr>\n",
       "  </thead>\n",
       "  <tbody>\n",
       "    <tr>\n",
       "      <th>0</th>\n",
       "      <td>9163</td>\n",
       "      <td>18058</td>\n",
       "      <td>23935</td>\n",
       "      <td>3581</td>\n",
       "      <td>0.767178</td>\n",
       "      <td>0.834512</td>\n",
       "      <td>0.663385</td>\n",
       "      <td>0.130142</td>\n",
       "      <td>0.336615</td>\n",
       "      <td>0.739173</td>\n",
       "    </tr>\n",
       "  </tbody>\n",
       "</table>\n",
       "</div>"
      ],
      "text/plain": [
       "     fn     tp     tn    fp  accuracy  precision    recall       fpr  \\\n",
       "0  9163  18058  23935  3581  0.767178   0.834512  0.663385  0.130142   \n",
       "\n",
       "        fnr        f1  \n",
       "0  0.336615  0.739173  "
      ]
     },
     "execution_count": 53,
     "metadata": {},
     "output_type": "execute_result"
    }
   ],
   "source": [
    "first_prediction_df = save_stats(comparison_df)\n",
    "first_prediction_df"
   ]
  },
  {
   "cell_type": "code",
   "execution_count": 56,
   "id": "southern-stroke",
   "metadata": {},
   "outputs": [
    {
     "name": "stdout",
     "output_type": "stream",
     "text": [
      "Predicted  False  True \n",
      "Actual                 \n",
      "False      23644   3872\n",
      "True        8577  18644\n"
     ]
    },
    {
     "data": {
      "text/html": [
       "<div>\n",
       "<style scoped>\n",
       "    .dataframe tbody tr th:only-of-type {\n",
       "        vertical-align: middle;\n",
       "    }\n",
       "\n",
       "    .dataframe tbody tr th {\n",
       "        vertical-align: top;\n",
       "    }\n",
       "\n",
       "    .dataframe thead th {\n",
       "        text-align: right;\n",
       "    }\n",
       "</style>\n",
       "<table border=\"1\" class=\"dataframe\">\n",
       "  <thead>\n",
       "    <tr style=\"text-align: right;\">\n",
       "      <th></th>\n",
       "      <th>fn</th>\n",
       "      <th>tp</th>\n",
       "      <th>tn</th>\n",
       "      <th>fp</th>\n",
       "      <th>accuracy</th>\n",
       "      <th>precision</th>\n",
       "      <th>recall</th>\n",
       "      <th>fpr</th>\n",
       "      <th>fnr</th>\n",
       "      <th>f1</th>\n",
       "    </tr>\n",
       "  </thead>\n",
       "  <tbody>\n",
       "    <tr>\n",
       "      <th>0</th>\n",
       "      <td>8577</td>\n",
       "      <td>18644</td>\n",
       "      <td>23644</td>\n",
       "      <td>3872</td>\n",
       "      <td>0.772567</td>\n",
       "      <td>0.828033</td>\n",
       "      <td>0.684912</td>\n",
       "      <td>0.140718</td>\n",
       "      <td>0.315088</td>\n",
       "      <td>0.749703</td>\n",
       "    </tr>\n",
       "  </tbody>\n",
       "</table>\n",
       "</div>"
      ],
      "text/plain": [
       "     fn     tp     tn    fp  accuracy  precision    recall       fpr  \\\n",
       "0  8577  18644  23644  3872  0.772567   0.828033  0.684912  0.140718   \n",
       "\n",
       "        fnr        f1  \n",
       "0  0.315088  0.749703  "
      ]
     },
     "execution_count": 56,
     "metadata": {},
     "output_type": "execute_result"
    }
   ],
   "source": [
    "second_prediction_df = save_stats(comparison_df)\n",
    "second_prediction_df"
   ]
  },
  {
   "cell_type": "markdown",
   "id": "dietary-person",
   "metadata": {},
   "source": [
    "# FastText"
   ]
  },
  {
   "cell_type": "markdown",
   "id": "adolescent-obligation",
   "metadata": {},
   "source": [
    "## Using Original Dataset"
   ]
  },
  {
   "cell_type": "code",
   "execution_count": 15,
   "id": "hindu-hybrid",
   "metadata": {},
   "outputs": [],
   "source": [
    "original_train = pd.read_csv(path+'/final_dfs_for_reference/cbmultios_original_train_25April2021.csv', index_col=[0])"
   ]
  },
  {
   "cell_type": "code",
   "execution_count": 16,
   "id": "worst-ranking",
   "metadata": {},
   "outputs": [],
   "source": [
    "original_test = pd.read_csv(path+'/final_dfs_for_reference/cbmultios_original_test_25April2021.csv', index_col=[0])"
   ]
  },
  {
   "cell_type": "code",
   "execution_count": 22,
   "id": "verified-reference",
   "metadata": {},
   "outputs": [],
   "source": [
    "original_train = original_train.reset_index(drop=True)\n",
    "original_test = original_test.reset_index(drop=True)"
   ]
  },
  {
   "cell_type": "code",
   "execution_count": 17,
   "id": "turkish-school",
   "metadata": {},
   "outputs": [],
   "source": [
    "train_df = original_train[['fun_name', 'vulnerable', 'fuzzy_instr']]"
   ]
  },
  {
   "cell_type": "code",
   "execution_count": 18,
   "id": "needed-siemens",
   "metadata": {},
   "outputs": [
    {
     "name": "stderr",
     "output_type": "stream",
     "text": [
      "<ipython-input-18-f64bb0f5bc56>:1: SettingWithCopyWarning: \n",
      "A value is trying to be set on a copy of a slice from a DataFrame.\n",
      "Try using .loc[row_indexer,col_indexer] = value instead\n",
      "\n",
      "See the caveats in the documentation: https://pandas.pydata.org/pandas-docs/stable/user_guide/indexing.html#returning-a-view-versus-a-copy\n",
      "  train_df['label'] = list(range(len(train_df.index)))\n"
     ]
    }
   ],
   "source": [
    "train_df['label'] = list(range(len(train_df.index)))"
   ]
  },
  {
   "cell_type": "code",
   "execution_count": 19,
   "id": "cognitive-circular",
   "metadata": {},
   "outputs": [
    {
     "name": "stderr",
     "output_type": "stream",
     "text": [
      "<ipython-input-19-737cbc42e4ea>:1: SettingWithCopyWarning: \n",
      "A value is trying to be set on a copy of a slice from a DataFrame.\n",
      "Try using .loc[row_indexer,col_indexer] = value instead\n",
      "\n",
      "See the caveats in the documentation: https://pandas.pydata.org/pandas-docs/stable/user_guide/indexing.html#returning-a-view-versus-a-copy\n",
      "  train_df['label'] = train_df.label.apply(lambda x: '__label__' + str(x))\n"
     ]
    }
   ],
   "source": [
    "train_df['label'] = train_df.label.apply(lambda x: '__label__' + str(x))"
   ]
  },
  {
   "cell_type": "code",
   "execution_count": 143,
   "id": "discrete-director",
   "metadata": {},
   "outputs": [],
   "source": [
    "train_df[['label','fuzzy_instr']].to_csv(path+ '/fasttext/fasttext_cbmultios_original_train2_26April21.txt', header=None, index=None, sep=' ', mode='a')"
   ]
  },
  {
   "cell_type": "code",
   "execution_count": 117,
   "id": "cubic-attribute",
   "metadata": {},
   "outputs": [
    {
     "data": {
      "text/plain": [
       "'/Volumes/Research/VulnerabilityDatasets/Vulnerability_datasets/code/ghidra/ghidra_extractions-main'"
      ]
     },
     "execution_count": 117,
     "metadata": {},
     "output_type": "execute_result"
    }
   ],
   "source": [
    "path"
   ]
  },
  {
   "cell_type": "markdown",
   "id": "emerging-watts",
   "metadata": {},
   "source": [
    "find and replace all \" \" from the train and test files"
   ]
  },
  {
   "cell_type": "code",
   "execution_count": 118,
   "id": "aggregate-opportunity",
   "metadata": {},
   "outputs": [],
   "source": [
    "!sed -i \"\" 's/\"//g' /Volumes/Research/VulnerabilityDatasets/Vulnerability_datasets/code/ghidra/ghidra_extractions-main/fasttext/fasttext_cbmultios_original_train_26April21.txt"
   ]
  },
  {
   "cell_type": "code",
   "execution_count": 144,
   "id": "alleged-utility",
   "metadata": {},
   "outputs": [],
   "source": [
    "!sed -i \"\" 's/\"//g' /Volumes/Research/VulnerabilityDatasets/Vulnerability_datasets/code/ghidra/ghidra_extractions-main/fasttext/fasttext_cbmultios_original_train2_26April21.txt"
   ]
  },
  {
   "cell_type": "markdown",
   "id": "humanitarian-plastic",
   "metadata": {},
   "source": [
    "### train the supervised model"
   ]
  },
  {
   "cell_type": "code",
   "execution_count": 146,
   "id": "solved-vessel",
   "metadata": {},
   "outputs": [
    {
     "name": "stdout",
     "output_type": "stream",
     "text": [
      "CPU times: user 3h 26min 11s, sys: 42 s, total: 3h 26min 53s\n",
      "Wall time: 30min 57s\n"
     ]
    }
   ],
   "source": [
    "%%time\n",
    "#run1\n",
    "model = fasttext.train_supervised(input=path+'/fasttext/fasttext_cbmultios_original_train2_26April21.txt')"
   ]
  },
  {
   "cell_type": "code",
   "execution_count": 4,
   "id": "dominant-morris",
   "metadata": {},
   "outputs": [
    {
     "name": "stdout",
     "output_type": "stream",
     "text": [
      "CPU times: user 18h 42min 22s, sys: 5min 41s, total: 18h 48min 4s\n",
      "Wall time: 3h 3min 56s\n"
     ]
    }
   ],
   "source": [
    "%%time\n",
    "#run2\n",
    "model2 = fasttext.train_supervised(input=path+'/fasttext/fasttext_cbmultios_original_train2_26April21.txt',  lr=.3, epoch=25, wordNgrams=2)"
   ]
  },
  {
   "cell_type": "markdown",
   "id": "sporting-norfolk",
   "metadata": {},
   "source": [
    "### save the model"
   ]
  },
  {
   "cell_type": "code",
   "execution_count": 147,
   "id": "bright-pepper",
   "metadata": {},
   "outputs": [],
   "source": [
    "model.save_model(path+'/fasttext/fasttext_cbmultios_original_train2_26April21.bin')"
   ]
  },
  {
   "cell_type": "code",
   "execution_count": 5,
   "id": "automatic-tuning",
   "metadata": {},
   "outputs": [],
   "source": [
    "model2.save_model(path+'/fasttext/fasttext_cbmultios_original_train3_26April21.bin')"
   ]
  },
  {
   "cell_type": "markdown",
   "id": "confidential-equation",
   "metadata": {},
   "source": [
    "### use test set to assess the model"
   ]
  },
  {
   "cell_type": "code",
   "execution_count": 23,
   "id": "intended-butterfly",
   "metadata": {},
   "outputs": [
    {
     "data": {
      "text/html": [
       "<div>\n",
       "<style scoped>\n",
       "    .dataframe tbody tr th:only-of-type {\n",
       "        vertical-align: middle;\n",
       "    }\n",
       "\n",
       "    .dataframe tbody tr th {\n",
       "        vertical-align: top;\n",
       "    }\n",
       "\n",
       "    .dataframe thead th {\n",
       "        text-align: right;\n",
       "    }\n",
       "</style>\n",
       "<table border=\"1\" class=\"dataframe\">\n",
       "  <thead>\n",
       "    <tr style=\"text-align: right;\">\n",
       "      <th></th>\n",
       "      <th>sample_name</th>\n",
       "      <th>fun_name</th>\n",
       "      <th>fun_instr</th>\n",
       "      <th>vulnerable</th>\n",
       "      <th>fuzzy_instr</th>\n",
       "    </tr>\n",
       "  </thead>\n",
       "  <tbody>\n",
       "    <tr>\n",
       "      <th>0</th>\n",
       "      <td>Azurad</td>\n",
       "      <td>__invoke</td>\n",
       "      <td>['PUSH EBX', 'PUSH EDI', 'PUSH ESI', 'SUB ESP,...</td>\n",
       "      <td>False</td>\n",
       "      <td>push ebx push edi push esi sub esp num mov esi...</td>\n",
       "    </tr>\n",
       "    <tr>\n",
       "      <th>1</th>\n",
       "      <td>Printer_patched</td>\n",
       "      <td>cgc_memchr</td>\n",
       "      <td>['PUSH EBP', 'MOV EBP,ESP', 'PUSH ESI', 'SUB E...</td>\n",
       "      <td>False</td>\n",
       "      <td>push ebp mov ebp esp push esi sub esp num mov ...</td>\n",
       "    </tr>\n",
       "    <tr>\n",
       "      <th>2</th>\n",
       "      <td>FailAV_patched</td>\n",
       "      <td>__invoke</td>\n",
       "      <td>['SUB ESP,0xc', 'MOV EAX,dword ptr [ESP + 0x10...</td>\n",
       "      <td>False</td>\n",
       "      <td>sub esp num mov eax esp num mov ecx esp num mo...</td>\n",
       "    </tr>\n",
       "    <tr>\n",
       "      <th>3</th>\n",
       "      <td>Checkmate</td>\n",
       "      <td>__i686.get_pc_thunk.bx</td>\n",
       "      <td>['MOV EBX,dword ptr [ESP]', 'RET']</td>\n",
       "      <td>False</td>\n",
       "      <td>mov ebx esp ret</td>\n",
       "    </tr>\n",
       "    <tr>\n",
       "      <th>4</th>\n",
       "      <td>Azurad</td>\n",
       "      <td>Token</td>\n",
       "      <td>['MOV EAX,dword ptr [ESP + 0x4]', 'XOR ECX,ECX...</td>\n",
       "      <td>False</td>\n",
       "      <td>mov eax esp num xor ecx ecx mov eax ecx mov ea...</td>\n",
       "    </tr>\n",
       "  </tbody>\n",
       "</table>\n",
       "</div>"
      ],
      "text/plain": [
       "       sample_name                fun_name  \\\n",
       "0           Azurad                __invoke   \n",
       "1  Printer_patched              cgc_memchr   \n",
       "2   FailAV_patched                __invoke   \n",
       "3        Checkmate  __i686.get_pc_thunk.bx   \n",
       "4           Azurad                   Token   \n",
       "\n",
       "                                           fun_instr  vulnerable  \\\n",
       "0  ['PUSH EBX', 'PUSH EDI', 'PUSH ESI', 'SUB ESP,...       False   \n",
       "1  ['PUSH EBP', 'MOV EBP,ESP', 'PUSH ESI', 'SUB E...       False   \n",
       "2  ['SUB ESP,0xc', 'MOV EAX,dword ptr [ESP + 0x10...       False   \n",
       "3                 ['MOV EBX,dword ptr [ESP]', 'RET']       False   \n",
       "4  ['MOV EAX,dword ptr [ESP + 0x4]', 'XOR ECX,ECX...       False   \n",
       "\n",
       "                                         fuzzy_instr  \n",
       "0  push ebx push edi push esi sub esp num mov esi...  \n",
       "1  push ebp mov ebp esp push esi sub esp num mov ...  \n",
       "2  sub esp num mov eax esp num mov ecx esp num mo...  \n",
       "3                                    mov ebx esp ret  \n",
       "4  mov eax esp num xor ecx ecx mov eax ecx mov ea...  "
      ]
     },
     "execution_count": 23,
     "metadata": {},
     "output_type": "execute_result"
    }
   ],
   "source": [
    "original_test.head()"
   ]
  },
  {
   "cell_type": "code",
   "execution_count": 123,
   "id": "lonely-mailing",
   "metadata": {},
   "outputs": [],
   "source": [
    "original_test[['fuzzy_instr']].to_csv(path+ '/fasttext/fasttext_cbmultios_original_test_26April21.txt', header=None, index=None, sep=' ', mode='a')"
   ]
  },
  {
   "cell_type": "code",
   "execution_count": 124,
   "id": "northern-regular",
   "metadata": {},
   "outputs": [
    {
     "data": {
      "text/plain": [
       "'/Volumes/Research/VulnerabilityDatasets/Vulnerability_datasets/code/ghidra/ghidra_extractions-main'"
      ]
     },
     "execution_count": 124,
     "metadata": {},
     "output_type": "execute_result"
    }
   ],
   "source": [
    "path"
   ]
  },
  {
   "cell_type": "code",
   "execution_count": 125,
   "id": "black-crossing",
   "metadata": {},
   "outputs": [],
   "source": [
    "!sed -i \"\" 's/\"//g' /Volumes/Research/VulnerabilityDatasets/Vulnerability_datasets/code/ghidra/ghidra_extractions-main/fasttext/fasttext_cbmultios_original_test_26April21.txt"
   ]
  },
  {
   "cell_type": "code",
   "execution_count": 126,
   "id": "altered-marking",
   "metadata": {},
   "outputs": [
    {
     "data": {
      "text/plain": [
       "(('__label__copy',), array([0.06839915]))"
      ]
     },
     "execution_count": 126,
     "metadata": {},
     "output_type": "execute_result"
    }
   ],
   "source": [
    "model.predict('push sbp mov rbp rsp sub num mov rbp addr mov rsi rbp addr lea num mov num call addr add num pop sbp ret')"
   ]
  },
  {
   "cell_type": "code",
   "execution_count": 25,
   "id": "alternative-nigeria",
   "metadata": {},
   "outputs": [],
   "source": [
    "def get_results(test_set):\n",
    "    results = list()\n",
    "    start_time = time.time()\n",
    "\n",
    "    for i, test in enumerate(test_set): \n",
    "\n",
    "        # see if milestone reached\n",
    "        if i in milestones:\n",
    "            print('milestone reached: ', i)\n",
    "            print(f'Time taken : {(time.time() - start_time) / 60:.2f} mins')\n",
    "            \n",
    "        test_str = str(test)\n",
    "        result = list(model2.predict(test))\n",
    "        #print(result)\n",
    "        \n",
    "        '''\n",
    "        predicted_fun_name = list(result[0])[0].replace(\"__label__\",'')\n",
    "        train_index = original_train.index[original_train['fun_name'] == predicted_fun_name].tolist()[0]\n",
    "        predicted = original_train.iloc[train_index]['vulnerable']\n",
    "        predicted_instr = original_train.iloc[train_index]['fuzzy_instr']'''\n",
    "        \n",
    "        predicted_label_name = list(result[0])[0]\n",
    "        train_index = train_df.index[train_df['label'] == predicted_label_name].tolist()[0]\n",
    "        predicted_fun_name = train_df.iloc[train_index]['fun_name']\n",
    "        predicted = train_df.iloc[train_index]['vulnerable']\n",
    "        predicted_instr = train_df.iloc[train_index]['fuzzy_instr']\n",
    "\n",
    "        sim_array = result[1]\n",
    "        actual = original_test.iloc[i]['vulnerable']\n",
    "        actual_fun_name = original_test.iloc[i]['fun_name']\n",
    "        actual_instr = original_test.iloc[i]['fuzzy_instr']\n",
    "\n",
    "        results.append([actual_fun_name, actual, actual_instr, predicted_fun_name, predicted, predicted_instr])\n",
    "        \n",
    "    print(f'Time taken : {(time.time() - start_time) / 60:.2f} mins')\n",
    "    return results"
   ]
  },
  {
   "cell_type": "code",
   "execution_count": 10,
   "id": "lined-arrangement",
   "metadata": {},
   "outputs": [],
   "source": [
    "def read_corpus(fname):\n",
    "    test_set = list()\n",
    "    with smart_open.open(fname, encoding=\"UTF-8\") as f:\n",
    "        for i, line in enumerate(f):\n",
    "            test_set.append(line.strip('\\n'))\n",
    "    return test_set"
   ]
  },
  {
   "cell_type": "code",
   "execution_count": 8,
   "id": "desirable-vermont",
   "metadata": {},
   "outputs": [],
   "source": [
    "test = '/Volumes/Research/VulnerabilityDatasets/Vulnerability_datasets/code/ghidra/ghidra_extractions-main/fasttext/fasttext_cbmultios_original_test_26April21.txt'"
   ]
  },
  {
   "cell_type": "code",
   "execution_count": 11,
   "id": "choice-gallery",
   "metadata": {},
   "outputs": [],
   "source": [
    "test_corpus = list(read_corpus(test))"
   ]
  },
  {
   "cell_type": "code",
   "execution_count": 12,
   "id": "proud-romania",
   "metadata": {},
   "outputs": [
    {
     "data": {
      "text/plain": [
       "27546"
      ]
     },
     "execution_count": 12,
     "metadata": {},
     "output_type": "execute_result"
    }
   ],
   "source": [
    "len(test_corpus)"
   ]
  },
  {
   "cell_type": "code",
   "execution_count": 13,
   "id": "interracial-fireplace",
   "metadata": {},
   "outputs": [
    {
     "data": {
      "text/plain": [
       "[2755, 5509, 8264, 11018, 13773, 16528, 19282, 22037, 24791, 27546]"
      ]
     },
     "execution_count": 13,
     "metadata": {},
     "output_type": "execute_result"
    }
   ],
   "source": [
    "milestones = [.1*len(test_corpus), .2*len(test_corpus), .3*len(test_corpus), .4*len(test_corpus), .5*len(test_corpus), .6*len(test_corpus), .7*len(test_corpus), \n",
    "             .8*len(test_corpus), .9*len(test_corpus), 1*len(test_corpus)]\n",
    "milestones = [round(x) for x in milestones]\n",
    "milestones"
   ]
  },
  {
   "cell_type": "code",
   "execution_count": 20,
   "id": "choice-investigation",
   "metadata": {},
   "outputs": [],
   "source": [
    "train_df = train_df.reset_index(drop=True)"
   ]
  },
  {
   "cell_type": "code",
   "execution_count": 26,
   "id": "proof-revelation",
   "metadata": {},
   "outputs": [
    {
     "name": "stdout",
     "output_type": "stream",
     "text": [
      "milestone reached:  2755\n",
      "Time taken : 0.76 mins\n",
      "milestone reached:  5509\n",
      "Time taken : 1.52 mins\n",
      "milestone reached:  8264\n",
      "Time taken : 2.29 mins\n",
      "milestone reached:  11018\n",
      "Time taken : 3.03 mins\n",
      "milestone reached:  13773\n",
      "Time taken : 3.78 mins\n",
      "milestone reached:  16528\n",
      "Time taken : 4.52 mins\n",
      "milestone reached:  19282\n",
      "Time taken : 5.27 mins\n",
      "milestone reached:  22037\n",
      "Time taken : 6.02 mins\n",
      "milestone reached:  24791\n",
      "Time taken : 6.77 mins\n",
      "Time taken : 7.52 mins\n"
     ]
    }
   ],
   "source": [
    "results_model2 = get_results(test_corpus)"
   ]
  },
  {
   "cell_type": "code",
   "execution_count": 200,
   "id": "manual-measurement",
   "metadata": {},
   "outputs": [
    {
     "data": {
      "text/html": [
       "<div>\n",
       "<style scoped>\n",
       "    .dataframe tbody tr th:only-of-type {\n",
       "        vertical-align: middle;\n",
       "    }\n",
       "\n",
       "    .dataframe tbody tr th {\n",
       "        vertical-align: top;\n",
       "    }\n",
       "\n",
       "    .dataframe thead th {\n",
       "        text-align: right;\n",
       "    }\n",
       "</style>\n",
       "<table border=\"1\" class=\"dataframe\">\n",
       "  <thead>\n",
       "    <tr style=\"text-align: right;\">\n",
       "      <th></th>\n",
       "      <th>actual_fun_name</th>\n",
       "      <th>actual</th>\n",
       "      <th>actual_instr</th>\n",
       "      <th>predicted_fun_name</th>\n",
       "      <th>predicted</th>\n",
       "      <th>predicted_instr</th>\n",
       "    </tr>\n",
       "  </thead>\n",
       "  <tbody>\n",
       "    <tr>\n",
       "      <th>0</th>\n",
       "      <td>__invoke</td>\n",
       "      <td>False</td>\n",
       "      <td>push ebx push edi push esi sub esp num mov esi...</td>\n",
       "      <td>cgc_reset_baseband_state</td>\n",
       "      <td>False</td>\n",
       "      <td>push ebp mov ebp esp mov eax ebp num mov ecx e...</td>\n",
       "    </tr>\n",
       "    <tr>\n",
       "      <th>1</th>\n",
       "      <td>cgc_memchr</td>\n",
       "      <td>False</td>\n",
       "      <td>push ebp mov ebp esp push esi sub esp num mov ...</td>\n",
       "      <td>cgc_reset_baseband_state</td>\n",
       "      <td>False</td>\n",
       "      <td>push ebp mov ebp esp mov eax ebp num mov ecx e...</td>\n",
       "    </tr>\n",
       "    <tr>\n",
       "      <th>2</th>\n",
       "      <td>__invoke</td>\n",
       "      <td>False</td>\n",
       "      <td>sub esp num mov eax esp num mov ecx esp num mo...</td>\n",
       "      <td>cgc_reset_baseband_state</td>\n",
       "      <td>False</td>\n",
       "      <td>push ebp mov ebp esp mov eax ebp num mov ecx e...</td>\n",
       "    </tr>\n",
       "    <tr>\n",
       "      <th>3</th>\n",
       "      <td>__i686.get_pc_thunk.bx</td>\n",
       "      <td>False</td>\n",
       "      <td>mov ebx esp ret</td>\n",
       "      <td>cgc_receive</td>\n",
       "      <td>False</td>\n",
       "      <td>jmp addr</td>\n",
       "    </tr>\n",
       "    <tr>\n",
       "      <th>4</th>\n",
       "      <td>Token</td>\n",
       "      <td>False</td>\n",
       "      <td>mov eax esp num xor ecx ecx mov eax ecx mov ea...</td>\n",
       "      <td>cgc_reset_baseband_state</td>\n",
       "      <td>False</td>\n",
       "      <td>push ebp mov ebp esp mov eax ebp num mov ecx e...</td>\n",
       "    </tr>\n",
       "    <tr>\n",
       "      <th>...</th>\n",
       "      <td>...</td>\n",
       "      <td>...</td>\n",
       "      <td>...</td>\n",
       "      <td>...</td>\n",
       "      <td>...</td>\n",
       "      <td>...</td>\n",
       "    </tr>\n",
       "    <tr>\n",
       "      <th>27541</th>\n",
       "      <td>~ListCmd</td>\n",
       "      <td>False</td>\n",
       "      <td>push ebp mov ebp esp sub esp num mov eax ebp n...</td>\n",
       "      <td>cgc_reset_baseband_state</td>\n",
       "      <td>False</td>\n",
       "      <td>push ebp mov ebp esp mov eax ebp num mov ecx e...</td>\n",
       "    </tr>\n",
       "    <tr>\n",
       "      <th>27542</th>\n",
       "      <td>__invoke</td>\n",
       "      <td>False</td>\n",
       "      <td>push ebx push edi push esi sub esp num mov esi...</td>\n",
       "      <td>cgc_reset_baseband_state</td>\n",
       "      <td>False</td>\n",
       "      <td>push ebp mov ebp esp mov eax ebp num mov ecx e...</td>\n",
       "    </tr>\n",
       "    <tr>\n",
       "      <th>27543</th>\n",
       "      <td>_fini</td>\n",
       "      <td>False</td>\n",
       "      <td>endbr push ebx sub esp num call addr add ebx n...</td>\n",
       "      <td>cgc_gb_reset</td>\n",
       "      <td>False</td>\n",
       "      <td>mov eax esp num mov eax num addr mov eax num a...</td>\n",
       "    </tr>\n",
       "    <tr>\n",
       "      <th>27544</th>\n",
       "      <td>getLength</td>\n",
       "      <td>False</td>\n",
       "      <td>push ebp mov ebp esp and esp addr mov eax ebp ...</td>\n",
       "      <td>cgc_reset_baseband_state</td>\n",
       "      <td>False</td>\n",
       "      <td>push ebp mov ebp esp mov eax ebp num mov ecx e...</td>\n",
       "    </tr>\n",
       "    <tr>\n",
       "      <th>27545</th>\n",
       "      <td>resize</td>\n",
       "      <td>False</td>\n",
       "      <td>push ebp push ebx push edi push esi sub esp nu...</td>\n",
       "      <td>cgc_gb_reset</td>\n",
       "      <td>False</td>\n",
       "      <td>mov eax esp num mov eax num addr mov eax num a...</td>\n",
       "    </tr>\n",
       "  </tbody>\n",
       "</table>\n",
       "<p>27546 rows × 6 columns</p>\n",
       "</div>"
      ],
      "text/plain": [
       "              actual_fun_name  actual  \\\n",
       "0                    __invoke   False   \n",
       "1                  cgc_memchr   False   \n",
       "2                    __invoke   False   \n",
       "3      __i686.get_pc_thunk.bx   False   \n",
       "4                       Token   False   \n",
       "...                       ...     ...   \n",
       "27541                ~ListCmd   False   \n",
       "27542                __invoke   False   \n",
       "27543                   _fini   False   \n",
       "27544               getLength   False   \n",
       "27545                  resize   False   \n",
       "\n",
       "                                            actual_instr  \\\n",
       "0      push ebx push edi push esi sub esp num mov esi...   \n",
       "1      push ebp mov ebp esp push esi sub esp num mov ...   \n",
       "2      sub esp num mov eax esp num mov ecx esp num mo...   \n",
       "3                                        mov ebx esp ret   \n",
       "4      mov eax esp num xor ecx ecx mov eax ecx mov ea...   \n",
       "...                                                  ...   \n",
       "27541  push ebp mov ebp esp sub esp num mov eax ebp n...   \n",
       "27542  push ebx push edi push esi sub esp num mov esi...   \n",
       "27543  endbr push ebx sub esp num call addr add ebx n...   \n",
       "27544  push ebp mov ebp esp and esp addr mov eax ebp ...   \n",
       "27545  push ebp push ebx push edi push esi sub esp nu...   \n",
       "\n",
       "             predicted_fun_name  predicted  \\\n",
       "0      cgc_reset_baseband_state      False   \n",
       "1      cgc_reset_baseband_state      False   \n",
       "2      cgc_reset_baseband_state      False   \n",
       "3                   cgc_receive      False   \n",
       "4      cgc_reset_baseband_state      False   \n",
       "...                         ...        ...   \n",
       "27541  cgc_reset_baseband_state      False   \n",
       "27542  cgc_reset_baseband_state      False   \n",
       "27543              cgc_gb_reset      False   \n",
       "27544  cgc_reset_baseband_state      False   \n",
       "27545              cgc_gb_reset      False   \n",
       "\n",
       "                                         predicted_instr  \n",
       "0      push ebp mov ebp esp mov eax ebp num mov ecx e...  \n",
       "1      push ebp mov ebp esp mov eax ebp num mov ecx e...  \n",
       "2      push ebp mov ebp esp mov eax ebp num mov ecx e...  \n",
       "3                                               jmp addr  \n",
       "4      push ebp mov ebp esp mov eax ebp num mov ecx e...  \n",
       "...                                                  ...  \n",
       "27541  push ebp mov ebp esp mov eax ebp num mov ecx e...  \n",
       "27542  push ebp mov ebp esp mov eax ebp num mov ecx e...  \n",
       "27543  mov eax esp num mov eax num addr mov eax num a...  \n",
       "27544  push ebp mov ebp esp mov eax ebp num mov ecx e...  \n",
       "27545  mov eax esp num mov eax num addr mov eax num a...  \n",
       "\n",
       "[27546 rows x 6 columns]"
      ]
     },
     "execution_count": 200,
     "metadata": {},
     "output_type": "execute_result"
    }
   ],
   "source": [
    "results_df = pd.DataFrame(results, columns=['actual_fun_name', 'actual', 'actual_instr', 'predicted_fun_name',  'predicted', 'predicted_instr'])\n",
    "results_df"
   ]
  },
  {
   "cell_type": "code",
   "execution_count": 27,
   "id": "opponent-symbol",
   "metadata": {},
   "outputs": [
    {
     "data": {
      "text/html": [
       "<div>\n",
       "<style scoped>\n",
       "    .dataframe tbody tr th:only-of-type {\n",
       "        vertical-align: middle;\n",
       "    }\n",
       "\n",
       "    .dataframe tbody tr th {\n",
       "        vertical-align: top;\n",
       "    }\n",
       "\n",
       "    .dataframe thead th {\n",
       "        text-align: right;\n",
       "    }\n",
       "</style>\n",
       "<table border=\"1\" class=\"dataframe\">\n",
       "  <thead>\n",
       "    <tr style=\"text-align: right;\">\n",
       "      <th></th>\n",
       "      <th>actual_fun_name</th>\n",
       "      <th>actual</th>\n",
       "      <th>actual_instr</th>\n",
       "      <th>predicted_fun_name</th>\n",
       "      <th>predicted</th>\n",
       "      <th>predicted_instr</th>\n",
       "    </tr>\n",
       "  </thead>\n",
       "  <tbody>\n",
       "    <tr>\n",
       "      <th>0</th>\n",
       "      <td>__invoke</td>\n",
       "      <td>False</td>\n",
       "      <td>push ebx push edi push esi sub esp num mov esi...</td>\n",
       "      <td>__invoke</td>\n",
       "      <td>False</td>\n",
       "      <td>push ebx push edi push esi sub esp num mov esi...</td>\n",
       "    </tr>\n",
       "    <tr>\n",
       "      <th>1</th>\n",
       "      <td>cgc_memchr</td>\n",
       "      <td>False</td>\n",
       "      <td>push ebp mov ebp esp push esi sub esp num mov ...</td>\n",
       "      <td>cgc_memchr</td>\n",
       "      <td>False</td>\n",
       "      <td>push ebp mov ebp esp push esi sub esp num mov ...</td>\n",
       "    </tr>\n",
       "    <tr>\n",
       "      <th>2</th>\n",
       "      <td>__invoke</td>\n",
       "      <td>False</td>\n",
       "      <td>sub esp num mov eax esp num mov ecx esp num mo...</td>\n",
       "      <td>__invoke</td>\n",
       "      <td>False</td>\n",
       "      <td>sub esp num mov eax esp num mov ecx esp num mo...</td>\n",
       "    </tr>\n",
       "    <tr>\n",
       "      <th>3</th>\n",
       "      <td>__i686.get_pc_thunk.bx</td>\n",
       "      <td>False</td>\n",
       "      <td>mov ebx esp ret</td>\n",
       "      <td>__i686.get_pc_thunk.bx</td>\n",
       "      <td>False</td>\n",
       "      <td>mov ebx esp ret</td>\n",
       "    </tr>\n",
       "    <tr>\n",
       "      <th>4</th>\n",
       "      <td>Token</td>\n",
       "      <td>False</td>\n",
       "      <td>mov eax esp num xor ecx ecx mov eax ecx mov ea...</td>\n",
       "      <td>Token</td>\n",
       "      <td>False</td>\n",
       "      <td>mov eax esp num xor ecx ecx mov eax ecx mov ea...</td>\n",
       "    </tr>\n",
       "    <tr>\n",
       "      <th>...</th>\n",
       "      <td>...</td>\n",
       "      <td>...</td>\n",
       "      <td>...</td>\n",
       "      <td>...</td>\n",
       "      <td>...</td>\n",
       "      <td>...</td>\n",
       "    </tr>\n",
       "    <tr>\n",
       "      <th>27541</th>\n",
       "      <td>~ListCmd</td>\n",
       "      <td>False</td>\n",
       "      <td>push ebp mov ebp esp sub esp num mov eax ebp n...</td>\n",
       "      <td>~CreateDirCmd</td>\n",
       "      <td>False</td>\n",
       "      <td>push ebp mov ebp esp sub esp num mov eax ebp n...</td>\n",
       "    </tr>\n",
       "    <tr>\n",
       "      <th>27542</th>\n",
       "      <td>__invoke</td>\n",
       "      <td>False</td>\n",
       "      <td>push ebx push edi push esi sub esp num mov esi...</td>\n",
       "      <td>__invoke</td>\n",
       "      <td>False</td>\n",
       "      <td>push ebx push edi push esi sub esp num mov esi...</td>\n",
       "    </tr>\n",
       "    <tr>\n",
       "      <th>27543</th>\n",
       "      <td>_fini</td>\n",
       "      <td>False</td>\n",
       "      <td>endbr push ebx sub esp num call addr add ebx n...</td>\n",
       "      <td>_fini</td>\n",
       "      <td>False</td>\n",
       "      <td>endbr push ebx sub esp num call addr add ebx n...</td>\n",
       "    </tr>\n",
       "    <tr>\n",
       "      <th>27544</th>\n",
       "      <td>getLength</td>\n",
       "      <td>False</td>\n",
       "      <td>push ebp mov ebp esp and esp addr mov eax ebp ...</td>\n",
       "      <td>getLength</td>\n",
       "      <td>False</td>\n",
       "      <td>push ebp mov ebp esp and esp addr mov eax ebp ...</td>\n",
       "    </tr>\n",
       "    <tr>\n",
       "      <th>27545</th>\n",
       "      <td>resize</td>\n",
       "      <td>False</td>\n",
       "      <td>push ebp push ebx push edi push esi sub esp nu...</td>\n",
       "      <td>resize</td>\n",
       "      <td>False</td>\n",
       "      <td>push ebp push ebx push edi push esi sub esp nu...</td>\n",
       "    </tr>\n",
       "  </tbody>\n",
       "</table>\n",
       "<p>27546 rows × 6 columns</p>\n",
       "</div>"
      ],
      "text/plain": [
       "              actual_fun_name  actual  \\\n",
       "0                    __invoke   False   \n",
       "1                  cgc_memchr   False   \n",
       "2                    __invoke   False   \n",
       "3      __i686.get_pc_thunk.bx   False   \n",
       "4                       Token   False   \n",
       "...                       ...     ...   \n",
       "27541                ~ListCmd   False   \n",
       "27542                __invoke   False   \n",
       "27543                   _fini   False   \n",
       "27544               getLength   False   \n",
       "27545                  resize   False   \n",
       "\n",
       "                                            actual_instr  \\\n",
       "0      push ebx push edi push esi sub esp num mov esi...   \n",
       "1      push ebp mov ebp esp push esi sub esp num mov ...   \n",
       "2      sub esp num mov eax esp num mov ecx esp num mo...   \n",
       "3                                        mov ebx esp ret   \n",
       "4      mov eax esp num xor ecx ecx mov eax ecx mov ea...   \n",
       "...                                                  ...   \n",
       "27541  push ebp mov ebp esp sub esp num mov eax ebp n...   \n",
       "27542  push ebx push edi push esi sub esp num mov esi...   \n",
       "27543  endbr push ebx sub esp num call addr add ebx n...   \n",
       "27544  push ebp mov ebp esp and esp addr mov eax ebp ...   \n",
       "27545  push ebp push ebx push edi push esi sub esp nu...   \n",
       "\n",
       "           predicted_fun_name  predicted  \\\n",
       "0                    __invoke      False   \n",
       "1                  cgc_memchr      False   \n",
       "2                    __invoke      False   \n",
       "3      __i686.get_pc_thunk.bx      False   \n",
       "4                       Token      False   \n",
       "...                       ...        ...   \n",
       "27541           ~CreateDirCmd      False   \n",
       "27542                __invoke      False   \n",
       "27543                   _fini      False   \n",
       "27544               getLength      False   \n",
       "27545                  resize      False   \n",
       "\n",
       "                                         predicted_instr  \n",
       "0      push ebx push edi push esi sub esp num mov esi...  \n",
       "1      push ebp mov ebp esp push esi sub esp num mov ...  \n",
       "2      sub esp num mov eax esp num mov ecx esp num mo...  \n",
       "3                                        mov ebx esp ret  \n",
       "4      mov eax esp num xor ecx ecx mov eax ecx mov ea...  \n",
       "...                                                  ...  \n",
       "27541  push ebp mov ebp esp sub esp num mov eax ebp n...  \n",
       "27542  push ebx push edi push esi sub esp num mov esi...  \n",
       "27543  endbr push ebx sub esp num call addr add ebx n...  \n",
       "27544  push ebp mov ebp esp and esp addr mov eax ebp ...  \n",
       "27545  push ebp push ebx push edi push esi sub esp nu...  \n",
       "\n",
       "[27546 rows x 6 columns]"
      ]
     },
     "execution_count": 27,
     "metadata": {},
     "output_type": "execute_result"
    }
   ],
   "source": [
    "results_df_2 = pd.DataFrame(results_model2, columns=['actual_fun_name', 'actual', 'actual_instr', 'predicted_fun_name',  'predicted', 'predicted_instr'])\n",
    "results_df_2"
   ]
  },
  {
   "cell_type": "code",
   "execution_count": null,
   "id": "decimal-soldier",
   "metadata": {},
   "outputs": [],
   "source": [
    "results_df_2.to_csv(path+'fasttext/results2_lr.3_epoch25_wordNgrams2.csv')"
   ]
  },
  {
   "cell_type": "code",
   "execution_count": 28,
   "id": "ceramic-attribute",
   "metadata": {},
   "outputs": [
    {
     "data": {
      "text/plain": [
       "False    27380\n",
       "True       166\n",
       "Name: actual, dtype: int64"
      ]
     },
     "execution_count": 28,
     "metadata": {},
     "output_type": "execute_result"
    }
   ],
   "source": [
    "results_df_2.actual.value_counts()"
   ]
  },
  {
   "cell_type": "code",
   "execution_count": 29,
   "id": "dirty-course",
   "metadata": {},
   "outputs": [
    {
     "data": {
      "text/plain": [
       "False    27321\n",
       "True       225\n",
       "Name: predicted, dtype: int64"
      ]
     },
     "execution_count": 29,
     "metadata": {},
     "output_type": "execute_result"
    }
   ],
   "source": [
    "results_df_2.predicted.value_counts()"
   ]
  },
  {
   "cell_type": "code",
   "execution_count": 183,
   "id": "formal-copyright",
   "metadata": {},
   "outputs": [
    {
     "data": {
      "text/plain": [
       "False    27380\n",
       "True       166\n",
       "Name: actual, dtype: int64"
      ]
     },
     "execution_count": 183,
     "metadata": {},
     "output_type": "execute_result"
    }
   ],
   "source": [
    "results_df.actual.value_counts()"
   ]
  },
  {
   "cell_type": "code",
   "execution_count": 184,
   "id": "unauthorized-organization",
   "metadata": {},
   "outputs": [
    {
     "data": {
      "text/plain": [
       "False    27546\n",
       "Name: predicted, dtype: int64"
      ]
     },
     "execution_count": 184,
     "metadata": {},
     "output_type": "execute_result"
    }
   ],
   "source": [
    "results_df.predicted.value_counts()"
   ]
  },
  {
   "cell_type": "markdown",
   "id": "robust-ordinance",
   "metadata": {},
   "source": [
    "### Metrics"
   ]
  },
  {
   "cell_type": "code",
   "execution_count": 35,
   "id": "stunning-husband",
   "metadata": {},
   "outputs": [],
   "source": [
    "def metrics(df_confusion):\n",
    "    stats_list = list()\n",
    "\n",
    "    fn = df_confusion[0][1]\n",
    "    try: \n",
    "        tp = df_confusion[1][1]\n",
    "    except: \n",
    "        tp = 1\n",
    "    tn = df_confusion[0][0]\n",
    "    try: \n",
    "        fp = df_confusion[1][0]\n",
    "    except: \n",
    "        fp = 1\n",
    "    accuracy = (tp+tn)/(tp+fp+fn+tn)\n",
    "    precision = tp/(tp+fp)\n",
    "    recall = tp/(tp+fn)\n",
    "    fpr = fp / (fp+tn)\n",
    "    fnr = fn / (tp +fn)\n",
    "    f1 = (2*precision*recall)/(precision+recall)\n",
    "    stats_list.append([fn,tp,tn,fp,accuracy,precision,recall,fpr,fnr,f1])\n",
    "    return stats_list"
   ]
  },
  {
   "cell_type": "code",
   "execution_count": 36,
   "id": "abstract-amazon",
   "metadata": {},
   "outputs": [],
   "source": [
    "def get_results(df): \n",
    "    y_actu = pd.Series(df['actual'], name='Actual')\n",
    "    y_pred = pd.Series(df['predicted'], name='Predicted')\n",
    "    df_confusion = pd.crosstab(y_actu, y_pred)\n",
    "    metrics(df_confusion)\n",
    "    return df_confusion"
   ]
  },
  {
   "cell_type": "code",
   "execution_count": 37,
   "id": "vocational-scientist",
   "metadata": {},
   "outputs": [],
   "source": [
    "def save_df(df, dir_name, model_info):\n",
    "    directory = path + dir_name + '/'\n",
    "    today = str(date.today())\n",
    "    full = directory+model_info+'_'+today+'.csv'\n",
    "    df.to_csv(full)"
   ]
  },
  {
   "cell_type": "code",
   "execution_count": 38,
   "id": "democratic-insertion",
   "metadata": {
    "tags": []
   },
   "outputs": [],
   "source": [
    "def save_stats(df):\n",
    "    df_confusion = get_results(df)\n",
    "    print(df_confusion)\n",
    "    stats_list = metrics(df_confusion)\n",
    "    stats_df = pd.DataFrame(stats_list, columns=['fn','tp','tn','fp','accuracy','precision','recall','fpr','fnr','f1'])\n",
    "    save_df(stats_df, '/cbmultios_metrics', 'cbmultios_fasttext_original_run2_stats')\n",
    "    return stats_df"
   ]
  },
  {
   "cell_type": "code",
   "execution_count": 201,
   "id": "coated-microwave",
   "metadata": {},
   "outputs": [
    {
     "name": "stdout",
     "output_type": "stream",
     "text": [
      "Predicted  False\n",
      "Actual          \n",
      "False      27380\n",
      "True         166\n"
     ]
    },
    {
     "data": {
      "text/html": [
       "<div>\n",
       "<style scoped>\n",
       "    .dataframe tbody tr th:only-of-type {\n",
       "        vertical-align: middle;\n",
       "    }\n",
       "\n",
       "    .dataframe tbody tr th {\n",
       "        vertical-align: top;\n",
       "    }\n",
       "\n",
       "    .dataframe thead th {\n",
       "        text-align: right;\n",
       "    }\n",
       "</style>\n",
       "<table border=\"1\" class=\"dataframe\">\n",
       "  <thead>\n",
       "    <tr style=\"text-align: right;\">\n",
       "      <th></th>\n",
       "      <th>fn</th>\n",
       "      <th>tp</th>\n",
       "      <th>tn</th>\n",
       "      <th>fp</th>\n",
       "      <th>accuracy</th>\n",
       "      <th>precision</th>\n",
       "      <th>recall</th>\n",
       "      <th>fpr</th>\n",
       "      <th>fnr</th>\n",
       "      <th>f1</th>\n",
       "    </tr>\n",
       "  </thead>\n",
       "  <tbody>\n",
       "    <tr>\n",
       "      <th>0</th>\n",
       "      <td>166</td>\n",
       "      <td>1</td>\n",
       "      <td>27380</td>\n",
       "      <td>1</td>\n",
       "      <td>0.993938</td>\n",
       "      <td>0.5</td>\n",
       "      <td>0.005988</td>\n",
       "      <td>0.000037</td>\n",
       "      <td>0.994012</td>\n",
       "      <td>0.011834</td>\n",
       "    </tr>\n",
       "  </tbody>\n",
       "</table>\n",
       "</div>"
      ],
      "text/plain": [
       "    fn  tp     tn  fp  accuracy  precision    recall       fpr       fnr  \\\n",
       "0  166   1  27380   1  0.993938        0.5  0.005988  0.000037  0.994012   \n",
       "\n",
       "         f1  \n",
       "0  0.011834  "
      ]
     },
     "execution_count": 201,
     "metadata": {},
     "output_type": "execute_result"
    }
   ],
   "source": [
    "results = save_stats(results_df)\n",
    "results"
   ]
  },
  {
   "cell_type": "code",
   "execution_count": 39,
   "id": "traditional-merit",
   "metadata": {},
   "outputs": [
    {
     "name": "stdout",
     "output_type": "stream",
     "text": [
      "Predicted  False  True \n",
      "Actual                 \n",
      "False      27198    182\n",
      "True         123     43\n"
     ]
    },
    {
     "data": {
      "text/html": [
       "<div>\n",
       "<style scoped>\n",
       "    .dataframe tbody tr th:only-of-type {\n",
       "        vertical-align: middle;\n",
       "    }\n",
       "\n",
       "    .dataframe tbody tr th {\n",
       "        vertical-align: top;\n",
       "    }\n",
       "\n",
       "    .dataframe thead th {\n",
       "        text-align: right;\n",
       "    }\n",
       "</style>\n",
       "<table border=\"1\" class=\"dataframe\">\n",
       "  <thead>\n",
       "    <tr style=\"text-align: right;\">\n",
       "      <th></th>\n",
       "      <th>fn</th>\n",
       "      <th>tp</th>\n",
       "      <th>tn</th>\n",
       "      <th>fp</th>\n",
       "      <th>accuracy</th>\n",
       "      <th>precision</th>\n",
       "      <th>recall</th>\n",
       "      <th>fpr</th>\n",
       "      <th>fnr</th>\n",
       "      <th>f1</th>\n",
       "    </tr>\n",
       "  </thead>\n",
       "  <tbody>\n",
       "    <tr>\n",
       "      <th>0</th>\n",
       "      <td>123</td>\n",
       "      <td>43</td>\n",
       "      <td>27198</td>\n",
       "      <td>182</td>\n",
       "      <td>0.988928</td>\n",
       "      <td>0.191111</td>\n",
       "      <td>0.259036</td>\n",
       "      <td>0.006647</td>\n",
       "      <td>0.740964</td>\n",
       "      <td>0.219949</td>\n",
       "    </tr>\n",
       "  </tbody>\n",
       "</table>\n",
       "</div>"
      ],
      "text/plain": [
       "    fn  tp     tn   fp  accuracy  precision    recall       fpr       fnr  \\\n",
       "0  123  43  27198  182  0.988928   0.191111  0.259036  0.006647  0.740964   \n",
       "\n",
       "         f1  \n",
       "0  0.219949  "
      ]
     },
     "execution_count": 39,
     "metadata": {},
     "output_type": "execute_result"
    }
   ],
   "source": [
    "results2 = save_stats(results_df_2)\n",
    "results2"
   ]
  },
  {
   "cell_type": "markdown",
   "id": "bright-wrestling",
   "metadata": {},
   "source": [
    "## Using Random Undersampled Dataset"
   ]
  },
  {
   "cell_type": "code",
   "execution_count": null,
   "id": "comprehensive-province",
   "metadata": {},
   "outputs": [],
   "source": [
    "under_train.to_csv(path+'/final_dfs_for_reference/cbmultios_under_train_25April2021.csv')\n",
    "under_test.to_csv(path+'/final_dfs_for_reference/cbmultios_under_test_25April2021.csv')"
   ]
  },
  {
   "cell_type": "code",
   "execution_count": 41,
   "id": "attempted-glory",
   "metadata": {},
   "outputs": [],
   "source": [
    "under_train = pd.read_csv(path+'/final_dfs_for_reference/cbmultios_under_train_25April2021.csv', index_col=[0])"
   ]
  },
  {
   "cell_type": "code",
   "execution_count": 42,
   "id": "specified-grass",
   "metadata": {},
   "outputs": [],
   "source": [
    "under_test = pd.read_csv(path+'/final_dfs_for_reference/cbmultios_under_test_25April2021.csv', index_col=[0])"
   ]
  },
  {
   "cell_type": "code",
   "execution_count": 43,
   "id": "realistic-subscription",
   "metadata": {},
   "outputs": [],
   "source": [
    "under_train = under_train.reset_index(drop=True)\n",
    "under_test = under_test.reset_index(drop=True)"
   ]
  },
  {
   "cell_type": "code",
   "execution_count": 99,
   "id": "compound-tuesday",
   "metadata": {},
   "outputs": [
    {
     "data": {
      "text/plain": [
       "(356, 5)"
      ]
     },
     "execution_count": 99,
     "metadata": {},
     "output_type": "execute_result"
    }
   ],
   "source": [
    "under_test.shape"
   ]
  },
  {
   "cell_type": "code",
   "execution_count": 100,
   "id": "suspected-reservoir",
   "metadata": {},
   "outputs": [
    {
     "data": {
      "text/plain": [
       "(1420, 5)"
      ]
     },
     "execution_count": 100,
     "metadata": {},
     "output_type": "execute_result"
    }
   ],
   "source": [
    "under_train.shape"
   ]
  },
  {
   "cell_type": "code",
   "execution_count": 44,
   "id": "powerful-steam",
   "metadata": {},
   "outputs": [],
   "source": [
    "train_df = under_train[['fun_name', 'vulnerable', 'fuzzy_instr']]"
   ]
  },
  {
   "cell_type": "code",
   "execution_count": 45,
   "id": "political-nickname",
   "metadata": {},
   "outputs": [
    {
     "name": "stderr",
     "output_type": "stream",
     "text": [
      "<ipython-input-45-f64bb0f5bc56>:1: SettingWithCopyWarning: \n",
      "A value is trying to be set on a copy of a slice from a DataFrame.\n",
      "Try using .loc[row_indexer,col_indexer] = value instead\n",
      "\n",
      "See the caveats in the documentation: https://pandas.pydata.org/pandas-docs/stable/user_guide/indexing.html#returning-a-view-versus-a-copy\n",
      "  train_df['label'] = list(range(len(train_df.index)))\n"
     ]
    }
   ],
   "source": [
    "train_df['label'] = list(range(len(train_df.index)))"
   ]
  },
  {
   "cell_type": "code",
   "execution_count": 46,
   "id": "christian-champion",
   "metadata": {},
   "outputs": [
    {
     "name": "stderr",
     "output_type": "stream",
     "text": [
      "<ipython-input-46-737cbc42e4ea>:1: SettingWithCopyWarning: \n",
      "A value is trying to be set on a copy of a slice from a DataFrame.\n",
      "Try using .loc[row_indexer,col_indexer] = value instead\n",
      "\n",
      "See the caveats in the documentation: https://pandas.pydata.org/pandas-docs/stable/user_guide/indexing.html#returning-a-view-versus-a-copy\n",
      "  train_df['label'] = train_df.label.apply(lambda x: '__label__' + str(x))\n"
     ]
    }
   ],
   "source": [
    "train_df['label'] = train_df.label.apply(lambda x: '__label__' + str(x))"
   ]
  },
  {
   "cell_type": "code",
   "execution_count": 47,
   "id": "mighty-listening",
   "metadata": {},
   "outputs": [],
   "source": [
    "train_df[['label','fuzzy_instr']].to_csv(path+ '/fasttext/fasttext_cbmultios_under_train_27April21.txt', header=None, index=None, sep=' ', mode='a')"
   ]
  },
  {
   "cell_type": "code",
   "execution_count": 48,
   "id": "third-junction",
   "metadata": {},
   "outputs": [
    {
     "data": {
      "text/plain": [
       "'/Volumes/Research/VulnerabilityDatasets/Vulnerability_datasets/code/ghidra/ghidra_extractions-main'"
      ]
     },
     "execution_count": 48,
     "metadata": {},
     "output_type": "execute_result"
    }
   ],
   "source": [
    "path"
   ]
  },
  {
   "cell_type": "markdown",
   "id": "unusual-natural",
   "metadata": {},
   "source": [
    "find and replace all \" \" from the train and test files"
   ]
  },
  {
   "cell_type": "code",
   "execution_count": 49,
   "id": "paperback-jungle",
   "metadata": {},
   "outputs": [],
   "source": [
    "!sed -i \"\" 's/\"//g' /Volumes/Research/VulnerabilityDatasets/Vulnerability_datasets/code/ghidra/ghidra_extractions-main/fasttext/fasttext_cbmultios_under_train_27April21.txt"
   ]
  },
  {
   "cell_type": "markdown",
   "id": "unlimited-toddler",
   "metadata": {},
   "source": [
    "### train the supervised model"
   ]
  },
  {
   "cell_type": "code",
   "execution_count": 50,
   "id": "anticipated-angel",
   "metadata": {},
   "outputs": [
    {
     "name": "stdout",
     "output_type": "stream",
     "text": [
      "CPU times: user 23.3 s, sys: 367 ms, total: 23.7 s\n",
      "Wall time: 3.88 s\n"
     ]
    }
   ],
   "source": [
    "%%time\n",
    "model = fasttext.train_supervised(input=path+'/fasttext/fasttext_cbmultios_under_train_27April21.txt',  lr=.3, epoch=25, wordNgrams=2)"
   ]
  },
  {
   "cell_type": "markdown",
   "id": "abroad-wagner",
   "metadata": {},
   "source": [
    "### save the model"
   ]
  },
  {
   "cell_type": "code",
   "execution_count": 51,
   "id": "corrected-hanging",
   "metadata": {},
   "outputs": [],
   "source": [
    "model.save_model(path+'/fasttext/fasttext_cbmultios_under_train_27April21.bin')"
   ]
  },
  {
   "cell_type": "markdown",
   "id": "supposed-carpet",
   "metadata": {},
   "source": [
    "### use test set to assess the model"
   ]
  },
  {
   "cell_type": "code",
   "execution_count": null,
   "id": "alleged-festival",
   "metadata": {},
   "outputs": [],
   "source": [
    "under_test.head()"
   ]
  },
  {
   "cell_type": "code",
   "execution_count": 54,
   "id": "extensive-receiver",
   "metadata": {},
   "outputs": [],
   "source": [
    "under_test[['fuzzy_instr']].to_csv(path+ '/fasttext/fasttext_cbmultios_under_test_27April21.txt', header=None, index=None, sep=' ', mode='a')"
   ]
  },
  {
   "cell_type": "code",
   "execution_count": 55,
   "id": "knowing-wells",
   "metadata": {},
   "outputs": [
    {
     "data": {
      "text/plain": [
       "'/Volumes/Research/VulnerabilityDatasets/Vulnerability_datasets/code/ghidra/ghidra_extractions-main'"
      ]
     },
     "execution_count": 55,
     "metadata": {},
     "output_type": "execute_result"
    }
   ],
   "source": [
    "path"
   ]
  },
  {
   "cell_type": "code",
   "execution_count": 57,
   "id": "worse-lafayette",
   "metadata": {},
   "outputs": [],
   "source": [
    "!sed -i \"\" 's/\"//g' /Volumes/Research/VulnerabilityDatasets/Vulnerability_datasets/code/ghidra/ghidra_extractions-main/fasttext/fasttext_cbmultios_under_test_27April21.txt"
   ]
  },
  {
   "cell_type": "code",
   "execution_count": 58,
   "id": "adverse-estate",
   "metadata": {},
   "outputs": [
    {
     "data": {
      "text/plain": [
       "(('__label__343',), array([0.00076869]))"
      ]
     },
     "execution_count": 58,
     "metadata": {},
     "output_type": "execute_result"
    }
   ],
   "source": [
    "model.predict('push sbp mov rbp rsp sub num mov rbp addr mov rsi rbp addr lea num mov num call addr add num pop sbp ret')"
   ]
  },
  {
   "cell_type": "code",
   "execution_count": 64,
   "id": "bronze-daily",
   "metadata": {},
   "outputs": [],
   "source": [
    "def get_results(test_set):\n",
    "    results = list()\n",
    "    start_time = time.time()\n",
    "\n",
    "    for i, test in enumerate(test_set): \n",
    "\n",
    "        # see if milestone reached\n",
    "        if i in milestones:\n",
    "            print('milestone reached: ', i)\n",
    "            print(f'Time taken : {(time.time() - start_time) / 60:.2f} mins')\n",
    "            \n",
    "        test_str = str(test)\n",
    "        result = list(model.predict(test))\n",
    "        #print(result)\n",
    "        \n",
    "        '''\n",
    "        predicted_fun_name = list(result[0])[0].replace(\"__label__\",'')\n",
    "        train_index = original_train.index[original_train['fun_name'] == predicted_fun_name].tolist()[0]\n",
    "        predicted = original_train.iloc[train_index]['vulnerable']\n",
    "        predicted_instr = original_train.iloc[train_index]['fuzzy_instr']'''\n",
    "        \n",
    "        predicted_label_name = list(result[0])[0]\n",
    "        train_index = train_df.index[train_df['label'] == predicted_label_name].tolist()[0]\n",
    "        predicted_fun_name = train_df.iloc[train_index]['fun_name']\n",
    "        predicted = train_df.iloc[train_index]['vulnerable']\n",
    "        predicted_instr = train_df.iloc[train_index]['fuzzy_instr']\n",
    "\n",
    "        sim_array = result[1]\n",
    "        actual = under_test.iloc[i]['vulnerable']\n",
    "        actual_fun_name = under_test.iloc[i]['fun_name']\n",
    "        actual_instr = under_test.iloc[i]['fuzzy_instr']\n",
    "\n",
    "        results.append([actual_fun_name, actual, actual_instr, predicted_fun_name, predicted, predicted_instr])\n",
    "        \n",
    "    print(f'Time taken : {(time.time() - start_time) / 60:.2f} mins')\n",
    "    return results"
   ]
  },
  {
   "cell_type": "code",
   "execution_count": 65,
   "id": "incorrect-internet",
   "metadata": {},
   "outputs": [],
   "source": [
    "def read_corpus(fname):\n",
    "    test_set = list()\n",
    "    with smart_open.open(fname, encoding=\"UTF-8\") as f:\n",
    "        for i, line in enumerate(f):\n",
    "            test_set.append(line.strip('\\n'))\n",
    "    return test_set"
   ]
  },
  {
   "cell_type": "code",
   "execution_count": 66,
   "id": "documented-limit",
   "metadata": {},
   "outputs": [],
   "source": [
    "test = '/Volumes/Research/VulnerabilityDatasets/Vulnerability_datasets/code/ghidra/ghidra_extractions-main/fasttext/fasttext_cbmultios_under_test_27April21.txt'"
   ]
  },
  {
   "cell_type": "code",
   "execution_count": 67,
   "id": "featured-architecture",
   "metadata": {},
   "outputs": [],
   "source": [
    "test_corpus = list(read_corpus(test))"
   ]
  },
  {
   "cell_type": "code",
   "execution_count": 68,
   "id": "elect-minnesota",
   "metadata": {},
   "outputs": [
    {
     "data": {
      "text/plain": [
       "356"
      ]
     },
     "execution_count": 68,
     "metadata": {},
     "output_type": "execute_result"
    }
   ],
   "source": [
    "len(test_corpus)"
   ]
  },
  {
   "cell_type": "code",
   "execution_count": 69,
   "id": "collective-habitat",
   "metadata": {},
   "outputs": [
    {
     "data": {
      "text/plain": [
       "[36, 71, 107, 142, 178, 214, 249, 285, 320, 356]"
      ]
     },
     "execution_count": 69,
     "metadata": {},
     "output_type": "execute_result"
    }
   ],
   "source": [
    "milestones = [.1*len(test_corpus), .2*len(test_corpus), .3*len(test_corpus), .4*len(test_corpus), .5*len(test_corpus), .6*len(test_corpus), .7*len(test_corpus), \n",
    "             .8*len(test_corpus), .9*len(test_corpus), 1*len(test_corpus)]\n",
    "milestones = [round(x) for x in milestones]\n",
    "milestones"
   ]
  },
  {
   "cell_type": "code",
   "execution_count": 70,
   "id": "palestinian-generation",
   "metadata": {},
   "outputs": [
    {
     "name": "stdout",
     "output_type": "stream",
     "text": [
      "milestone reached:  36\n",
      "Time taken : 0.00 mins\n",
      "milestone reached:  71\n",
      "Time taken : 0.00 mins\n",
      "milestone reached:  107\n",
      "Time taken : 0.00 mins\n",
      "milestone reached:  142\n",
      "Time taken : 0.00 mins\n",
      "milestone reached:  178\n",
      "Time taken : 0.00 mins\n",
      "milestone reached:  214\n",
      "Time taken : 0.00 mins\n",
      "milestone reached:  249\n",
      "Time taken : 0.01 mins\n",
      "milestone reached:  285\n",
      "Time taken : 0.01 mins\n",
      "milestone reached:  320\n",
      "Time taken : 0.01 mins\n",
      "Time taken : 0.01 mins\n"
     ]
    }
   ],
   "source": [
    "results = get_results(test_corpus)"
   ]
  },
  {
   "cell_type": "code",
   "execution_count": 71,
   "id": "ready-psychology",
   "metadata": {},
   "outputs": [
    {
     "data": {
      "text/html": [
       "<div>\n",
       "<style scoped>\n",
       "    .dataframe tbody tr th:only-of-type {\n",
       "        vertical-align: middle;\n",
       "    }\n",
       "\n",
       "    .dataframe tbody tr th {\n",
       "        vertical-align: top;\n",
       "    }\n",
       "\n",
       "    .dataframe thead th {\n",
       "        text-align: right;\n",
       "    }\n",
       "</style>\n",
       "<table border=\"1\" class=\"dataframe\">\n",
       "  <thead>\n",
       "    <tr style=\"text-align: right;\">\n",
       "      <th></th>\n",
       "      <th>actual_fun_name</th>\n",
       "      <th>actual</th>\n",
       "      <th>actual_instr</th>\n",
       "      <th>predicted_fun_name</th>\n",
       "      <th>predicted</th>\n",
       "      <th>predicted_instr</th>\n",
       "    </tr>\n",
       "  </thead>\n",
       "  <tbody>\n",
       "    <tr>\n",
       "      <th>0</th>\n",
       "      <td>__invoke</td>\n",
       "      <td>False</td>\n",
       "      <td>push ebx push edi push esi sub esp num mov ebx...</td>\n",
       "      <td>Token</td>\n",
       "      <td>False</td>\n",
       "      <td>mov eax esp num xor ecx ecx mov eax ecx mov ea...</td>\n",
       "    </tr>\n",
       "    <tr>\n",
       "      <th>1</th>\n",
       "      <td>FUN_0804a030</td>\n",
       "      <td>False</td>\n",
       "      <td>push addr jmp addr</td>\n",
       "      <td>__libc_start_main</td>\n",
       "      <td>False</td>\n",
       "      <td>jmp addr</td>\n",
       "    </tr>\n",
       "    <tr>\n",
       "      <th>2</th>\n",
       "      <td>cgc_isupper</td>\n",
       "      <td>False</td>\n",
       "      <td>push ebp mov ebp esp push eax mov eax ebp num ...</td>\n",
       "      <td>cgc_clear_squarerabbit</td>\n",
       "      <td>False</td>\n",
       "      <td>push ebp mov ebp esp sub esp num mov eax ebp n...</td>\n",
       "    </tr>\n",
       "    <tr>\n",
       "      <th>3</th>\n",
       "      <td>Name</td>\n",
       "      <td>True</td>\n",
       "      <td>push ebp mov ebp esp push esi sub esp num mov ...</td>\n",
       "      <td>cgc_clear_squarerabbit</td>\n",
       "      <td>False</td>\n",
       "      <td>push ebp mov ebp esp sub esp num mov eax ebp n...</td>\n",
       "    </tr>\n",
       "    <tr>\n",
       "      <th>4</th>\n",
       "      <td>cgc_addAirport</td>\n",
       "      <td>True</td>\n",
       "      <td>push ebp mov ebp esp push esi sub esp num mov ...</td>\n",
       "      <td>cgc_protect</td>\n",
       "      <td>False</td>\n",
       "      <td>push ebp mov ebp esp sub esp num mov eax ebp n...</td>\n",
       "    </tr>\n",
       "    <tr>\n",
       "      <th>...</th>\n",
       "      <td>...</td>\n",
       "      <td>...</td>\n",
       "      <td>...</td>\n",
       "      <td>...</td>\n",
       "      <td>...</td>\n",
       "      <td>...</td>\n",
       "    </tr>\n",
       "    <tr>\n",
       "      <th>351</th>\n",
       "      <td>__invoke</td>\n",
       "      <td>False</td>\n",
       "      <td>push edi push esi sub esp num mov eax esp num ...</td>\n",
       "      <td>Token</td>\n",
       "      <td>False</td>\n",
       "      <td>mov eax esp num xor ecx ecx mov eax ecx mov ea...</td>\n",
       "    </tr>\n",
       "    <tr>\n",
       "      <th>352</th>\n",
       "      <td>cgc_strncasecmp</td>\n",
       "      <td>False</td>\n",
       "      <td>push ebp mov ebp esp push edi push esi sub esp...</td>\n",
       "      <td>snprintf</td>\n",
       "      <td>False</td>\n",
       "      <td>push ebp mov ebp esp push ebx push edi push es...</td>\n",
       "    </tr>\n",
       "    <tr>\n",
       "      <th>353</th>\n",
       "      <td>cgc_process_hypernutritionmarae</td>\n",
       "      <td>True</td>\n",
       "      <td>push ebp mov ebp esp push esi sub esp num mov ...</td>\n",
       "      <td>cgc_protect</td>\n",
       "      <td>False</td>\n",
       "      <td>push ebp mov ebp esp sub esp num mov eax ebp n...</td>\n",
       "    </tr>\n",
       "    <tr>\n",
       "      <th>354</th>\n",
       "      <td>runMetadata</td>\n",
       "      <td>True</td>\n",
       "      <td>push ebp push ebx push edi push esi sub esp nu...</td>\n",
       "      <td>Token</td>\n",
       "      <td>False</td>\n",
       "      <td>mov eax esp num xor ecx ecx mov eax ecx mov ea...</td>\n",
       "    </tr>\n",
       "    <tr>\n",
       "      <th>355</th>\n",
       "      <td>registerOps</td>\n",
       "      <td>False</td>\n",
       "      <td>push edi push esi sub esp num mov eax esp num ...</td>\n",
       "      <td>__invoke</td>\n",
       "      <td>False</td>\n",
       "      <td>sub esp num mov eax esp num mov ecx esp num mo...</td>\n",
       "    </tr>\n",
       "  </tbody>\n",
       "</table>\n",
       "<p>356 rows × 6 columns</p>\n",
       "</div>"
      ],
      "text/plain": [
       "                     actual_fun_name  actual  \\\n",
       "0                           __invoke   False   \n",
       "1                       FUN_0804a030   False   \n",
       "2                        cgc_isupper   False   \n",
       "3                               Name    True   \n",
       "4                     cgc_addAirport    True   \n",
       "..                               ...     ...   \n",
       "351                         __invoke   False   \n",
       "352                  cgc_strncasecmp   False   \n",
       "353  cgc_process_hypernutritionmarae    True   \n",
       "354                      runMetadata    True   \n",
       "355                      registerOps   False   \n",
       "\n",
       "                                          actual_instr  \\\n",
       "0    push ebx push edi push esi sub esp num mov ebx...   \n",
       "1                                   push addr jmp addr   \n",
       "2    push ebp mov ebp esp push eax mov eax ebp num ...   \n",
       "3    push ebp mov ebp esp push esi sub esp num mov ...   \n",
       "4    push ebp mov ebp esp push esi sub esp num mov ...   \n",
       "..                                                 ...   \n",
       "351  push edi push esi sub esp num mov eax esp num ...   \n",
       "352  push ebp mov ebp esp push edi push esi sub esp...   \n",
       "353  push ebp mov ebp esp push esi sub esp num mov ...   \n",
       "354  push ebp push ebx push edi push esi sub esp nu...   \n",
       "355  push edi push esi sub esp num mov eax esp num ...   \n",
       "\n",
       "         predicted_fun_name  predicted  \\\n",
       "0                     Token      False   \n",
       "1         __libc_start_main      False   \n",
       "2    cgc_clear_squarerabbit      False   \n",
       "3    cgc_clear_squarerabbit      False   \n",
       "4               cgc_protect      False   \n",
       "..                      ...        ...   \n",
       "351                   Token      False   \n",
       "352                snprintf      False   \n",
       "353             cgc_protect      False   \n",
       "354                   Token      False   \n",
       "355                __invoke      False   \n",
       "\n",
       "                                       predicted_instr  \n",
       "0    mov eax esp num xor ecx ecx mov eax ecx mov ea...  \n",
       "1                                             jmp addr  \n",
       "2    push ebp mov ebp esp sub esp num mov eax ebp n...  \n",
       "3    push ebp mov ebp esp sub esp num mov eax ebp n...  \n",
       "4    push ebp mov ebp esp sub esp num mov eax ebp n...  \n",
       "..                                                 ...  \n",
       "351  mov eax esp num xor ecx ecx mov eax ecx mov ea...  \n",
       "352  push ebp mov ebp esp push ebx push edi push es...  \n",
       "353  push ebp mov ebp esp sub esp num mov eax ebp n...  \n",
       "354  mov eax esp num xor ecx ecx mov eax ecx mov ea...  \n",
       "355  sub esp num mov eax esp num mov ecx esp num mo...  \n",
       "\n",
       "[356 rows x 6 columns]"
      ]
     },
     "execution_count": 71,
     "metadata": {},
     "output_type": "execute_result"
    }
   ],
   "source": [
    "results_df = pd.DataFrame(results, columns=['actual_fun_name', 'actual', 'actual_instr', 'predicted_fun_name',  'predicted', 'predicted_instr'])\n",
    "results_df"
   ]
  },
  {
   "cell_type": "markdown",
   "id": "virgin-monday",
   "metadata": {},
   "source": [
    "### Metrics"
   ]
  },
  {
   "cell_type": "code",
   "execution_count": 72,
   "id": "centered-atlas",
   "metadata": {},
   "outputs": [],
   "source": [
    "def metrics(df_confusion):\n",
    "    stats_list = list()\n",
    "\n",
    "    fn = df_confusion[0][1]\n",
    "    try: \n",
    "        tp = df_confusion[1][1]\n",
    "    except: \n",
    "        tp = 1\n",
    "    tn = df_confusion[0][0]\n",
    "    try: \n",
    "        fp = df_confusion[1][0]\n",
    "    except: \n",
    "        fp = 1\n",
    "    accuracy = (tp+tn)/(tp+fp+fn+tn)\n",
    "    precision = tp/(tp+fp)\n",
    "    recall = tp/(tp+fn)\n",
    "    fpr = fp / (fp+tn)\n",
    "    fnr = fn / (tp +fn)\n",
    "    f1 = (2*precision*recall)/(precision+recall)\n",
    "    stats_list.append([fn,tp,tn,fp,accuracy,precision,recall,fpr,fnr,f1])\n",
    "    return stats_list"
   ]
  },
  {
   "cell_type": "code",
   "execution_count": 73,
   "id": "social-toolbox",
   "metadata": {},
   "outputs": [],
   "source": [
    "def get_results(df): \n",
    "    y_actu = pd.Series(df['actual'], name='Actual')\n",
    "    y_pred = pd.Series(df['predicted'], name='Predicted')\n",
    "    df_confusion = pd.crosstab(y_actu, y_pred)\n",
    "    metrics(df_confusion)\n",
    "    return df_confusion"
   ]
  },
  {
   "cell_type": "code",
   "execution_count": 74,
   "id": "ruled-baking",
   "metadata": {},
   "outputs": [],
   "source": [
    "def save_df(df, dir_name, model_info):\n",
    "    directory = path + dir_name + '/'\n",
    "    today = str(date.today())\n",
    "    full = directory+model_info+'_'+today+'.csv'\n",
    "    df.to_csv(full)"
   ]
  },
  {
   "cell_type": "code",
   "execution_count": 75,
   "id": "dedicated-lighter",
   "metadata": {
    "tags": []
   },
   "outputs": [],
   "source": [
    "def save_stats(df):\n",
    "    df_confusion = get_results(df)\n",
    "    print(df_confusion)\n",
    "    stats_list = metrics(df_confusion)\n",
    "    stats_df = pd.DataFrame(stats_list, columns=['fn','tp','tn','fp','accuracy','precision','recall','fpr','fnr','f1'])\n",
    "    save_df(stats_df, '/cbmultios_metrics', 'cbmultios_fasttext_under_stats')\n",
    "    return stats_df"
   ]
  },
  {
   "cell_type": "code",
   "execution_count": 76,
   "id": "regional-mathematics",
   "metadata": {},
   "outputs": [
    {
     "name": "stdout",
     "output_type": "stream",
     "text": [
      "Predicted  False  True \n",
      "Actual                 \n",
      "False        168      0\n",
      "True         185      3\n"
     ]
    },
    {
     "data": {
      "text/html": [
       "<div>\n",
       "<style scoped>\n",
       "    .dataframe tbody tr th:only-of-type {\n",
       "        vertical-align: middle;\n",
       "    }\n",
       "\n",
       "    .dataframe tbody tr th {\n",
       "        vertical-align: top;\n",
       "    }\n",
       "\n",
       "    .dataframe thead th {\n",
       "        text-align: right;\n",
       "    }\n",
       "</style>\n",
       "<table border=\"1\" class=\"dataframe\">\n",
       "  <thead>\n",
       "    <tr style=\"text-align: right;\">\n",
       "      <th></th>\n",
       "      <th>fn</th>\n",
       "      <th>tp</th>\n",
       "      <th>tn</th>\n",
       "      <th>fp</th>\n",
       "      <th>accuracy</th>\n",
       "      <th>precision</th>\n",
       "      <th>recall</th>\n",
       "      <th>fpr</th>\n",
       "      <th>fnr</th>\n",
       "      <th>f1</th>\n",
       "    </tr>\n",
       "  </thead>\n",
       "  <tbody>\n",
       "    <tr>\n",
       "      <th>0</th>\n",
       "      <td>185</td>\n",
       "      <td>3</td>\n",
       "      <td>168</td>\n",
       "      <td>0</td>\n",
       "      <td>0.480337</td>\n",
       "      <td>1.0</td>\n",
       "      <td>0.015957</td>\n",
       "      <td>0.0</td>\n",
       "      <td>0.984043</td>\n",
       "      <td>0.031414</td>\n",
       "    </tr>\n",
       "  </tbody>\n",
       "</table>\n",
       "</div>"
      ],
      "text/plain": [
       "    fn  tp   tn  fp  accuracy  precision    recall  fpr       fnr        f1\n",
       "0  185   3  168   0  0.480337        1.0  0.015957  0.0  0.984043  0.031414"
      ]
     },
     "execution_count": 76,
     "metadata": {},
     "output_type": "execute_result"
    }
   ],
   "source": [
    "results = save_stats(results_df)\n",
    "results"
   ]
  },
  {
   "cell_type": "markdown",
   "id": "quantitative-liberal",
   "metadata": {},
   "source": [
    "## Using Random Oversampled Dataset"
   ]
  },
  {
   "cell_type": "code",
   "execution_count": 109,
   "id": "numerical-azerbaijan",
   "metadata": {},
   "outputs": [],
   "source": [
    "over_train = pd.read_csv(path+'/final_dfs_for_reference/cbmultios_over_train_25April2021.csv', index_col=[0])"
   ]
  },
  {
   "cell_type": "code",
   "execution_count": 110,
   "id": "dutch-curtis",
   "metadata": {},
   "outputs": [],
   "source": [
    "over_test = pd.read_csv(path+'/final_dfs_for_reference/cbmultios_over_test_25April2021.csv', index_col=[0])"
   ]
  },
  {
   "cell_type": "code",
   "execution_count": 111,
   "id": "noble-offense",
   "metadata": {},
   "outputs": [],
   "source": [
    "over_train = over_train.reset_index(drop=True)\n",
    "over_test = over_test.reset_index(drop=True)"
   ]
  },
  {
   "cell_type": "code",
   "execution_count": 112,
   "id": "amazing-glass",
   "metadata": {},
   "outputs": [
    {
     "data": {
      "text/plain": [
       "(218947, 5)"
      ]
     },
     "execution_count": 112,
     "metadata": {},
     "output_type": "execute_result"
    }
   ],
   "source": [
    "over_train.shape"
   ]
  },
  {
   "cell_type": "code",
   "execution_count": 113,
   "id": "under-translator",
   "metadata": {},
   "outputs": [
    {
     "data": {
      "text/plain": [
       "(54737, 5)"
      ]
     },
     "execution_count": 113,
     "metadata": {},
     "output_type": "execute_result"
    }
   ],
   "source": [
    "over_test.shape"
   ]
  },
  {
   "cell_type": "code",
   "execution_count": 114,
   "id": "certain-lincoln",
   "metadata": {},
   "outputs": [],
   "source": [
    "train_df = over_train[['fun_name', 'vulnerable', 'fuzzy_instr']]"
   ]
  },
  {
   "cell_type": "code",
   "execution_count": 115,
   "id": "commercial-setting",
   "metadata": {},
   "outputs": [
    {
     "name": "stderr",
     "output_type": "stream",
     "text": [
      "<ipython-input-115-f64bb0f5bc56>:1: SettingWithCopyWarning: \n",
      "A value is trying to be set on a copy of a slice from a DataFrame.\n",
      "Try using .loc[row_indexer,col_indexer] = value instead\n",
      "\n",
      "See the caveats in the documentation: https://pandas.pydata.org/pandas-docs/stable/user_guide/indexing.html#returning-a-view-versus-a-copy\n",
      "  train_df['label'] = list(range(len(train_df.index)))\n"
     ]
    }
   ],
   "source": [
    "train_df['label'] = list(range(len(train_df.index)))"
   ]
  },
  {
   "cell_type": "code",
   "execution_count": 116,
   "id": "sitting-antenna",
   "metadata": {},
   "outputs": [
    {
     "name": "stderr",
     "output_type": "stream",
     "text": [
      "<ipython-input-116-737cbc42e4ea>:1: SettingWithCopyWarning: \n",
      "A value is trying to be set on a copy of a slice from a DataFrame.\n",
      "Try using .loc[row_indexer,col_indexer] = value instead\n",
      "\n",
      "See the caveats in the documentation: https://pandas.pydata.org/pandas-docs/stable/user_guide/indexing.html#returning-a-view-versus-a-copy\n",
      "  train_df['label'] = train_df.label.apply(lambda x: '__label__' + str(x))\n"
     ]
    }
   ],
   "source": [
    "train_df['label'] = train_df.label.apply(lambda x: '__label__' + str(x))"
   ]
  },
  {
   "cell_type": "code",
   "execution_count": 117,
   "id": "unsigned-armstrong",
   "metadata": {},
   "outputs": [],
   "source": [
    "train_df[['label','fuzzy_instr']].to_csv(path+ '/fasttext/fasttext_cbmultios_over_train_27April21.txt', header=None, index=None, sep=' ', mode='a')"
   ]
  },
  {
   "cell_type": "code",
   "execution_count": 118,
   "id": "impressive-evaluation",
   "metadata": {},
   "outputs": [
    {
     "data": {
      "text/plain": [
       "'/Volumes/Research/VulnerabilityDatasets/Vulnerability_datasets/code/ghidra/ghidra_extractions-main'"
      ]
     },
     "execution_count": 118,
     "metadata": {},
     "output_type": "execute_result"
    }
   ],
   "source": [
    "path"
   ]
  },
  {
   "cell_type": "markdown",
   "id": "academic-motorcycle",
   "metadata": {},
   "source": [
    "find and replace all \" \" from the train and test files"
   ]
  },
  {
   "cell_type": "markdown",
   "id": "grand-fellowship",
   "metadata": {},
   "source": [
    "!sed -i \"\" 's/\"//g' /Volumes/Research/VulnerabilityDatasets/Vulnerability_datasets/code/ghidra/ghidra_extractions-main/fasttext/fasttext_cbmultios_over_train_27April21.txt"
   ]
  },
  {
   "cell_type": "markdown",
   "id": "opponent-electronics",
   "metadata": {},
   "source": [
    "### train the supervised model"
   ]
  },
  {
   "cell_type": "code",
   "execution_count": 120,
   "id": "antique-corruption",
   "metadata": {},
   "outputs": [
    {
     "name": "stdout",
     "output_type": "stream",
     "text": [
      "CPU times: user 2d 20h 24min 20s, sys: 8min 34s, total: 2d 20h 32min 54s\n",
      "Wall time: 9h 56min 16s\n"
     ]
    }
   ],
   "source": [
    "%%time\n",
    "model = fasttext.train_supervised(input=path+'/fasttext/fasttext_cbmultios_over_train_27April21.txt',  lr=.3, epoch=25, wordNgrams=2)"
   ]
  },
  {
   "cell_type": "markdown",
   "id": "liable-albuquerque",
   "metadata": {},
   "source": [
    "### save the model"
   ]
  },
  {
   "cell_type": "code",
   "execution_count": 121,
   "id": "fourth-squad",
   "metadata": {},
   "outputs": [],
   "source": [
    "model.save_model(path+'/fasttext/fasttext_cbmultios_over_train_27April21.bin')"
   ]
  },
  {
   "cell_type": "code",
   "execution_count": null,
   "id": "comparative-grade",
   "metadata": {},
   "outputs": [],
   "source": [
    "model = '/Volumes/Research/VulnerabilityDatasets/Vulnerability_datasets/code/ghidra/ghidra_extractions-main/fasttext/fasttext_cbmultios_over_train_27April21.bin'"
   ]
  },
  {
   "cell_type": "markdown",
   "id": "impaired-tumor",
   "metadata": {},
   "source": [
    "### use test set to assess the model"
   ]
  },
  {
   "cell_type": "code",
   "execution_count": 122,
   "id": "increased-underground",
   "metadata": {},
   "outputs": [
    {
     "data": {
      "text/html": [
       "<div>\n",
       "<style scoped>\n",
       "    .dataframe tbody tr th:only-of-type {\n",
       "        vertical-align: middle;\n",
       "    }\n",
       "\n",
       "    .dataframe tbody tr th {\n",
       "        vertical-align: top;\n",
       "    }\n",
       "\n",
       "    .dataframe thead th {\n",
       "        text-align: right;\n",
       "    }\n",
       "</style>\n",
       "<table border=\"1\" class=\"dataframe\">\n",
       "  <thead>\n",
       "    <tr style=\"text-align: right;\">\n",
       "      <th></th>\n",
       "      <th>sample_name</th>\n",
       "      <th>fun_name</th>\n",
       "      <th>fun_instr</th>\n",
       "      <th>vulnerable</th>\n",
       "      <th>fuzzy_instr</th>\n",
       "    </tr>\n",
       "  </thead>\n",
       "  <tbody>\n",
       "    <tr>\n",
       "      <th>0</th>\n",
       "      <td>Network_File_System</td>\n",
       "      <td>cgc_seed_prng_array</td>\n",
       "      <td>['PUSH EBP', 'MOV EBP,ESP', 'SUB ESP,0x18', 'M...</td>\n",
       "      <td>False</td>\n",
       "      <td>push ebp mov ebp esp sub esp num mov eax ebp n...</td>\n",
       "    </tr>\n",
       "    <tr>\n",
       "      <th>1</th>\n",
       "      <td>CableGrind</td>\n",
       "      <td>cgc_process_monodromiclyretail</td>\n",
       "      <td>['PUSH EBP', 'MOV EBP,ESP', 'PUSH ESI', 'SUB E...</td>\n",
       "      <td>True</td>\n",
       "      <td>push ebp mov ebp esp push esi sub esp num mov ...</td>\n",
       "    </tr>\n",
       "    <tr>\n",
       "      <th>2</th>\n",
       "      <td>electronictrading</td>\n",
       "      <td>cgc_insert_stock</td>\n",
       "      <td>['PUSH EBP', 'MOV EBP,ESP', 'PUSH ESI', 'SUB E...</td>\n",
       "      <td>True</td>\n",
       "      <td>push ebp mov ebp esp push esi sub esp num mov ...</td>\n",
       "    </tr>\n",
       "    <tr>\n",
       "      <th>3</th>\n",
       "      <td>Neural_House</td>\n",
       "      <td>push_back</td>\n",
       "      <td>['PUSH EBP', 'MOV EBP,ESP', 'PUSH EDI', 'PUSH ...</td>\n",
       "      <td>False</td>\n",
       "      <td>push ebp mov ebp esp push edi push esi sub esp...</td>\n",
       "    </tr>\n",
       "    <tr>\n",
       "      <th>4</th>\n",
       "      <td>CableGrind</td>\n",
       "      <td>cgc_remove</td>\n",
       "      <td>['PUSH EBP', 'MOV EBP,ESP', 'MOV EAX,dword ptr...</td>\n",
       "      <td>True</td>\n",
       "      <td>push ebp mov ebp esp mov eax ebp num mov ecx e...</td>\n",
       "    </tr>\n",
       "  </tbody>\n",
       "</table>\n",
       "</div>"
      ],
      "text/plain": [
       "           sample_name                        fun_name  \\\n",
       "0  Network_File_System             cgc_seed_prng_array   \n",
       "1           CableGrind  cgc_process_monodromiclyretail   \n",
       "2    electronictrading                cgc_insert_stock   \n",
       "3         Neural_House                       push_back   \n",
       "4           CableGrind                      cgc_remove   \n",
       "\n",
       "                                           fun_instr  vulnerable  \\\n",
       "0  ['PUSH EBP', 'MOV EBP,ESP', 'SUB ESP,0x18', 'M...       False   \n",
       "1  ['PUSH EBP', 'MOV EBP,ESP', 'PUSH ESI', 'SUB E...        True   \n",
       "2  ['PUSH EBP', 'MOV EBP,ESP', 'PUSH ESI', 'SUB E...        True   \n",
       "3  ['PUSH EBP', 'MOV EBP,ESP', 'PUSH EDI', 'PUSH ...       False   \n",
       "4  ['PUSH EBP', 'MOV EBP,ESP', 'MOV EAX,dword ptr...        True   \n",
       "\n",
       "                                         fuzzy_instr  \n",
       "0  push ebp mov ebp esp sub esp num mov eax ebp n...  \n",
       "1  push ebp mov ebp esp push esi sub esp num mov ...  \n",
       "2  push ebp mov ebp esp push esi sub esp num mov ...  \n",
       "3  push ebp mov ebp esp push edi push esi sub esp...  \n",
       "4  push ebp mov ebp esp mov eax ebp num mov ecx e...  "
      ]
     },
     "execution_count": 122,
     "metadata": {},
     "output_type": "execute_result"
    }
   ],
   "source": [
    "over_test.head()"
   ]
  },
  {
   "cell_type": "code",
   "execution_count": 123,
   "id": "single-jenny",
   "metadata": {},
   "outputs": [],
   "source": [
    "over_test[['fuzzy_instr']].to_csv(path+ '/fasttext/fasttext_cbmultios_over_test_27April21.txt', header=None, index=None, sep=' ', mode='a')"
   ]
  },
  {
   "cell_type": "code",
   "execution_count": 55,
   "id": "entire-choir",
   "metadata": {},
   "outputs": [
    {
     "data": {
      "text/plain": [
       "'/Volumes/Research/VulnerabilityDatasets/Vulnerability_datasets/code/ghidra/ghidra_extractions-main'"
      ]
     },
     "execution_count": 55,
     "metadata": {},
     "output_type": "execute_result"
    }
   ],
   "source": [
    "path"
   ]
  },
  {
   "cell_type": "code",
   "execution_count": 124,
   "id": "subtle-folks",
   "metadata": {},
   "outputs": [],
   "source": [
    "!sed -i \"\" 's/\"//g' /Volumes/Research/VulnerabilityDatasets/Vulnerability_datasets/code/ghidra/ghidra_extractions-main/fasttext/fasttext_cbmultios_over_test_27April21.txt"
   ]
  },
  {
   "cell_type": "code",
   "execution_count": 125,
   "id": "hydraulic-transaction",
   "metadata": {},
   "outputs": [
    {
     "data": {
      "text/plain": [
       "(('__label__143682',), array([0.85739934]))"
      ]
     },
     "execution_count": 125,
     "metadata": {},
     "output_type": "execute_result"
    }
   ],
   "source": [
    "model.predict('push sbp rsp sub num mov rbp addr mov rsi rbp addr lea num mov num call addr add num pop sbp ret')"
   ]
  },
  {
   "cell_type": "code",
   "execution_count": 126,
   "id": "premium-moore",
   "metadata": {},
   "outputs": [],
   "source": [
    "def get_results(test_set):\n",
    "    results = list()\n",
    "    start_time = time.time()\n",
    "\n",
    "    for i, test in enumerate(test_set): \n",
    "\n",
    "        # see if milestone reached\n",
    "        if i in milestones:\n",
    "            print('milestone reached: ', i)\n",
    "            print(f'Time taken : {(time.time() - start_time) / 60:.2f} mins')\n",
    "            \n",
    "        test_str = str(test)\n",
    "        result = list(model.predict(test))\n",
    "        #print(result)\n",
    "        \n",
    "        '''\n",
    "        predicted_fun_name = list(result[0])[0].replace(\"__label__\",'')\n",
    "        train_index = original_train.index[original_train['fun_name'] == predicted_fun_name].tolist()[0]\n",
    "        predicted = original_train.iloc[train_index]['vulnerable']\n",
    "        predicted_instr = original_train.iloc[train_index]['fuzzy_instr']'''\n",
    "        \n",
    "        predicted_label_name = list(result[0])[0]\n",
    "        train_index = train_df.index[train_df['label'] == predicted_label_name].tolist()[0]\n",
    "        predicted_fun_name = train_df.iloc[train_index]['fun_name']\n",
    "        predicted = train_df.iloc[train_index]['vulnerable']\n",
    "        predicted_instr = train_df.iloc[train_index]['fuzzy_instr']\n",
    "\n",
    "        sim_array = result[1]\n",
    "        actual = over_test.iloc[i]['vulnerable']\n",
    "        actual_fun_name = over_test.iloc[i]['fun_name']\n",
    "        actual_instr = over_test.iloc[i]['fuzzy_instr']\n",
    "\n",
    "        results.append([actual_fun_name, actual, actual_instr, predicted_fun_name, predicted, predicted_instr])\n",
    "        \n",
    "    print(f'Time taken : {(time.time() - start_time) / 60:.2f} mins')\n",
    "    return results"
   ]
  },
  {
   "cell_type": "code",
   "execution_count": 127,
   "id": "entire-smoke",
   "metadata": {},
   "outputs": [],
   "source": [
    "def read_corpus(fname):\n",
    "    test_set = list()\n",
    "    with smart_open.open(fname, encoding=\"UTF-8\") as f:\n",
    "        for i, line in enumerate(f):\n",
    "            test_set.append(line.strip('\\n'))\n",
    "    return test_set"
   ]
  },
  {
   "cell_type": "code",
   "execution_count": 128,
   "id": "decimal-linux",
   "metadata": {},
   "outputs": [],
   "source": [
    "test = '/Volumes/Research/VulnerabilityDatasets/Vulnerability_datasets/code/ghidra/ghidra_extractions-main/fasttext/fasttext_cbmultios_over_test_27April21.txt'"
   ]
  },
  {
   "cell_type": "code",
   "execution_count": 129,
   "id": "tight-arbitration",
   "metadata": {},
   "outputs": [],
   "source": [
    "test_corpus = list(read_corpus(test))"
   ]
  },
  {
   "cell_type": "code",
   "execution_count": 130,
   "id": "spectacular-purpose",
   "metadata": {},
   "outputs": [
    {
     "data": {
      "text/plain": [
       "54737"
      ]
     },
     "execution_count": 130,
     "metadata": {},
     "output_type": "execute_result"
    }
   ],
   "source": [
    "len(test_corpus)"
   ]
  },
  {
   "cell_type": "code",
   "execution_count": 131,
   "id": "patent-receptor",
   "metadata": {},
   "outputs": [
    {
     "data": {
      "text/plain": [
       "[5474, 10947, 16421, 21895, 27368, 32842, 38316, 43790, 49263, 54737]"
      ]
     },
     "execution_count": 131,
     "metadata": {},
     "output_type": "execute_result"
    }
   ],
   "source": [
    "milestones = [.1*len(test_corpus), .2*len(test_corpus), .3*len(test_corpus), .4*len(test_corpus), .5*len(test_corpus), .6*len(test_corpus), .7*len(test_corpus), \n",
    "             .8*len(test_corpus), .9*len(test_corpus), 1*len(test_corpus)]\n",
    "milestones = [round(x) for x in milestones]\n",
    "milestones"
   ]
  },
  {
   "cell_type": "code",
   "execution_count": 132,
   "id": "compact-coverage",
   "metadata": {},
   "outputs": [
    {
     "name": "stdout",
     "output_type": "stream",
     "text": [
      "milestone reached:  5474\n",
      "Time taken : 2.84 mins\n",
      "milestone reached:  10947\n",
      "Time taken : 5.68 mins\n",
      "milestone reached:  16421\n",
      "Time taken : 8.52 mins\n",
      "milestone reached:  21895\n",
      "Time taken : 11.37 mins\n",
      "milestone reached:  27368\n",
      "Time taken : 14.21 mins\n",
      "milestone reached:  32842\n",
      "Time taken : 17.04 mins\n",
      "milestone reached:  38316\n",
      "Time taken : 19.88 mins\n",
      "milestone reached:  43790\n",
      "Time taken : 22.71 mins\n",
      "milestone reached:  49263\n",
      "Time taken : 25.54 mins\n",
      "Time taken : 28.38 mins\n"
     ]
    }
   ],
   "source": [
    "results = get_results(test_corpus)"
   ]
  },
  {
   "cell_type": "code",
   "execution_count": 133,
   "id": "adaptive-starter",
   "metadata": {},
   "outputs": [
    {
     "data": {
      "text/html": [
       "<div>\n",
       "<style scoped>\n",
       "    .dataframe tbody tr th:only-of-type {\n",
       "        vertical-align: middle;\n",
       "    }\n",
       "\n",
       "    .dataframe tbody tr th {\n",
       "        vertical-align: top;\n",
       "    }\n",
       "\n",
       "    .dataframe thead th {\n",
       "        text-align: right;\n",
       "    }\n",
       "</style>\n",
       "<table border=\"1\" class=\"dataframe\">\n",
       "  <thead>\n",
       "    <tr style=\"text-align: right;\">\n",
       "      <th></th>\n",
       "      <th>actual_fun_name</th>\n",
       "      <th>actual</th>\n",
       "      <th>actual_instr</th>\n",
       "      <th>predicted_fun_name</th>\n",
       "      <th>predicted</th>\n",
       "      <th>predicted_instr</th>\n",
       "    </tr>\n",
       "  </thead>\n",
       "  <tbody>\n",
       "    <tr>\n",
       "      <th>0</th>\n",
       "      <td>cgc_seed_prng_array</td>\n",
       "      <td>False</td>\n",
       "      <td>push ebp mov ebp esp sub esp num mov eax ebp n...</td>\n",
       "      <td>cgc_generate_csum</td>\n",
       "      <td>False</td>\n",
       "      <td>push ebp mov ebp esp sub esp num mov eax ebp n...</td>\n",
       "    </tr>\n",
       "    <tr>\n",
       "      <th>1</th>\n",
       "      <td>cgc_process_monodromiclyretail</td>\n",
       "      <td>True</td>\n",
       "      <td>push ebp mov ebp esp push esi sub esp num mov ...</td>\n",
       "      <td>cgc_process_oilinessbookwright</td>\n",
       "      <td>True</td>\n",
       "      <td>push ebp mov ebp esp push esi sub esp num mov ...</td>\n",
       "    </tr>\n",
       "    <tr>\n",
       "      <th>2</th>\n",
       "      <td>cgc_insert_stock</td>\n",
       "      <td>True</td>\n",
       "      <td>push ebp mov ebp esp push esi sub esp num mov ...</td>\n",
       "      <td>cgc_insert_stock</td>\n",
       "      <td>True</td>\n",
       "      <td>push ebp mov ebp esp push esi sub esp num mov ...</td>\n",
       "    </tr>\n",
       "    <tr>\n",
       "      <th>3</th>\n",
       "      <td>push_back</td>\n",
       "      <td>False</td>\n",
       "      <td>push ebp mov ebp esp push edi push esi sub esp...</td>\n",
       "      <td>__cgc_draw_bars_block_invoke</td>\n",
       "      <td>False</td>\n",
       "      <td>push ebp mov ebp esp push edi push esi sub esp...</td>\n",
       "    </tr>\n",
       "    <tr>\n",
       "      <th>4</th>\n",
       "      <td>cgc_remove</td>\n",
       "      <td>True</td>\n",
       "      <td>push ebp mov ebp esp mov eax ebp num mov ecx e...</td>\n",
       "      <td>cgc_remove</td>\n",
       "      <td>True</td>\n",
       "      <td>push ebp mov ebp esp mov eax ebp num mov ecx e...</td>\n",
       "    </tr>\n",
       "    <tr>\n",
       "      <th>...</th>\n",
       "      <td>...</td>\n",
       "      <td>...</td>\n",
       "      <td>...</td>\n",
       "      <td>...</td>\n",
       "      <td>...</td>\n",
       "      <td>...</td>\n",
       "    </tr>\n",
       "    <tr>\n",
       "      <th>54732</th>\n",
       "      <td>cgc_memmove</td>\n",
       "      <td>False</td>\n",
       "      <td>push ebp mov ebp esp push esi sub esp num mov ...</td>\n",
       "      <td>cgc_memmove</td>\n",
       "      <td>False</td>\n",
       "      <td>push ebp mov ebp esp push esi sub esp num mov ...</td>\n",
       "    </tr>\n",
       "    <tr>\n",
       "      <th>54733</th>\n",
       "      <td>cgc_hash_seed</td>\n",
       "      <td>False</td>\n",
       "      <td>push ebp mov ebp esp sub esp num mov eax ebp n...</td>\n",
       "      <td>cgc_hash_seed</td>\n",
       "      <td>False</td>\n",
       "      <td>push ebp mov ebp esp sub esp num mov eax ebp n...</td>\n",
       "    </tr>\n",
       "    <tr>\n",
       "      <th>54734</th>\n",
       "      <td>cgc_delete_message</td>\n",
       "      <td>True</td>\n",
       "      <td>push ebp mov ebp esp sub esp num mov eax ebp n...</td>\n",
       "      <td>cgc_delete_message</td>\n",
       "      <td>True</td>\n",
       "      <td>push ebp mov ebp esp sub esp num mov eax ebp n...</td>\n",
       "    </tr>\n",
       "    <tr>\n",
       "      <th>54735</th>\n",
       "      <td>Usage</td>\n",
       "      <td>False</td>\n",
       "      <td>push ebp mov ebp esp push eax mov eax ebp num ...</td>\n",
       "      <td>Usage</td>\n",
       "      <td>False</td>\n",
       "      <td>push ebp mov ebp esp push eax mov eax ebp num ...</td>\n",
       "    </tr>\n",
       "    <tr>\n",
       "      <th>54736</th>\n",
       "      <td>cgc_tolower</td>\n",
       "      <td>False</td>\n",
       "      <td>mov eax esp num cmp eax num ja addr lea ecx ea...</td>\n",
       "      <td>cgc_tolower</td>\n",
       "      <td>False</td>\n",
       "      <td>mov eax esp num cmp eax num ja addr lea ecx ea...</td>\n",
       "    </tr>\n",
       "  </tbody>\n",
       "</table>\n",
       "<p>54737 rows × 6 columns</p>\n",
       "</div>"
      ],
      "text/plain": [
       "                      actual_fun_name  actual  \\\n",
       "0                 cgc_seed_prng_array   False   \n",
       "1      cgc_process_monodromiclyretail    True   \n",
       "2                    cgc_insert_stock    True   \n",
       "3                           push_back   False   \n",
       "4                          cgc_remove    True   \n",
       "...                               ...     ...   \n",
       "54732                     cgc_memmove   False   \n",
       "54733                   cgc_hash_seed   False   \n",
       "54734              cgc_delete_message    True   \n",
       "54735                           Usage   False   \n",
       "54736                     cgc_tolower   False   \n",
       "\n",
       "                                            actual_instr  \\\n",
       "0      push ebp mov ebp esp sub esp num mov eax ebp n...   \n",
       "1      push ebp mov ebp esp push esi sub esp num mov ...   \n",
       "2      push ebp mov ebp esp push esi sub esp num mov ...   \n",
       "3      push ebp mov ebp esp push edi push esi sub esp...   \n",
       "4      push ebp mov ebp esp mov eax ebp num mov ecx e...   \n",
       "...                                                  ...   \n",
       "54732  push ebp mov ebp esp push esi sub esp num mov ...   \n",
       "54733  push ebp mov ebp esp sub esp num mov eax ebp n...   \n",
       "54734  push ebp mov ebp esp sub esp num mov eax ebp n...   \n",
       "54735  push ebp mov ebp esp push eax mov eax ebp num ...   \n",
       "54736  mov eax esp num cmp eax num ja addr lea ecx ea...   \n",
       "\n",
       "                   predicted_fun_name  predicted  \\\n",
       "0                   cgc_generate_csum      False   \n",
       "1      cgc_process_oilinessbookwright       True   \n",
       "2                    cgc_insert_stock       True   \n",
       "3        __cgc_draw_bars_block_invoke      False   \n",
       "4                          cgc_remove       True   \n",
       "...                               ...        ...   \n",
       "54732                     cgc_memmove      False   \n",
       "54733                   cgc_hash_seed      False   \n",
       "54734              cgc_delete_message       True   \n",
       "54735                           Usage      False   \n",
       "54736                     cgc_tolower      False   \n",
       "\n",
       "                                         predicted_instr  \n",
       "0      push ebp mov ebp esp sub esp num mov eax ebp n...  \n",
       "1      push ebp mov ebp esp push esi sub esp num mov ...  \n",
       "2      push ebp mov ebp esp push esi sub esp num mov ...  \n",
       "3      push ebp mov ebp esp push edi push esi sub esp...  \n",
       "4      push ebp mov ebp esp mov eax ebp num mov ecx e...  \n",
       "...                                                  ...  \n",
       "54732  push ebp mov ebp esp push esi sub esp num mov ...  \n",
       "54733  push ebp mov ebp esp sub esp num mov eax ebp n...  \n",
       "54734  push ebp mov ebp esp sub esp num mov eax ebp n...  \n",
       "54735  push ebp mov ebp esp push eax mov eax ebp num ...  \n",
       "54736  mov eax esp num cmp eax num ja addr lea ecx ea...  \n",
       "\n",
       "[54737 rows x 6 columns]"
      ]
     },
     "execution_count": 133,
     "metadata": {},
     "output_type": "execute_result"
    }
   ],
   "source": [
    "results_df = pd.DataFrame(results, columns=['actual_fun_name', 'actual', 'actual_instr', 'predicted_fun_name',  'predicted', 'predicted_instr'])\n",
    "results_df"
   ]
  },
  {
   "cell_type": "markdown",
   "id": "informed-rebel",
   "metadata": {},
   "source": [
    "### Metrics"
   ]
  },
  {
   "cell_type": "code",
   "execution_count": 134,
   "id": "secondary-spring",
   "metadata": {},
   "outputs": [],
   "source": [
    "def metrics(df_confusion):\n",
    "    stats_list = list()\n",
    "\n",
    "    fn = df_confusion[0][1]\n",
    "    try: \n",
    "        tp = df_confusion[1][1]\n",
    "    except: \n",
    "        tp = 1\n",
    "    tn = df_confusion[0][0]\n",
    "    try: \n",
    "        fp = df_confusion[1][0]\n",
    "    except: \n",
    "        fp = 1\n",
    "    accuracy = (tp+tn)/(tp+fp+fn+tn)\n",
    "    precision = tp/(tp+fp)\n",
    "    recall = tp/(tp+fn)\n",
    "    fpr = fp / (fp+tn)\n",
    "    fnr = fn / (tp +fn)\n",
    "    f1 = (2*precision*recall)/(precision+recall)\n",
    "    stats_list.append([fn,tp,tn,fp,accuracy,precision,recall,fpr,fnr,f1])\n",
    "    return stats_list"
   ]
  },
  {
   "cell_type": "code",
   "execution_count": 135,
   "id": "limited-strategy",
   "metadata": {},
   "outputs": [],
   "source": [
    "def get_results(df): \n",
    "    y_actu = pd.Series(df['actual'], name='Actual')\n",
    "    y_pred = pd.Series(df['predicted'], name='Predicted')\n",
    "    df_confusion = pd.crosstab(y_actu, y_pred)\n",
    "    metrics(df_confusion)\n",
    "    return df_confusion"
   ]
  },
  {
   "cell_type": "code",
   "execution_count": 136,
   "id": "polish-building",
   "metadata": {},
   "outputs": [],
   "source": [
    "def save_df(df, dir_name, model_info):\n",
    "    directory = path + dir_name + '/'\n",
    "    today = str(date.today())\n",
    "    full = directory+model_info+'_'+today+'.csv'\n",
    "    df.to_csv(full)"
   ]
  },
  {
   "cell_type": "code",
   "execution_count": 137,
   "id": "polyphonic-compensation",
   "metadata": {
    "tags": []
   },
   "outputs": [],
   "source": [
    "def save_stats(df):\n",
    "    df_confusion = get_results(df)\n",
    "    print(df_confusion)\n",
    "    stats_list = metrics(df_confusion)\n",
    "    stats_df = pd.DataFrame(stats_list, columns=['fn','tp','tn','fp','accuracy','precision','recall','fpr','fnr','f1'])\n",
    "    save_df(stats_df, '/cbmultios_metrics', 'cbmultios_fasttext_over_stats')\n",
    "    return stats_df"
   ]
  },
  {
   "cell_type": "code",
   "execution_count": 138,
   "id": "forty-request",
   "metadata": {},
   "outputs": [
    {
     "name": "stdout",
     "output_type": "stream",
     "text": [
      "Predicted  False  True \n",
      "Actual                 \n",
      "False      26931    585\n",
      "True        1413  25808\n"
     ]
    },
    {
     "data": {
      "text/html": [
       "<div>\n",
       "<style scoped>\n",
       "    .dataframe tbody tr th:only-of-type {\n",
       "        vertical-align: middle;\n",
       "    }\n",
       "\n",
       "    .dataframe tbody tr th {\n",
       "        vertical-align: top;\n",
       "    }\n",
       "\n",
       "    .dataframe thead th {\n",
       "        text-align: right;\n",
       "    }\n",
       "</style>\n",
       "<table border=\"1\" class=\"dataframe\">\n",
       "  <thead>\n",
       "    <tr style=\"text-align: right;\">\n",
       "      <th></th>\n",
       "      <th>fn</th>\n",
       "      <th>tp</th>\n",
       "      <th>tn</th>\n",
       "      <th>fp</th>\n",
       "      <th>accuracy</th>\n",
       "      <th>precision</th>\n",
       "      <th>recall</th>\n",
       "      <th>fpr</th>\n",
       "      <th>fnr</th>\n",
       "      <th>f1</th>\n",
       "    </tr>\n",
       "  </thead>\n",
       "  <tbody>\n",
       "    <tr>\n",
       "      <th>0</th>\n",
       "      <td>1413</td>\n",
       "      <td>25808</td>\n",
       "      <td>26931</td>\n",
       "      <td>585</td>\n",
       "      <td>0.963498</td>\n",
       "      <td>0.977835</td>\n",
       "      <td>0.948092</td>\n",
       "      <td>0.02126</td>\n",
       "      <td>0.051908</td>\n",
       "      <td>0.962734</td>\n",
       "    </tr>\n",
       "  </tbody>\n",
       "</table>\n",
       "</div>"
      ],
      "text/plain": [
       "     fn     tp     tn   fp  accuracy  precision    recall      fpr       fnr  \\\n",
       "0  1413  25808  26931  585  0.963498   0.977835  0.948092  0.02126  0.051908   \n",
       "\n",
       "         f1  \n",
       "0  0.962734  "
      ]
     },
     "execution_count": 138,
     "metadata": {},
     "output_type": "execute_result"
    }
   ],
   "source": [
    "results = save_stats(results_df)\n",
    "results"
   ]
  },
  {
   "cell_type": "markdown",
   "id": "vulnerable-silence",
   "metadata": {},
   "source": [
    "### fastText with random oversampled -- visualize"
   ]
  },
  {
   "cell_type": "code",
   "execution_count": null,
   "id": "legendary-copyright",
   "metadata": {},
   "outputs": [],
   "source": [
    "path = '/Volumes/Research/VulnerabilityDatasets/Vulnerability_datasets/code/ghidra/ghidra_extractions-main/fasttext/fasttext_cbmultios_over_train_27April21.bin'"
   ]
  },
  {
   "cell_type": "code",
   "execution_count": null,
   "id": "worst-february",
   "metadata": {},
   "outputs": [],
   "source": [
    "from gensim.test.utils import datapath"
   ]
  },
  {
   "cell_type": "code",
   "execution_count": null,
   "id": "common-angle",
   "metadata": {},
   "outputs": [],
   "source": [
    "model_path = datapath(path)"
   ]
  },
  {
   "cell_type": "code",
   "execution_count": null,
   "id": "nonprofit-tower",
   "metadata": {},
   "outputs": [],
   "source": [
    "model = load_facebook_model(model_path)"
   ]
  },
  {
   "cell_type": "code",
   "execution_count": null,
   "id": "desirable-indication",
   "metadata": {},
   "outputs": [],
   "source": [
    "from scipy.cluster.hierarchy import dendrogram, linkage\n",
    "import matplotlib.pyplot as plt\n",
    "\n",
    "#fig, ax = plt.subplots(figsize=(30,10))\n",
    "#distance matrix\n",
    "dist = np.dot(model.wv.vectors_norm, model.wv.vectors_norm.T)\n",
    "\n",
    "#clusters\n",
    "h = linkage(dist, method='ward')\n",
    "\n",
    "# explicit interface\n",
    "fig, ax = plt.subplots(figsize=(30,10))\n",
    "#dendrogram\n",
    "dendrogram(h,  \n",
    "            labels = np.array(model.wv.index2entity),\n",
    "            distance_sort = 'descending')\n",
    "ax.tick_params(axis='x', which='major', labelsize=17)\n",
    "ax.tick_params(axis='y', which='major', labelsize=10)\n",
    "fig.savefig('/Volumes/Research/VulnerabilityDatasets/Vulnerability_datasets/code/ghidra/ghidra_extractions-main/fasttext/fuzzyinst_fasttextDendrogram_08June1.png', dpi=200)"
   ]
  },
  {
   "cell_type": "markdown",
   "id": "limited-composite",
   "metadata": {},
   "source": [
    "# Gather Metrics from Tests"
   ]
  },
  {
   "cell_type": "markdown",
   "id": "gorgeous-sarah",
   "metadata": {},
   "source": [
    "#### glob in dfs"
   ]
  },
  {
   "cell_type": "code",
   "execution_count": 139,
   "id": "agricultural-dispatch",
   "metadata": {},
   "outputs": [],
   "source": [
    "import glob"
   ]
  },
  {
   "cell_type": "code",
   "execution_count": 140,
   "id": "configured-radiation",
   "metadata": {},
   "outputs": [],
   "source": [
    "def collect_workers(base_dir):\n",
    "    dfs = [pd.read_csv(file, index_col=[0]) for file in glob.glob(base_dir+'cbmultios_*.csv', recursive=False)]\n",
    "    names = [os.path.basename(file) for file in glob.glob(base_dir+'cbmultios_*.csv', recursive=False)]\n",
    "    return dfs, names"
   ]
  },
  {
   "cell_type": "code",
   "execution_count": 141,
   "id": "outdoor-interim",
   "metadata": {},
   "outputs": [],
   "source": [
    "base_dir = path + '/cbmultios_metrics/'\n",
    "frames, names = collect_workers(base_dir)"
   ]
  },
  {
   "cell_type": "code",
   "execution_count": 142,
   "id": "elect-malaysia",
   "metadata": {},
   "outputs": [
    {
     "data": {
      "text/plain": [
       "6"
      ]
     },
     "execution_count": 142,
     "metadata": {},
     "output_type": "execute_result"
    }
   ],
   "source": [
    "len(frames)"
   ]
  },
  {
   "cell_type": "code",
   "execution_count": 143,
   "id": "monthly-thailand",
   "metadata": {},
   "outputs": [],
   "source": [
    "final_stats_df = pd.concat(frames, axis=0)"
   ]
  },
  {
   "cell_type": "code",
   "execution_count": 144,
   "id": "formal-latin",
   "metadata": {},
   "outputs": [],
   "source": [
    "experiment = ['D2V Original',\n",
    "             'D2V Oversampling',\n",
    "             'D2V Undersampling', \n",
    "             'fastText Original',\n",
    "             'fastText Oversampling',\n",
    "             'fastText Undersampling']"
   ]
  },
  {
   "cell_type": "code",
   "execution_count": 145,
   "id": "sharp-yukon",
   "metadata": {},
   "outputs": [],
   "source": [
    "final_stats_df['experiment'] = pd.Series(experiment).values"
   ]
  },
  {
   "cell_type": "code",
   "execution_count": 146,
   "id": "joint-button",
   "metadata": {},
   "outputs": [
    {
     "data": {
      "text/html": [
       "<div>\n",
       "<style scoped>\n",
       "    .dataframe tbody tr th:only-of-type {\n",
       "        vertical-align: middle;\n",
       "    }\n",
       "\n",
       "    .dataframe tbody tr th {\n",
       "        vertical-align: top;\n",
       "    }\n",
       "\n",
       "    .dataframe thead th {\n",
       "        text-align: right;\n",
       "    }\n",
       "</style>\n",
       "<table border=\"1\" class=\"dataframe\">\n",
       "  <thead>\n",
       "    <tr style=\"text-align: right;\">\n",
       "      <th></th>\n",
       "      <th>fn</th>\n",
       "      <th>tp</th>\n",
       "      <th>tn</th>\n",
       "      <th>fp</th>\n",
       "      <th>accuracy</th>\n",
       "      <th>precision</th>\n",
       "      <th>recall</th>\n",
       "      <th>fpr</th>\n",
       "      <th>fnr</th>\n",
       "      <th>f1</th>\n",
       "      <th>experiment</th>\n",
       "    </tr>\n",
       "  </thead>\n",
       "  <tbody>\n",
       "    <tr>\n",
       "      <th>0</th>\n",
       "      <td>159</td>\n",
       "      <td>7</td>\n",
       "      <td>27322</td>\n",
       "      <td>58</td>\n",
       "      <td>0.992122</td>\n",
       "      <td>0.107692</td>\n",
       "      <td>0.042169</td>\n",
       "      <td>0.002118</td>\n",
       "      <td>0.957831</td>\n",
       "      <td>0.060606</td>\n",
       "      <td>D2V Original</td>\n",
       "    </tr>\n",
       "    <tr>\n",
       "      <th>0</th>\n",
       "      <td>9163</td>\n",
       "      <td>18058</td>\n",
       "      <td>23935</td>\n",
       "      <td>3581</td>\n",
       "      <td>0.767178</td>\n",
       "      <td>0.834512</td>\n",
       "      <td>0.663385</td>\n",
       "      <td>0.130142</td>\n",
       "      <td>0.336615</td>\n",
       "      <td>0.739173</td>\n",
       "      <td>D2V Oversampling</td>\n",
       "    </tr>\n",
       "    <tr>\n",
       "      <th>0</th>\n",
       "      <td>41</td>\n",
       "      <td>147</td>\n",
       "      <td>145</td>\n",
       "      <td>23</td>\n",
       "      <td>0.820225</td>\n",
       "      <td>0.864706</td>\n",
       "      <td>0.781915</td>\n",
       "      <td>0.136905</td>\n",
       "      <td>0.218085</td>\n",
       "      <td>0.821229</td>\n",
       "      <td>D2V Undersampling</td>\n",
       "    </tr>\n",
       "    <tr>\n",
       "      <th>0</th>\n",
       "      <td>123</td>\n",
       "      <td>43</td>\n",
       "      <td>27198</td>\n",
       "      <td>182</td>\n",
       "      <td>0.988928</td>\n",
       "      <td>0.191111</td>\n",
       "      <td>0.259036</td>\n",
       "      <td>0.006647</td>\n",
       "      <td>0.740964</td>\n",
       "      <td>0.219949</td>\n",
       "      <td>fastText Original</td>\n",
       "    </tr>\n",
       "    <tr>\n",
       "      <th>0</th>\n",
       "      <td>1413</td>\n",
       "      <td>25808</td>\n",
       "      <td>26931</td>\n",
       "      <td>585</td>\n",
       "      <td>0.963498</td>\n",
       "      <td>0.977835</td>\n",
       "      <td>0.948092</td>\n",
       "      <td>0.021260</td>\n",
       "      <td>0.051908</td>\n",
       "      <td>0.962734</td>\n",
       "      <td>fastText Oversampling</td>\n",
       "    </tr>\n",
       "    <tr>\n",
       "      <th>0</th>\n",
       "      <td>185</td>\n",
       "      <td>3</td>\n",
       "      <td>168</td>\n",
       "      <td>0</td>\n",
       "      <td>0.480337</td>\n",
       "      <td>1.000000</td>\n",
       "      <td>0.015957</td>\n",
       "      <td>0.000000</td>\n",
       "      <td>0.984043</td>\n",
       "      <td>0.031414</td>\n",
       "      <td>fastText Undersampling</td>\n",
       "    </tr>\n",
       "  </tbody>\n",
       "</table>\n",
       "</div>"
      ],
      "text/plain": [
       "     fn     tp     tn    fp  accuracy  precision    recall       fpr  \\\n",
       "0   159      7  27322    58  0.992122   0.107692  0.042169  0.002118   \n",
       "0  9163  18058  23935  3581  0.767178   0.834512  0.663385  0.130142   \n",
       "0    41    147    145    23  0.820225   0.864706  0.781915  0.136905   \n",
       "0   123     43  27198   182  0.988928   0.191111  0.259036  0.006647   \n",
       "0  1413  25808  26931   585  0.963498   0.977835  0.948092  0.021260   \n",
       "0   185      3    168     0  0.480337   1.000000  0.015957  0.000000   \n",
       "\n",
       "        fnr        f1              experiment  \n",
       "0  0.957831  0.060606            D2V Original  \n",
       "0  0.336615  0.739173        D2V Oversampling  \n",
       "0  0.218085  0.821229       D2V Undersampling  \n",
       "0  0.740964  0.219949       fastText Original  \n",
       "0  0.051908  0.962734   fastText Oversampling  \n",
       "0  0.984043  0.031414  fastText Undersampling  "
      ]
     },
     "execution_count": 146,
     "metadata": {},
     "output_type": "execute_result"
    }
   ],
   "source": [
    "final_stats_df"
   ]
  },
  {
   "cell_type": "code",
   "execution_count": 147,
   "id": "italian-poverty",
   "metadata": {},
   "outputs": [],
   "source": [
    "final_stats_cpy = final_stats_df.drop(columns=['fn', 'tp', 'tn', 'fp', 'experiment'])"
   ]
  },
  {
   "cell_type": "code",
   "execution_count": 148,
   "id": "rocky-cooperative",
   "metadata": {},
   "outputs": [],
   "source": [
    "final_stats_cpy = final_stats_cpy.round(4)"
   ]
  },
  {
   "cell_type": "code",
   "execution_count": 149,
   "id": "handy-cause",
   "metadata": {},
   "outputs": [],
   "source": [
    "idx=0\n",
    "final_stats_cpy.insert(loc=idx, column='Dataset', value=experiment)"
   ]
  },
  {
   "cell_type": "code",
   "execution_count": 150,
   "id": "pacific-thesis",
   "metadata": {},
   "outputs": [
    {
     "data": {
      "text/html": [
       "<div>\n",
       "<style scoped>\n",
       "    .dataframe tbody tr th:only-of-type {\n",
       "        vertical-align: middle;\n",
       "    }\n",
       "\n",
       "    .dataframe tbody tr th {\n",
       "        vertical-align: top;\n",
       "    }\n",
       "\n",
       "    .dataframe thead th {\n",
       "        text-align: right;\n",
       "    }\n",
       "</style>\n",
       "<table border=\"1\" class=\"dataframe\">\n",
       "  <thead>\n",
       "    <tr style=\"text-align: right;\">\n",
       "      <th></th>\n",
       "      <th>Dataset</th>\n",
       "      <th>accuracy</th>\n",
       "      <th>precision</th>\n",
       "      <th>recall</th>\n",
       "      <th>fpr</th>\n",
       "      <th>fnr</th>\n",
       "      <th>f1</th>\n",
       "    </tr>\n",
       "  </thead>\n",
       "  <tbody>\n",
       "    <tr>\n",
       "      <th>0</th>\n",
       "      <td>D2V Original</td>\n",
       "      <td>0.9921</td>\n",
       "      <td>0.1077</td>\n",
       "      <td>0.0422</td>\n",
       "      <td>0.0021</td>\n",
       "      <td>0.9578</td>\n",
       "      <td>0.0606</td>\n",
       "    </tr>\n",
       "    <tr>\n",
       "      <th>0</th>\n",
       "      <td>D2V Oversampling</td>\n",
       "      <td>0.7672</td>\n",
       "      <td>0.8345</td>\n",
       "      <td>0.6634</td>\n",
       "      <td>0.1301</td>\n",
       "      <td>0.3366</td>\n",
       "      <td>0.7392</td>\n",
       "    </tr>\n",
       "    <tr>\n",
       "      <th>0</th>\n",
       "      <td>D2V Undersampling</td>\n",
       "      <td>0.8202</td>\n",
       "      <td>0.8647</td>\n",
       "      <td>0.7819</td>\n",
       "      <td>0.1369</td>\n",
       "      <td>0.2181</td>\n",
       "      <td>0.8212</td>\n",
       "    </tr>\n",
       "    <tr>\n",
       "      <th>0</th>\n",
       "      <td>fastText Original</td>\n",
       "      <td>0.9889</td>\n",
       "      <td>0.1911</td>\n",
       "      <td>0.2590</td>\n",
       "      <td>0.0066</td>\n",
       "      <td>0.7410</td>\n",
       "      <td>0.2199</td>\n",
       "    </tr>\n",
       "    <tr>\n",
       "      <th>0</th>\n",
       "      <td>fastText Oversampling</td>\n",
       "      <td>0.9635</td>\n",
       "      <td>0.9778</td>\n",
       "      <td>0.9481</td>\n",
       "      <td>0.0213</td>\n",
       "      <td>0.0519</td>\n",
       "      <td>0.9627</td>\n",
       "    </tr>\n",
       "    <tr>\n",
       "      <th>0</th>\n",
       "      <td>fastText Undersampling</td>\n",
       "      <td>0.4803</td>\n",
       "      <td>1.0000</td>\n",
       "      <td>0.0160</td>\n",
       "      <td>0.0000</td>\n",
       "      <td>0.9840</td>\n",
       "      <td>0.0314</td>\n",
       "    </tr>\n",
       "  </tbody>\n",
       "</table>\n",
       "</div>"
      ],
      "text/plain": [
       "                  Dataset  accuracy  precision  recall     fpr     fnr      f1\n",
       "0            D2V Original    0.9921     0.1077  0.0422  0.0021  0.9578  0.0606\n",
       "0        D2V Oversampling    0.7672     0.8345  0.6634  0.1301  0.3366  0.7392\n",
       "0       D2V Undersampling    0.8202     0.8647  0.7819  0.1369  0.2181  0.8212\n",
       "0       fastText Original    0.9889     0.1911  0.2590  0.0066  0.7410  0.2199\n",
       "0   fastText Oversampling    0.9635     0.9778  0.9481  0.0213  0.0519  0.9627\n",
       "0  fastText Undersampling    0.4803     1.0000  0.0160  0.0000  0.9840  0.0314"
      ]
     },
     "execution_count": 150,
     "metadata": {},
     "output_type": "execute_result"
    }
   ],
   "source": [
    "final_stats_cpy"
   ]
  },
  {
   "cell_type": "code",
   "execution_count": 151,
   "id": "irish-wyoming",
   "metadata": {},
   "outputs": [],
   "source": [
    "final_stats_cpy.columns=['Dataset','Accuracy','Precision','Recall','FPR','FNR','F1']"
   ]
  },
  {
   "cell_type": "code",
   "execution_count": 152,
   "id": "worldwide-coalition",
   "metadata": {},
   "outputs": [],
   "source": [
    "final_stats_cpy = final_stats_cpy.reset_index(drop=True)"
   ]
  },
  {
   "cell_type": "code",
   "execution_count": 198,
   "id": "optical-uncle",
   "metadata": {},
   "outputs": [
    {
     "data": {
      "text/html": [
       "<div>\n",
       "<style scoped>\n",
       "    .dataframe tbody tr th:only-of-type {\n",
       "        vertical-align: middle;\n",
       "    }\n",
       "\n",
       "    .dataframe tbody tr th {\n",
       "        vertical-align: top;\n",
       "    }\n",
       "\n",
       "    .dataframe thead th {\n",
       "        text-align: right;\n",
       "    }\n",
       "</style>\n",
       "<table border=\"1\" class=\"dataframe\">\n",
       "  <thead>\n",
       "    <tr style=\"text-align: right;\">\n",
       "      <th></th>\n",
       "      <th>Dataset</th>\n",
       "      <th>Accuracy</th>\n",
       "      <th>Precision</th>\n",
       "      <th>Recall</th>\n",
       "      <th>FPR</th>\n",
       "      <th>FNR</th>\n",
       "      <th>F1</th>\n",
       "    </tr>\n",
       "  </thead>\n",
       "  <tbody>\n",
       "    <tr>\n",
       "      <th>0</th>\n",
       "      <td>D2V Original</td>\n",
       "      <td>0.9921</td>\n",
       "      <td>0.1077</td>\n",
       "      <td>0.0422</td>\n",
       "      <td>0.0021</td>\n",
       "      <td>0.9578</td>\n",
       "      <td>0.0606</td>\n",
       "    </tr>\n",
       "    <tr>\n",
       "      <th>1</th>\n",
       "      <td>D2V Oversampling</td>\n",
       "      <td>0.7672</td>\n",
       "      <td>0.8345</td>\n",
       "      <td>0.6634</td>\n",
       "      <td>0.1301</td>\n",
       "      <td>0.3366</td>\n",
       "      <td>0.7392</td>\n",
       "    </tr>\n",
       "    <tr>\n",
       "      <th>2</th>\n",
       "      <td>D2V Undersampling</td>\n",
       "      <td>0.8202</td>\n",
       "      <td>0.8647</td>\n",
       "      <td>0.7819</td>\n",
       "      <td>0.1369</td>\n",
       "      <td>0.2181</td>\n",
       "      <td>0.8212</td>\n",
       "    </tr>\n",
       "    <tr>\n",
       "      <th>3</th>\n",
       "      <td>fastText Original</td>\n",
       "      <td>0.9889</td>\n",
       "      <td>0.1911</td>\n",
       "      <td>0.2590</td>\n",
       "      <td>0.0066</td>\n",
       "      <td>0.7410</td>\n",
       "      <td>0.2199</td>\n",
       "    </tr>\n",
       "    <tr>\n",
       "      <th>4</th>\n",
       "      <td>fastText Oversampling</td>\n",
       "      <td>0.9635</td>\n",
       "      <td>0.9778</td>\n",
       "      <td>0.9481</td>\n",
       "      <td>0.0213</td>\n",
       "      <td>0.0519</td>\n",
       "      <td>0.9627</td>\n",
       "    </tr>\n",
       "    <tr>\n",
       "      <th>5</th>\n",
       "      <td>fastText Undersampling</td>\n",
       "      <td>0.4803</td>\n",
       "      <td>1.0000</td>\n",
       "      <td>0.0160</td>\n",
       "      <td>0.0000</td>\n",
       "      <td>0.9840</td>\n",
       "      <td>0.0314</td>\n",
       "    </tr>\n",
       "  </tbody>\n",
       "</table>\n",
       "</div>"
      ],
      "text/plain": [
       "                  Dataset  Accuracy  Precision  Recall     FPR     FNR      F1\n",
       "0            D2V Original    0.9921     0.1077  0.0422  0.0021  0.9578  0.0606\n",
       "1        D2V Oversampling    0.7672     0.8345  0.6634  0.1301  0.3366  0.7392\n",
       "2       D2V Undersampling    0.8202     0.8647  0.7819  0.1369  0.2181  0.8212\n",
       "3       fastText Original    0.9889     0.1911  0.2590  0.0066  0.7410  0.2199\n",
       "4   fastText Oversampling    0.9635     0.9778  0.9481  0.0213  0.0519  0.9627\n",
       "5  fastText Undersampling    0.4803     1.0000  0.0160  0.0000  0.9840  0.0314"
      ]
     },
     "execution_count": 198,
     "metadata": {},
     "output_type": "execute_result"
    }
   ],
   "source": [
    "final_stats_cpy"
   ]
  },
  {
   "cell_type": "code",
   "execution_count": 153,
   "id": "distributed-measurement",
   "metadata": {
    "tags": []
   },
   "outputs": [
    {
     "data": {
      "image/png": "[encoded data removed]",
      "text/plain": [
       "<Figure size 1440x720 with 1 Axes>"
      ]
     },
     "metadata": {
      "needs_background": "light"
     },
     "output_type": "display_data"
    }
   ],
   "source": [
    "fig, ax = plt.subplots(figsize=(20, 10))\n",
    "\n",
    "g = sns.lineplot(data=final_stats_cpy)\n",
    "g.set_xticks(range(len(experiment))) # <--- set the ticks first\n",
    "g.set_xticklabels(experiment, size = 15)\n",
    "#g.set_yticklabels(g.get_yticks(), size = 15)\n",
    "g.legend(loc='center left', bbox_to_anchor=(1, 0.5))\n",
    "sns.despine()\n",
    "sns.set_style(\"white\")\n",
    "\n",
    "g.figure.savefig(\"/Volumes/Research/VulnerabilityDatasets/Vulnerability_datasets/code/ghidra/cb_multios_stats_final_combined_28April21.png\")"
   ]
  },
  {
   "cell_type": "code",
   "execution_count": 154,
   "id": "pleased-preserve",
   "metadata": {},
   "outputs": [
    {
     "data": {
      "text/html": [
       "<div>\n",
       "<style scoped>\n",
       "    .dataframe tbody tr th:only-of-type {\n",
       "        vertical-align: middle;\n",
       "    }\n",
       "\n",
       "    .dataframe tbody tr th {\n",
       "        vertical-align: top;\n",
       "    }\n",
       "\n",
       "    .dataframe thead th {\n",
       "        text-align: right;\n",
       "    }\n",
       "</style>\n",
       "<table border=\"1\" class=\"dataframe\">\n",
       "  <thead>\n",
       "    <tr style=\"text-align: right;\">\n",
       "      <th></th>\n",
       "      <th>0</th>\n",
       "      <th>1</th>\n",
       "      <th>2</th>\n",
       "      <th>3</th>\n",
       "      <th>4</th>\n",
       "      <th>5</th>\n",
       "    </tr>\n",
       "  </thead>\n",
       "  <tbody>\n",
       "    <tr>\n",
       "      <th>Dataset</th>\n",
       "      <td>D2V Original</td>\n",
       "      <td>D2V Oversampling</td>\n",
       "      <td>D2V Undersampling</td>\n",
       "      <td>fastText Original</td>\n",
       "      <td>fastText Oversampling</td>\n",
       "      <td>fastText Undersampling</td>\n",
       "    </tr>\n",
       "    <tr>\n",
       "      <th>Accuracy</th>\n",
       "      <td>0.9921</td>\n",
       "      <td>0.7672</td>\n",
       "      <td>0.8202</td>\n",
       "      <td>0.9889</td>\n",
       "      <td>0.9635</td>\n",
       "      <td>0.4803</td>\n",
       "    </tr>\n",
       "    <tr>\n",
       "      <th>Precision</th>\n",
       "      <td>0.1077</td>\n",
       "      <td>0.8345</td>\n",
       "      <td>0.8647</td>\n",
       "      <td>0.1911</td>\n",
       "      <td>0.9778</td>\n",
       "      <td>1.0000</td>\n",
       "    </tr>\n",
       "    <tr>\n",
       "      <th>Recall</th>\n",
       "      <td>0.0422</td>\n",
       "      <td>0.6634</td>\n",
       "      <td>0.7819</td>\n",
       "      <td>0.2590</td>\n",
       "      <td>0.9481</td>\n",
       "      <td>0.0160</td>\n",
       "    </tr>\n",
       "    <tr>\n",
       "      <th>FPR</th>\n",
       "      <td>0.0021</td>\n",
       "      <td>0.1301</td>\n",
       "      <td>0.1369</td>\n",
       "      <td>0.0066</td>\n",
       "      <td>0.0213</td>\n",
       "      <td>0.0000</td>\n",
       "    </tr>\n",
       "    <tr>\n",
       "      <th>FNR</th>\n",
       "      <td>0.9578</td>\n",
       "      <td>0.3366</td>\n",
       "      <td>0.2181</td>\n",
       "      <td>0.7410</td>\n",
       "      <td>0.0519</td>\n",
       "      <td>0.9840</td>\n",
       "    </tr>\n",
       "    <tr>\n",
       "      <th>F1</th>\n",
       "      <td>0.0606</td>\n",
       "      <td>0.7392</td>\n",
       "      <td>0.8212</td>\n",
       "      <td>0.2199</td>\n",
       "      <td>0.9627</td>\n",
       "      <td>0.0314</td>\n",
       "    </tr>\n",
       "  </tbody>\n",
       "</table>\n",
       "</div>"
      ],
      "text/plain": [
       "                      0                 1                  2  \\\n",
       "Dataset    D2V Original  D2V Oversampling  D2V Undersampling   \n",
       "Accuracy         0.9921            0.7672             0.8202   \n",
       "Precision        0.1077            0.8345             0.8647   \n",
       "Recall           0.0422            0.6634             0.7819   \n",
       "FPR              0.0021            0.1301             0.1369   \n",
       "FNR              0.9578            0.3366             0.2181   \n",
       "F1               0.0606            0.7392             0.8212   \n",
       "\n",
       "                           3                      4                       5  \n",
       "Dataset    fastText Original  fastText Oversampling  fastText Undersampling  \n",
       "Accuracy              0.9889                 0.9635                  0.4803  \n",
       "Precision             0.1911                 0.9778                  1.0000  \n",
       "Recall                0.2590                 0.9481                  0.0160  \n",
       "FPR                   0.0066                 0.0213                  0.0000  \n",
       "FNR                   0.7410                 0.0519                  0.9840  \n",
       "F1                    0.2199                 0.9627                  0.0314  "
      ]
     },
     "execution_count": 154,
     "metadata": {},
     "output_type": "execute_result"
    }
   ],
   "source": [
    "final_stats_cpy_t = final_stats_cpy.T\n",
    "final_stats_cpy_t"
   ]
  },
  {
   "cell_type": "code",
   "execution_count": 156,
   "id": "necessary-carolina",
   "metadata": {},
   "outputs": [],
   "source": [
    "final_stats_cpy_t.columns = experiment"
   ]
  },
  {
   "cell_type": "code",
   "execution_count": 157,
   "id": "knowing-bearing",
   "metadata": {},
   "outputs": [],
   "source": [
    "t_columns = ['Accuracy', \n",
    "            'Precision', \n",
    "            'Recall', \n",
    "            'FPR', \n",
    "            'FNR',\n",
    "            'F1']"
   ]
  },
  {
   "cell_type": "code",
   "execution_count": 158,
   "id": "eleven-policy",
   "metadata": {},
   "outputs": [],
   "source": [
    "final_stats_cpy_t = final_stats_cpy_t.drop('Dataset')"
   ]
  },
  {
   "cell_type": "code",
   "execution_count": 159,
   "id": "fallen-mexico",
   "metadata": {},
   "outputs": [],
   "source": [
    "final_stats_cpy_t = final_stats_cpy_t.reset_index()"
   ]
  },
  {
   "cell_type": "code",
   "execution_count": 160,
   "id": "average-duncan",
   "metadata": {},
   "outputs": [],
   "source": [
    "final_stats_cpy_t.rename(columns={'index':'Metric'}, inplace=True)"
   ]
  },
  {
   "cell_type": "code",
   "execution_count": 161,
   "id": "heavy-drinking",
   "metadata": {},
   "outputs": [
    {
     "data": {
      "text/html": [
       "<div>\n",
       "<style scoped>\n",
       "    .dataframe tbody tr th:only-of-type {\n",
       "        vertical-align: middle;\n",
       "    }\n",
       "\n",
       "    .dataframe tbody tr th {\n",
       "        vertical-align: top;\n",
       "    }\n",
       "\n",
       "    .dataframe thead th {\n",
       "        text-align: right;\n",
       "    }\n",
       "</style>\n",
       "<table border=\"1\" class=\"dataframe\">\n",
       "  <thead>\n",
       "    <tr style=\"text-align: right;\">\n",
       "      <th></th>\n",
       "      <th>Metric</th>\n",
       "      <th>D2V Original</th>\n",
       "      <th>D2V Oversampling</th>\n",
       "      <th>D2V Undersampling</th>\n",
       "      <th>fastText Original</th>\n",
       "      <th>fastText Oversampling</th>\n",
       "      <th>fastText Undersampling</th>\n",
       "    </tr>\n",
       "  </thead>\n",
       "  <tbody>\n",
       "    <tr>\n",
       "      <th>0</th>\n",
       "      <td>Accuracy</td>\n",
       "      <td>0.9921</td>\n",
       "      <td>0.7672</td>\n",
       "      <td>0.8202</td>\n",
       "      <td>0.9889</td>\n",
       "      <td>0.9635</td>\n",
       "      <td>0.4803</td>\n",
       "    </tr>\n",
       "    <tr>\n",
       "      <th>1</th>\n",
       "      <td>Precision</td>\n",
       "      <td>0.1077</td>\n",
       "      <td>0.8345</td>\n",
       "      <td>0.8647</td>\n",
       "      <td>0.1911</td>\n",
       "      <td>0.9778</td>\n",
       "      <td>1.0000</td>\n",
       "    </tr>\n",
       "    <tr>\n",
       "      <th>2</th>\n",
       "      <td>Recall</td>\n",
       "      <td>0.0422</td>\n",
       "      <td>0.6634</td>\n",
       "      <td>0.7819</td>\n",
       "      <td>0.2590</td>\n",
       "      <td>0.9481</td>\n",
       "      <td>0.0160</td>\n",
       "    </tr>\n",
       "    <tr>\n",
       "      <th>3</th>\n",
       "      <td>FPR</td>\n",
       "      <td>0.0021</td>\n",
       "      <td>0.1301</td>\n",
       "      <td>0.1369</td>\n",
       "      <td>0.0066</td>\n",
       "      <td>0.0213</td>\n",
       "      <td>0.0000</td>\n",
       "    </tr>\n",
       "    <tr>\n",
       "      <th>4</th>\n",
       "      <td>FNR</td>\n",
       "      <td>0.9578</td>\n",
       "      <td>0.3366</td>\n",
       "      <td>0.2181</td>\n",
       "      <td>0.7410</td>\n",
       "      <td>0.0519</td>\n",
       "      <td>0.9840</td>\n",
       "    </tr>\n",
       "    <tr>\n",
       "      <th>5</th>\n",
       "      <td>F1</td>\n",
       "      <td>0.0606</td>\n",
       "      <td>0.7392</td>\n",
       "      <td>0.8212</td>\n",
       "      <td>0.2199</td>\n",
       "      <td>0.9627</td>\n",
       "      <td>0.0314</td>\n",
       "    </tr>\n",
       "  </tbody>\n",
       "</table>\n",
       "</div>"
      ],
      "text/plain": [
       "      Metric D2V Original D2V Oversampling D2V Undersampling  \\\n",
       "0   Accuracy       0.9921           0.7672            0.8202   \n",
       "1  Precision       0.1077           0.8345            0.8647   \n",
       "2     Recall       0.0422           0.6634            0.7819   \n",
       "3        FPR       0.0021           0.1301            0.1369   \n",
       "4        FNR       0.9578           0.3366            0.2181   \n",
       "5         F1       0.0606           0.7392            0.8212   \n",
       "\n",
       "  fastText Original fastText Oversampling fastText Undersampling  \n",
       "0            0.9889                0.9635                 0.4803  \n",
       "1            0.1911                0.9778                 1.0000  \n",
       "2            0.2590                0.9481                 0.0160  \n",
       "3            0.0066                0.0213                 0.0000  \n",
       "4            0.7410                0.0519                 0.9840  \n",
       "5            0.2199                0.9627                 0.0314  "
      ]
     },
     "execution_count": 161,
     "metadata": {},
     "output_type": "execute_result"
    }
   ],
   "source": [
    "final_stats_cpy_t"
   ]
  },
  {
   "cell_type": "code",
   "execution_count": 166,
   "id": "sapphire-hampshire",
   "metadata": {},
   "outputs": [],
   "source": [
    "perfect_score = [1.0,\n",
    "                 1.0,\n",
    "                 1.0, \n",
    "                 0.0, \n",
    "                 0.0, \n",
    "                 1.0]"
   ]
  },
  {
   "cell_type": "code",
   "execution_count": 162,
   "id": "another-fundamental",
   "metadata": {},
   "outputs": [],
   "source": [
    "final_stats_cpy_t['D2V Original'] = final_stats_cpy_t['D2V Original'].astype(float)\n",
    "final_stats_cpy_t['D2V Oversampling'] = final_stats_cpy_t['D2V Oversampling'].astype(float)\n",
    "final_stats_cpy_t['D2V Undersampling'] = final_stats_cpy_t['D2V Undersampling'].astype(float)\n",
    "final_stats_cpy_t['fastText Original'] = final_stats_cpy_t['fastText Original'].astype(float)\n",
    "final_stats_cpy_t['fastText Oversampling'] = final_stats_cpy_t['fastText Oversampling'].astype(float)\n",
    "final_stats_cpy_t['fastText Undersampling'] = final_stats_cpy_t['fastText Undersampling'].astype(float)"
   ]
  },
  {
   "cell_type": "code",
   "execution_count": 167,
   "id": "apart-tulsa",
   "metadata": {},
   "outputs": [],
   "source": [
    "final_stats_cpy_t['Perfect Score'] = perfect_score"
   ]
  },
  {
   "cell_type": "code",
   "execution_count": 191,
   "id": "connected-underground",
   "metadata": {},
   "outputs": [
    {
     "data": {
      "image/png": "[encoded data removed]",
      "text/plain": [
       "<Figure size 1440x720 with 1 Axes>"
      ]
     },
     "metadata": {},
     "output_type": "display_data"
    }
   ],
   "source": [
    "fig, ax = plt.subplots(figsize=(20, 10))\n",
    "\n",
    "sns.set(font_scale = 1.5)\n",
    "g = sns.lineplot(data=final_stats_cpy_t)\n",
    "g.set_xticks(range(len(t_columns))) # <--- set the ticks first\n",
    "g.set_xticklabels(t_columns, size = 15)\n",
    "#g.set_yticklabels(g.get_yticks(), size = 15)\n",
    "g.legend(loc='center left', bbox_to_anchor=(.18, -0.2), ncol=3, frameon=False)\n",
    "sns.despine()\n",
    "sns.set_style(\"white\")\n",
    "g.set_title(\"CB-Multios Function Labeling using fastText and Doc2Vec\")\n",
    "\n",
    "g.figure.savefig(\"/Volumes/Research/VulnerabilityDatasets/Vulnerability_datasets/code/ghidra/cb_multios_final_combinedT_28April21.png\", bbox_inches='tight')"
   ]
  },
  {
   "cell_type": "code",
   "execution_count": 204,
   "id": "hollywood-payment",
   "metadata": {},
   "outputs": [
    {
     "data": {
      "text/html": [
       "<div>\n",
       "<style scoped>\n",
       "    .dataframe tbody tr th:only-of-type {\n",
       "        vertical-align: middle;\n",
       "    }\n",
       "\n",
       "    .dataframe tbody tr th {\n",
       "        vertical-align: top;\n",
       "    }\n",
       "\n",
       "    .dataframe thead th {\n",
       "        text-align: right;\n",
       "    }\n",
       "</style>\n",
       "<table border=\"1\" class=\"dataframe\">\n",
       "  <thead>\n",
       "    <tr style=\"text-align: right;\">\n",
       "      <th></th>\n",
       "      <th>Metric</th>\n",
       "      <th>Dataset</th>\n",
       "      <th>Score</th>\n",
       "    </tr>\n",
       "  </thead>\n",
       "  <tbody>\n",
       "    <tr>\n",
       "      <th>0</th>\n",
       "      <td>Accuracy</td>\n",
       "      <td>D2V Original</td>\n",
       "      <td>0.9921</td>\n",
       "    </tr>\n",
       "    <tr>\n",
       "      <th>1</th>\n",
       "      <td>Precision</td>\n",
       "      <td>D2V Original</td>\n",
       "      <td>0.1077</td>\n",
       "    </tr>\n",
       "    <tr>\n",
       "      <th>2</th>\n",
       "      <td>Recall</td>\n",
       "      <td>D2V Original</td>\n",
       "      <td>0.0422</td>\n",
       "    </tr>\n",
       "    <tr>\n",
       "      <th>3</th>\n",
       "      <td>FPR</td>\n",
       "      <td>D2V Original</td>\n",
       "      <td>0.0021</td>\n",
       "    </tr>\n",
       "    <tr>\n",
       "      <th>4</th>\n",
       "      <td>FNR</td>\n",
       "      <td>D2V Original</td>\n",
       "      <td>0.9578</td>\n",
       "    </tr>\n",
       "    <tr>\n",
       "      <th>5</th>\n",
       "      <td>F1</td>\n",
       "      <td>D2V Original</td>\n",
       "      <td>0.0606</td>\n",
       "    </tr>\n",
       "    <tr>\n",
       "      <th>6</th>\n",
       "      <td>Accuracy</td>\n",
       "      <td>D2V Oversampling</td>\n",
       "      <td>0.7672</td>\n",
       "    </tr>\n",
       "    <tr>\n",
       "      <th>7</th>\n",
       "      <td>Precision</td>\n",
       "      <td>D2V Oversampling</td>\n",
       "      <td>0.8345</td>\n",
       "    </tr>\n",
       "    <tr>\n",
       "      <th>8</th>\n",
       "      <td>Recall</td>\n",
       "      <td>D2V Oversampling</td>\n",
       "      <td>0.6634</td>\n",
       "    </tr>\n",
       "    <tr>\n",
       "      <th>9</th>\n",
       "      <td>FPR</td>\n",
       "      <td>D2V Oversampling</td>\n",
       "      <td>0.1301</td>\n",
       "    </tr>\n",
       "    <tr>\n",
       "      <th>10</th>\n",
       "      <td>FNR</td>\n",
       "      <td>D2V Oversampling</td>\n",
       "      <td>0.3366</td>\n",
       "    </tr>\n",
       "    <tr>\n",
       "      <th>11</th>\n",
       "      <td>F1</td>\n",
       "      <td>D2V Oversampling</td>\n",
       "      <td>0.7392</td>\n",
       "    </tr>\n",
       "    <tr>\n",
       "      <th>12</th>\n",
       "      <td>Accuracy</td>\n",
       "      <td>D2V Undersampling</td>\n",
       "      <td>0.8202</td>\n",
       "    </tr>\n",
       "    <tr>\n",
       "      <th>13</th>\n",
       "      <td>Precision</td>\n",
       "      <td>D2V Undersampling</td>\n",
       "      <td>0.8647</td>\n",
       "    </tr>\n",
       "    <tr>\n",
       "      <th>14</th>\n",
       "      <td>Recall</td>\n",
       "      <td>D2V Undersampling</td>\n",
       "      <td>0.7819</td>\n",
       "    </tr>\n",
       "    <tr>\n",
       "      <th>15</th>\n",
       "      <td>FPR</td>\n",
       "      <td>D2V Undersampling</td>\n",
       "      <td>0.1369</td>\n",
       "    </tr>\n",
       "    <tr>\n",
       "      <th>16</th>\n",
       "      <td>FNR</td>\n",
       "      <td>D2V Undersampling</td>\n",
       "      <td>0.2181</td>\n",
       "    </tr>\n",
       "    <tr>\n",
       "      <th>17</th>\n",
       "      <td>F1</td>\n",
       "      <td>D2V Undersampling</td>\n",
       "      <td>0.8212</td>\n",
       "    </tr>\n",
       "    <tr>\n",
       "      <th>18</th>\n",
       "      <td>Accuracy</td>\n",
       "      <td>fastText Original</td>\n",
       "      <td>0.9889</td>\n",
       "    </tr>\n",
       "    <tr>\n",
       "      <th>19</th>\n",
       "      <td>Precision</td>\n",
       "      <td>fastText Original</td>\n",
       "      <td>0.1911</td>\n",
       "    </tr>\n",
       "    <tr>\n",
       "      <th>20</th>\n",
       "      <td>Recall</td>\n",
       "      <td>fastText Original</td>\n",
       "      <td>0.2590</td>\n",
       "    </tr>\n",
       "    <tr>\n",
       "      <th>21</th>\n",
       "      <td>FPR</td>\n",
       "      <td>fastText Original</td>\n",
       "      <td>0.0066</td>\n",
       "    </tr>\n",
       "    <tr>\n",
       "      <th>22</th>\n",
       "      <td>FNR</td>\n",
       "      <td>fastText Original</td>\n",
       "      <td>0.7410</td>\n",
       "    </tr>\n",
       "    <tr>\n",
       "      <th>23</th>\n",
       "      <td>F1</td>\n",
       "      <td>fastText Original</td>\n",
       "      <td>0.2199</td>\n",
       "    </tr>\n",
       "    <tr>\n",
       "      <th>24</th>\n",
       "      <td>Accuracy</td>\n",
       "      <td>fastText Oversampling</td>\n",
       "      <td>0.9635</td>\n",
       "    </tr>\n",
       "    <tr>\n",
       "      <th>25</th>\n",
       "      <td>Precision</td>\n",
       "      <td>fastText Oversampling</td>\n",
       "      <td>0.9778</td>\n",
       "    </tr>\n",
       "    <tr>\n",
       "      <th>26</th>\n",
       "      <td>Recall</td>\n",
       "      <td>fastText Oversampling</td>\n",
       "      <td>0.9481</td>\n",
       "    </tr>\n",
       "    <tr>\n",
       "      <th>27</th>\n",
       "      <td>FPR</td>\n",
       "      <td>fastText Oversampling</td>\n",
       "      <td>0.0213</td>\n",
       "    </tr>\n",
       "    <tr>\n",
       "      <th>28</th>\n",
       "      <td>FNR</td>\n",
       "      <td>fastText Oversampling</td>\n",
       "      <td>0.0519</td>\n",
       "    </tr>\n",
       "    <tr>\n",
       "      <th>29</th>\n",
       "      <td>F1</td>\n",
       "      <td>fastText Oversampling</td>\n",
       "      <td>0.9627</td>\n",
       "    </tr>\n",
       "    <tr>\n",
       "      <th>30</th>\n",
       "      <td>Accuracy</td>\n",
       "      <td>fastText Undersampling</td>\n",
       "      <td>0.4803</td>\n",
       "    </tr>\n",
       "    <tr>\n",
       "      <th>31</th>\n",
       "      <td>Precision</td>\n",
       "      <td>fastText Undersampling</td>\n",
       "      <td>1.0000</td>\n",
       "    </tr>\n",
       "    <tr>\n",
       "      <th>32</th>\n",
       "      <td>Recall</td>\n",
       "      <td>fastText Undersampling</td>\n",
       "      <td>0.0160</td>\n",
       "    </tr>\n",
       "    <tr>\n",
       "      <th>33</th>\n",
       "      <td>FPR</td>\n",
       "      <td>fastText Undersampling</td>\n",
       "      <td>0.0000</td>\n",
       "    </tr>\n",
       "    <tr>\n",
       "      <th>34</th>\n",
       "      <td>FNR</td>\n",
       "      <td>fastText Undersampling</td>\n",
       "      <td>0.9840</td>\n",
       "    </tr>\n",
       "    <tr>\n",
       "      <th>35</th>\n",
       "      <td>F1</td>\n",
       "      <td>fastText Undersampling</td>\n",
       "      <td>0.0314</td>\n",
       "    </tr>\n",
       "    <tr>\n",
       "      <th>36</th>\n",
       "      <td>Accuracy</td>\n",
       "      <td>Perfect Score</td>\n",
       "      <td>1.0000</td>\n",
       "    </tr>\n",
       "    <tr>\n",
       "      <th>37</th>\n",
       "      <td>Precision</td>\n",
       "      <td>Perfect Score</td>\n",
       "      <td>1.0000</td>\n",
       "    </tr>\n",
       "    <tr>\n",
       "      <th>38</th>\n",
       "      <td>Recall</td>\n",
       "      <td>Perfect Score</td>\n",
       "      <td>1.0000</td>\n",
       "    </tr>\n",
       "    <tr>\n",
       "      <th>39</th>\n",
       "      <td>FPR</td>\n",
       "      <td>Perfect Score</td>\n",
       "      <td>0.0000</td>\n",
       "    </tr>\n",
       "    <tr>\n",
       "      <th>40</th>\n",
       "      <td>FNR</td>\n",
       "      <td>Perfect Score</td>\n",
       "      <td>0.0000</td>\n",
       "    </tr>\n",
       "    <tr>\n",
       "      <th>41</th>\n",
       "      <td>F1</td>\n",
       "      <td>Perfect Score</td>\n",
       "      <td>1.0000</td>\n",
       "    </tr>\n",
       "  </tbody>\n",
       "</table>\n",
       "</div>"
      ],
      "text/plain": [
       "       Metric                 Dataset   Score\n",
       "0    Accuracy            D2V Original  0.9921\n",
       "1   Precision            D2V Original  0.1077\n",
       "2      Recall            D2V Original  0.0422\n",
       "3         FPR            D2V Original  0.0021\n",
       "4         FNR            D2V Original  0.9578\n",
       "5          F1            D2V Original  0.0606\n",
       "6    Accuracy        D2V Oversampling  0.7672\n",
       "7   Precision        D2V Oversampling  0.8345\n",
       "8      Recall        D2V Oversampling  0.6634\n",
       "9         FPR        D2V Oversampling  0.1301\n",
       "10        FNR        D2V Oversampling  0.3366\n",
       "11         F1        D2V Oversampling  0.7392\n",
       "12   Accuracy       D2V Undersampling  0.8202\n",
       "13  Precision       D2V Undersampling  0.8647\n",
       "14     Recall       D2V Undersampling  0.7819\n",
       "15        FPR       D2V Undersampling  0.1369\n",
       "16        FNR       D2V Undersampling  0.2181\n",
       "17         F1       D2V Undersampling  0.8212\n",
       "18   Accuracy       fastText Original  0.9889\n",
       "19  Precision       fastText Original  0.1911\n",
       "20     Recall       fastText Original  0.2590\n",
       "21        FPR       fastText Original  0.0066\n",
       "22        FNR       fastText Original  0.7410\n",
       "23         F1       fastText Original  0.2199\n",
       "24   Accuracy   fastText Oversampling  0.9635\n",
       "25  Precision   fastText Oversampling  0.9778\n",
       "26     Recall   fastText Oversampling  0.9481\n",
       "27        FPR   fastText Oversampling  0.0213\n",
       "28        FNR   fastText Oversampling  0.0519\n",
       "29         F1   fastText Oversampling  0.9627\n",
       "30   Accuracy  fastText Undersampling  0.4803\n",
       "31  Precision  fastText Undersampling  1.0000\n",
       "32     Recall  fastText Undersampling  0.0160\n",
       "33        FPR  fastText Undersampling  0.0000\n",
       "34        FNR  fastText Undersampling  0.9840\n",
       "35         F1  fastText Undersampling  0.0314\n",
       "36   Accuracy           Perfect Score  1.0000\n",
       "37  Precision           Perfect Score  1.0000\n",
       "38     Recall           Perfect Score  1.0000\n",
       "39        FPR           Perfect Score  0.0000\n",
       "40        FNR           Perfect Score  0.0000\n",
       "41         F1           Perfect Score  1.0000"
      ]
     },
     "execution_count": 204,
     "metadata": {},
     "output_type": "execute_result"
    }
   ],
   "source": [
    "df = pd.melt(final_stats_cpy_t, id_vars=\"Metric\", var_name=\"Dataset\", value_name=\"Score\")\n",
    "df"
   ]
  },
  {
   "cell_type": "code",
   "execution_count": 228,
   "id": "square-cambodia",
   "metadata": {},
   "outputs": [
    {
     "data": {
      "image/png": "[encoded data removed]",
      "text/plain": [
       "<Figure size 1251.15x720 with 1 Axes>"
      ]
     },
     "metadata": {},
     "output_type": "display_data"
    }
   ],
   "source": [
    "\n",
    "#fig, ax = plt.subplots(figsize=(20, 10))\n",
    "\n",
    "sns.set(font_scale = 1.5)\n",
    "sns.set_style(style='white') \n",
    "bar = sns.catplot(x='Metric', y='Score', hue='Dataset', data=df, kind='bar',  height=10, aspect=11.7/8.27)\n",
    "bar.fig.suptitle(\"CB-Multios Function Labeling using fastText and Doc2Vec\",\n",
    "                  fontsize=24, fontdict={\"weight\": \"bold\"})\n",
    "\n",
    "#g.set_xticks(range(len(t_columns))) # <--- set the ticks first\n",
    "#g.set_xticklabels(t_columns, size = 15)\n",
    "#g.set_yticklabels(g.get_yticks(), size = 15)\n",
    "#g.legend(loc='center left', bbox_to_anchor=(.18, -0.2), ncol=3, frameon=False)\n",
    "sns.despine()\n",
    "\n",
    "bar.savefig(\"/Volumes/Research/VulnerabilityDatasets/Vulnerability_datasets/code/ghidra/cb_multios_final_combinedTBAR_28April21.png\", bbox_inches='tight')"
   ]
  }
 ],
 "metadata": {
  "kernelspec": {
   "display_name": "Python 3",
   "language": "python",
   "name": "python3"
  },
  "language_info": {
   "codemirror_mode": {
    "name": "ipython",
    "version": 3
   },
   "file_extension": ".py",
   "mimetype": "text/x-python",
   "name": "python",
   "nbconvert_exporter": "python",
   "pygments_lexer": "ipython3",
   "version": "3.8.1"
  }
 },
 "nbformat": 4,
 "nbformat_minor": 5
}
