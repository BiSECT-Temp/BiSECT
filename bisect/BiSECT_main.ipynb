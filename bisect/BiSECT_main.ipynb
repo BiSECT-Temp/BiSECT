{
 "cells": [
  {
   "cell_type": "markdown",
   "metadata": {},
   "source": [
    "# Introduction to BiSECT (Binary Sematic Extraction, Cleaning, and Transformation)"
   ]
  },
  {
   "cell_type": "markdown",
   "metadata": {},
   "source": [
    "`BiSECT` was created to support vulnerability research, and provides a user-friendly and repeatable means to extract common features from compiled binary files and transform them into a format compatible with data mining and machine learning techniques. This Jupyter notebook provides an overview of the various functionality provided by `BiSECT`."
   ]
  },
  {
   "cell_type": "markdown",
   "metadata": {},
   "source": [
    "## Imports"
   ]
  },
  {
   "cell_type": "markdown",
   "metadata": {},
   "source": [
    "If you want to follow along with the examples in this notebook, you'll need to import the following Python libraries:"
   ]
  },
  {
   "cell_type": "code",
   "execution_count": 98,
   "metadata": {},
   "outputs": [],
   "source": [
    "import pandas as pd\n",
    "import seaborn as sns\n",
    "import numpy as np\n",
    "import matplotlib.pyplot as plt\n",
    "import shutil, os\n",
    "import csv\n",
    "from ast import literal_eval\n",
    "from IPython.display import Video\n",
    "import re\n",
    "from datetime import datetime\n",
    "pd.options.mode.chained_assignment = None  # default='warn'\n",
    "today = str(datetime.now().date())"
   ]
  },
  {
   "cell_type": "markdown",
   "metadata": {},
   "source": [
    "## Data"
   ]
  },
  {
   "cell_type": "markdown",
   "metadata": {},
   "source": [
    "Throughout this Notebook we'll be using the CB-Multios repository. You can download and compile the test cases yourself, or use the test cases we've precompiled for you. "
   ]
  },
  {
   "cell_type": "markdown",
   "metadata": {},
   "source": [
    "### Option 1: User download and compile"
   ]
  },
  {
   "cell_type": "markdown",
   "metadata": {},
   "source": [
    "The repository can be downloaded directly from the `trailofbits` site [here](https://github.com/trailofbits/cb-multios) \n",
    "\n",
    "After extracting the archive, we compiled the test cases using an Ubuntu virtual machine (v. 20.04.2.0) and the following commands: "
   ]
  },
  {
   "cell_type": "markdown",
   "metadata": {},
   "source": [
    "`sudo apt install libc6-dev libc6-dev-i386 gcc-multilib g++-multilib clang cmake`\n",
    "\n",
    "Followed by: \n",
    "\n",
    "`NO_PYTHON_I_KNOW_WHAT_I_AM_DOING_I_SWEAR=1 ./build.sh`"
   ]
  },
  {
   "cell_type": "markdown",
   "metadata": {},
   "source": [
    "The build took about 20 minutes. Upon completion, you should have a nested /challenges/ directory that includes all of the compiled challenges\n",
    "\n",
    "Now, we're only interested in the challenge binaries. To keep things simple when we use Ghidra in the next step we'll copy all of the executables to a single folder."
   ]
  },
  {
   "cell_type": "markdown",
   "metadata": {},
   "source": [
    "1. First use `find` to get a list of all executables in the directory:\n",
    "\n",
    "Note: `/home/user/Desktop/cb-multios-master/build/challenges/` is the path the the `/challenges/` directory on your machine"
   ]
  },
  {
   "cell_type": "code",
   "execution_count": null,
   "metadata": {},
   "outputs": [],
   "source": [
    "!find /home/user/Desktop/cb-multios-master/build/challenges/ -type f ! -name \"*.*\" -perm /u=x,g=x,o=x -printf \"%p\\n\" > cb_multios_exes_paths.txt"
   ]
  },
  {
   "cell_type": "markdown",
   "metadata": {},
   "source": [
    "2. Use `cb_multios_exes_paths.txt` to copy all of the executables to a new folder"
   ]
  },
  {
   "cell_type": "code",
   "execution_count": null,
   "metadata": {},
   "outputs": [],
   "source": [
    "files = list(open('cb_multios_exes_paths.txt','r').read().splitlines())\n",
    "\n",
    "for f in files:\n",
    "    shutil.copy(f, 'cb_multios_binaries_originalvpatched')"
   ]
  },
  {
   "cell_type": "markdown",
   "metadata": {},
   "source": [
    "### Option 2: Precompiled"
   ]
  },
  {
   "cell_type": "markdown",
   "metadata": {},
   "source": [
    "For convenience, we've predownloaded and compiled the test cases for you. You can find them in the `/datasets` directory"
   ]
  },
  {
   "cell_type": "code",
   "execution_count": 20,
   "metadata": {},
   "outputs": [
    {
     "name": "stdout",
     "output_type": "stream",
     "text": [
      "\u001b[31mcbmultios_original.tar.gz\u001b[m\u001b[m \u001b[31mcbmultios_patched.tar.gz\u001b[m\u001b[m\n"
     ]
    }
   ],
   "source": [
    "!ls ~/Desktop/BiSECT-main/datasets/"
   ]
  },
  {
   "cell_type": "markdown",
   "metadata": {},
   "source": [
    "Simply extract the archive to access the precompiled test cases"
   ]
  },
  {
   "cell_type": "markdown",
   "metadata": {},
   "source": [
    "## Feature Extraction"
   ]
  },
  {
   "cell_type": "markdown",
   "metadata": {},
   "source": [
    "Feature extraction is one of the things `BiSECT` does best. It should be pretty painless. "
   ]
  },
  {
   "cell_type": "markdown",
   "metadata": {},
   "source": [
    "### Using Ghidra Headless"
   ]
  },
  {
   "cell_type": "markdown",
   "metadata": {},
   "source": [
    "Regardless of whether you want to extract features at the file level, function level, or both, each `*.py` script should be run using standard Ghidra headless syntax. You can read more about how these commands are to be structured on the official Ghidra.re site: [here](https://ghidra.re/ghidra_docs/analyzeHeadlessREADME.html)\n",
    "\n",
    "In general, you'll run the scripts using something similar to the following: \n",
    "\n",
    "`yourpathto/GHIDRA/support/analyzeHeadless projectlocation/feature_extraction TestProject -import cb_multios_binaries_originalvpatched/cbmultios_original/ -analysisTimeoutPerFile num_seconds -deleteProject -scriptPath pathtoscripts/code -postScript pathtofeatureextractionscripts/ghidra_headless_feature_extraction.py -scriptlog pathtolog/my_log.log`"
   ]
  },
  {
   "cell_type": "markdown",
   "metadata": {},
   "source": [
    "#### File Level"
   ]
  },
  {
   "cell_type": "markdown",
   "metadata": {},
   "source": [
    "At the file level BiSECT extracts the following features and information from the sample directly (using Ghidra headless)\n",
    "\n",
    "1. Sample path\n",
    "2. Sample name\n",
    "3. Total number of functions in the sample\n",
    "4. List of all external functions, by name, in the sample\n",
    "5. List of all internal functions, by name, in the sample\n",
    "6. List of all opcodes in the sample"
   ]
  },
  {
   "cell_type": "code",
   "execution_count": null,
   "metadata": {},
   "outputs": [],
   "source": [
    "def extract_data():\n",
    "    path = currentProgram.getExecutablePath() # get the absolute path of the program currently being analyzed (i.e., the sample)\n",
    "    name = currentProgram.getName() # the name of the sample\n",
    "    listing = currentProgram.getListing()\n",
    "    func_manager = currentProgram.getFunctionManager()\n",
    "    no_subs = func_manager.getFunctionsNoStubs(True) # obj for all non-stub/non-empty functions in the sample\n",
    "\n",
    "    function_count = func_manager.getFunctionCount() # number of functions in the sample\n",
    "    external_fcns_obj = func_manager.getExternalFunctions() # obj for all external functions in the sample\n",
    "    internal_fcns_obj = func_manager.getFunctions(True) # obj for all internal functions in the sample\n",
    "    instructions_obj = listing.getInstructions(True) # obj for all instructions in the sample\n",
    "\n",
    "    external_fcns = [fun.getName() for fun in external_fcns_obj] # a list of all external function names\n",
    "    internal_fcns = [fun.getName() for fun in internal_fcns_obj] # a list of all internal function names\n",
    "    instructions = [str(ins).split()[0] for ins in instructions_obj] # a list of all opcodes in binary\n",
    "\n",
    "    cc = CyclomaticComplexity() # create instance of CyclomaticComplexity\n",
    "        \n",
    "final_list.append([path, function_count, external_fcns, internal_fcns, instructions, no_subs_list_func_cc])"
   ]
  },
  {
   "cell_type": "markdown",
   "metadata": {},
   "source": [
    "#### Function Level"
   ]
  },
  {
   "cell_type": "markdown",
   "metadata": {},
   "source": [
    "At the function level BiSECT extracts the following features from the sample directly (using Ghidra headless)\n",
    "\n",
    "1. Cyclomatic Complexity\n",
    "2. Function prototype\n",
    "3. List of all instructions in the function\n",
    "4. List of all mnemonics in the function"
   ]
  },
  {
   "cell_type": "code",
   "execution_count": null,
   "metadata": {},
   "outputs": [],
   "source": [
    "for fun in no_subs: # do this for every real (i.e., non-stub function in the sample)\n",
    "    complexity = cc.calculateCyclomaticComplexity(fun, monitor) # get the cyclomatic complexity for each true (to stub) fun in program\n",
    "    prototype = fun.getSignature().getPrototypeString() # get the function prototype\n",
    "\n",
    "    fun_addresses = fun.getBody() # get addr range for fcn\n",
    "    code_units = listing.getCodeUnits(fun_addresses, True) # code units in fcn\n",
    "    instr_in_fcn = listing.getInstructions(fun_addresses, True) # get the units in this fcn\n",
    "    fun_inst = [code_unit.toString() for code_unit in code_units] # get all instructions within this function\n",
    "    mnemonics = [str(ins).split()[0] for ins in instr_in_fcn] # get all mnemonics within this function\n",
    "\n",
    "    no_subs_list_func_cc.append([name, fun.getName(), complexity, prototype, fun_inst, mnemonics]) # make a list of the function level features we want"
   ]
  },
  {
   "cell_type": "markdown",
   "metadata": {},
   "source": [
    "### Using Raw Python"
   ]
  },
  {
   "cell_type": "markdown",
   "metadata": {},
   "source": [
    "BiSECT also extracts a number of features using a few different Python scripts. "
   ]
  },
  {
   "cell_type": "markdown",
   "metadata": {},
   "source": [
    "The `sys_strings(file)` function is used to extract all strings in the sample, and the `calc_entropy(file)` function is used to calculate the Shannon entropy for each sample"
   ]
  },
  {
   "cell_type": "code",
   "execution_count": null,
   "metadata": {},
   "outputs": [],
   "source": [
    "def sys_strings(file):\n",
    "    '''\n",
    "    Use subprocess to get strings\n",
    "    '''\n",
    "    strings = []\n",
    "    p = subprocess.Popen([\"strings\", str(file)], stdout=subprocess.PIPE)\n",
    "    out = p.stdout.readlines()\n",
    "    out = [word[:-1] for word in out]\n",
    "    out = set(out)\n",
    "    strings.append(out)\n",
    "\n",
    "    return strings"
   ]
  },
  {
   "cell_type": "code",
   "execution_count": null,
   "metadata": {},
   "outputs": [],
   "source": [
    "def calc_entropy(file):\n",
    "    with open(file, 'rb') as f:\n",
    "        byteArr = list(f.read())\n",
    "    fileSize = len(byteArr)\n",
    "\n",
    "    # calculate the frequency of each byte value in the file\n",
    "    freqList = []\n",
    "    for b in range(256):\n",
    "        ctr = 0\n",
    "        for byte in byteArr:\n",
    "            if byte == b:\n",
    "                ctr += 1\n",
    "        freqList.append(float(ctr) / fileSize)\n",
    "    # Shannon entropy\n",
    "    ent = 0.0\n",
    "    for freq in freqList:\n",
    "        if freq > 0:\n",
    "            ent = ent + freq * math.log(freq, 2)\n",
    "    ent = -ent\n",
    "    return fileSize, ent"
   ]
  },
  {
   "cell_type": "markdown",
   "metadata": {},
   "source": [
    "### Writing Custom Scripts"
   ]
  },
  {
   "cell_type": "markdown",
   "metadata": {},
   "source": [
    "In addition to the scripts already provided by BiSECT, we encourage users to write their own custom scripts and extract features that may be meaningful for their use case. The basic requirement is that the final feature be formatted as a `.json`, `.csv`, or `.txt` that can be read in as a Pandas DataFrame. "
   ]
  },
  {
   "cell_type": "markdown",
   "metadata": {},
   "source": [
    "### Example: Feature extraction"
   ]
  },
  {
   "cell_type": "code",
   "execution_count": null,
   "metadata": {},
   "outputs": [],
   "source": [
    "/Desktop/ghidra_9.0.2/support/analyzeHeadless\n",
    "/Desktop/BiSECT-main/datasets/cb_multios_binaries_originalvpatched/features_original TestProject \n",
    "-import /Desktop/BiSECT-main/datasets/cb_multios_binaries_originalvpatched/cbmultios_original/\n",
    "-analysisTimeoutPerFile 60 \n",
    "-deleteProject \n",
    "-scriptPath /Desktop/BiSECT-main/feature_extractions/\n",
    "-postScript /Desktop/BiSECT-main/feature_extractions/fcnlevelextractions_ghidra.py \n",
    "-scriptlog extraction_log.log"
   ]
  },
  {
   "cell_type": "markdown",
   "metadata": {},
   "source": [
    "Using a MacBook Pro, it took about 13 minutes to extract the function level features for 281 test cases using Ghidra headless "
   ]
  },
  {
   "cell_type": "code",
   "execution_count": 48,
   "metadata": {},
   "outputs": [],
   "source": [
    "df = pd.read_csv('~/Desktop/BiSECT-main/feature_extractions/ghidra_function_level_2021-07-12.csv', header=None)"
   ]
  },
  {
   "cell_type": "code",
   "execution_count": 75,
   "metadata": {},
   "outputs": [],
   "source": [
    "df.columns = ['file_name', 'function_name', 'cc', 'instructions']"
   ]
  },
  {
   "cell_type": "code",
   "execution_count": 50,
   "metadata": {},
   "outputs": [
    {
     "data": {
      "text/html": [
       "<div>\n",
       "<style scoped>\n",
       "    .dataframe tbody tr th:only-of-type {\n",
       "        vertical-align: middle;\n",
       "    }\n",
       "\n",
       "    .dataframe tbody tr th {\n",
       "        vertical-align: top;\n",
       "    }\n",
       "\n",
       "    .dataframe thead th {\n",
       "        text-align: right;\n",
       "    }\n",
       "</style>\n",
       "<table border=\"1\" class=\"dataframe\">\n",
       "  <thead>\n",
       "    <tr style=\"text-align: right;\">\n",
       "      <th></th>\n",
       "      <th>test_case</th>\n",
       "      <th>function_name</th>\n",
       "      <th>cc</th>\n",
       "      <th>instructions</th>\n",
       "    </tr>\n",
       "  </thead>\n",
       "  <tbody>\n",
       "    <tr>\n",
       "      <th>0</th>\n",
       "      <td>FaceMag</td>\n",
       "      <td>_init</td>\n",
       "      <td>2</td>\n",
       "      <td>[u'ENDBR32', u'PUSH EBX', u'SUB ESP,0x8', u'CA...</td>\n",
       "    </tr>\n",
       "    <tr>\n",
       "      <th>1</th>\n",
       "      <td>FaceMag</td>\n",
       "      <td>FUN_0804a030</td>\n",
       "      <td>0</td>\n",
       "      <td>[u'PUSH dword ptr [0x08054684]', u'JMP dword p...</td>\n",
       "    </tr>\n",
       "    <tr>\n",
       "      <th>2</th>\n",
       "      <td>FaceMag</td>\n",
       "      <td>cgc_pow</td>\n",
       "      <td>1</td>\n",
       "      <td>[u'JMP dword ptr [0x0805468c]']</td>\n",
       "    </tr>\n",
       "    <tr>\n",
       "      <th>3</th>\n",
       "      <td>FaceMag</td>\n",
       "      <td>cgc__terminate</td>\n",
       "      <td>1</td>\n",
       "      <td>[u'JMP dword ptr [0x08054690]']</td>\n",
       "    </tr>\n",
       "    <tr>\n",
       "      <th>4</th>\n",
       "      <td>FaceMag</td>\n",
       "      <td>cgc_transmit</td>\n",
       "      <td>1</td>\n",
       "      <td>[u'JMP dword ptr [0x08054694]']</td>\n",
       "    </tr>\n",
       "    <tr>\n",
       "      <th>...</th>\n",
       "      <td>...</td>\n",
       "      <td>...</td>\n",
       "      <td>...</td>\n",
       "      <td>...</td>\n",
       "    </tr>\n",
       "    <tr>\n",
       "      <th>20641</th>\n",
       "      <td>yolodex</td>\n",
       "      <td>main</td>\n",
       "      <td>0</td>\n",
       "      <td>[u'PUSH EBP', u'MOV EBP,ESP', u'SUB ESP,0x18',...</td>\n",
       "    </tr>\n",
       "    <tr>\n",
       "      <th>20642</th>\n",
       "      <td>yolodex</td>\n",
       "      <td>__libc_csu_init</td>\n",
       "      <td>3</td>\n",
       "      <td>[u'ENDBR32', u'PUSH EBP', u'CALL 0x0804c065', ...</td>\n",
       "    </tr>\n",
       "    <tr>\n",
       "      <th>20643</th>\n",
       "      <td>yolodex</td>\n",
       "      <td>__libc_csu_fini</td>\n",
       "      <td>1</td>\n",
       "      <td>[u'ENDBR32', u'RET']</td>\n",
       "    </tr>\n",
       "    <tr>\n",
       "      <th>20644</th>\n",
       "      <td>yolodex</td>\n",
       "      <td>__x86.get_pc_thunk.bp</td>\n",
       "      <td>1</td>\n",
       "      <td>[u'MOV EBP,dword ptr [ESP]', u'RET']</td>\n",
       "    </tr>\n",
       "    <tr>\n",
       "      <th>20645</th>\n",
       "      <td>yolodex</td>\n",
       "      <td>_fini</td>\n",
       "      <td>1</td>\n",
       "      <td>[u'ENDBR32', u'PUSH EBX', u'SUB ESP,0x8', u'CA...</td>\n",
       "    </tr>\n",
       "  </tbody>\n",
       "</table>\n",
       "<p>20646 rows × 4 columns</p>\n",
       "</div>"
      ],
      "text/plain": [
       "      test_case          function_name  cc  \\\n",
       "0       FaceMag                  _init   2   \n",
       "1       FaceMag           FUN_0804a030   0   \n",
       "2       FaceMag                cgc_pow   1   \n",
       "3       FaceMag         cgc__terminate   1   \n",
       "4       FaceMag           cgc_transmit   1   \n",
       "...         ...                    ...  ..   \n",
       "20641   yolodex                   main   0   \n",
       "20642   yolodex        __libc_csu_init   3   \n",
       "20643   yolodex        __libc_csu_fini   1   \n",
       "20644   yolodex  __x86.get_pc_thunk.bp   1   \n",
       "20645   yolodex                  _fini   1   \n",
       "\n",
       "                                            instructions  \n",
       "0      [u'ENDBR32', u'PUSH EBX', u'SUB ESP,0x8', u'CA...  \n",
       "1      [u'PUSH dword ptr [0x08054684]', u'JMP dword p...  \n",
       "2                        [u'JMP dword ptr [0x0805468c]']  \n",
       "3                        [u'JMP dword ptr [0x08054690]']  \n",
       "4                        [u'JMP dword ptr [0x08054694]']  \n",
       "...                                                  ...  \n",
       "20641  [u'PUSH EBP', u'MOV EBP,ESP', u'SUB ESP,0x18',...  \n",
       "20642  [u'ENDBR32', u'PUSH EBP', u'CALL 0x0804c065', ...  \n",
       "20643                               [u'ENDBR32', u'RET']  \n",
       "20644               [u'MOV EBP,dword ptr [ESP]', u'RET']  \n",
       "20645  [u'ENDBR32', u'PUSH EBX', u'SUB ESP,0x8', u'CA...  \n",
       "\n",
       "[20646 rows x 4 columns]"
      ]
     },
     "execution_count": 50,
     "metadata": {},
     "output_type": "execute_result"
    }
   ],
   "source": [
    "df"
   ]
  },
  {
   "cell_type": "markdown",
   "metadata": {},
   "source": [
    "# Data Cleaning & Transformation"
   ]
  },
  {
   "cell_type": "markdown",
   "metadata": {},
   "source": [
    "After each feature has been extracted the data must be cleaned, consolidated, and transformed into a format that is compatible with machine learning algorithms and data mining techniques. The cleaning and transformation processes may involve the following steps: \n",
    "\n",
    "1. Missing Values: missing or incomplete values are removed, ignored, or replaced\n",
    "2. Smoothing: noise and outliers removed from data using binning, regression, or other outlier analysis (e.g., clustering)\n",
    "3. Numerics: non-numeric data is transformed into a numeric representation\n",
    "4. Aggregation: summary and aggregation operations are applied to the data\n",
    "5. Normalization/Scaling: features are normalized or scaled to fall within a smaller range (e.g., 0.0 to 1.0) \n",
    "6. Discretization: raw values of numeric data are binned by being transformed into interval ranges or conceptual labels\n",
    "7. Feature Construction new features are constructed from existing features\n",
    "\n",
    "Some steps, such as cleaning missing values or transforming non-numeric data into a numeric representation must be completed regardless of the features selected for analysis. Other steps, such as normalizing data or constructing new features may or may not be completed depending on the initial feature set and the user's goals. In the proceeding sections we highlight some of the functionality of `BiSECT`, and where appropriate, clarify any default values `BiSECT` users may want to modify depending on their specific usage scenario. "
   ]
  },
  {
   "cell_type": "markdown",
   "metadata": {},
   "source": [
    "## Data Cleaning"
   ]
  },
  {
   "cell_type": "markdown",
   "metadata": {},
   "source": [
    "When using real-world data objects, such as binary files, some files may have missing, inconsistent, or incomplete attributes. Data cleaning typically involves two steps: dealing with missing values and smoothing outliers. \n",
    "\n",
    "Missing or incomplete values must first be identified, then either replaced, dropped, or ignored. It is important to note that missing values may not be the result of an error. For example, consider a feature, `strings`, that specifies the set of all unique strings in a binary sample. If a sample has no strings, this feature will appear to be missing for that data object. "
   ]
  },
  {
   "cell_type": "markdown",
   "metadata": {},
   "source": [
    "### Missing Values"
   ]
  },
  {
   "cell_type": "markdown",
   "metadata": {},
   "source": [
    "When replacing missing values, the analyst can choose to ignore the missing values, perform a manual replacement, replace them with a global value, such as 'unknown' or 'null', or replace the values with some other statistically determined measurement, e.g., the measure of central tendency, or the most probable value for that feature. Each of these alternatives has drawbacks. For example, replacing missing values with another statistically determined value introduces bias into the dataset. This occurs because the replacement value may not be accurate. While manually replacing missing values may be accurate, it can also be time consuming. Replacing values with a global variable is simplistic; however, the analyst must be careful not perceive connections between samples with the same replaced value. \n",
    "\n",
    "For simplicity, `BiSECT` provides three options to the user: drop all data objects (i.e., samples) that contain a missing value for any feature, replace all missing values with a user provided replacement value (or a default of 0), and ignore the missing values (i.e., do nothing). The user should select the option that is best suited to their intended use case."
   ]
  },
  {
   "cell_type": "code",
   "execution_count": 51,
   "metadata": {},
   "outputs": [],
   "source": [
    "def missing_values(preference, df): \n",
    "    preferences = {0: 'drop', 1: 'fill', 2: 'ignore'}\n",
    "    try: \n",
    "        preference = preferences[preference]\n",
    "    except: \n",
    "        return \"invalid preference provided\"\n",
    "    if preference == 0: \n",
    "        df = df.dropna()\n",
    "    elif preference == 1: \n",
    "        df = df.fillna(0)\n",
    "    elif preference == 2: \n",
    "        pass \n",
    "    return df"
   ]
  },
  {
   "cell_type": "markdown",
   "metadata": {},
   "source": [
    "#### Example: Missing Values"
   ]
  },
  {
   "cell_type": "markdown",
   "metadata": {},
   "source": [
    "We'll use `missing_values()` to drop any missing values"
   ]
  },
  {
   "cell_type": "code",
   "execution_count": 52,
   "metadata": {},
   "outputs": [],
   "source": [
    "df = missing_values(0, df)"
   ]
  },
  {
   "cell_type": "code",
   "execution_count": 53,
   "metadata": {},
   "outputs": [
    {
     "data": {
      "text/html": [
       "<div>\n",
       "<style scoped>\n",
       "    .dataframe tbody tr th:only-of-type {\n",
       "        vertical-align: middle;\n",
       "    }\n",
       "\n",
       "    .dataframe tbody tr th {\n",
       "        vertical-align: top;\n",
       "    }\n",
       "\n",
       "    .dataframe thead th {\n",
       "        text-align: right;\n",
       "    }\n",
       "</style>\n",
       "<table border=\"1\" class=\"dataframe\">\n",
       "  <thead>\n",
       "    <tr style=\"text-align: right;\">\n",
       "      <th></th>\n",
       "      <th>test_case</th>\n",
       "      <th>function_name</th>\n",
       "      <th>cc</th>\n",
       "      <th>instructions</th>\n",
       "    </tr>\n",
       "  </thead>\n",
       "  <tbody>\n",
       "    <tr>\n",
       "      <th>0</th>\n",
       "      <td>FaceMag</td>\n",
       "      <td>_init</td>\n",
       "      <td>2</td>\n",
       "      <td>[u'ENDBR32', u'PUSH EBX', u'SUB ESP,0x8', u'CA...</td>\n",
       "    </tr>\n",
       "    <tr>\n",
       "      <th>1</th>\n",
       "      <td>FaceMag</td>\n",
       "      <td>FUN_0804a030</td>\n",
       "      <td>0</td>\n",
       "      <td>[u'PUSH dword ptr [0x08054684]', u'JMP dword p...</td>\n",
       "    </tr>\n",
       "    <tr>\n",
       "      <th>2</th>\n",
       "      <td>FaceMag</td>\n",
       "      <td>cgc_pow</td>\n",
       "      <td>1</td>\n",
       "      <td>[u'JMP dword ptr [0x0805468c]']</td>\n",
       "    </tr>\n",
       "    <tr>\n",
       "      <th>3</th>\n",
       "      <td>FaceMag</td>\n",
       "      <td>cgc__terminate</td>\n",
       "      <td>1</td>\n",
       "      <td>[u'JMP dword ptr [0x08054690]']</td>\n",
       "    </tr>\n",
       "    <tr>\n",
       "      <th>4</th>\n",
       "      <td>FaceMag</td>\n",
       "      <td>cgc_transmit</td>\n",
       "      <td>1</td>\n",
       "      <td>[u'JMP dword ptr [0x08054694]']</td>\n",
       "    </tr>\n",
       "    <tr>\n",
       "      <th>...</th>\n",
       "      <td>...</td>\n",
       "      <td>...</td>\n",
       "      <td>...</td>\n",
       "      <td>...</td>\n",
       "    </tr>\n",
       "    <tr>\n",
       "      <th>20641</th>\n",
       "      <td>yolodex</td>\n",
       "      <td>main</td>\n",
       "      <td>0</td>\n",
       "      <td>[u'PUSH EBP', u'MOV EBP,ESP', u'SUB ESP,0x18',...</td>\n",
       "    </tr>\n",
       "    <tr>\n",
       "      <th>20642</th>\n",
       "      <td>yolodex</td>\n",
       "      <td>__libc_csu_init</td>\n",
       "      <td>3</td>\n",
       "      <td>[u'ENDBR32', u'PUSH EBP', u'CALL 0x0804c065', ...</td>\n",
       "    </tr>\n",
       "    <tr>\n",
       "      <th>20643</th>\n",
       "      <td>yolodex</td>\n",
       "      <td>__libc_csu_fini</td>\n",
       "      <td>1</td>\n",
       "      <td>[u'ENDBR32', u'RET']</td>\n",
       "    </tr>\n",
       "    <tr>\n",
       "      <th>20644</th>\n",
       "      <td>yolodex</td>\n",
       "      <td>__x86.get_pc_thunk.bp</td>\n",
       "      <td>1</td>\n",
       "      <td>[u'MOV EBP,dword ptr [ESP]', u'RET']</td>\n",
       "    </tr>\n",
       "    <tr>\n",
       "      <th>20645</th>\n",
       "      <td>yolodex</td>\n",
       "      <td>_fini</td>\n",
       "      <td>1</td>\n",
       "      <td>[u'ENDBR32', u'PUSH EBX', u'SUB ESP,0x8', u'CA...</td>\n",
       "    </tr>\n",
       "  </tbody>\n",
       "</table>\n",
       "<p>20646 rows × 4 columns</p>\n",
       "</div>"
      ],
      "text/plain": [
       "      test_case          function_name  cc  \\\n",
       "0       FaceMag                  _init   2   \n",
       "1       FaceMag           FUN_0804a030   0   \n",
       "2       FaceMag                cgc_pow   1   \n",
       "3       FaceMag         cgc__terminate   1   \n",
       "4       FaceMag           cgc_transmit   1   \n",
       "...         ...                    ...  ..   \n",
       "20641   yolodex                   main   0   \n",
       "20642   yolodex        __libc_csu_init   3   \n",
       "20643   yolodex        __libc_csu_fini   1   \n",
       "20644   yolodex  __x86.get_pc_thunk.bp   1   \n",
       "20645   yolodex                  _fini   1   \n",
       "\n",
       "                                            instructions  \n",
       "0      [u'ENDBR32', u'PUSH EBX', u'SUB ESP,0x8', u'CA...  \n",
       "1      [u'PUSH dword ptr [0x08054684]', u'JMP dword p...  \n",
       "2                        [u'JMP dword ptr [0x0805468c]']  \n",
       "3                        [u'JMP dword ptr [0x08054690]']  \n",
       "4                        [u'JMP dword ptr [0x08054694]']  \n",
       "...                                                  ...  \n",
       "20641  [u'PUSH EBP', u'MOV EBP,ESP', u'SUB ESP,0x18',...  \n",
       "20642  [u'ENDBR32', u'PUSH EBP', u'CALL 0x0804c065', ...  \n",
       "20643                               [u'ENDBR32', u'RET']  \n",
       "20644               [u'MOV EBP,dword ptr [ESP]', u'RET']  \n",
       "20645  [u'ENDBR32', u'PUSH EBX', u'SUB ESP,0x8', u'CA...  \n",
       "\n",
       "[20646 rows x 4 columns]"
      ]
     },
     "execution_count": 53,
     "metadata": {},
     "output_type": "execute_result"
    }
   ],
   "source": [
    "df"
   ]
  },
  {
   "cell_type": "markdown",
   "metadata": {},
   "source": [
    "### Smoothing"
   ]
  },
  {
   "cell_type": "markdown",
   "metadata": {},
   "source": [
    "After handling missing values, the next step is to smooth the dataset by reducing noise. Noise essentially equates to variance in a measured variable. Conventional methods to reduce noise include binning, regression, and outlier analysis. \n",
    "\n",
    "In binning, the objects are grouped into bins typically with neighboring objects, and smoothed by replacing each value with the mean, median, or boundary for that bin. When reducing noise using regression (e.g., via linear or multi-linear regression), the values are replaced by a line of best fit. Noise in a dataset can also be reduced using various forms of outlier analysis. Clustering, for example, can be used to quickly determine which data objects fall outside of the primary cluster or clusters. \n",
    "\n",
    "Since smoothing may or may not be appropriate, `BiSECT` does not perform any smoothing by default. Additionally, standard smoothing techniques are not applicable to features that are comprised of a set of text data (e.g., a set of unique strings in the sample). `BiSECT` provides an optional function, $smooth()$, that uses outlier analysis to perform smoothing. Users may apply $smooth()$ to individual features, such as cyclomatic complexity, as appropriate for their use case.\n",
    "\n",
    "An example of smoothing is provided below."
   ]
  },
  {
   "cell_type": "markdown",
   "metadata": {},
   "source": [
    "#### Example: Smoothing cyclomatic complexity"
   ]
  },
  {
   "cell_type": "markdown",
   "metadata": {},
   "source": [
    "Let's plot the `cc` feature, to get an idea of how the data is distributed."
   ]
  },
  {
   "cell_type": "code",
   "execution_count": 54,
   "metadata": {},
   "outputs": [
    {
     "data": {
      "image/png": "[encoded data removed]",
      "text/plain": [
       "<Figure size 720x216 with 1 Axes>"
      ]
     },
     "metadata": {
      "needs_background": "light"
     },
     "output_type": "display_data"
    }
   ],
   "source": [
    "fig, ax = plt.subplots(figsize=(10, 3))\n",
    "g = sns.boxplot(x=df[\"cc\"],\n",
    "                palette='mako', \n",
    "                ax=ax, \n",
    "                width=0.3)\n",
    "g.set_title('Cyclomatic Complexity by function before smoothing', fontsize=20)\n",
    "g.set_xlabel('Cyclomatic Complexity', fontsize=16)\n",
    "g.tick_params(labelsize=15)\n",
    "sns.despine()\n",
    "sns.set_style(\"white\")\n",
    "\n",
    "g.figure.savefig(\"images/cc_presmooth.png\")"
   ]
  },
  {
   "cell_type": "markdown",
   "metadata": {},
   "source": [
    "It seems that we have some pretty significant outliers. So we'll apply the `smooth()` function, and only keep data within the 5-95th quantiles."
   ]
  },
  {
   "cell_type": "code",
   "execution_count": 67,
   "metadata": {},
   "outputs": [],
   "source": [
    "def smooth(col, df): \n",
    "    print('\\nSmoothing: ' + col + ' (default to keep data between the 5-95th quantiles)')\n",
    "    \n",
    "    lower = np.percentile(df[col], 5) # lower bound\n",
    "    upper = np.percentile(df[col], 95) # upper bound\n",
    "    df = df[df[col].between(lower, upper)] # keeps data between lower and upper quantiles (bounds)\n",
    "    \n",
    "    print('\\tSmoothing complete')\n",
    "    return df"
   ]
  },
  {
   "cell_type": "code",
   "execution_count": 68,
   "metadata": {},
   "outputs": [
    {
     "name": "stdout",
     "output_type": "stream",
     "text": [
      "\n",
      "Smoothing: cc (default to keep data between the 5-95th quantiles)\n",
      "\tSmoothing complete\n"
     ]
    }
   ],
   "source": [
    "df = smooth('cc', df)"
   ]
  },
  {
   "cell_type": "markdown",
   "metadata": {},
   "source": [
    "Now, let's replot the data. "
   ]
  },
  {
   "cell_type": "code",
   "execution_count": 70,
   "metadata": {},
   "outputs": [
    {
     "data": {
      "image/png": "[encoded data removed]",
      "text/plain": [
       "<Figure size 720x216 with 1 Axes>"
      ]
     },
     "metadata": {},
     "output_type": "display_data"
    }
   ],
   "source": [
    "fig, ax = plt.subplots(figsize=(10, 3))\n",
    "g = sns.boxplot(x=df['cc'],\n",
    "                palette='mako', \n",
    "                ax=ax,\n",
    "                width=0.3)\n",
    "g.set_title('Cyclomatic Complexity by function after smoothing', fontsize=20)\n",
    "g.set_xlabel('Cyclomatic Complexity', fontsize=16)\n",
    "g.tick_params(labelsize=15)\n",
    "sns.despine()\n",
    "sns.set_style(\"white\")\n",
    "\n",
    "g.figure.savefig(\"images/cc_aftersmooth.png\")"
   ]
  },
  {
   "cell_type": "markdown",
   "metadata": {},
   "source": [
    "It seems that smoothing allowed us to reduce the noise in our dataset, which in turn creates a greater emphasis on the data within the primary quantiles."
   ]
  },
  {
   "cell_type": "markdown",
   "metadata": {},
   "source": [
    "## Data Transformation"
   ]
  },
  {
   "cell_type": "markdown",
   "metadata": {},
   "source": [
    "After the dataset has been extracted and cleaned, the next steps involve performing one or more transformations of the data. `BiSECT` provides data aggregation, normalization, and feature construction transformations. "
   ]
  },
  {
   "cell_type": "markdown",
   "metadata": {},
   "source": [
    "### Aggregation"
   ]
  },
  {
   "cell_type": "markdown",
   "metadata": {},
   "source": [
    "By default, `BiSECT` extracts the cyclomatic complexity for every function in every sample analyzed. This creates the feature called `cc`. Sometimes, users may be interested in aggregating the `cc` at a file level. This could help us answer questions such as, what is the `max cc` or `min cc` for every file analyzed? What is the `max cc` in all samples analyzed, or more insightful, what is the distribution of `max cc` across all samples analyzed, and does it differ for known vulnerable samples/functions?"
   ]
  },
  {
   "cell_type": "code",
   "execution_count": 76,
   "metadata": {},
   "outputs": [],
   "source": [
    "def aggregation(df):\n",
    "    print('Aggregating cyclomatic complexity data... ')\n",
    "    df_mean = df.groupby('file_name', as_index=False)['cc'].mean()\n",
    "    df_mean.columns = ['file_name', 'cc_mean']\n",
    "    df_min = df.groupby('file_name', as_index=False)['cc'].min()\n",
    "    df_min.columns = ['file_name', 'cc_min']\n",
    "    df_max = df.groupby('file_name', as_index=False)['cc'].max()\n",
    "    df_max.columns = ['file_name', 'cc_max']\n",
    "    result = pd.merge(df_mean, df_min, on='file_name')\n",
    "    df_aggregation = pd.merge(result, df_max, on='file_name')\n",
    "\n",
    "    name = 'aggregated_cc_' + today + '.csv'\n",
    "    print('\\tSaving aggregated cyclomatic complexity data to: ' + name)\n",
    "    df_aggregation.to_csv(name)\n",
    "\n",
    "    return df_aggregation"
   ]
  },
  {
   "cell_type": "code",
   "execution_count": 80,
   "metadata": {},
   "outputs": [
    {
     "name": "stdout",
     "output_type": "stream",
     "text": [
      "Aggregating cyclomatic complexity data... \n",
      "\tSaving aggregated cyclomatic complexity data to: aggregated_cc_2021-07-14.csv\n"
     ]
    }
   ],
   "source": [
    "df_aggregation = aggregation(df)"
   ]
  },
  {
   "cell_type": "code",
   "execution_count": 81,
   "metadata": {},
   "outputs": [
    {
     "data": {
      "text/html": [
       "<div>\n",
       "<style scoped>\n",
       "    .dataframe tbody tr th:only-of-type {\n",
       "        vertical-align: middle;\n",
       "    }\n",
       "\n",
       "    .dataframe tbody tr th {\n",
       "        vertical-align: top;\n",
       "    }\n",
       "\n",
       "    .dataframe thead th {\n",
       "        text-align: right;\n",
       "    }\n",
       "</style>\n",
       "<table border=\"1\" class=\"dataframe\">\n",
       "  <thead>\n",
       "    <tr style=\"text-align: right;\">\n",
       "      <th></th>\n",
       "      <th>file_name</th>\n",
       "      <th>cc_mean</th>\n",
       "      <th>cc_min</th>\n",
       "      <th>cc_max</th>\n",
       "    </tr>\n",
       "  </thead>\n",
       "  <tbody>\n",
       "    <tr>\n",
       "      <th>0</th>\n",
       "      <td>FaceMag</td>\n",
       "      <td>4.027273</td>\n",
       "      <td>1</td>\n",
       "      <td>15</td>\n",
       "    </tr>\n",
       "    <tr>\n",
       "      <th>1</th>\n",
       "      <td>Facilities_Access_Control_System</td>\n",
       "      <td>3.907216</td>\n",
       "      <td>1</td>\n",
       "      <td>15</td>\n",
       "    </tr>\n",
       "    <tr>\n",
       "      <th>2</th>\n",
       "      <td>FailAV</td>\n",
       "      <td>3.597122</td>\n",
       "      <td>1</td>\n",
       "      <td>15</td>\n",
       "    </tr>\n",
       "    <tr>\n",
       "      <th>3</th>\n",
       "      <td>FileSys</td>\n",
       "      <td>2.593458</td>\n",
       "      <td>1</td>\n",
       "      <td>14</td>\n",
       "    </tr>\n",
       "    <tr>\n",
       "      <th>4</th>\n",
       "      <td>Filesystem_Command_Shell</td>\n",
       "      <td>4.215517</td>\n",
       "      <td>1</td>\n",
       "      <td>15</td>\n",
       "    </tr>\n",
       "    <tr>\n",
       "      <th>...</th>\n",
       "      <td>...</td>\n",
       "      <td>...</td>\n",
       "      <td>...</td>\n",
       "      <td>...</td>\n",
       "    </tr>\n",
       "    <tr>\n",
       "      <th>212</th>\n",
       "      <td>tribute_3</td>\n",
       "      <td>2.303030</td>\n",
       "      <td>1</td>\n",
       "      <td>8</td>\n",
       "    </tr>\n",
       "    <tr>\n",
       "      <th>213</th>\n",
       "      <td>university_enrollment</td>\n",
       "      <td>3.462810</td>\n",
       "      <td>1</td>\n",
       "      <td>14</td>\n",
       "    </tr>\n",
       "    <tr>\n",
       "      <th>214</th>\n",
       "      <td>vFilter</td>\n",
       "      <td>3.550000</td>\n",
       "      <td>1</td>\n",
       "      <td>15</td>\n",
       "    </tr>\n",
       "    <tr>\n",
       "      <th>215</th>\n",
       "      <td>virtual_pet</td>\n",
       "      <td>2.468750</td>\n",
       "      <td>1</td>\n",
       "      <td>12</td>\n",
       "    </tr>\n",
       "    <tr>\n",
       "      <th>216</th>\n",
       "      <td>yolodex</td>\n",
       "      <td>3.845070</td>\n",
       "      <td>1</td>\n",
       "      <td>15</td>\n",
       "    </tr>\n",
       "  </tbody>\n",
       "</table>\n",
       "<p>217 rows × 4 columns</p>\n",
       "</div>"
      ],
      "text/plain": [
       "                            file_name   cc_mean  cc_min  cc_max\n",
       "0                             FaceMag  4.027273       1      15\n",
       "1    Facilities_Access_Control_System  3.907216       1      15\n",
       "2                              FailAV  3.597122       1      15\n",
       "3                             FileSys  2.593458       1      14\n",
       "4            Filesystem_Command_Shell  4.215517       1      15\n",
       "..                                ...       ...     ...     ...\n",
       "212                         tribute_3  2.303030       1       8\n",
       "213             university_enrollment  3.462810       1      14\n",
       "214                           vFilter  3.550000       1      15\n",
       "215                       virtual_pet  2.468750       1      12\n",
       "216                           yolodex  3.845070       1      15\n",
       "\n",
       "[217 rows x 4 columns]"
      ]
     },
     "execution_count": 81,
     "metadata": {},
     "output_type": "execute_result"
    }
   ],
   "source": [
    "df_aggregation"
   ]
  },
  {
   "cell_type": "code",
   "execution_count": 85,
   "metadata": {},
   "outputs": [
    {
     "data": {
      "image/png": "[encoded data removed]",
      "text/plain": [
       "<Figure size 1080x576 with 1 Axes>"
      ]
     },
     "metadata": {},
     "output_type": "display_data"
    }
   ],
   "source": [
    "fig, ax = plt.subplots(figsize=(15, 8))\n",
    "g = sns.lineplot(data=df_aggregation,\n",
    "                palette='mako', \n",
    "                ax=ax)\n",
    "g.set_title('Aggregation of cyclomatic complexity by file', fontsize=20)\n",
    "g.set_xlabel('Sample', fontsize=16)\n",
    "g.tick_params(labelsize=15)\n",
    "sns.despine()\n",
    "sns.set_style(\"white\")\n",
    "\n",
    "g.figure.savefig(\"images/aggregation_plot.png\")"
   ]
  },
  {
   "cell_type": "markdown",
   "metadata": {},
   "source": [
    "### Normalization"
   ]
  },
  {
   "cell_type": "markdown",
   "metadata": {},
   "source": [
    "During normalization, features are scaled to fit within a standardized or smaller range. Normalizing the feature values forces all features to have an equal weight, and can prevent features with large ranges (e.g., file size) from outweighing features with small ranges (e.g., cyclomatic complexity). Treating all features equally, can also reduce the domain expertise required to distinguish the importance of one feature from another. Common normalization techniques include scaling (e.g., min-max, linear, or log scaling), clipping, and using a z-score.\n",
    "\n",
    "`BiSECT` provides the user with the option of normalizing features using the function, $normalize()$. $normalize()$ applies min-max scaling using the following formula, \n",
    "\n",
    "\\begin{equation}\n",
    "x^{\\prime}=\\frac{x-\\min (x)}{\\max (x)-\\min (x)}\n",
    "\\end{equation}\n",
    "\n",
    "Where $x$ is the original value, and $x^{\\prime}$ is the normalized value. The `normalize(df)` function can be used to optionally normalize any feature in the dataframe, or an entire dataframe. Like many of these functions, the `normalize(df)` function should be used as appropriate, depending on the users specific use case."
   ]
  },
  {
   "cell_type": "code",
   "execution_count": 87,
   "metadata": {
    "tags": []
   },
   "outputs": [],
   "source": [
    "def normalize(df, col): \n",
    "    df[col] = (df[col] - df[col].min()) / (df[col].max() - df[col].min())\n",
    "\n",
    "    #df = (df - df.min()) / (df.max() - df.min())\n",
    "    return df"
   ]
  },
  {
   "cell_type": "code",
   "execution_count": 101,
   "metadata": {},
   "outputs": [],
   "source": [
    "df = normalize(df, 'cc')"
   ]
  },
  {
   "cell_type": "code",
   "execution_count": 102,
   "metadata": {},
   "outputs": [
    {
     "data": {
      "text/html": [
       "<div>\n",
       "<style scoped>\n",
       "    .dataframe tbody tr th:only-of-type {\n",
       "        vertical-align: middle;\n",
       "    }\n",
       "\n",
       "    .dataframe tbody tr th {\n",
       "        vertical-align: top;\n",
       "    }\n",
       "\n",
       "    .dataframe thead th {\n",
       "        text-align: right;\n",
       "    }\n",
       "</style>\n",
       "<table border=\"1\" class=\"dataframe\">\n",
       "  <thead>\n",
       "    <tr style=\"text-align: right;\">\n",
       "      <th></th>\n",
       "      <th>file_name</th>\n",
       "      <th>function_name</th>\n",
       "      <th>cc</th>\n",
       "      <th>instructions</th>\n",
       "      <th>fuzzy_instr</th>\n",
       "    </tr>\n",
       "  </thead>\n",
       "  <tbody>\n",
       "    <tr>\n",
       "      <th>0</th>\n",
       "      <td>FaceMag</td>\n",
       "      <td>_init</td>\n",
       "      <td>0.071429</td>\n",
       "      <td>[ENDBR32, PUSH EBX, SUB ESP,0x8, CALL 0x0804a1...</td>\n",
       "      <td>endbr push ebx sub esp num call addr add ebx n...</td>\n",
       "    </tr>\n",
       "    <tr>\n",
       "      <th>2</th>\n",
       "      <td>FaceMag</td>\n",
       "      <td>cgc_pow</td>\n",
       "      <td>0.000000</td>\n",
       "      <td>[JMP dword ptr [0x0805468c]]</td>\n",
       "      <td>jmp addr</td>\n",
       "    </tr>\n",
       "    <tr>\n",
       "      <th>3</th>\n",
       "      <td>FaceMag</td>\n",
       "      <td>cgc__terminate</td>\n",
       "      <td>0.000000</td>\n",
       "      <td>[JMP dword ptr [0x08054690]]</td>\n",
       "      <td>jmp addr</td>\n",
       "    </tr>\n",
       "    <tr>\n",
       "      <th>4</th>\n",
       "      <td>FaceMag</td>\n",
       "      <td>cgc_transmit</td>\n",
       "      <td>0.000000</td>\n",
       "      <td>[JMP dword ptr [0x08054694]]</td>\n",
       "      <td>jmp addr</td>\n",
       "    </tr>\n",
       "    <tr>\n",
       "      <th>5</th>\n",
       "      <td>FaceMag</td>\n",
       "      <td>cgc_allocate</td>\n",
       "      <td>0.000000</td>\n",
       "      <td>[JMP dword ptr [0x08054698]]</td>\n",
       "      <td>jmp addr</td>\n",
       "    </tr>\n",
       "    <tr>\n",
       "      <th>...</th>\n",
       "      <td>...</td>\n",
       "      <td>...</td>\n",
       "      <td>...</td>\n",
       "      <td>...</td>\n",
       "      <td>...</td>\n",
       "    </tr>\n",
       "    <tr>\n",
       "      <th>20640</th>\n",
       "      <td>yolodex</td>\n",
       "      <td>cgc_inputLoop</td>\n",
       "      <td>0.500000</td>\n",
       "      <td>[PUSH EBP, MOV EBP,ESP, SUB ESP,0x28, MOV EAX,...</td>\n",
       "      <td>push ebp mov ebp esp sub esp num mov eax esp l...</td>\n",
       "    </tr>\n",
       "    <tr>\n",
       "      <th>20642</th>\n",
       "      <td>yolodex</td>\n",
       "      <td>__libc_csu_init</td>\n",
       "      <td>0.142857</td>\n",
       "      <td>[ENDBR32, PUSH EBP, CALL 0x0804c065, ADD EBP,0...</td>\n",
       "      <td>endbr push ebp call addr add ebp num push edi ...</td>\n",
       "    </tr>\n",
       "    <tr>\n",
       "      <th>20643</th>\n",
       "      <td>yolodex</td>\n",
       "      <td>__libc_csu_fini</td>\n",
       "      <td>0.000000</td>\n",
       "      <td>[ENDBR32, RET]</td>\n",
       "      <td>endbr ret</td>\n",
       "    </tr>\n",
       "    <tr>\n",
       "      <th>20644</th>\n",
       "      <td>yolodex</td>\n",
       "      <td>__x86.get_pc_thunk.bp</td>\n",
       "      <td>0.000000</td>\n",
       "      <td>[MOV EBP,dword ptr [ESP], RET]</td>\n",
       "      <td>mov ebp esp ret</td>\n",
       "    </tr>\n",
       "    <tr>\n",
       "      <th>20645</th>\n",
       "      <td>yolodex</td>\n",
       "      <td>_fini</td>\n",
       "      <td>0.000000</td>\n",
       "      <td>[ENDBR32, PUSH EBX, SUB ESP,0x8, CALL 0x080491...</td>\n",
       "      <td>endbr push ebx sub esp num call addr add ebx n...</td>\n",
       "    </tr>\n",
       "  </tbody>\n",
       "</table>\n",
       "<p>19455 rows × 5 columns</p>\n",
       "</div>"
      ],
      "text/plain": [
       "      file_name          function_name        cc  \\\n",
       "0       FaceMag                  _init  0.071429   \n",
       "2       FaceMag                cgc_pow  0.000000   \n",
       "3       FaceMag         cgc__terminate  0.000000   \n",
       "4       FaceMag           cgc_transmit  0.000000   \n",
       "5       FaceMag           cgc_allocate  0.000000   \n",
       "...         ...                    ...       ...   \n",
       "20640   yolodex          cgc_inputLoop  0.500000   \n",
       "20642   yolodex        __libc_csu_init  0.142857   \n",
       "20643   yolodex        __libc_csu_fini  0.000000   \n",
       "20644   yolodex  __x86.get_pc_thunk.bp  0.000000   \n",
       "20645   yolodex                  _fini  0.000000   \n",
       "\n",
       "                                            instructions  \\\n",
       "0      [ENDBR32, PUSH EBX, SUB ESP,0x8, CALL 0x0804a1...   \n",
       "2                           [JMP dword ptr [0x0805468c]]   \n",
       "3                           [JMP dword ptr [0x08054690]]   \n",
       "4                           [JMP dword ptr [0x08054694]]   \n",
       "5                           [JMP dword ptr [0x08054698]]   \n",
       "...                                                  ...   \n",
       "20640  [PUSH EBP, MOV EBP,ESP, SUB ESP,0x28, MOV EAX,...   \n",
       "20642  [ENDBR32, PUSH EBP, CALL 0x0804c065, ADD EBP,0...   \n",
       "20643                                     [ENDBR32, RET]   \n",
       "20644                     [MOV EBP,dword ptr [ESP], RET]   \n",
       "20645  [ENDBR32, PUSH EBX, SUB ESP,0x8, CALL 0x080491...   \n",
       "\n",
       "                                             fuzzy_instr  \n",
       "0      endbr push ebx sub esp num call addr add ebx n...  \n",
       "2                                               jmp addr  \n",
       "3                                               jmp addr  \n",
       "4                                               jmp addr  \n",
       "5                                               jmp addr  \n",
       "...                                                  ...  \n",
       "20640  push ebp mov ebp esp sub esp num mov eax esp l...  \n",
       "20642  endbr push ebp call addr add ebp num push edi ...  \n",
       "20643                                          endbr ret  \n",
       "20644                                    mov ebp esp ret  \n",
       "20645  endbr push ebx sub esp num call addr add ebx n...  \n",
       "\n",
       "[19455 rows x 5 columns]"
      ]
     },
     "execution_count": 102,
     "metadata": {},
     "output_type": "execute_result"
    }
   ],
   "source": [
    "df"
   ]
  },
  {
   "cell_type": "markdown",
   "metadata": {},
   "source": [
    "### Feature Construction"
   ]
  },
  {
   "cell_type": "markdown",
   "metadata": {},
   "source": [
    "During the feature construction phase, new features are created from existing features. The most noteworthy feature constructed by `BiSECT` (specifically for X86 binaries) is `fuzzy_instructions`. By default, `BiSECT` extracts the function sequence for each disassembled function in a binary sample. To prepare the instruction sequence to be compatible with machine learning algorithms, we perform a number of transformations on the original feature. \n",
    "\n",
    "First, we tokenize each instruction sequence into individual words, i.e., opcodes. Then, convert all characters to lowercase, and remove all punctuation and assembly size qualifiers such as `dword` and `byte`. Finally, a number of standardization's are performed. For example, each memory addresses is converted to `addr`, each conditional and non conditional jump is converted to `jump`, and all remaining numeric constants were converted to `num`. The resulting instruction set loosely resembles X86, and thus we refer to this feature as `fuzzy_instructions`. For example, the following transformation would occur: \n",
    "\n",
    "`\"SUB RSP,0x10\" ---> \"sub rsp num\"`"
   ]
  },
  {
   "cell_type": "code",
   "execution_count": 96,
   "metadata": {},
   "outputs": [],
   "source": [
    "def clean_fuzzy(df):\n",
    "    print('\\nCreating Fuzzy Instruction Sequences... ')\n",
    "\n",
    "    try: \n",
    "        df.instructions = df.instructions.apply(literal_eval) # only do this once\n",
    "    except: \n",
    "        pass \n",
    "    \n",
    "    df['fuzzy_instr'] = df['instructions'].apply(lambda x: \" \".join(x)) #convert to space separated string\n",
    "    df['fuzzy_instr'] = df['fuzzy_instr'].apply(lambda x: x.lower()) #make lower\n",
    "    df['fuzzy_instr'] = df['fuzzy_instr'].apply(lambda x: re.sub(',', ' ', x)) # replace commas with spaces\n",
    "    words = ['qword', 'dword', 'genreplacement', 'word', 'ptr', 'dptr', 'byte', '[', ']', '-', '.', 'ds: ', 'es: ', '+', '-', '*']\n",
    "    big_regex = re.compile('|'.join(map(re.escape, words)))\n",
    "    df['fuzzy_instr'] = df['fuzzy_instr'].apply(lambda x: big_regex.sub('', x)) # remove stop words\n",
    "    df['fuzzy_instr'] = df['fuzzy_instr'].apply(lambda x: re.sub(r'0x[a-zA-Z0-9]{6,}', 'addr', x)) # replace hex addr with addr\n",
    "    df['fuzzy_instr'] = df['fuzzy_instr'].apply(lambda x: re.sub(r'0x[a-zA-Z0-9]{1,}', 'num', x)) # replace hex nums with num\n",
    "    df['fuzzy_instr'] = df['fuzzy_instr'].apply(lambda x: re.sub('[^a-zA-Z ]', ' ', x)) # replace non alphanumerics with space\n",
    "    df['fuzzy_instr'] = df['fuzzy_instr'].apply(lambda x: ' '.join(x.split())) # delete empty whitespace\n",
    "    print('\\tFuzzy Instructions complete')\n",
    "\n",
    "    return df"
   ]
  },
  {
   "cell_type": "code",
   "execution_count": 99,
   "metadata": {},
   "outputs": [
    {
     "name": "stdout",
     "output_type": "stream",
     "text": [
      "\n",
      "Creating Fuzzy Instruction Sequences... \n",
      "\tFuzzy Instructions complete\n"
     ]
    }
   ],
   "source": [
    "df = clean_fuzzy(df)"
   ]
  },
  {
   "cell_type": "code",
   "execution_count": 100,
   "metadata": {},
   "outputs": [
    {
     "data": {
      "text/html": [
       "<div>\n",
       "<style scoped>\n",
       "    .dataframe tbody tr th:only-of-type {\n",
       "        vertical-align: middle;\n",
       "    }\n",
       "\n",
       "    .dataframe tbody tr th {\n",
       "        vertical-align: top;\n",
       "    }\n",
       "\n",
       "    .dataframe thead th {\n",
       "        text-align: right;\n",
       "    }\n",
       "</style>\n",
       "<table border=\"1\" class=\"dataframe\">\n",
       "  <thead>\n",
       "    <tr style=\"text-align: right;\">\n",
       "      <th></th>\n",
       "      <th>file_name</th>\n",
       "      <th>function_name</th>\n",
       "      <th>cc</th>\n",
       "      <th>instructions</th>\n",
       "      <th>fuzzy_instr</th>\n",
       "    </tr>\n",
       "  </thead>\n",
       "  <tbody>\n",
       "    <tr>\n",
       "      <th>0</th>\n",
       "      <td>FaceMag</td>\n",
       "      <td>_init</td>\n",
       "      <td>0.071429</td>\n",
       "      <td>[ENDBR32, PUSH EBX, SUB ESP,0x8, CALL 0x0804a1...</td>\n",
       "      <td>endbr push ebx sub esp num call addr add ebx n...</td>\n",
       "    </tr>\n",
       "    <tr>\n",
       "      <th>2</th>\n",
       "      <td>FaceMag</td>\n",
       "      <td>cgc_pow</td>\n",
       "      <td>0.000000</td>\n",
       "      <td>[JMP dword ptr [0x0805468c]]</td>\n",
       "      <td>jmp addr</td>\n",
       "    </tr>\n",
       "    <tr>\n",
       "      <th>3</th>\n",
       "      <td>FaceMag</td>\n",
       "      <td>cgc__terminate</td>\n",
       "      <td>0.000000</td>\n",
       "      <td>[JMP dword ptr [0x08054690]]</td>\n",
       "      <td>jmp addr</td>\n",
       "    </tr>\n",
       "    <tr>\n",
       "      <th>4</th>\n",
       "      <td>FaceMag</td>\n",
       "      <td>cgc_transmit</td>\n",
       "      <td>0.000000</td>\n",
       "      <td>[JMP dword ptr [0x08054694]]</td>\n",
       "      <td>jmp addr</td>\n",
       "    </tr>\n",
       "    <tr>\n",
       "      <th>5</th>\n",
       "      <td>FaceMag</td>\n",
       "      <td>cgc_allocate</td>\n",
       "      <td>0.000000</td>\n",
       "      <td>[JMP dword ptr [0x08054698]]</td>\n",
       "      <td>jmp addr</td>\n",
       "    </tr>\n",
       "    <tr>\n",
       "      <th>...</th>\n",
       "      <td>...</td>\n",
       "      <td>...</td>\n",
       "      <td>...</td>\n",
       "      <td>...</td>\n",
       "      <td>...</td>\n",
       "    </tr>\n",
       "    <tr>\n",
       "      <th>20640</th>\n",
       "      <td>yolodex</td>\n",
       "      <td>cgc_inputLoop</td>\n",
       "      <td>0.500000</td>\n",
       "      <td>[PUSH EBP, MOV EBP,ESP, SUB ESP,0x28, MOV EAX,...</td>\n",
       "      <td>push ebp mov ebp esp sub esp num mov eax esp l...</td>\n",
       "    </tr>\n",
       "    <tr>\n",
       "      <th>20642</th>\n",
       "      <td>yolodex</td>\n",
       "      <td>__libc_csu_init</td>\n",
       "      <td>0.142857</td>\n",
       "      <td>[ENDBR32, PUSH EBP, CALL 0x0804c065, ADD EBP,0...</td>\n",
       "      <td>endbr push ebp call addr add ebp num push edi ...</td>\n",
       "    </tr>\n",
       "    <tr>\n",
       "      <th>20643</th>\n",
       "      <td>yolodex</td>\n",
       "      <td>__libc_csu_fini</td>\n",
       "      <td>0.000000</td>\n",
       "      <td>[ENDBR32, RET]</td>\n",
       "      <td>endbr ret</td>\n",
       "    </tr>\n",
       "    <tr>\n",
       "      <th>20644</th>\n",
       "      <td>yolodex</td>\n",
       "      <td>__x86.get_pc_thunk.bp</td>\n",
       "      <td>0.000000</td>\n",
       "      <td>[MOV EBP,dword ptr [ESP], RET]</td>\n",
       "      <td>mov ebp esp ret</td>\n",
       "    </tr>\n",
       "    <tr>\n",
       "      <th>20645</th>\n",
       "      <td>yolodex</td>\n",
       "      <td>_fini</td>\n",
       "      <td>0.000000</td>\n",
       "      <td>[ENDBR32, PUSH EBX, SUB ESP,0x8, CALL 0x080491...</td>\n",
       "      <td>endbr push ebx sub esp num call addr add ebx n...</td>\n",
       "    </tr>\n",
       "  </tbody>\n",
       "</table>\n",
       "<p>19455 rows × 5 columns</p>\n",
       "</div>"
      ],
      "text/plain": [
       "      file_name          function_name        cc  \\\n",
       "0       FaceMag                  _init  0.071429   \n",
       "2       FaceMag                cgc_pow  0.000000   \n",
       "3       FaceMag         cgc__terminate  0.000000   \n",
       "4       FaceMag           cgc_transmit  0.000000   \n",
       "5       FaceMag           cgc_allocate  0.000000   \n",
       "...         ...                    ...       ...   \n",
       "20640   yolodex          cgc_inputLoop  0.500000   \n",
       "20642   yolodex        __libc_csu_init  0.142857   \n",
       "20643   yolodex        __libc_csu_fini  0.000000   \n",
       "20644   yolodex  __x86.get_pc_thunk.bp  0.000000   \n",
       "20645   yolodex                  _fini  0.000000   \n",
       "\n",
       "                                            instructions  \\\n",
       "0      [ENDBR32, PUSH EBX, SUB ESP,0x8, CALL 0x0804a1...   \n",
       "2                           [JMP dword ptr [0x0805468c]]   \n",
       "3                           [JMP dword ptr [0x08054690]]   \n",
       "4                           [JMP dword ptr [0x08054694]]   \n",
       "5                           [JMP dword ptr [0x08054698]]   \n",
       "...                                                  ...   \n",
       "20640  [PUSH EBP, MOV EBP,ESP, SUB ESP,0x28, MOV EAX,...   \n",
       "20642  [ENDBR32, PUSH EBP, CALL 0x0804c065, ADD EBP,0...   \n",
       "20643                                     [ENDBR32, RET]   \n",
       "20644                     [MOV EBP,dword ptr [ESP], RET]   \n",
       "20645  [ENDBR32, PUSH EBX, SUB ESP,0x8, CALL 0x080491...   \n",
       "\n",
       "                                             fuzzy_instr  \n",
       "0      endbr push ebx sub esp num call addr add ebx n...  \n",
       "2                                               jmp addr  \n",
       "3                                               jmp addr  \n",
       "4                                               jmp addr  \n",
       "5                                               jmp addr  \n",
       "...                                                  ...  \n",
       "20640  push ebp mov ebp esp sub esp num mov eax esp l...  \n",
       "20642  endbr push ebp call addr add ebp num push edi ...  \n",
       "20643                                          endbr ret  \n",
       "20644                                    mov ebp esp ret  \n",
       "20645  endbr push ebx sub esp num call addr add ebx n...  \n",
       "\n",
       "[19455 rows x 5 columns]"
      ]
     },
     "execution_count": 100,
     "metadata": {},
     "output_type": "execute_result"
    }
   ],
   "source": [
    "df"
   ]
  },
  {
   "cell_type": "markdown",
   "metadata": {},
   "source": [
    "# Wrap up"
   ]
  },
  {
   "cell_type": "markdown",
   "metadata": {},
   "source": [
    "If you made it this far you've seen most of the core functionality provided by `BiSECT`. As you have seen, the \"CT\" (cleaning and transformation) steps provided by `BiSECT` are really just a bunch of Python functions. We encourage you to play around with your data, add add whatever functionality to `BiSECT` that you want!\n",
    "\n",
    "If you're interested in learning how to use features extracted by `BiSECT` with a couple of machine learning (NLP) scenarios check out the the Jupyter notebook titled, `BiSECT_vulnAnalysis.ipny`. "
   ]
  }
 ],
 "metadata": {
  "kernelspec": {
   "display_name": "Python 3",
   "language": "python",
   "name": "python3"
  },
  "language_info": {
   "codemirror_mode": {
    "name": "ipython",
    "version": 3
   },
   "file_extension": ".py",
   "mimetype": "text/x-python",
   "name": "python",
   "nbconvert_exporter": "python",
   "pygments_lexer": "ipython3",
   "version": "3.8.1"
  },
  "toc-autonumbering": false
 },
 "nbformat": 4,
 "nbformat_minor": 4
}
