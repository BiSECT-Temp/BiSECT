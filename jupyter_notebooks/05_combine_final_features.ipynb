{
 "cells": [
  {
   "cell_type": "markdown",
   "metadata": {},
   "source": [
    "<div class=\"intro\">\n",
    "<br /><br />\n",
    "    <center>\n",
    "<span style=\"  font-size:2.75em;\">\n",
    "    <b> Feature Combination Work</b><br/>CGC<br /></span>\n",
    "    </center>\n",
    "        \n",
    "\n"
   ]
  },
  {
   "cell_type": "markdown",
   "metadata": {},
   "source": [
    "# Combine Features"
   ]
  },
  {
   "cell_type": "code",
   "execution_count": 49,
   "metadata": {},
   "outputs": [],
   "source": [
    "import pandas as pd\n",
    "from pandas import DataFrame\n",
    "from ast import literal_eval\n",
    "import numpy as np"
   ]
  },
  {
   "cell_type": "code",
   "execution_count": 3,
   "metadata": {},
   "outputs": [],
   "source": [
    "from datetime import date\n",
    "today = str(date.today())"
   ]
  },
  {
   "cell_type": "markdown",
   "metadata": {},
   "source": [
    "## Read in final features data"
   ]
  },
  {
   "cell_type": "markdown",
   "metadata": {},
   "source": [
    "### CGC"
   ]
  },
  {
   "cell_type": "code",
   "execution_count": 5,
   "metadata": {},
   "outputs": [],
   "source": [
    "cgc_final = pd.read_csv('/Volumes/Research/VulnerabilityDatasets/Vulnerability_datasets/code/Final Analysis Scripts/Jupyter/04_cgc_25Jan21.csv')"
   ]
  },
  {
   "cell_type": "code",
   "execution_count": 7,
   "metadata": {},
   "outputs": [
    {
     "data": {
      "text/plain": [
       "Index(['function_count', 'external_funs', 'internal_funs', 'instructions',\n",
       "       'fun_complexity', 'test_case_name', 'complexity_min', 'complexity_max',\n",
       "       'complexity_mean', 'file_bytes', 'entropy', 'strings_set', 'CWE_ID',\n",
       "       'CWE_pillar'],\n",
       "      dtype='object')"
      ]
     },
     "execution_count": 7,
     "metadata": {},
     "output_type": "execute_result"
    }
   ],
   "source": [
    "cgc_final.columns"
   ]
  },
  {
   "cell_type": "markdown",
   "metadata": {},
   "source": [
    "### JULIET C"
   ]
  },
  {
   "cell_type": "code",
   "execution_count": 15,
   "metadata": {},
   "outputs": [],
   "source": [
    "juliet_c_final = pd.read_csv('/Volumes/Research/VulnerabilityDatasets/Vulnerability_datasets/code/final_juliet_incl_pillars.csv')"
   ]
  },
  {
   "cell_type": "code",
   "execution_count": 16,
   "metadata": {},
   "outputs": [
    {
     "data": {
      "text/plain": [
       "Index(['Unnamed: 0', 'path_x', 'function_count', 'external_funs',\n",
       "       'internal_funs', 'instructions', 'fun_complexity', 'test_case_name',\n",
       "       'complexity_min', 'complexity_max', 'complexity_mean', 'path_y',\n",
       "       'file_bytes', 'entropy', 'strings_set', 'CWE', 'test_case_name_trimmed',\n",
       "       'CWE_pillar'],\n",
       "      dtype='object')"
      ]
     },
     "execution_count": 16,
     "metadata": {},
     "output_type": "execute_result"
    }
   ],
   "source": [
    "juliet_c_final.columns"
   ]
  },
  {
   "cell_type": "code",
   "execution_count": 17,
   "metadata": {},
   "outputs": [],
   "source": [
    "juliet_c_final = juliet_c_final.drop(columns=['Unnamed: 0', 'path_x', 'path_y', 'test_case_name_trimmed'])"
   ]
  },
  {
   "cell_type": "code",
   "execution_count": 18,
   "metadata": {},
   "outputs": [
    {
     "data": {
      "text/plain": [
       "Index(['function_count', 'external_funs', 'internal_funs', 'instructions',\n",
       "       'fun_complexity', 'test_case_name', 'complexity_min', 'complexity_max',\n",
       "       'complexity_mean', 'file_bytes', 'entropy', 'strings_set', 'CWE',\n",
       "       'CWE_pillar'],\n",
       "      dtype='object')"
      ]
     },
     "execution_count": 18,
     "metadata": {},
     "output_type": "execute_result"
    }
   ],
   "source": [
    "juliet_c_final.columns"
   ]
  },
  {
   "cell_type": "code",
   "execution_count": 19,
   "metadata": {},
   "outputs": [],
   "source": [
    "juliet_c_final = juliet_c_final.rename(columns={\"CWE\": \"CWE_ID\"})"
   ]
  },
  {
   "cell_type": "code",
   "execution_count": 20,
   "metadata": {},
   "outputs": [
    {
     "data": {
      "text/plain": [
       "Index(['function_count', 'external_funs', 'internal_funs', 'instructions',\n",
       "       'fun_complexity', 'test_case_name', 'complexity_min', 'complexity_max',\n",
       "       'complexity_mean', 'file_bytes', 'entropy', 'strings_set', 'CWE_ID',\n",
       "       'CWE_pillar'],\n",
       "      dtype='object')"
      ]
     },
     "execution_count": 20,
     "metadata": {},
     "output_type": "execute_result"
    }
   ],
   "source": [
    "juliet_c_final.columns"
   ]
  },
  {
   "cell_type": "markdown",
   "metadata": {},
   "source": [
    "#### Add CWE pillars to Juliet C"
   ]
  },
  {
   "cell_type": "code",
   "execution_count": 23,
   "metadata": {},
   "outputs": [],
   "source": [
    "CWE_all = pd.read_csv('/Users/kaylakeen/PycharmProjects/datasetComparison/CWE_hierarchy_flattened.csv') # the CWE relationships database"
   ]
  },
  {
   "cell_type": "code",
   "execution_count": 24,
   "metadata": {},
   "outputs": [],
   "source": [
    "def testcase_pillars(df):\n",
    "   for index, row in df.iterrows(): # for each test_case in the list\n",
    "      CWE_ID = str(df.at[index, \"CWE_ID\"])  # get the CWE data\n",
    "      ids = [CWE_ID]\n",
    "\n",
    "      #if this testcase_id has a cooresponding CWE_ID\n",
    "      if ids[0] != [] and ids[0] != 'none':\n",
    "\n",
    "         m = CWE_all.isin(ids).any() # check to see if the CWE_ID is in the dataframe\n",
    "         cols = m.index[m].tolist() # if it is in the dataframe return a list of the columns that contain the value\n",
    "\n",
    "         if cols != []: # as long as at least 1 match\n",
    "            rows = CWE_all.index[CWE_all[cols[0]] == ids[0]].tolist() # use the first column to get the row\n",
    "            pillar = CWE_all.at[rows[0], \"Pillar_Level1\"] # use the first row to get the pillar#\n",
    "            df.at[index, 'CWE_pillar'] = pillar # update pillar info\n",
    "   return(df) # return the updated df"
   ]
  },
  {
   "cell_type": "code",
   "execution_count": 25,
   "metadata": {},
   "outputs": [],
   "source": [
    "final = testcase_pillars(juliet_c_final)"
   ]
  },
  {
   "cell_type": "markdown",
   "metadata": {},
   "source": [
    "## Merge dfs"
   ]
  },
  {
   "cell_type": "code",
   "execution_count": 70,
   "metadata": {},
   "outputs": [],
   "source": [
    "merged = final.append(cgc_final, ignore_index=True)"
   ]
  },
  {
   "cell_type": "code",
   "execution_count": 71,
   "metadata": {},
   "outputs": [
    {
     "name": "stdout",
     "output_type": "stream",
     "text": [
      "Index(['function_count', 'external_funs', 'internal_funs', 'instructions',\n",
      "       'fun_complexity', 'test_case_name', 'complexity_min', 'complexity_max',\n",
      "       'complexity_mean', 'file_bytes', 'entropy', 'strings_set', 'CWE_ID',\n",
      "       'CWE_pillar'],\n",
      "      dtype='object')\n"
     ]
    }
   ],
   "source": [
    "print(merged.columns)"
   ]
  },
  {
   "cell_type": "code",
   "execution_count": 72,
   "metadata": {},
   "outputs": [
    {
     "name": "stdout",
     "output_type": "stream",
     "text": [
      "       CWE_ID  CWE_pillar\n",
      "0       False       False\n",
      "1       False       False\n",
      "2       False       False\n",
      "3       False       False\n",
      "4       False        True\n",
      "...       ...         ...\n",
      "42018   False       False\n",
      "42019   False       False\n",
      "42020   False       False\n",
      "42021   False       False\n",
      "42022   False       False\n",
      "\n",
      "[42023 rows x 2 columns]\n"
     ]
    }
   ],
   "source": [
    "print(merged[['CWE_ID','CWE_pillar']].isna())"
   ]
  },
  {
   "cell_type": "code",
   "execution_count": 73,
   "metadata": {},
   "outputs": [
    {
     "data": {
      "text/plain": [
       "15285"
      ]
     },
     "execution_count": 73,
     "metadata": {},
     "output_type": "execute_result"
    }
   ],
   "source": [
    "merged['CWE_pillar'].isnull().sum()"
   ]
  },
  {
   "cell_type": "code",
   "execution_count": 74,
   "metadata": {},
   "outputs": [
    {
     "data": {
      "text/html": [
       "<div>\n",
       "<style scoped>\n",
       "    .dataframe tbody tr th:only-of-type {\n",
       "        vertical-align: middle;\n",
       "    }\n",
       "\n",
       "    .dataframe tbody tr th {\n",
       "        vertical-align: top;\n",
       "    }\n",
       "\n",
       "    .dataframe thead th {\n",
       "        text-align: right;\n",
       "    }\n",
       "</style>\n",
       "<table border=\"1\" class=\"dataframe\">\n",
       "  <thead>\n",
       "    <tr style=\"text-align: right;\">\n",
       "      <th></th>\n",
       "      <th>function_count</th>\n",
       "      <th>external_funs</th>\n",
       "      <th>internal_funs</th>\n",
       "      <th>instructions</th>\n",
       "      <th>fun_complexity</th>\n",
       "      <th>test_case_name</th>\n",
       "      <th>complexity_min</th>\n",
       "      <th>complexity_max</th>\n",
       "      <th>complexity_mean</th>\n",
       "      <th>file_bytes</th>\n",
       "      <th>entropy</th>\n",
       "      <th>strings_set</th>\n",
       "      <th>CWE_ID</th>\n",
       "      <th>CWE_pillar</th>\n",
       "    </tr>\n",
       "  </thead>\n",
       "  <tbody>\n",
       "    <tr>\n",
       "      <th>4</th>\n",
       "      <td>114.0</td>\n",
       "      <td>[u'___stack_chk_fail', u'_pthread_exit']</td>\n",
       "      <td>['_CWE121_Stack_Based_Buffer_Overflow__CWE129_...</td>\n",
       "      <td>['PUSH', 'MOV', 'SUB', 'MOV', 'MOV', 'MOV', 'M...</td>\n",
       "      <td>[['_CWE121_Stack_Based_Buffer_Overflow__CWE129...</td>\n",
       "      <td>CWE121_Stack_Based_Buffer_Overflow__CWE129_con...</td>\n",
       "      <td>0.0</td>\n",
       "      <td>8.0</td>\n",
       "      <td>1.290909</td>\n",
       "      <td>21752</td>\n",
       "      <td>3.431892</td>\n",
       "      <td>[{b'Finished bad()', b'%02x', b'%d -- %d', b'1...</td>\n",
       "      <td>CWE121</td>\n",
       "      <td>NaN</td>\n",
       "    </tr>\n",
       "    <tr>\n",
       "      <th>14</th>\n",
       "      <td>112.0</td>\n",
       "      <td>[u'___stack_chk_fail', u'_pthread_exit']</td>\n",
       "      <td>['_CWE121_Stack_Based_Buffer_Overflow__CWE129_...</td>\n",
       "      <td>['PUSH', 'MOV', 'SUB', 'MOV', 'MOV', 'MOV', 'M...</td>\n",
       "      <td>[['_CWE121_Stack_Based_Buffer_Overflow__CWE129...</td>\n",
       "      <td>CWE121_Stack_Based_Buffer_Overflow__CWE129_con...</td>\n",
       "      <td>0.0</td>\n",
       "      <td>8.0</td>\n",
       "      <td>1.148148</td>\n",
       "      <td>21208</td>\n",
       "      <td>3.169296</td>\n",
       "      <td>[{b'Finished bad()', b'%02x', b'%d -- %d', b'1...</td>\n",
       "      <td>CWE121</td>\n",
       "      <td>NaN</td>\n",
       "    </tr>\n",
       "    <tr>\n",
       "      <th>15</th>\n",
       "      <td>115.0</td>\n",
       "      <td>[u'___stack_chk_fail', u'_pthread_exit']</td>\n",
       "      <td>['_CWE121_Stack_Based_Buffer_Overflow__CWE129_...</td>\n",
       "      <td>['PUSH', 'MOV', 'SUB', 'MOV', 'MOV', 'MOV', 'M...</td>\n",
       "      <td>[['_CWE121_Stack_Based_Buffer_Overflow__CWE129...</td>\n",
       "      <td>CWE121_Stack_Based_Buffer_Overflow__CWE129_con...</td>\n",
       "      <td>0.0</td>\n",
       "      <td>8.0</td>\n",
       "      <td>1.144144</td>\n",
       "      <td>21536</td>\n",
       "      <td>3.262049</td>\n",
       "      <td>[{b'Finished bad()', b'%02x', b'%d -- %d', b'1...</td>\n",
       "      <td>CWE121</td>\n",
       "      <td>NaN</td>\n",
       "    </tr>\n",
       "    <tr>\n",
       "      <th>16</th>\n",
       "      <td>118.0</td>\n",
       "      <td>[u'___stack_chk_fail', u'_pthread_exit']</td>\n",
       "      <td>['_CWE121_Stack_Based_Buffer_Overflow__CWE129_...</td>\n",
       "      <td>['PUSH', 'MOV', 'SUB', 'MOV', 'MOV', 'MOV', 'M...</td>\n",
       "      <td>[['_CWE121_Stack_Based_Buffer_Overflow__CWE129...</td>\n",
       "      <td>CWE121_Stack_Based_Buffer_Overflow__CWE129_con...</td>\n",
       "      <td>0.0</td>\n",
       "      <td>8.0</td>\n",
       "      <td>1.140351</td>\n",
       "      <td>21864</td>\n",
       "      <td>3.343890</td>\n",
       "      <td>[{b'Finished bad()', b'%02x', b'%d -- %d', b'1...</td>\n",
       "      <td>CWE121</td>\n",
       "      <td>NaN</td>\n",
       "    </tr>\n",
       "    <tr>\n",
       "      <th>17</th>\n",
       "      <td>121.0</td>\n",
       "      <td>[u'___stack_chk_fail', u'_pthread_exit']</td>\n",
       "      <td>['_CWE121_Stack_Based_Buffer_Overflow__CWE129_...</td>\n",
       "      <td>['PUSH', 'MOV', 'SUB', 'MOV', 'MOV', 'MOV', 'M...</td>\n",
       "      <td>[['_CWE121_Stack_Based_Buffer_Overflow__CWE129...</td>\n",
       "      <td>CWE121_Stack_Based_Buffer_Overflow__CWE129_con...</td>\n",
       "      <td>0.0</td>\n",
       "      <td>8.0</td>\n",
       "      <td>1.136752</td>\n",
       "      <td>22208</td>\n",
       "      <td>3.418222</td>\n",
       "      <td>[{b'Finished bad()', b'%02x', b'%d -- %d', b'1...</td>\n",
       "      <td>CWE121</td>\n",
       "      <td>NaN</td>\n",
       "    </tr>\n",
       "    <tr>\n",
       "      <th>...</th>\n",
       "      <td>...</td>\n",
       "      <td>...</td>\n",
       "      <td>...</td>\n",
       "      <td>...</td>\n",
       "      <td>...</td>\n",
       "      <td>...</td>\n",
       "      <td>...</td>\n",
       "      <td>...</td>\n",
       "      <td>...</td>\n",
       "      <td>...</td>\n",
       "      <td>...</td>\n",
       "      <td>...</td>\n",
       "      <td>...</td>\n",
       "      <td>...</td>\n",
       "    </tr>\n",
       "    <tr>\n",
       "      <th>41815</th>\n",
       "      <td>273.0</td>\n",
       "      <td>[u'__throw_length_error', u'___cxa_throw', u'_...</td>\n",
       "      <td>['bad', 'vector', 'insert', 'end', '__ZNSt3__1...</td>\n",
       "      <td>['PUSH', 'MOV', 'SUB', 'LEA', 'MOV', 'MOV', 'C...</td>\n",
       "      <td>[['bad', 1], ['vector', 1], ['insert', 7], ['e...</td>\n",
       "      <td>CWE843_Type_Confusion__short_72.out</td>\n",
       "      <td>0.0</td>\n",
       "      <td>7.0</td>\n",
       "      <td>1.054902</td>\n",
       "      <td>42792</td>\n",
       "      <td>4.969787</td>\n",
       "      <td>[{b'Finished bad()', b'%02x', b'%d -- %d', b'F...</td>\n",
       "      <td>CWE843</td>\n",
       "      <td>NaN</td>\n",
       "    </tr>\n",
       "    <tr>\n",
       "      <th>41816</th>\n",
       "      <td>245.0</td>\n",
       "      <td>[u'___cxa_throw', u'___stack_chk_fail', u'_pth...</td>\n",
       "      <td>['bad', 'list', 'push_back', 'list', '~list', ...</td>\n",
       "      <td>['PUSH', 'MOV', 'SUB', 'LEA', 'MOV', 'MOV', 'C...</td>\n",
       "      <td>[['bad', 1], ['list', 1], ['push_back', 1], ['...</td>\n",
       "      <td>CWE843_Type_Confusion__short_73.out</td>\n",
       "      <td>0.0</td>\n",
       "      <td>4.0</td>\n",
       "      <td>0.973799</td>\n",
       "      <td>37408</td>\n",
       "      <td>4.839857</td>\n",
       "      <td>[{b'Finished bad()', b'%02x', b'%d -- %d', b'F...</td>\n",
       "      <td>CWE843</td>\n",
       "      <td>NaN</td>\n",
       "    </tr>\n",
       "    <tr>\n",
       "      <th>41817</th>\n",
       "      <td>438.0</td>\n",
       "      <td>[u'___cxa_throw', u'___stack_chk_fail', u'_pth...</td>\n",
       "      <td>['bad', 'map', 'operator[]', 'map', '~map', '_...</td>\n",
       "      <td>['PUSH', 'MOV', 'SUB', 'LEA', 'MOV', 'MOV', 'C...</td>\n",
       "      <td>[['bad', 1], ['map', 1], ['operator[]', 2], ['...</td>\n",
       "      <td>CWE843_Type_Confusion__short_74.out</td>\n",
       "      <td>0.0</td>\n",
       "      <td>10.0</td>\n",
       "      <td>1.101896</td>\n",
       "      <td>75272</td>\n",
       "      <td>5.284222</td>\n",
       "      <td>[{b'Finished bad()', b'%02x', b'%d -- %d', b'F...</td>\n",
       "      <td>CWE843</td>\n",
       "      <td>NaN</td>\n",
       "    </tr>\n",
       "    <tr>\n",
       "      <th>41818</th>\n",
       "      <td>103.0</td>\n",
       "      <td>[u'___stack_chk_fail', u'_pthread_exit']</td>\n",
       "      <td>['action', 'action', 'bad', 'CWE843_Type_Confu...</td>\n",
       "      <td>['PUSH', 'MOV', 'SUB', 'MOV', 'MOV', 'MOV', 'M...</td>\n",
       "      <td>[['action', 1], ['action', 1], ['bad', 1], ['C...</td>\n",
       "      <td>CWE843_Type_Confusion__short_81.out</td>\n",
       "      <td>0.0</td>\n",
       "      <td>4.0</td>\n",
       "      <td>0.949495</td>\n",
       "      <td>23228</td>\n",
       "      <td>3.426551</td>\n",
       "      <td>[{b'Finished bad()', b'%02x', b'%d -- %d', b'N...</td>\n",
       "      <td>CWE843</td>\n",
       "      <td>NaN</td>\n",
       "    </tr>\n",
       "    <tr>\n",
       "      <th>41819</th>\n",
       "      <td>107.0</td>\n",
       "      <td>[u'___stack_chk_fail', u'_pthread_exit', u'__Z...</td>\n",
       "      <td>['action', 'action', 'bad', 'CWE843_Type_Confu...</td>\n",
       "      <td>['PUSH', 'MOV', 'SUB', 'MOV', 'MOV', 'MOV', 'M...</td>\n",
       "      <td>[['action', 1], ['action', 1], ['bad', 2], ['C...</td>\n",
       "      <td>CWE843_Type_Confusion__short_82.out</td>\n",
       "      <td>0.0</td>\n",
       "      <td>4.0</td>\n",
       "      <td>0.979798</td>\n",
       "      <td>23284</td>\n",
       "      <td>3.441238</td>\n",
       "      <td>[{b'N31CWE843_Type_Confusion__short_8239CWE843...</td>\n",
       "      <td>CWE843</td>\n",
       "      <td>NaN</td>\n",
       "    </tr>\n",
       "  </tbody>\n",
       "</table>\n",
       "<p>15285 rows × 14 columns</p>\n",
       "</div>"
      ],
      "text/plain": [
       "       function_count                                      external_funs  \\\n",
       "4               114.0           [u'___stack_chk_fail', u'_pthread_exit']   \n",
       "14              112.0           [u'___stack_chk_fail', u'_pthread_exit']   \n",
       "15              115.0           [u'___stack_chk_fail', u'_pthread_exit']   \n",
       "16              118.0           [u'___stack_chk_fail', u'_pthread_exit']   \n",
       "17              121.0           [u'___stack_chk_fail', u'_pthread_exit']   \n",
       "...               ...                                                ...   \n",
       "41815           273.0  [u'__throw_length_error', u'___cxa_throw', u'_...   \n",
       "41816           245.0  [u'___cxa_throw', u'___stack_chk_fail', u'_pth...   \n",
       "41817           438.0  [u'___cxa_throw', u'___stack_chk_fail', u'_pth...   \n",
       "41818           103.0           [u'___stack_chk_fail', u'_pthread_exit']   \n",
       "41819           107.0  [u'___stack_chk_fail', u'_pthread_exit', u'__Z...   \n",
       "\n",
       "                                           internal_funs  \\\n",
       "4      ['_CWE121_Stack_Based_Buffer_Overflow__CWE129_...   \n",
       "14     ['_CWE121_Stack_Based_Buffer_Overflow__CWE129_...   \n",
       "15     ['_CWE121_Stack_Based_Buffer_Overflow__CWE129_...   \n",
       "16     ['_CWE121_Stack_Based_Buffer_Overflow__CWE129_...   \n",
       "17     ['_CWE121_Stack_Based_Buffer_Overflow__CWE129_...   \n",
       "...                                                  ...   \n",
       "41815  ['bad', 'vector', 'insert', 'end', '__ZNSt3__1...   \n",
       "41816  ['bad', 'list', 'push_back', 'list', '~list', ...   \n",
       "41817  ['bad', 'map', 'operator[]', 'map', '~map', '_...   \n",
       "41818  ['action', 'action', 'bad', 'CWE843_Type_Confu...   \n",
       "41819  ['action', 'action', 'bad', 'CWE843_Type_Confu...   \n",
       "\n",
       "                                            instructions  \\\n",
       "4      ['PUSH', 'MOV', 'SUB', 'MOV', 'MOV', 'MOV', 'M...   \n",
       "14     ['PUSH', 'MOV', 'SUB', 'MOV', 'MOV', 'MOV', 'M...   \n",
       "15     ['PUSH', 'MOV', 'SUB', 'MOV', 'MOV', 'MOV', 'M...   \n",
       "16     ['PUSH', 'MOV', 'SUB', 'MOV', 'MOV', 'MOV', 'M...   \n",
       "17     ['PUSH', 'MOV', 'SUB', 'MOV', 'MOV', 'MOV', 'M...   \n",
       "...                                                  ...   \n",
       "41815  ['PUSH', 'MOV', 'SUB', 'LEA', 'MOV', 'MOV', 'C...   \n",
       "41816  ['PUSH', 'MOV', 'SUB', 'LEA', 'MOV', 'MOV', 'C...   \n",
       "41817  ['PUSH', 'MOV', 'SUB', 'LEA', 'MOV', 'MOV', 'C...   \n",
       "41818  ['PUSH', 'MOV', 'SUB', 'MOV', 'MOV', 'MOV', 'M...   \n",
       "41819  ['PUSH', 'MOV', 'SUB', 'MOV', 'MOV', 'MOV', 'M...   \n",
       "\n",
       "                                          fun_complexity  \\\n",
       "4      [['_CWE121_Stack_Based_Buffer_Overflow__CWE129...   \n",
       "14     [['_CWE121_Stack_Based_Buffer_Overflow__CWE129...   \n",
       "15     [['_CWE121_Stack_Based_Buffer_Overflow__CWE129...   \n",
       "16     [['_CWE121_Stack_Based_Buffer_Overflow__CWE129...   \n",
       "17     [['_CWE121_Stack_Based_Buffer_Overflow__CWE129...   \n",
       "...                                                  ...   \n",
       "41815  [['bad', 1], ['vector', 1], ['insert', 7], ['e...   \n",
       "41816  [['bad', 1], ['list', 1], ['push_back', 1], ['...   \n",
       "41817  [['bad', 1], ['map', 1], ['operator[]', 2], ['...   \n",
       "41818  [['action', 1], ['action', 1], ['bad', 1], ['C...   \n",
       "41819  [['action', 1], ['action', 1], ['bad', 2], ['C...   \n",
       "\n",
       "                                          test_case_name  complexity_min  \\\n",
       "4      CWE121_Stack_Based_Buffer_Overflow__CWE129_con...             0.0   \n",
       "14     CWE121_Stack_Based_Buffer_Overflow__CWE129_con...             0.0   \n",
       "15     CWE121_Stack_Based_Buffer_Overflow__CWE129_con...             0.0   \n",
       "16     CWE121_Stack_Based_Buffer_Overflow__CWE129_con...             0.0   \n",
       "17     CWE121_Stack_Based_Buffer_Overflow__CWE129_con...             0.0   \n",
       "...                                                  ...             ...   \n",
       "41815                CWE843_Type_Confusion__short_72.out             0.0   \n",
       "41816                CWE843_Type_Confusion__short_73.out             0.0   \n",
       "41817                CWE843_Type_Confusion__short_74.out             0.0   \n",
       "41818                CWE843_Type_Confusion__short_81.out             0.0   \n",
       "41819                CWE843_Type_Confusion__short_82.out             0.0   \n",
       "\n",
       "       complexity_max  complexity_mean  file_bytes   entropy  \\\n",
       "4                 8.0         1.290909       21752  3.431892   \n",
       "14                8.0         1.148148       21208  3.169296   \n",
       "15                8.0         1.144144       21536  3.262049   \n",
       "16                8.0         1.140351       21864  3.343890   \n",
       "17                8.0         1.136752       22208  3.418222   \n",
       "...               ...              ...         ...       ...   \n",
       "41815             7.0         1.054902       42792  4.969787   \n",
       "41816             4.0         0.973799       37408  4.839857   \n",
       "41817            10.0         1.101896       75272  5.284222   \n",
       "41818             4.0         0.949495       23228  3.426551   \n",
       "41819             4.0         0.979798       23284  3.441238   \n",
       "\n",
       "                                             strings_set  CWE_ID CWE_pillar  \n",
       "4      [{b'Finished bad()', b'%02x', b'%d -- %d', b'1...  CWE121        NaN  \n",
       "14     [{b'Finished bad()', b'%02x', b'%d -- %d', b'1...  CWE121        NaN  \n",
       "15     [{b'Finished bad()', b'%02x', b'%d -- %d', b'1...  CWE121        NaN  \n",
       "16     [{b'Finished bad()', b'%02x', b'%d -- %d', b'1...  CWE121        NaN  \n",
       "17     [{b'Finished bad()', b'%02x', b'%d -- %d', b'1...  CWE121        NaN  \n",
       "...                                                  ...     ...        ...  \n",
       "41815  [{b'Finished bad()', b'%02x', b'%d -- %d', b'F...  CWE843        NaN  \n",
       "41816  [{b'Finished bad()', b'%02x', b'%d -- %d', b'F...  CWE843        NaN  \n",
       "41817  [{b'Finished bad()', b'%02x', b'%d -- %d', b'F...  CWE843        NaN  \n",
       "41818  [{b'Finished bad()', b'%02x', b'%d -- %d', b'N...  CWE843        NaN  \n",
       "41819  [{b'N31CWE843_Type_Confusion__short_8239CWE843...  CWE843        NaN  \n",
       "\n",
       "[15285 rows x 14 columns]"
      ]
     },
     "execution_count": 74,
     "metadata": {},
     "output_type": "execute_result"
    }
   ],
   "source": [
    "merged[merged['CWE_pillar'].isnull()]"
   ]
  },
  {
   "cell_type": "markdown",
   "metadata": {},
   "source": [
    "### Update Juliet C CWE ID format, add CWE pillar"
   ]
  },
  {
   "cell_type": "code",
   "execution_count": 83,
   "metadata": {},
   "outputs": [],
   "source": [
    "merged['CWE_ID'] = merged['CWE_ID'].apply(lambda x: \"CWE_\".join(x.split(\"CWE\")) if '_' not in x else x)"
   ]
  },
  {
   "cell_type": "code",
   "execution_count": 84,
   "metadata": {},
   "outputs": [
    {
     "data": {
      "text/plain": [
       "0        CWE_121\n",
       "1        CWE_121\n",
       "2        CWE_121\n",
       "3        CWE_121\n",
       "4        CWE_121\n",
       "          ...   \n",
       "42018     CWE_20\n",
       "42019     CWE_20\n",
       "42020     CWE_20\n",
       "42021     CWE_20\n",
       "42022     CWE_20\n",
       "Name: CWE_ID, Length: 42023, dtype: object"
      ]
     },
     "execution_count": 84,
     "metadata": {},
     "output_type": "execute_result"
    }
   ],
   "source": [
    "merged['CWE_ID']"
   ]
  },
  {
   "cell_type": "code",
   "execution_count": 85,
   "metadata": {},
   "outputs": [],
   "source": [
    "updated_merged = testcase_pillars(merged)"
   ]
  },
  {
   "cell_type": "code",
   "execution_count": 86,
   "metadata": {},
   "outputs": [
    {
     "data": {
      "text/plain": [
       "0"
      ]
     },
     "execution_count": 86,
     "metadata": {},
     "output_type": "execute_result"
    }
   ],
   "source": [
    "updated_merged['CWE_pillar'].isnull().sum()"
   ]
  },
  {
   "cell_type": "markdown",
   "metadata": {},
   "source": [
    "### Send final to csv"
   ]
  },
  {
   "cell_type": "code",
   "execution_count": 88,
   "metadata": {},
   "outputs": [],
   "source": [
    "updated_merged.to_csv('05_JULIETC_CGC_26Jan21.csv')"
   ]
  }
 ],
 "metadata": {
  "kernelspec": {
   "display_name": "Python 3",
   "language": "python",
   "name": "python3"
  },
  "language_info": {
   "codemirror_mode": {
    "name": "ipython",
    "version": 3
   },
   "file_extension": ".py",
   "mimetype": "text/x-python",
   "name": "python",
   "nbconvert_exporter": "python",
   "pygments_lexer": "ipython3",
   "version": "3.7.4"
  },
  "toc-autonumbering": true
 },
 "nbformat": 4,
 "nbformat_minor": 4
}
